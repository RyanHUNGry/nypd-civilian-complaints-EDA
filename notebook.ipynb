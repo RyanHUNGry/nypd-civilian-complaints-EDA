{
 "cells": [
  {
   "cell_type": "markdown",
   "metadata": {},
   "source": [
    "## NYPD Civilian Complaints EDA:\n",
    "**Author**: Ryan Hung\n",
    "\n",
    "**Started**: 7/26/2022\n",
    "\n",
    "**Completed**: TBD\n",
    "\n",
    "**Data introduction**: After New York state repealed the statute that kept police disciplinary records secret, known as 50-a, ProPublica filed a records request with New York City’s Civilian Complaint Review Board, which investigates complaints by the public about NYPD officers. The board provided us with records about closed cases for every police officer still on the force as of late June 2020 who had at least one substantiated allegation against them. The records span decades, from September 1985 to January 2020.\n",
    "\n",
    "**Data source**: https://www.propublica.org/datastore/dataset/civilian-complaints-against-new-york-city-police-officers\n",
    "\n",
    "**Analysis Objective**: Clean and wrangle dataset so that insights related to race can be extracted; pave the way for a machine learning model deployment to predict case outcome."
   ]
  },
  {
   "cell_type": "markdown",
   "metadata": {},
   "source": [
    "## Notebook breakdown:\n",
    "1. [Loading in data](#loading-in-our-data)\n",
    "2. Time series cleaning and exploration\n",
    "3. Data cleaning\n",
    "4. Age permutation testing\n",
    "5. Racial hypothesis testing"
   ]
  },
  {
   "cell_type": "markdown",
   "metadata": {},
   "source": [
    "### Loading in our data:\n",
    "Before we begin, let's load in our libraries, options, and data."
   ]
  },
  {
   "cell_type": "code",
   "execution_count": 70,
   "metadata": {},
   "outputs": [],
   "source": [
    "import pandas as pd\n",
    "import numpy as np\n",
    "import seaborn as sns\n",
    "import matplotlib\n",
    "import matplotlib.pyplot as plt\n",
    "sns.set_theme(style = 'darkgrid')\n",
    "pd.set_option('display.max_columns', None)"
   ]
  },
  {
   "cell_type": "code",
   "execution_count": 71,
   "metadata": {},
   "outputs": [
    {
     "data": {
      "text/plain": [
       "['Layout', 'Rank Abbrevs', 'Command Abbrevs', 'FADO', 'Dispositions']"
      ]
     },
     "execution_count": 71,
     "metadata": {},
     "output_type": "execute_result"
    }
   ],
   "source": [
    "complaints_path = 'data/allegations_202007271729.csv'\n",
    "layout_path = 'data/CCRB Data Layout Table.xlsx'\n",
    "excelList = pd.ExcelFile(layout_path).sheet_names\n",
    "excelList"
   ]
  },
  {
   "cell_type": "code",
   "execution_count": 72,
   "metadata": {},
   "outputs": [
    {
     "data": {
      "text/html": [
       "<div>\n",
       "<style scoped>\n",
       "    .dataframe tbody tr th:only-of-type {\n",
       "        vertical-align: middle;\n",
       "    }\n",
       "\n",
       "    .dataframe tbody tr th {\n",
       "        vertical-align: top;\n",
       "    }\n",
       "\n",
       "    .dataframe thead th {\n",
       "        text-align: right;\n",
       "    }\n",
       "</style>\n",
       "<table border=\"1\" class=\"dataframe\">\n",
       "  <thead>\n",
       "    <tr style=\"text-align: right;\">\n",
       "      <th></th>\n",
       "      <th>unique_mos_id</th>\n",
       "      <th>first_name</th>\n",
       "      <th>last_name</th>\n",
       "      <th>command_now</th>\n",
       "      <th>shield_no</th>\n",
       "      <th>complaint_id</th>\n",
       "      <th>month_received</th>\n",
       "      <th>year_received</th>\n",
       "      <th>month_closed</th>\n",
       "      <th>year_closed</th>\n",
       "      <th>command_at_incident</th>\n",
       "      <th>rank_abbrev_incident</th>\n",
       "      <th>rank_abbrev_now</th>\n",
       "      <th>rank_now</th>\n",
       "      <th>rank_incident</th>\n",
       "      <th>mos_ethnicity</th>\n",
       "      <th>mos_gender</th>\n",
       "      <th>mos_age_incident</th>\n",
       "      <th>complainant_ethnicity</th>\n",
       "      <th>complainant_gender</th>\n",
       "      <th>complainant_age_incident</th>\n",
       "      <th>fado_type</th>\n",
       "      <th>allegation</th>\n",
       "      <th>precinct</th>\n",
       "      <th>contact_reason</th>\n",
       "      <th>outcome_description</th>\n",
       "      <th>board_disposition</th>\n",
       "    </tr>\n",
       "  </thead>\n",
       "  <tbody>\n",
       "    <tr>\n",
       "      <th>0</th>\n",
       "      <td>10004</td>\n",
       "      <td>Jonathan</td>\n",
       "      <td>Ruiz</td>\n",
       "      <td>078 PCT</td>\n",
       "      <td>8409</td>\n",
       "      <td>42835</td>\n",
       "      <td>7</td>\n",
       "      <td>2019</td>\n",
       "      <td>5</td>\n",
       "      <td>2020</td>\n",
       "      <td>078 PCT</td>\n",
       "      <td>POM</td>\n",
       "      <td>POM</td>\n",
       "      <td>Police Officer</td>\n",
       "      <td>Police Officer</td>\n",
       "      <td>Hispanic</td>\n",
       "      <td>M</td>\n",
       "      <td>32</td>\n",
       "      <td>Black</td>\n",
       "      <td>Female</td>\n",
       "      <td>38.0</td>\n",
       "      <td>Abuse of Authority</td>\n",
       "      <td>Failure to provide RTKA card</td>\n",
       "      <td>78.0</td>\n",
       "      <td>Report-domestic dispute</td>\n",
       "      <td>No arrest made or summons issued</td>\n",
       "      <td>Substantiated (Command Lvl Instructions)</td>\n",
       "    </tr>\n",
       "    <tr>\n",
       "      <th>1</th>\n",
       "      <td>10007</td>\n",
       "      <td>John</td>\n",
       "      <td>Sears</td>\n",
       "      <td>078 PCT</td>\n",
       "      <td>5952</td>\n",
       "      <td>24601</td>\n",
       "      <td>11</td>\n",
       "      <td>2011</td>\n",
       "      <td>8</td>\n",
       "      <td>2012</td>\n",
       "      <td>PBBS</td>\n",
       "      <td>POM</td>\n",
       "      <td>POM</td>\n",
       "      <td>Police Officer</td>\n",
       "      <td>Police Officer</td>\n",
       "      <td>White</td>\n",
       "      <td>M</td>\n",
       "      <td>24</td>\n",
       "      <td>Black</td>\n",
       "      <td>Male</td>\n",
       "      <td>26.0</td>\n",
       "      <td>Discourtesy</td>\n",
       "      <td>Action</td>\n",
       "      <td>67.0</td>\n",
       "      <td>Moving violation</td>\n",
       "      <td>Moving violation summons issued</td>\n",
       "      <td>Substantiated (Charges)</td>\n",
       "    </tr>\n",
       "    <tr>\n",
       "      <th>2</th>\n",
       "      <td>10007</td>\n",
       "      <td>John</td>\n",
       "      <td>Sears</td>\n",
       "      <td>078 PCT</td>\n",
       "      <td>5952</td>\n",
       "      <td>24601</td>\n",
       "      <td>11</td>\n",
       "      <td>2011</td>\n",
       "      <td>8</td>\n",
       "      <td>2012</td>\n",
       "      <td>PBBS</td>\n",
       "      <td>POM</td>\n",
       "      <td>POM</td>\n",
       "      <td>Police Officer</td>\n",
       "      <td>Police Officer</td>\n",
       "      <td>White</td>\n",
       "      <td>M</td>\n",
       "      <td>24</td>\n",
       "      <td>Black</td>\n",
       "      <td>Male</td>\n",
       "      <td>26.0</td>\n",
       "      <td>Offensive Language</td>\n",
       "      <td>Race</td>\n",
       "      <td>67.0</td>\n",
       "      <td>Moving violation</td>\n",
       "      <td>Moving violation summons issued</td>\n",
       "      <td>Substantiated (Charges)</td>\n",
       "    </tr>\n",
       "    <tr>\n",
       "      <th>3</th>\n",
       "      <td>10007</td>\n",
       "      <td>John</td>\n",
       "      <td>Sears</td>\n",
       "      <td>078 PCT</td>\n",
       "      <td>5952</td>\n",
       "      <td>26146</td>\n",
       "      <td>7</td>\n",
       "      <td>2012</td>\n",
       "      <td>9</td>\n",
       "      <td>2013</td>\n",
       "      <td>PBBS</td>\n",
       "      <td>POM</td>\n",
       "      <td>POM</td>\n",
       "      <td>Police Officer</td>\n",
       "      <td>Police Officer</td>\n",
       "      <td>White</td>\n",
       "      <td>M</td>\n",
       "      <td>25</td>\n",
       "      <td>Black</td>\n",
       "      <td>Male</td>\n",
       "      <td>45.0</td>\n",
       "      <td>Abuse of Authority</td>\n",
       "      <td>Question</td>\n",
       "      <td>67.0</td>\n",
       "      <td>PD suspected C/V of violation/crime - street</td>\n",
       "      <td>No arrest made or summons issued</td>\n",
       "      <td>Substantiated (Charges)</td>\n",
       "    </tr>\n",
       "    <tr>\n",
       "      <th>4</th>\n",
       "      <td>10009</td>\n",
       "      <td>Noemi</td>\n",
       "      <td>Sierra</td>\n",
       "      <td>078 PCT</td>\n",
       "      <td>24058</td>\n",
       "      <td>40253</td>\n",
       "      <td>8</td>\n",
       "      <td>2018</td>\n",
       "      <td>2</td>\n",
       "      <td>2019</td>\n",
       "      <td>078 PCT</td>\n",
       "      <td>POF</td>\n",
       "      <td>POF</td>\n",
       "      <td>Police Officer</td>\n",
       "      <td>Police Officer</td>\n",
       "      <td>Hispanic</td>\n",
       "      <td>F</td>\n",
       "      <td>39</td>\n",
       "      <td>NaN</td>\n",
       "      <td>NaN</td>\n",
       "      <td>16.0</td>\n",
       "      <td>Force</td>\n",
       "      <td>Physical force</td>\n",
       "      <td>67.0</td>\n",
       "      <td>Report-dispute</td>\n",
       "      <td>Arrest - other violation/crime</td>\n",
       "      <td>Substantiated (Command Discipline A)</td>\n",
       "    </tr>\n",
       "  </tbody>\n",
       "</table>\n",
       "</div>"
      ],
      "text/plain": [
       "   unique_mos_id first_name last_name command_now  shield_no  complaint_id  \\\n",
       "0          10004   Jonathan      Ruiz     078 PCT       8409         42835   \n",
       "1          10007       John     Sears     078 PCT       5952         24601   \n",
       "2          10007       John     Sears     078 PCT       5952         24601   \n",
       "3          10007       John     Sears     078 PCT       5952         26146   \n",
       "4          10009      Noemi    Sierra     078 PCT      24058         40253   \n",
       "\n",
       "   month_received  year_received  month_closed  year_closed  \\\n",
       "0               7           2019             5         2020   \n",
       "1              11           2011             8         2012   \n",
       "2              11           2011             8         2012   \n",
       "3               7           2012             9         2013   \n",
       "4               8           2018             2         2019   \n",
       "\n",
       "  command_at_incident rank_abbrev_incident rank_abbrev_now        rank_now  \\\n",
       "0             078 PCT                  POM             POM  Police Officer   \n",
       "1                PBBS                  POM             POM  Police Officer   \n",
       "2                PBBS                  POM             POM  Police Officer   \n",
       "3                PBBS                  POM             POM  Police Officer   \n",
       "4             078 PCT                  POF             POF  Police Officer   \n",
       "\n",
       "    rank_incident mos_ethnicity mos_gender  mos_age_incident  \\\n",
       "0  Police Officer      Hispanic          M                32   \n",
       "1  Police Officer         White          M                24   \n",
       "2  Police Officer         White          M                24   \n",
       "3  Police Officer         White          M                25   \n",
       "4  Police Officer      Hispanic          F                39   \n",
       "\n",
       "  complainant_ethnicity complainant_gender  complainant_age_incident  \\\n",
       "0                 Black             Female                      38.0   \n",
       "1                 Black               Male                      26.0   \n",
       "2                 Black               Male                      26.0   \n",
       "3                 Black               Male                      45.0   \n",
       "4                   NaN                NaN                      16.0   \n",
       "\n",
       "            fado_type                    allegation  precinct  \\\n",
       "0  Abuse of Authority  Failure to provide RTKA card      78.0   \n",
       "1         Discourtesy                        Action      67.0   \n",
       "2  Offensive Language                          Race      67.0   \n",
       "3  Abuse of Authority                      Question      67.0   \n",
       "4               Force                Physical force      67.0   \n",
       "\n",
       "                                 contact_reason  \\\n",
       "0                       Report-domestic dispute   \n",
       "1                              Moving violation   \n",
       "2                              Moving violation   \n",
       "3  PD suspected C/V of violation/crime - street   \n",
       "4                                Report-dispute   \n",
       "\n",
       "                outcome_description                         board_disposition  \n",
       "0  No arrest made or summons issued  Substantiated (Command Lvl Instructions)  \n",
       "1   Moving violation summons issued                   Substantiated (Charges)  \n",
       "2   Moving violation summons issued                   Substantiated (Charges)  \n",
       "3  No arrest made or summons issued                   Substantiated (Charges)  \n",
       "4    Arrest - other violation/crime      Substantiated (Command Discipline A)  "
      ]
     },
     "execution_count": 72,
     "metadata": {},
     "output_type": "execute_result"
    }
   ],
   "source": [
    "layout = pd.read_excel(layout_path)\n",
    "police_abbrev = pd.read_excel(layout_path, sheet_name=excelList[1])\n",
    "dispositions = pd.read_excel(layout_path, sheet_name=excelList[4])\n",
    "complaints = pd.read_csv(complaints_path)\n",
    "complaints.head()"
   ]
  },
  {
   "cell_type": "code",
   "execution_count": 73,
   "metadata": {},
   "outputs": [
    {
     "data": {
      "text/html": [
       "<div>\n",
       "<style scoped>\n",
       "    .dataframe tbody tr th:only-of-type {\n",
       "        vertical-align: middle;\n",
       "    }\n",
       "\n",
       "    .dataframe tbody tr th {\n",
       "        vertical-align: top;\n",
       "    }\n",
       "\n",
       "    .dataframe thead th {\n",
       "        text-align: right;\n",
       "    }\n",
       "</style>\n",
       "<table border=\"1\" class=\"dataframe\">\n",
       "  <thead>\n",
       "    <tr style=\"text-align: right;\">\n",
       "      <th></th>\n",
       "      <th>field name</th>\n",
       "      <th>description</th>\n",
       "    </tr>\n",
       "  </thead>\n",
       "  <tbody>\n",
       "    <tr>\n",
       "      <th>0</th>\n",
       "      <td>unique_mos_id</td>\n",
       "      <td>unique ID of the officer (\"member of service\")</td>\n",
       "    </tr>\n",
       "    <tr>\n",
       "      <th>1</th>\n",
       "      <td>first_name</td>\n",
       "      <td>Officer's first name</td>\n",
       "    </tr>\n",
       "    <tr>\n",
       "      <th>2</th>\n",
       "      <td>last_name</td>\n",
       "      <td>Officer's last name</td>\n",
       "    </tr>\n",
       "    <tr>\n",
       "      <th>3</th>\n",
       "      <td>command_now</td>\n",
       "      <td>Officer's command assignment as of July 2020</td>\n",
       "    </tr>\n",
       "    <tr>\n",
       "      <th>4</th>\n",
       "      <td>complaint_id</td>\n",
       "      <td>Unique ID of the complaint</td>\n",
       "    </tr>\n",
       "    <tr>\n",
       "      <th>5</th>\n",
       "      <td>month_received</td>\n",
       "      <td>Month the complaint was received by CCRB</td>\n",
       "    </tr>\n",
       "    <tr>\n",
       "      <th>6</th>\n",
       "      <td>year_received</td>\n",
       "      <td>Year the complaint was received by CCRB</td>\n",
       "    </tr>\n",
       "    <tr>\n",
       "      <th>7</th>\n",
       "      <td>month_closed</td>\n",
       "      <td>Month the complaint investigation was closed b...</td>\n",
       "    </tr>\n",
       "    <tr>\n",
       "      <th>8</th>\n",
       "      <td>year_closed</td>\n",
       "      <td>Year the complaint investigation was closed by...</td>\n",
       "    </tr>\n",
       "    <tr>\n",
       "      <th>9</th>\n",
       "      <td>command_at_incident</td>\n",
       "      <td>Officer's command assignment at the time of th...</td>\n",
       "    </tr>\n",
       "    <tr>\n",
       "      <th>10</th>\n",
       "      <td>rank_abbrev_incident</td>\n",
       "      <td>Officer's rank at the time of the incident, ab...</td>\n",
       "    </tr>\n",
       "    <tr>\n",
       "      <th>11</th>\n",
       "      <td>rank_abbrev_now</td>\n",
       "      <td>Officer's rank as of July 2020, abbreviation</td>\n",
       "    </tr>\n",
       "    <tr>\n",
       "      <th>12</th>\n",
       "      <td>rank_now</td>\n",
       "      <td>Officer's rank as of July 2020</td>\n",
       "    </tr>\n",
       "    <tr>\n",
       "      <th>13</th>\n",
       "      <td>rank_incident</td>\n",
       "      <td>Officer's rank at the time of the incident</td>\n",
       "    </tr>\n",
       "    <tr>\n",
       "      <th>14</th>\n",
       "      <td>mos_ethnicity</td>\n",
       "      <td>Officer's ethnicity</td>\n",
       "    </tr>\n",
       "    <tr>\n",
       "      <th>15</th>\n",
       "      <td>mos_gender</td>\n",
       "      <td>Officer's gender</td>\n",
       "    </tr>\n",
       "    <tr>\n",
       "      <th>16</th>\n",
       "      <td>mos_age_incident</td>\n",
       "      <td>Officer's age at time of incident</td>\n",
       "    </tr>\n",
       "    <tr>\n",
       "      <th>17</th>\n",
       "      <td>complainant_ethnicity</td>\n",
       "      <td>Complainant's ethnicity</td>\n",
       "    </tr>\n",
       "    <tr>\n",
       "      <th>18</th>\n",
       "      <td>complainant_gender</td>\n",
       "      <td>Complainant's gender</td>\n",
       "    </tr>\n",
       "    <tr>\n",
       "      <th>19</th>\n",
       "      <td>complainant_age_incident</td>\n",
       "      <td>Complainant's age at time of incident</td>\n",
       "    </tr>\n",
       "    <tr>\n",
       "      <th>20</th>\n",
       "      <td>fado_type</td>\n",
       "      <td>Top-level category of complaint</td>\n",
       "    </tr>\n",
       "    <tr>\n",
       "      <th>21</th>\n",
       "      <td>allegation</td>\n",
       "      <td>Specific category of complaint</td>\n",
       "    </tr>\n",
       "    <tr>\n",
       "      <th>22</th>\n",
       "      <td>precinct</td>\n",
       "      <td>Precinct associated with the complaint</td>\n",
       "    </tr>\n",
       "    <tr>\n",
       "      <th>23</th>\n",
       "      <td>contact_reason</td>\n",
       "      <td>Reason officer made contact with complainant</td>\n",
       "    </tr>\n",
       "    <tr>\n",
       "      <th>24</th>\n",
       "      <td>outcome_description</td>\n",
       "      <td>Outcome of the contact between office and comp...</td>\n",
       "    </tr>\n",
       "    <tr>\n",
       "      <th>25</th>\n",
       "      <td>board_disposition</td>\n",
       "      <td>Finding by the CCRB</td>\n",
       "    </tr>\n",
       "  </tbody>\n",
       "</table>\n",
       "</div>"
      ],
      "text/plain": [
       "                  field name  \\\n",
       "0              unique_mos_id   \n",
       "1                 first_name   \n",
       "2                  last_name   \n",
       "3                command_now   \n",
       "4               complaint_id   \n",
       "5             month_received   \n",
       "6              year_received   \n",
       "7               month_closed   \n",
       "8                year_closed   \n",
       "9        command_at_incident   \n",
       "10      rank_abbrev_incident   \n",
       "11           rank_abbrev_now   \n",
       "12                  rank_now   \n",
       "13             rank_incident   \n",
       "14             mos_ethnicity   \n",
       "15                mos_gender   \n",
       "16          mos_age_incident   \n",
       "17     complainant_ethnicity   \n",
       "18        complainant_gender   \n",
       "19  complainant_age_incident   \n",
       "20                 fado_type   \n",
       "21                allegation   \n",
       "22                  precinct   \n",
       "23            contact_reason   \n",
       "24       outcome_description   \n",
       "25         board_disposition   \n",
       "\n",
       "                                          description  \n",
       "0     unique ID of the officer (\"member of service\")   \n",
       "1                                Officer's first name  \n",
       "2                                 Officer's last name  \n",
       "3        Officer's command assignment as of July 2020  \n",
       "4                          Unique ID of the complaint  \n",
       "5            Month the complaint was received by CCRB  \n",
       "6             Year the complaint was received by CCRB  \n",
       "7   Month the complaint investigation was closed b...  \n",
       "8   Year the complaint investigation was closed by...  \n",
       "9   Officer's command assignment at the time of th...  \n",
       "10  Officer's rank at the time of the incident, ab...  \n",
       "11       Officer's rank as of July 2020, abbreviation  \n",
       "12                     Officer's rank as of July 2020  \n",
       "13         Officer's rank at the time of the incident  \n",
       "14                                Officer's ethnicity  \n",
       "15                                   Officer's gender  \n",
       "16                  Officer's age at time of incident  \n",
       "17                            Complainant's ethnicity  \n",
       "18                               Complainant's gender  \n",
       "19              Complainant's age at time of incident  \n",
       "20                    Top-level category of complaint  \n",
       "21                     Specific category of complaint  \n",
       "22             Precinct associated with the complaint  \n",
       "23       Reason officer made contact with complainant  \n",
       "24  Outcome of the contact between office and comp...  \n",
       "25                                Finding by the CCRB  "
      ]
     },
     "execution_count": 73,
     "metadata": {},
     "output_type": "execute_result"
    }
   ],
   "source": [
    "layout.drop(columns = \"glossary\")"
   ]
  },
  {
   "cell_type": "markdown",
   "metadata": {},
   "source": [
    "It seems that the date fields month_received, year_received, month_closed, and year_closed can be converted into datetime objects."
   ]
  },
  {
   "cell_type": "code",
   "execution_count": 74,
   "metadata": {},
   "outputs": [
    {
     "data": {
      "text/html": [
       "<div>\n",
       "<style scoped>\n",
       "    .dataframe tbody tr th:only-of-type {\n",
       "        vertical-align: middle;\n",
       "    }\n",
       "\n",
       "    .dataframe tbody tr th {\n",
       "        vertical-align: top;\n",
       "    }\n",
       "\n",
       "    .dataframe thead th {\n",
       "        text-align: right;\n",
       "    }\n",
       "</style>\n",
       "<table border=\"1\" class=\"dataframe\">\n",
       "  <thead>\n",
       "    <tr style=\"text-align: right;\">\n",
       "      <th></th>\n",
       "      <th>month_received</th>\n",
       "      <th>year_received</th>\n",
       "      <th>month_closed</th>\n",
       "      <th>year_closed</th>\n",
       "    </tr>\n",
       "  </thead>\n",
       "  <tbody>\n",
       "    <tr>\n",
       "      <th>0</th>\n",
       "      <td>7</td>\n",
       "      <td>2019</td>\n",
       "      <td>5</td>\n",
       "      <td>2020</td>\n",
       "    </tr>\n",
       "    <tr>\n",
       "      <th>1</th>\n",
       "      <td>11</td>\n",
       "      <td>2011</td>\n",
       "      <td>8</td>\n",
       "      <td>2012</td>\n",
       "    </tr>\n",
       "    <tr>\n",
       "      <th>2</th>\n",
       "      <td>11</td>\n",
       "      <td>2011</td>\n",
       "      <td>8</td>\n",
       "      <td>2012</td>\n",
       "    </tr>\n",
       "    <tr>\n",
       "      <th>3</th>\n",
       "      <td>7</td>\n",
       "      <td>2012</td>\n",
       "      <td>9</td>\n",
       "      <td>2013</td>\n",
       "    </tr>\n",
       "    <tr>\n",
       "      <th>4</th>\n",
       "      <td>8</td>\n",
       "      <td>2018</td>\n",
       "      <td>2</td>\n",
       "      <td>2019</td>\n",
       "    </tr>\n",
       "    <tr>\n",
       "      <th>...</th>\n",
       "      <td>...</td>\n",
       "      <td>...</td>\n",
       "      <td>...</td>\n",
       "      <td>...</td>\n",
       "    </tr>\n",
       "    <tr>\n",
       "      <th>33353</th>\n",
       "      <td>8</td>\n",
       "      <td>2016</td>\n",
       "      <td>2</td>\n",
       "      <td>2017</td>\n",
       "    </tr>\n",
       "    <tr>\n",
       "      <th>33354</th>\n",
       "      <td>8</td>\n",
       "      <td>2016</td>\n",
       "      <td>2</td>\n",
       "      <td>2017</td>\n",
       "    </tr>\n",
       "    <tr>\n",
       "      <th>33355</th>\n",
       "      <td>8</td>\n",
       "      <td>2016</td>\n",
       "      <td>2</td>\n",
       "      <td>2017</td>\n",
       "    </tr>\n",
       "    <tr>\n",
       "      <th>33356</th>\n",
       "      <td>8</td>\n",
       "      <td>2016</td>\n",
       "      <td>2</td>\n",
       "      <td>2017</td>\n",
       "    </tr>\n",
       "    <tr>\n",
       "      <th>33357</th>\n",
       "      <td>8</td>\n",
       "      <td>2016</td>\n",
       "      <td>2</td>\n",
       "      <td>2017</td>\n",
       "    </tr>\n",
       "  </tbody>\n",
       "</table>\n",
       "<p>33358 rows × 4 columns</p>\n",
       "</div>"
      ],
      "text/plain": [
       "       month_received  year_received  month_closed  year_closed\n",
       "0                   7           2019             5         2020\n",
       "1                  11           2011             8         2012\n",
       "2                  11           2011             8         2012\n",
       "3                   7           2012             9         2013\n",
       "4                   8           2018             2         2019\n",
       "...               ...            ...           ...          ...\n",
       "33353               8           2016             2         2017\n",
       "33354               8           2016             2         2017\n",
       "33355               8           2016             2         2017\n",
       "33356               8           2016             2         2017\n",
       "33357               8           2016             2         2017\n",
       "\n",
       "[33358 rows x 4 columns]"
      ]
     },
     "metadata": {},
     "output_type": "display_data"
    },
    {
     "name": "stdout",
     "output_type": "stream",
     "text": [
      "<class 'pandas.core.frame.DataFrame'>\n",
      "RangeIndex: 33358 entries, 0 to 33357\n",
      "Data columns (total 4 columns):\n",
      " #   Column          Non-Null Count  Dtype\n",
      "---  ------          --------------  -----\n",
      " 0   month_received  33358 non-null  int64\n",
      " 1   year_received   33358 non-null  int64\n",
      " 2   month_closed    33358 non-null  int64\n",
      " 3   year_closed     33358 non-null  int64\n",
      "dtypes: int64(4)\n",
      "memory usage: 1.0 MB\n"
     ]
    }
   ],
   "source": [
    "complaint_times = complaints[['month_received', 'year_received', 'month_closed', 'year_closed']]\n",
    "display(complaint_times)\n",
    "complaint_times.info()"
   ]
  },
  {
   "cell_type": "code",
   "execution_count": 75,
   "metadata": {},
   "outputs": [],
   "source": [
    "time_labels = [('month_received', 'year_received'), ('month_closed', 'year_closed')]\n",
    "times = []\n",
    "\n",
    "for label in time_labels:\n",
    "    times += [pd.to_datetime(complaint_times[label[0]].apply(lambda month: \"0\" + str(month) if len(str(month)) == 1 else str(month)) + \"/\" + complaint_times[label[1]].astype(str), format=\"%m/%Y\")]\n",
    "\n",
    "complaints = complaints.assign(date_received = times[0]).assign(date_closed = times[1]).drop(columns = complaint_times.columns)"
   ]
  },
  {
   "cell_type": "markdown",
   "metadata": {},
   "source": [
    "Let's engineer a new feature called days_taken which represents the duration, in days, a case took to be closed."
   ]
  },
  {
   "cell_type": "code",
   "execution_count": 76,
   "metadata": {},
   "outputs": [
    {
     "data": {
      "text/html": [
       "<div>\n",
       "<style scoped>\n",
       "    .dataframe tbody tr th:only-of-type {\n",
       "        vertical-align: middle;\n",
       "    }\n",
       "\n",
       "    .dataframe tbody tr th {\n",
       "        vertical-align: top;\n",
       "    }\n",
       "\n",
       "    .dataframe thead th {\n",
       "        text-align: right;\n",
       "    }\n",
       "</style>\n",
       "<table border=\"1\" class=\"dataframe\">\n",
       "  <thead>\n",
       "    <tr style=\"text-align: right;\">\n",
       "      <th></th>\n",
       "      <th>unique_mos_id</th>\n",
       "      <th>first_name</th>\n",
       "      <th>last_name</th>\n",
       "      <th>command_now</th>\n",
       "      <th>shield_no</th>\n",
       "      <th>complaint_id</th>\n",
       "      <th>command_at_incident</th>\n",
       "      <th>rank_abbrev_incident</th>\n",
       "      <th>rank_abbrev_now</th>\n",
       "      <th>rank_now</th>\n",
       "      <th>rank_incident</th>\n",
       "      <th>mos_ethnicity</th>\n",
       "      <th>mos_gender</th>\n",
       "      <th>mos_age_incident</th>\n",
       "      <th>complainant_ethnicity</th>\n",
       "      <th>complainant_gender</th>\n",
       "      <th>complainant_age_incident</th>\n",
       "      <th>fado_type</th>\n",
       "      <th>allegation</th>\n",
       "      <th>precinct</th>\n",
       "      <th>contact_reason</th>\n",
       "      <th>outcome_description</th>\n",
       "      <th>board_disposition</th>\n",
       "      <th>date_received</th>\n",
       "      <th>date_closed</th>\n",
       "      <th>days_taken</th>\n",
       "    </tr>\n",
       "  </thead>\n",
       "  <tbody>\n",
       "    <tr>\n",
       "      <th>0</th>\n",
       "      <td>10004</td>\n",
       "      <td>Jonathan</td>\n",
       "      <td>Ruiz</td>\n",
       "      <td>078 PCT</td>\n",
       "      <td>8409</td>\n",
       "      <td>42835</td>\n",
       "      <td>078 PCT</td>\n",
       "      <td>POM</td>\n",
       "      <td>POM</td>\n",
       "      <td>Police Officer</td>\n",
       "      <td>Police Officer</td>\n",
       "      <td>Hispanic</td>\n",
       "      <td>M</td>\n",
       "      <td>32</td>\n",
       "      <td>Black</td>\n",
       "      <td>Female</td>\n",
       "      <td>38.0</td>\n",
       "      <td>Abuse of Authority</td>\n",
       "      <td>Failure to provide RTKA card</td>\n",
       "      <td>78.0</td>\n",
       "      <td>Report-domestic dispute</td>\n",
       "      <td>No arrest made or summons issued</td>\n",
       "      <td>Substantiated (Command Lvl Instructions)</td>\n",
       "      <td>2019-07-01</td>\n",
       "      <td>2020-05-01</td>\n",
       "      <td>305</td>\n",
       "    </tr>\n",
       "    <tr>\n",
       "      <th>1</th>\n",
       "      <td>10007</td>\n",
       "      <td>John</td>\n",
       "      <td>Sears</td>\n",
       "      <td>078 PCT</td>\n",
       "      <td>5952</td>\n",
       "      <td>24601</td>\n",
       "      <td>PBBS</td>\n",
       "      <td>POM</td>\n",
       "      <td>POM</td>\n",
       "      <td>Police Officer</td>\n",
       "      <td>Police Officer</td>\n",
       "      <td>White</td>\n",
       "      <td>M</td>\n",
       "      <td>24</td>\n",
       "      <td>Black</td>\n",
       "      <td>Male</td>\n",
       "      <td>26.0</td>\n",
       "      <td>Discourtesy</td>\n",
       "      <td>Action</td>\n",
       "      <td>67.0</td>\n",
       "      <td>Moving violation</td>\n",
       "      <td>Moving violation summons issued</td>\n",
       "      <td>Substantiated (Charges)</td>\n",
       "      <td>2011-11-01</td>\n",
       "      <td>2012-08-01</td>\n",
       "      <td>274</td>\n",
       "    </tr>\n",
       "    <tr>\n",
       "      <th>2</th>\n",
       "      <td>10007</td>\n",
       "      <td>John</td>\n",
       "      <td>Sears</td>\n",
       "      <td>078 PCT</td>\n",
       "      <td>5952</td>\n",
       "      <td>24601</td>\n",
       "      <td>PBBS</td>\n",
       "      <td>POM</td>\n",
       "      <td>POM</td>\n",
       "      <td>Police Officer</td>\n",
       "      <td>Police Officer</td>\n",
       "      <td>White</td>\n",
       "      <td>M</td>\n",
       "      <td>24</td>\n",
       "      <td>Black</td>\n",
       "      <td>Male</td>\n",
       "      <td>26.0</td>\n",
       "      <td>Offensive Language</td>\n",
       "      <td>Race</td>\n",
       "      <td>67.0</td>\n",
       "      <td>Moving violation</td>\n",
       "      <td>Moving violation summons issued</td>\n",
       "      <td>Substantiated (Charges)</td>\n",
       "      <td>2011-11-01</td>\n",
       "      <td>2012-08-01</td>\n",
       "      <td>274</td>\n",
       "    </tr>\n",
       "    <tr>\n",
       "      <th>3</th>\n",
       "      <td>10007</td>\n",
       "      <td>John</td>\n",
       "      <td>Sears</td>\n",
       "      <td>078 PCT</td>\n",
       "      <td>5952</td>\n",
       "      <td>26146</td>\n",
       "      <td>PBBS</td>\n",
       "      <td>POM</td>\n",
       "      <td>POM</td>\n",
       "      <td>Police Officer</td>\n",
       "      <td>Police Officer</td>\n",
       "      <td>White</td>\n",
       "      <td>M</td>\n",
       "      <td>25</td>\n",
       "      <td>Black</td>\n",
       "      <td>Male</td>\n",
       "      <td>45.0</td>\n",
       "      <td>Abuse of Authority</td>\n",
       "      <td>Question</td>\n",
       "      <td>67.0</td>\n",
       "      <td>PD suspected C/V of violation/crime - street</td>\n",
       "      <td>No arrest made or summons issued</td>\n",
       "      <td>Substantiated (Charges)</td>\n",
       "      <td>2012-07-01</td>\n",
       "      <td>2013-09-01</td>\n",
       "      <td>427</td>\n",
       "    </tr>\n",
       "    <tr>\n",
       "      <th>4</th>\n",
       "      <td>10009</td>\n",
       "      <td>Noemi</td>\n",
       "      <td>Sierra</td>\n",
       "      <td>078 PCT</td>\n",
       "      <td>24058</td>\n",
       "      <td>40253</td>\n",
       "      <td>078 PCT</td>\n",
       "      <td>POF</td>\n",
       "      <td>POF</td>\n",
       "      <td>Police Officer</td>\n",
       "      <td>Police Officer</td>\n",
       "      <td>Hispanic</td>\n",
       "      <td>F</td>\n",
       "      <td>39</td>\n",
       "      <td>NaN</td>\n",
       "      <td>NaN</td>\n",
       "      <td>16.0</td>\n",
       "      <td>Force</td>\n",
       "      <td>Physical force</td>\n",
       "      <td>67.0</td>\n",
       "      <td>Report-dispute</td>\n",
       "      <td>Arrest - other violation/crime</td>\n",
       "      <td>Substantiated (Command Discipline A)</td>\n",
       "      <td>2018-08-01</td>\n",
       "      <td>2019-02-01</td>\n",
       "      <td>184</td>\n",
       "    </tr>\n",
       "  </tbody>\n",
       "</table>\n",
       "</div>"
      ],
      "text/plain": [
       "   unique_mos_id first_name last_name command_now  shield_no  complaint_id  \\\n",
       "0          10004   Jonathan      Ruiz     078 PCT       8409         42835   \n",
       "1          10007       John     Sears     078 PCT       5952         24601   \n",
       "2          10007       John     Sears     078 PCT       5952         24601   \n",
       "3          10007       John     Sears     078 PCT       5952         26146   \n",
       "4          10009      Noemi    Sierra     078 PCT      24058         40253   \n",
       "\n",
       "  command_at_incident rank_abbrev_incident rank_abbrev_now        rank_now  \\\n",
       "0             078 PCT                  POM             POM  Police Officer   \n",
       "1                PBBS                  POM             POM  Police Officer   \n",
       "2                PBBS                  POM             POM  Police Officer   \n",
       "3                PBBS                  POM             POM  Police Officer   \n",
       "4             078 PCT                  POF             POF  Police Officer   \n",
       "\n",
       "    rank_incident mos_ethnicity mos_gender  mos_age_incident  \\\n",
       "0  Police Officer      Hispanic          M                32   \n",
       "1  Police Officer         White          M                24   \n",
       "2  Police Officer         White          M                24   \n",
       "3  Police Officer         White          M                25   \n",
       "4  Police Officer      Hispanic          F                39   \n",
       "\n",
       "  complainant_ethnicity complainant_gender  complainant_age_incident  \\\n",
       "0                 Black             Female                      38.0   \n",
       "1                 Black               Male                      26.0   \n",
       "2                 Black               Male                      26.0   \n",
       "3                 Black               Male                      45.0   \n",
       "4                   NaN                NaN                      16.0   \n",
       "\n",
       "            fado_type                    allegation  precinct  \\\n",
       "0  Abuse of Authority  Failure to provide RTKA card      78.0   \n",
       "1         Discourtesy                        Action      67.0   \n",
       "2  Offensive Language                          Race      67.0   \n",
       "3  Abuse of Authority                      Question      67.0   \n",
       "4               Force                Physical force      67.0   \n",
       "\n",
       "                                 contact_reason  \\\n",
       "0                       Report-domestic dispute   \n",
       "1                              Moving violation   \n",
       "2                              Moving violation   \n",
       "3  PD suspected C/V of violation/crime - street   \n",
       "4                                Report-dispute   \n",
       "\n",
       "                outcome_description                         board_disposition  \\\n",
       "0  No arrest made or summons issued  Substantiated (Command Lvl Instructions)   \n",
       "1   Moving violation summons issued                   Substantiated (Charges)   \n",
       "2   Moving violation summons issued                   Substantiated (Charges)   \n",
       "3  No arrest made or summons issued                   Substantiated (Charges)   \n",
       "4    Arrest - other violation/crime      Substantiated (Command Discipline A)   \n",
       "\n",
       "  date_received date_closed  days_taken  \n",
       "0    2019-07-01  2020-05-01         305  \n",
       "1    2011-11-01  2012-08-01         274  \n",
       "2    2011-11-01  2012-08-01         274  \n",
       "3    2012-07-01  2013-09-01         427  \n",
       "4    2018-08-01  2019-02-01         184  "
      ]
     },
     "execution_count": 76,
     "metadata": {},
     "output_type": "execute_result"
    }
   ],
   "source": [
    "complaints['days_taken'] = (complaints['date_closed'] - complaints['date_received']).dt.days\n",
    "complaints.head()"
   ]
  },
  {
   "cell_type": "code",
   "execution_count": 77,
   "metadata": {},
   "outputs": [
    {
     "data": {
      "text/plain": [
       "count    33358.000000\n",
       "mean       296.268721\n",
       "std        152.703275\n",
       "min          0.000000\n",
       "25%        183.000000\n",
       "50%        303.000000\n",
       "75%        396.000000\n",
       "max       3348.000000\n",
       "Name: days_taken, dtype: float64"
      ]
     },
     "execution_count": 77,
     "metadata": {},
     "output_type": "execute_result"
    }
   ],
   "source": [
    "complaints['days_taken'].describe()"
   ]
  },
  {
   "cell_type": "markdown",
   "metadata": {},
   "source": [
    "Now that we have properly created our datetime and associated columns, we can begin exploring trends. Let's first plot "
   ]
  },
  {
   "cell_type": "code",
   "execution_count": 78,
   "metadata": {},
   "outputs": [
    {
     "data": {
      "text/plain": [
       "<AxesSubplot:xlabel='days_taken', ylabel='complainant_age_incident'>"
      ]
     },
     "execution_count": 78,
     "metadata": {},
     "output_type": "execute_result"
    },
    {
     "data": {
      "image/png": "[encoded data removed]",
      "text/plain": [
       "<Figure size 432x288 with 1 Axes>"
      ]
     },
     "metadata": {},
     "output_type": "display_data"
    }
   ],
   "source": [
    "sns.scatterplot(data = complaints, x = complaints['days_taken'], y = 'complainant_age_incident')"
   ]
  },
  {
   "cell_type": "code",
   "execution_count": 79,
   "metadata": {},
   "outputs": [
    {
     "data": {
      "text/html": [
       "<div>\n",
       "<style scoped>\n",
       "    .dataframe tbody tr th:only-of-type {\n",
       "        vertical-align: middle;\n",
       "    }\n",
       "\n",
       "    .dataframe tbody tr th {\n",
       "        vertical-align: top;\n",
       "    }\n",
       "\n",
       "    .dataframe thead th {\n",
       "        text-align: right;\n",
       "    }\n",
       "</style>\n",
       "<table border=\"1\" class=\"dataframe\">\n",
       "  <thead>\n",
       "    <tr style=\"text-align: right;\">\n",
       "      <th></th>\n",
       "      <th>complainant_age_incident</th>\n",
       "      <th>mos_age_incident</th>\n",
       "    </tr>\n",
       "  </thead>\n",
       "  <tbody>\n",
       "    <tr>\n",
       "      <th>count</th>\n",
       "      <td>28546.000000</td>\n",
       "      <td>33358.000000</td>\n",
       "    </tr>\n",
       "    <tr>\n",
       "      <th>mean</th>\n",
       "      <td>32.484201</td>\n",
       "      <td>32.346873</td>\n",
       "    </tr>\n",
       "    <tr>\n",
       "      <th>std</th>\n",
       "      <td>28.408963</td>\n",
       "      <td>6.040944</td>\n",
       "    </tr>\n",
       "    <tr>\n",
       "      <th>min</th>\n",
       "      <td>-4301.000000</td>\n",
       "      <td>20.000000</td>\n",
       "    </tr>\n",
       "    <tr>\n",
       "      <th>25%</th>\n",
       "      <td>23.000000</td>\n",
       "      <td>28.000000</td>\n",
       "    </tr>\n",
       "    <tr>\n",
       "      <th>50%</th>\n",
       "      <td>30.000000</td>\n",
       "      <td>31.000000</td>\n",
       "    </tr>\n",
       "    <tr>\n",
       "      <th>75%</th>\n",
       "      <td>41.000000</td>\n",
       "      <td>36.000000</td>\n",
       "    </tr>\n",
       "    <tr>\n",
       "      <th>max</th>\n",
       "      <td>101.000000</td>\n",
       "      <td>60.000000</td>\n",
       "    </tr>\n",
       "  </tbody>\n",
       "</table>\n",
       "</div>"
      ],
      "text/plain": [
       "       complainant_age_incident  mos_age_incident\n",
       "count              28546.000000      33358.000000\n",
       "mean                  32.484201         32.346873\n",
       "std                   28.408963          6.040944\n",
       "min                -4301.000000         20.000000\n",
       "25%                   23.000000         28.000000\n",
       "50%                   30.000000         31.000000\n",
       "75%                   41.000000         36.000000\n",
       "max                  101.000000         60.000000"
      ]
     },
     "execution_count": 79,
     "metadata": {},
     "output_type": "execute_result"
    }
   ],
   "source": [
    "complaints[['complainant_age_incident', 'mos_age_incident']].describe()"
   ]
  },
  {
   "cell_type": "code",
   "execution_count": 80,
   "metadata": {},
   "outputs": [
    {
     "data": {
      "text/plain": [
       "1.0"
      ]
     },
     "execution_count": 80,
     "metadata": {},
     "output_type": "execute_result"
    }
   ],
   "source": [
    "complaints[complaints['complainant_age_incident'] <= 0] = np.nan\n",
    "complaints['complainant_age_incident'].min()"
   ]
  },
  {
   "cell_type": "code",
   "execution_count": 81,
   "metadata": {},
   "outputs": [
    {
     "name": "stdout",
     "output_type": "stream",
     "text": [
      "Correlation between duration of complaint and age of complainant: -0.08829041205291156\n"
     ]
    },
    {
     "data": {
      "image/png": "[encoded data removed]",
      "text/plain": [
       "<Figure size 2160x720 with 1 Axes>"
      ]
     },
     "metadata": {},
     "output_type": "display_data"
    }
   ],
   "source": [
    "sns.lmplot(data = complaints, x = \"days_taken\", y = 'complainant_age_incident', height = 10, aspect = 3)\n",
    "print(\"Correlation between duration of complaint and age of complainant: {}\".format(complaints.corr().loc['days_taken', 'complainant_age_incident']))"
   ]
  },
  {
   "cell_type": "markdown",
   "metadata": {},
   "source": [
    "### Now, let's clean up the qualitative columns by detailing a course of action for each qualitative column:"
   ]
  },
  {
   "cell_type": "code",
   "execution_count": 82,
   "metadata": {},
   "outputs": [
    {
     "data": {
      "text/plain": [
       "unique_mos_id                3996\n",
       "first_name                   1217\n",
       "last_name                    2835\n",
       "command_now                   415\n",
       "shield_no                    3334\n",
       "complaint_id                12052\n",
       "command_at_incident           361\n",
       "rank_abbrev_incident           18\n",
       "rank_abbrev_now                20\n",
       "rank_now                        8\n",
       "rank_incident                   8\n",
       "mos_ethnicity                   5\n",
       "mos_gender                      2\n",
       "mos_age_incident               40\n",
       "complainant_ethnicity           8\n",
       "complainant_gender              6\n",
       "complainant_age_incident       86\n",
       "fado_type                       4\n",
       "allegation                    115\n",
       "precinct                       79\n",
       "contact_reason                 53\n",
       "outcome_description            23\n",
       "board_disposition              11\n",
       "date_received                 390\n",
       "date_closed                   385\n",
       "days_taken                    132\n",
       "dtype: int64"
      ]
     },
     "execution_count": 82,
     "metadata": {},
     "output_type": "execute_result"
    }
   ],
   "source": [
    "complaints.nunique()"
   ]
  },
  {
   "cell_type": "markdown",
   "metadata": {},
   "source": [
    "- unique_mos_id, first_name, last_name, command_now, shield_no, complaint_id, contact_reason, allegation, and command_at_incident all contain hundreds if not thousands of unique values that, for simplicity's sake, will be left alone\n",
    "- rank_abbrev_incident and rank_abbrev_now have more unique values than rank_now and rank_incident so we can convert these abbreviations to achieve higher granularity in our dataset\n",
    "- mos_ethnicity, mos_gender, complainant_ethnicity, complainant_gender, fado_type, board_disposition, precinct, and outcome_description can be manually checked for inconsistencies and cleaned accordingly due to their limited diversity"
   ]
  },
  {
   "cell_type": "markdown",
   "metadata": {},
   "source": [
    "Let's first start with enhancing granularity by converting abbreviations into full ranks. We can achieve this by joining `police_abbrev` with our original dataset."
   ]
  },
  {
   "cell_type": "code",
   "execution_count": 83,
   "metadata": {},
   "outputs": [
    {
     "data": {
      "text/html": [
       "<div>\n",
       "<style scoped>\n",
       "    .dataframe tbody tr th:only-of-type {\n",
       "        vertical-align: middle;\n",
       "    }\n",
       "\n",
       "    .dataframe tbody tr th {\n",
       "        vertical-align: top;\n",
       "    }\n",
       "\n",
       "    .dataframe thead th {\n",
       "        text-align: right;\n",
       "    }\n",
       "</style>\n",
       "<table border=\"1\" class=\"dataframe\">\n",
       "  <thead>\n",
       "    <tr style=\"text-align: right;\">\n",
       "      <th></th>\n",
       "      <th>Abbreviation</th>\n",
       "      <th>Rank</th>\n",
       "    </tr>\n",
       "  </thead>\n",
       "  <tbody>\n",
       "    <tr>\n",
       "      <th>0</th>\n",
       "      <td>POM</td>\n",
       "      <td>Police Officer</td>\n",
       "    </tr>\n",
       "    <tr>\n",
       "      <th>1</th>\n",
       "      <td>POF</td>\n",
       "      <td>Police Officer</td>\n",
       "    </tr>\n",
       "    <tr>\n",
       "      <th>2</th>\n",
       "      <td>PO</td>\n",
       "      <td>Police Officer</td>\n",
       "    </tr>\n",
       "    <tr>\n",
       "      <th>3</th>\n",
       "      <td>PSA</td>\n",
       "      <td>Police Officer Special Assignment</td>\n",
       "    </tr>\n",
       "    <tr>\n",
       "      <th>4</th>\n",
       "      <td>SGT</td>\n",
       "      <td>Sergeant</td>\n",
       "    </tr>\n",
       "  </tbody>\n",
       "</table>\n",
       "</div>"
      ],
      "text/plain": [
       "  Abbreviation                               Rank\n",
       "0          POM                     Police Officer\n",
       "1          POF                     Police Officer\n",
       "2           PO                     Police Officer\n",
       "3          PSA  Police Officer Special Assignment\n",
       "4          SGT                           Sergeant"
      ]
     },
     "metadata": {},
     "output_type": "display_data"
    }
   ],
   "source": [
    "display(police_abbrev.head())"
   ]
  },
  {
   "cell_type": "code",
   "execution_count": 84,
   "metadata": {},
   "outputs": [
    {
     "data": {
      "text/plain": [
       "Rank_incident    15\n",
       "Rank_now         18\n",
       "dtype: int64"
      ]
     },
     "execution_count": 84,
     "metadata": {},
     "output_type": "execute_result"
    }
   ],
   "source": [
    "def convert_abbrev(police_abbrev, complaints):\n",
    "    merged = complaints.merge(police_abbrev, how='inner', left_on=['rank_abbrev_incident'], right_on =['Abbreviation']).merge(police_abbrev, how = 'inner', left_on=['rank_abbrev_now'], right_on=['Abbreviation'], suffixes=(\"_incident\", \"_now\")).drop(columns = ['rank_abbrev_incident', 'rank_abbrev_now', 'rank_now', 'rank_incident', 'Abbreviation_incident', 'Abbreviation_now'])\n",
    "    return merged\n",
    "\n",
    "merged_complaints = convert_abbrev(police_abbrev, complaints)\n",
    "merged_complaints[['Rank_incident', 'Rank_now']].nunique()"
   ]
  },
  {
   "cell_type": "markdown",
   "metadata": {},
   "source": [
    "Now, let's manually sift through features that have a low amount of unique values and look for inconsistencies."
   ]
  },
  {
   "cell_type": "code",
   "execution_count": 85,
   "metadata": {},
   "outputs": [
    {
     "name": "stdout",
     "output_type": "stream",
     "text": [
      "mos_ethnicity's unique values are: ['Hispanic' 'White' 'Asian' 'Black' 'American Indian']\n",
      "\n",
      "mos_gender's unique values are: ['M' 'F']\n",
      "\n",
      "complainant_ethnicity's unique values are: ['Black' 'White' 'Asian' 'Refused' 'Hispanic' 'Other Race' nan 'Unknown'\n",
      " 'American Indian']\n",
      "\n",
      "complainant_gender's unique values are: ['Female' 'Male' nan 'Transman (FTM)' 'Not described' 'Transwoman (MTF)'\n",
      " 'Gender non-conforming']\n",
      "\n",
      "fado_type's unique values are: ['Abuse of Authority' 'Discourtesy' 'Offensive Language' 'Force']\n",
      "\n",
      "board_disposition's unique values are: ['Substantiated (Command Lvl Instructions)' 'Substantiated (Charges)'\n",
      " 'Substantiated (Formalized Training)' 'Unsubstantiated'\n",
      " 'Substantiated (Command Discipline A)' 'Exonerated'\n",
      " 'Substantiated (Command Discipline B)'\n",
      " 'Substantiated (Command Discipline)' 'Substantiated (Instructions)'\n",
      " 'Substantiated (No Recommendations)' 'Substantiated (MOS Unidentified)']\n",
      "\n",
      "precinct's unique values are: [  78.   67.   10.   79.   90.   46.    9.   28.  120.   68.   70.   72.\n",
      "  122.  100.    1.    7.   81.   63.   52.   47.   83.   42.   84.   73.\n",
      "   13.    5.   88.   77.   75.   94.   40.   18.   69.  101.  110.  103.\n",
      "  102.   62.   25.  104.  105.  106.  113.   17.   34.  107.  108.  109.\n",
      "  115.   19.  112.   43.  111.   32.   71.   14.   60.  114.   26.   20.\n",
      "   61.    6.   48.  121.   66.  123.   30.   41.   50.   49.   44.   45.\n",
      "   23.   22. 1000.   33.   24.   76.   nan    0.]\n",
      "\n",
      "outcome_description's unique values are: ['No arrest made or summons issued' 'Moving violation summons issued'\n",
      " 'Summons - other violation/crime' 'Other VTL violation summons issued'\n",
      " 'Arrest - other violation/crime' 'Arrest - disorderly conduct'\n",
      " 'Arrest - assault (against a PO)' 'Summons - disorderly conduct'\n",
      " 'Arrest - OGA' 'Arrest - resisting arrest' 'Parking summons issued'\n",
      " 'Juvenile Report' nan 'Summons - OGA' 'Traffic Summons Claimed or Issued'\n",
      " 'Resisting Arrest/Arrested' 'Disorderly-Conduct/Arr/Summons'\n",
      " 'Arrest on Other Charge' 'Arrest - harrassment (against a PO)'\n",
      " 'Obstruct-Govt-Admin/Arrested' 'Summons - harrassment (against a PO)'\n",
      " 'Other Summons Claimed or Issued' 'Assault/Arrested'\n",
      " 'Harrassment/Arrested/Summons']\n",
      "\n"
     ]
    }
   ],
   "source": [
    "small_qualitative_features = ['mos_ethnicity', 'mos_gender', 'complainant_ethnicity', 'complainant_gender', 'fado_type', 'board_disposition', 'precinct', 'outcome_description']\n",
    "for feature in small_qualitative_features:\n",
    "    print(\"{}'s unique values are: {}\".format(feature, merged_complaints[feature].unique()), end='\\n\\n')"
   ]
  },
  {
   "cell_type": "markdown",
   "metadata": {},
   "source": [
    "- complainant_ethnicity and complainant_gender have vague values that should be represented with `np.nan`\n",
    "- New York contains precincts between 1 and 123, and so any precincts outside of that range should be represented with `np.nan`"
   ]
  },
  {
   "cell_type": "code",
   "execution_count": 86,
   "metadata": {},
   "outputs": [
    {
     "name": "stdout",
     "output_type": "stream",
     "text": [
      "complainant_ethnicity's unique values are: ['Black' 'White' 'Asian' nan 'Hispanic' 'American Indian']\n",
      "\n",
      "complainant_gender's unique values are: ['Female' 'Male' nan 'Transman (FTM)' 'Transwoman (MTF)'\n",
      " 'Gender non-conforming']\n",
      "\n",
      "precinct's unique values are: [ 78.  67.  10.  79.  90.  46.   9.  28. 120.  68.  70.  72. 122. 100.\n",
      "   1.   7.  81.  63.  52.  47.  83.  42.  84.  73.  13.   5.  88.  77.\n",
      "  75.  94.  40.  18.  69. 101. 110. 103. 102.  62.  25. 104. 105. 106.\n",
      " 113.  17.  34. 107. 108. 109. 115.  19. 112.  43. 111.  32.  71.  14.\n",
      "  60. 114.  26.  20.  61.   6.  48. 121.  66. 123.  30.  41.  50.  49.\n",
      "  44.  45.  23.  22.  nan  33.  24.  76.]\n",
      "\n"
     ]
    }
   ],
   "source": [
    "def replace_with_nan(complaints):\n",
    "    columns_to_clean = ['complainant_ethnicity', 'complainant_gender', 'precinct']\n",
    "    replaced_with_nan = complaints.assign(complainant_ethnicity = complaints['complainant_ethnicity'].replace({\"Refused\": np.nan, 'Unknown': np.nan, 'Other Race': np.nan})).assign(complainant_gender = complaints['complainant_gender'].replace({'Not described': np.nan}))\n",
    "    replaced_with_nan[(replaced_with_nan['precinct'] > 123) | (replaced_with_nan['precinct'] <= 0)] = np.nan\n",
    "    for column in columns_to_clean:\n",
    "        print(\"{}'s unique values are: {}\".format(column, replaced_with_nan[column].unique()), end='\\n\\n')\n",
    "    return replaced_with_nan\n",
    "\n",
    "cleaned_nan = replace_with_nan(merged_complaints)"
   ]
  },
  {
   "cell_type": "markdown",
   "metadata": {},
   "source": [
    "Let's also drop unique_mos_id because shield_no already satisfies the need for a unique identifier."
   ]
  },
  {
   "cell_type": "code",
   "execution_count": 87,
   "metadata": {},
   "outputs": [
    {
     "data": {
      "text/html": [
       "<div>\n",
       "<style scoped>\n",
       "    .dataframe tbody tr th:only-of-type {\n",
       "        vertical-align: middle;\n",
       "    }\n",
       "\n",
       "    .dataframe tbody tr th {\n",
       "        vertical-align: top;\n",
       "    }\n",
       "\n",
       "    .dataframe thead th {\n",
       "        text-align: right;\n",
       "    }\n",
       "</style>\n",
       "<table border=\"1\" class=\"dataframe\">\n",
       "  <thead>\n",
       "    <tr style=\"text-align: right;\">\n",
       "      <th></th>\n",
       "      <th>first_name</th>\n",
       "      <th>last_name</th>\n",
       "      <th>command_now</th>\n",
       "      <th>shield_no</th>\n",
       "      <th>complaint_id</th>\n",
       "      <th>command_at_incident</th>\n",
       "      <th>mos_ethnicity</th>\n",
       "      <th>mos_gender</th>\n",
       "      <th>mos_age_incident</th>\n",
       "      <th>complainant_ethnicity</th>\n",
       "      <th>complainant_gender</th>\n",
       "      <th>complainant_age_incident</th>\n",
       "      <th>fado_type</th>\n",
       "      <th>allegation</th>\n",
       "      <th>precinct</th>\n",
       "      <th>contact_reason</th>\n",
       "      <th>outcome_description</th>\n",
       "      <th>board_disposition</th>\n",
       "      <th>date_received</th>\n",
       "      <th>date_closed</th>\n",
       "      <th>days_taken</th>\n",
       "      <th>Rank_incident</th>\n",
       "      <th>Rank_now</th>\n",
       "    </tr>\n",
       "  </thead>\n",
       "  <tbody>\n",
       "    <tr>\n",
       "      <th>0</th>\n",
       "      <td>Jonathan</td>\n",
       "      <td>Ruiz</td>\n",
       "      <td>078 PCT</td>\n",
       "      <td>8409.0</td>\n",
       "      <td>42835.0</td>\n",
       "      <td>078 PCT</td>\n",
       "      <td>Hispanic</td>\n",
       "      <td>M</td>\n",
       "      <td>32.0</td>\n",
       "      <td>Black</td>\n",
       "      <td>Female</td>\n",
       "      <td>38.0</td>\n",
       "      <td>Abuse of Authority</td>\n",
       "      <td>Failure to provide RTKA card</td>\n",
       "      <td>78.0</td>\n",
       "      <td>Report-domestic dispute</td>\n",
       "      <td>No arrest made or summons issued</td>\n",
       "      <td>Substantiated (Command Lvl Instructions)</td>\n",
       "      <td>2019-07-01</td>\n",
       "      <td>2020-05-01</td>\n",
       "      <td>305.0</td>\n",
       "      <td>Police Officer</td>\n",
       "      <td>Police Officer</td>\n",
       "    </tr>\n",
       "    <tr>\n",
       "      <th>1</th>\n",
       "      <td>John</td>\n",
       "      <td>Sears</td>\n",
       "      <td>078 PCT</td>\n",
       "      <td>5952.0</td>\n",
       "      <td>24601.0</td>\n",
       "      <td>PBBS</td>\n",
       "      <td>White</td>\n",
       "      <td>M</td>\n",
       "      <td>24.0</td>\n",
       "      <td>Black</td>\n",
       "      <td>Male</td>\n",
       "      <td>26.0</td>\n",
       "      <td>Discourtesy</td>\n",
       "      <td>Action</td>\n",
       "      <td>67.0</td>\n",
       "      <td>Moving violation</td>\n",
       "      <td>Moving violation summons issued</td>\n",
       "      <td>Substantiated (Charges)</td>\n",
       "      <td>2011-11-01</td>\n",
       "      <td>2012-08-01</td>\n",
       "      <td>274.0</td>\n",
       "      <td>Police Officer</td>\n",
       "      <td>Police Officer</td>\n",
       "    </tr>\n",
       "    <tr>\n",
       "      <th>2</th>\n",
       "      <td>John</td>\n",
       "      <td>Sears</td>\n",
       "      <td>078 PCT</td>\n",
       "      <td>5952.0</td>\n",
       "      <td>24601.0</td>\n",
       "      <td>PBBS</td>\n",
       "      <td>White</td>\n",
       "      <td>M</td>\n",
       "      <td>24.0</td>\n",
       "      <td>Black</td>\n",
       "      <td>Male</td>\n",
       "      <td>26.0</td>\n",
       "      <td>Offensive Language</td>\n",
       "      <td>Race</td>\n",
       "      <td>67.0</td>\n",
       "      <td>Moving violation</td>\n",
       "      <td>Moving violation summons issued</td>\n",
       "      <td>Substantiated (Charges)</td>\n",
       "      <td>2011-11-01</td>\n",
       "      <td>2012-08-01</td>\n",
       "      <td>274.0</td>\n",
       "      <td>Police Officer</td>\n",
       "      <td>Police Officer</td>\n",
       "    </tr>\n",
       "    <tr>\n",
       "      <th>3</th>\n",
       "      <td>John</td>\n",
       "      <td>Sears</td>\n",
       "      <td>078 PCT</td>\n",
       "      <td>5952.0</td>\n",
       "      <td>26146.0</td>\n",
       "      <td>PBBS</td>\n",
       "      <td>White</td>\n",
       "      <td>M</td>\n",
       "      <td>25.0</td>\n",
       "      <td>Black</td>\n",
       "      <td>Male</td>\n",
       "      <td>45.0</td>\n",
       "      <td>Abuse of Authority</td>\n",
       "      <td>Question</td>\n",
       "      <td>67.0</td>\n",
       "      <td>PD suspected C/V of violation/crime - street</td>\n",
       "      <td>No arrest made or summons issued</td>\n",
       "      <td>Substantiated (Charges)</td>\n",
       "      <td>2012-07-01</td>\n",
       "      <td>2013-09-01</td>\n",
       "      <td>427.0</td>\n",
       "      <td>Police Officer</td>\n",
       "      <td>Police Officer</td>\n",
       "    </tr>\n",
       "    <tr>\n",
       "      <th>4</th>\n",
       "      <td>Malachy</td>\n",
       "      <td>Sullivan</td>\n",
       "      <td>078 PCT</td>\n",
       "      <td>4143.0</td>\n",
       "      <td>33969.0</td>\n",
       "      <td>078 PCT</td>\n",
       "      <td>White</td>\n",
       "      <td>M</td>\n",
       "      <td>43.0</td>\n",
       "      <td>White</td>\n",
       "      <td>Male</td>\n",
       "      <td>34.0</td>\n",
       "      <td>Offensive Language</td>\n",
       "      <td>Sexual orientation</td>\n",
       "      <td>78.0</td>\n",
       "      <td>PD suspected C/V of violation/crime - street</td>\n",
       "      <td>Summons - other violation/crime</td>\n",
       "      <td>Substantiated (Formalized Training)</td>\n",
       "      <td>2015-11-01</td>\n",
       "      <td>2016-02-01</td>\n",
       "      <td>92.0</td>\n",
       "      <td>Police Officer</td>\n",
       "      <td>Police Officer</td>\n",
       "    </tr>\n",
       "  </tbody>\n",
       "</table>\n",
       "</div>"
      ],
      "text/plain": [
       "  first_name last_name command_now  shield_no  complaint_id  \\\n",
       "0   Jonathan      Ruiz     078 PCT     8409.0       42835.0   \n",
       "1       John     Sears     078 PCT     5952.0       24601.0   \n",
       "2       John     Sears     078 PCT     5952.0       24601.0   \n",
       "3       John     Sears     078 PCT     5952.0       26146.0   \n",
       "4    Malachy  Sullivan     078 PCT     4143.0       33969.0   \n",
       "\n",
       "  command_at_incident mos_ethnicity mos_gender  mos_age_incident  \\\n",
       "0             078 PCT      Hispanic          M              32.0   \n",
       "1                PBBS         White          M              24.0   \n",
       "2                PBBS         White          M              24.0   \n",
       "3                PBBS         White          M              25.0   \n",
       "4             078 PCT         White          M              43.0   \n",
       "\n",
       "  complainant_ethnicity complainant_gender  complainant_age_incident  \\\n",
       "0                 Black             Female                      38.0   \n",
       "1                 Black               Male                      26.0   \n",
       "2                 Black               Male                      26.0   \n",
       "3                 Black               Male                      45.0   \n",
       "4                 White               Male                      34.0   \n",
       "\n",
       "            fado_type                    allegation  precinct  \\\n",
       "0  Abuse of Authority  Failure to provide RTKA card      78.0   \n",
       "1         Discourtesy                        Action      67.0   \n",
       "2  Offensive Language                          Race      67.0   \n",
       "3  Abuse of Authority                      Question      67.0   \n",
       "4  Offensive Language            Sexual orientation      78.0   \n",
       "\n",
       "                                 contact_reason  \\\n",
       "0                       Report-domestic dispute   \n",
       "1                              Moving violation   \n",
       "2                              Moving violation   \n",
       "3  PD suspected C/V of violation/crime - street   \n",
       "4  PD suspected C/V of violation/crime - street   \n",
       "\n",
       "                outcome_description                         board_disposition  \\\n",
       "0  No arrest made or summons issued  Substantiated (Command Lvl Instructions)   \n",
       "1   Moving violation summons issued                   Substantiated (Charges)   \n",
       "2   Moving violation summons issued                   Substantiated (Charges)   \n",
       "3  No arrest made or summons issued                   Substantiated (Charges)   \n",
       "4   Summons - other violation/crime       Substantiated (Formalized Training)   \n",
       "\n",
       "  date_received date_closed  days_taken   Rank_incident        Rank_now  \n",
       "0    2019-07-01  2020-05-01       305.0  Police Officer  Police Officer  \n",
       "1    2011-11-01  2012-08-01       274.0  Police Officer  Police Officer  \n",
       "2    2011-11-01  2012-08-01       274.0  Police Officer  Police Officer  \n",
       "3    2012-07-01  2013-09-01       427.0  Police Officer  Police Officer  \n",
       "4    2015-11-01  2016-02-01        92.0  Police Officer  Police Officer  "
      ]
     },
     "execution_count": 87,
     "metadata": {},
     "output_type": "execute_result"
    }
   ],
   "source": [
    "columns_to_drop = ['unique_mos_id']\n",
    "cleaned = cleaned_nan.drop(columns = columns_to_drop)\n",
    "cleaned.head()"
   ]
  },
  {
   "cell_type": "markdown",
   "metadata": {},
   "source": [
    "### Time for explatory data analysis:\n",
    "\n",
    "Let's begin with plotting age distributions of both police officers and complainants. We ultimately would like to perform a permutation test to see if there is an observable difference in age between police officers and complainants."
   ]
  },
  {
   "cell_type": "code",
   "execution_count": 88,
   "metadata": {},
   "outputs": [
    {
     "data": {
      "text/plain": [
       "<AxesSubplot:ylabel='Frequency'>"
      ]
     },
     "execution_count": 88,
     "metadata": {},
     "output_type": "execute_result"
    },
    {
     "data": {
      "image/png": "[encoded data removed]",
      "text/plain": [
       "<Figure size 432x288 with 1 Axes>"
      ]
     },
     "metadata": {},
     "output_type": "display_data"
    }
   ],
   "source": [
    "ages = ['mos_age_incident', 'complainant_age_incident']\n",
    "cleaned[ages].plot.hist(bins=range(0, 100, 5), ec = 'black', alpha = 0.6)"
   ]
  },
  {
   "cell_type": "code",
   "execution_count": 89,
   "metadata": {},
   "outputs": [
    {
     "data": {
      "text/plain": [
       "mos_age_incident            32.348829\n",
       "complainant_age_incident    32.642592\n",
       "dtype: float64"
      ]
     },
     "metadata": {},
     "output_type": "display_data"
    },
    {
     "data": {
      "text/plain": [
       "mos_age_incident            33257\n",
       "complainant_age_incident    28522\n",
       "dtype: int64"
      ]
     },
     "metadata": {},
     "output_type": "display_data"
    }
   ],
   "source": [
    "display(cleaned[ages].mean())\n",
    "display(cleaned[ages].count())"
   ]
  },
  {
   "cell_type": "markdown",
   "metadata": {},
   "source": [
    "We see an issue here. There are far more police officer entries than there are complainants, and so a distribution would not the best way to capture any differences. Let's reshape our data to where we get the categorical distribution of age group proportions. Let's group ages by intervals of 5, which shouldn't filter out too much granularity."
   ]
  },
  {
   "cell_type": "code",
   "execution_count": 90,
   "metadata": {},
   "outputs": [
    {
     "data": {
      "text/html": [
       "<div>\n",
       "<style scoped>\n",
       "    .dataframe tbody tr th:only-of-type {\n",
       "        vertical-align: middle;\n",
       "    }\n",
       "\n",
       "    .dataframe tbody tr th {\n",
       "        vertical-align: top;\n",
       "    }\n",
       "\n",
       "    .dataframe thead th {\n",
       "        text-align: right;\n",
       "    }\n",
       "</style>\n",
       "<table border=\"1\" class=\"dataframe\">\n",
       "  <thead>\n",
       "    <tr style=\"text-align: right;\">\n",
       "      <th></th>\n",
       "      <th>officer_age_group</th>\n",
       "      <th>complainant_age_group</th>\n",
       "      <th>mos_age_incident</th>\n",
       "      <th>complainant_age_incident</th>\n",
       "    </tr>\n",
       "  </thead>\n",
       "  <tbody>\n",
       "    <tr>\n",
       "      <th>0</th>\n",
       "      <td>30.0-34.0</td>\n",
       "      <td>35.0-39.0</td>\n",
       "      <td>32.0</td>\n",
       "      <td>38.0</td>\n",
       "    </tr>\n",
       "    <tr>\n",
       "      <th>1</th>\n",
       "      <td>20.0-24.0</td>\n",
       "      <td>25.0-29.0</td>\n",
       "      <td>24.0</td>\n",
       "      <td>26.0</td>\n",
       "    </tr>\n",
       "    <tr>\n",
       "      <th>2</th>\n",
       "      <td>20.0-24.0</td>\n",
       "      <td>25.0-29.0</td>\n",
       "      <td>24.0</td>\n",
       "      <td>26.0</td>\n",
       "    </tr>\n",
       "    <tr>\n",
       "      <th>3</th>\n",
       "      <td>25.0-29.0</td>\n",
       "      <td>45.0-49.0</td>\n",
       "      <td>25.0</td>\n",
       "      <td>45.0</td>\n",
       "    </tr>\n",
       "    <tr>\n",
       "      <th>4</th>\n",
       "      <td>40.0-44.0</td>\n",
       "      <td>30.0-34.0</td>\n",
       "      <td>43.0</td>\n",
       "      <td>34.0</td>\n",
       "    </tr>\n",
       "  </tbody>\n",
       "</table>\n",
       "</div>"
      ],
      "text/plain": [
       "  officer_age_group complainant_age_group  mos_age_incident  \\\n",
       "0         30.0-34.0             35.0-39.0              32.0   \n",
       "1         20.0-24.0             25.0-29.0              24.0   \n",
       "2         20.0-24.0             25.0-29.0              24.0   \n",
       "3         25.0-29.0             45.0-49.0              25.0   \n",
       "4         40.0-44.0             30.0-34.0              43.0   \n",
       "\n",
       "   complainant_age_incident  \n",
       "0                      38.0  \n",
       "1                      26.0  \n",
       "2                      26.0  \n",
       "3                      45.0  \n",
       "4                      34.0  "
      ]
     },
     "execution_count": 90,
     "metadata": {},
     "output_type": "execute_result"
    }
   ],
   "source": [
    "def assign_age_groups(cleaned):\n",
    "    age_df = pd.DataFrame()\n",
    "    def round_to_five(age):\n",
    "        tenths, ones = age//10, age % 10\n",
    "        if ones >= 0 and ones < 5:\n",
    "            ones = 0\n",
    "        else:\n",
    "            ones = 5\n",
    "        return str((tenths * 10) + ones) + \"-\" + str((tenths * 10) + ones + 4)\n",
    "    age_df['officer_age_group'] = cleaned['mos_age_incident'].apply(round_to_five)\n",
    "    age_df['complainant_age_group'] = cleaned['complainant_age_incident'].apply(round_to_five)\n",
    "    return pd.concat([age_df, cleaned[ages]], axis = 1).replace({\"nan-nan\": np.nan})\n",
    "age_df = assign_age_groups(cleaned)\n",
    "age_df.head()"
   ]
  },
  {
   "cell_type": "code",
   "execution_count": 91,
   "metadata": {},
   "outputs": [],
   "source": [
    "complainant_age_group = age_df.groupby(\"complainant_age_group\")['complainant_age_incident'].count()/age_df.groupby(\"complainant_age_group\")['complainant_age_incident'].count().sum(axis = 0)\n",
    "officer_age_group = age_df.groupby(\"officer_age_group\")['mos_age_incident'].count()/age_df.groupby(\"officer_age_group\")['mos_age_incident'].count().sum(axis = 0)"
   ]
  },
  {
   "cell_type": "code",
   "execution_count": 92,
   "metadata": {},
   "outputs": [
    {
     "data": {
      "text/html": [
       "<div>\n",
       "<style scoped>\n",
       "    .dataframe tbody tr th:only-of-type {\n",
       "        vertical-align: middle;\n",
       "    }\n",
       "\n",
       "    .dataframe tbody tr th {\n",
       "        vertical-align: top;\n",
       "    }\n",
       "\n",
       "    .dataframe thead th {\n",
       "        text-align: right;\n",
       "    }\n",
       "</style>\n",
       "<table border=\"1\" class=\"dataframe\">\n",
       "  <thead>\n",
       "    <tr style=\"text-align: right;\">\n",
       "      <th></th>\n",
       "      <th>mos_age_incident</th>\n",
       "      <th>complainant_age_incident</th>\n",
       "    </tr>\n",
       "    <tr>\n",
       "      <th>age_group</th>\n",
       "      <th></th>\n",
       "      <th></th>\n",
       "    </tr>\n",
       "  </thead>\n",
       "  <tbody>\n",
       "    <tr>\n",
       "      <th>20.0-24.0</th>\n",
       "      <td>0.066272</td>\n",
       "      <td>0.171131</td>\n",
       "    </tr>\n",
       "    <tr>\n",
       "      <th>25.0-29.0</th>\n",
       "      <td>0.300418</td>\n",
       "      <td>0.174637</td>\n",
       "    </tr>\n",
       "    <tr>\n",
       "      <th>30.0-34.0</th>\n",
       "      <td>0.308567</td>\n",
       "      <td>0.149113</td>\n",
       "    </tr>\n",
       "    <tr>\n",
       "      <th>35.0-39.0</th>\n",
       "      <td>0.195838</td>\n",
       "      <td>0.110897</td>\n",
       "    </tr>\n",
       "    <tr>\n",
       "      <th>40.0-44.0</th>\n",
       "      <td>0.086328</td>\n",
       "      <td>0.090316</td>\n",
       "    </tr>\n",
       "    <tr>\n",
       "      <th>45.0-49.0</th>\n",
       "      <td>0.035481</td>\n",
       "      <td>0.074399</td>\n",
       "    </tr>\n",
       "    <tr>\n",
       "      <th>50.0-54.0</th>\n",
       "      <td>0.006465</td>\n",
       "      <td>0.049681</td>\n",
       "    </tr>\n",
       "    <tr>\n",
       "      <th>55.0-59.0</th>\n",
       "      <td>0.000631</td>\n",
       "      <td>0.027523</td>\n",
       "    </tr>\n",
       "    <tr>\n",
       "      <th>0.0-4.0</th>\n",
       "      <td>0.000000</td>\n",
       "      <td>0.000140</td>\n",
       "    </tr>\n",
       "    <tr>\n",
       "      <th>10.0-14.0</th>\n",
       "      <td>0.000000</td>\n",
       "      <td>0.016514</td>\n",
       "    </tr>\n",
       "    <tr>\n",
       "      <th>100.0-104.0</th>\n",
       "      <td>0.000000</td>\n",
       "      <td>0.000070</td>\n",
       "    </tr>\n",
       "    <tr>\n",
       "      <th>15.0-19.0</th>\n",
       "      <td>0.000000</td>\n",
       "      <td>0.108057</td>\n",
       "    </tr>\n",
       "    <tr>\n",
       "      <th>5.0-9.0</th>\n",
       "      <td>0.000000</td>\n",
       "      <td>0.000316</td>\n",
       "    </tr>\n",
       "    <tr>\n",
       "      <th>60.0-64.0</th>\n",
       "      <td>0.000000</td>\n",
       "      <td>0.013674</td>\n",
       "    </tr>\n",
       "    <tr>\n",
       "      <th>65.0-69.0</th>\n",
       "      <td>0.000000</td>\n",
       "      <td>0.006942</td>\n",
       "    </tr>\n",
       "    <tr>\n",
       "      <th>70.0-74.0</th>\n",
       "      <td>0.000000</td>\n",
       "      <td>0.003506</td>\n",
       "    </tr>\n",
       "    <tr>\n",
       "      <th>75.0-79.0</th>\n",
       "      <td>0.000000</td>\n",
       "      <td>0.002174</td>\n",
       "    </tr>\n",
       "    <tr>\n",
       "      <th>80.0-84.0</th>\n",
       "      <td>0.000000</td>\n",
       "      <td>0.000631</td>\n",
       "    </tr>\n",
       "    <tr>\n",
       "      <th>85.0-89.0</th>\n",
       "      <td>0.000000</td>\n",
       "      <td>0.000245</td>\n",
       "    </tr>\n",
       "    <tr>\n",
       "      <th>90.0-94.0</th>\n",
       "      <td>0.000000</td>\n",
       "      <td>0.000035</td>\n",
       "    </tr>\n",
       "  </tbody>\n",
       "</table>\n",
       "</div>"
      ],
      "text/plain": [
       "             mos_age_incident  complainant_age_incident\n",
       "age_group                                              \n",
       "20.0-24.0            0.066272                  0.171131\n",
       "25.0-29.0            0.300418                  0.174637\n",
       "30.0-34.0            0.308567                  0.149113\n",
       "35.0-39.0            0.195838                  0.110897\n",
       "40.0-44.0            0.086328                  0.090316\n",
       "45.0-49.0            0.035481                  0.074399\n",
       "50.0-54.0            0.006465                  0.049681\n",
       "55.0-59.0            0.000631                  0.027523\n",
       "0.0-4.0              0.000000                  0.000140\n",
       "10.0-14.0            0.000000                  0.016514\n",
       "100.0-104.0          0.000000                  0.000070\n",
       "15.0-19.0            0.000000                  0.108057\n",
       "5.0-9.0              0.000000                  0.000316\n",
       "60.0-64.0            0.000000                  0.013674\n",
       "65.0-69.0            0.000000                  0.006942\n",
       "70.0-74.0            0.000000                  0.003506\n",
       "75.0-79.0            0.000000                  0.002174\n",
       "80.0-84.0            0.000000                  0.000631\n",
       "85.0-89.0            0.000000                  0.000245\n",
       "90.0-94.0            0.000000                  0.000035"
      ]
     },
     "execution_count": 92,
     "metadata": {},
     "output_type": "execute_result"
    }
   ],
   "source": [
    "age_probabilities = pd.concat([officer_age_group, complainant_age_group], axis = 1).fillna(0)\n",
    "age_probabilities.index.name = 'age_group'\n",
    "age_probabilities"
   ]
  },
  {
   "cell_type": "code",
   "execution_count": 93,
   "metadata": {},
   "outputs": [
    {
     "data": {
      "text/plain": [
       "Text(0.5, 1.0, 'Probability distributions of age groups')"
      ]
     },
     "execution_count": 93,
     "metadata": {},
     "output_type": "execute_result"
    },
    {
     "data": {
      "image/png": "[encoded data removed]",
      "text/plain": [
       "<Figure size 1440x432 with 1 Axes>"
      ]
     },
     "metadata": {},
     "output_type": "display_data"
    }
   ],
   "source": [
    "fig, ax = plt.subplots(figsize=(20,6))\n",
    "melted_age_probabilities = age_probabilities.reset_index().melt('age_group', var_name='person', value_name='age_proportion')\n",
    "sns.barplot(data = melted_age_probabilities, x='age_group', y = 'age_proportion', hue = 'person', palette='Blues_d')\n",
    "ax.set_title(\"Probability distributions of age groups\")"
   ]
  },
  {
   "cell_type": "markdown",
   "metadata": {},
   "source": [
    "Now that we can visualize are probability distribution, let's formulate our permutation test:\n",
    "- Null hypothesis: Of all complaints in New York, the distribution of police officer ages is equal to the distribution of complainant ages.\n",
    "- Alternative hypothesis: Of all complaints in New York, the distribution of police officer ages is not equal to  the distribution of complainant ages.\n",
    "- Test statistic: total variation distance\n",
    "- P-value: 0.05"
   ]
  },
  {
   "cell_type": "code",
   "execution_count": 94,
   "metadata": {},
   "outputs": [
    {
     "name": "stdout",
     "output_type": "stream",
     "text": [
      "Observed value: 0.3701761055677047\n"
     ]
    }
   ],
   "source": [
    "def calculateTVD(age_probabilities, col1, col2):\n",
    "    return np.abs((age_probabilities[col1] - age_probabilities[col2])).sum()/2\n",
    "obs = calculateTVD(age_probabilities, 'mos_age_incident', 'complainant_age_incident')\n",
    "print(\"Observed value: {}\".format(obs))"
   ]
  },
  {
   "cell_type": "markdown",
   "metadata": {},
   "source": [
    "For our permutations, we need to shuffle around ages from both mos_age_incident and complainant_age_incident without replacement. We can first put together a vector containing all age values. Then, we can permute the vector and split it into its original column sizes. From there, we can group and calculate our test statistic in a repeated experiment."
   ]
  },
  {
   "cell_type": "code",
   "execution_count": 95,
   "metadata": {},
   "outputs": [],
   "source": [
    "def one_experiment(cleaned):\n",
    "    permuted_df = pd.DataFrame()\n",
    "    age_vector = cleaned['mos_age_incident'].append(cleaned['complainant_age_incident'])\n",
    "    original_size = len(cleaned['mos_age_incident'])\n",
    "    permuted_vector = np.random.permutation(age_vector)\n",
    "    police_vector, complainant_vector = permuted_vector[:original_size], permuted_vector[original_size:]\n",
    "    permuted_df['complainant_age_incident'] = complainant_vector\n",
    "    permuted_df['mos_age_incident'] = police_vector\n",
    "    age_df = assign_age_groups(permuted_df)\n",
    "    # Create probability distribution groups\n",
    "    complainant_age_group = age_df.groupby(\"complainant_age_group\")['complainant_age_incident'].count()/age_df.groupby(\"complainant_age_group\")['complainant_age_incident'].count().sum(axis = 0)\n",
    "    officer_age_group = age_df.groupby(\"officer_age_group\")['mos_age_incident'].count()/age_df.groupby(\"officer_age_group\")['mos_age_incident'].count().sum(axis = 0)\n",
    "    age_probabilities = pd.concat([officer_age_group, complainant_age_group], axis = 1).fillna(0)\n",
    "    age_probabilities.index.name = 'age_group'\n",
    "    return calculateTVD(age_probabilities, 'mos_age_incident', 'complainant_age_incident')"
   ]
  },
  {
   "cell_type": "code",
   "execution_count": 96,
   "metadata": {},
   "outputs": [
    {
     "name": "stdout",
     "output_type": "stream",
     "text": [
      "P-value: 0.0\n"
     ]
    },
    {
     "data": {
      "image/png": "[encoded data removed]",
      "text/plain": [
       "<Figure size 1440x432 with 1 Axes>"
      ]
     },
     "metadata": {},
     "output_type": "display_data"
    }
   ],
   "source": [
    "def permutation(cleaned, N):\n",
    "    obs = calculateTVD(age_probabilities, 'mos_age_incident', 'complainant_age_incident')\n",
    "    tvds = []\n",
    "    for i in range(N):\n",
    "        tvds.append(one_experiment(cleaned))\n",
    "    \n",
    "    # Plot distribution\n",
    "    fig, ax = plt.subplots(figsize = (20, 6))\n",
    "    pd.Series(tvds).plot(kind = 'hist')\n",
    "    plt.axvline(obs)\n",
    "\n",
    "    p_value = np.mean(np.array(tvds) >= obs)\n",
    "    return p_value\n",
    "\n",
    "print(\"P-value: {}\".format(permutation(cleaned, 100)))"
   ]
  },
  {
   "cell_type": "markdown",
   "metadata": {},
   "source": [
    "With a p-value of 0, we can reject the null hypothesis with high confidence in favor of the alternative: that the distribution of police officer ages and complainant ages are not the same."
   ]
  },
  {
   "cell_type": "markdown",
   "metadata": {},
   "source": [
    "An important aspect of this dataframe is the final result of the complaint. This is captured in the column board_disposition. The column has 3 main values corresponding to different decrees according to `dispositions`."
   ]
  },
  {
   "cell_type": "code",
   "execution_count": 97,
   "metadata": {},
   "outputs": [
    {
     "name": "stdout",
     "output_type": "stream",
     "text": [
      "Substantiated: The alleged conduct occurred and it violated the rules. (A breakdown of the types of discipline the CCRB can recommend is here: https://www1.nyc.gov/site/ccrb/prosecution/police-discipline.page) The NYPD can choose to ignore those recommendations. It has discretion over what, if any, discipline is imposed.)\n",
      "\n",
      "Exonerated: The alleged conduct occurred but did not violate the NYPD’s rules, which often give officers significant discretion over use of force.\n",
      "\n",
      "Unsubstantiated: The CCRB has fully investigated but could not affirmatively conclude both that the conduct occurred and that it broke the rules.\n",
      "\n"
     ]
    },
    {
     "data": {
      "text/plain": [
       "array(['Substantiated (Command Lvl Instructions)',\n",
       "       'Substantiated (Charges)', 'Substantiated (Formalized Training)',\n",
       "       'Unsubstantiated', 'Substantiated (Command Discipline A)',\n",
       "       'Exonerated', 'Substantiated (Command Discipline B)',\n",
       "       'Substantiated (Command Discipline)',\n",
       "       'Substantiated (Instructions)',\n",
       "       'Substantiated (No Recommendations)', nan,\n",
       "       'Substantiated (MOS Unidentified)'], dtype=object)"
      ]
     },
     "metadata": {},
     "output_type": "display_data"
    }
   ],
   "source": [
    "for index, row in dispositions.iterrows():\n",
    "    print(row['Disposition'] + \": \" + row['Description'], end = \"\\n\\n\")\n",
    "display(cleaned['board_disposition'].unique())"
   ]
  },
  {
   "cell_type": "markdown",
   "metadata": {},
   "source": [
    "In a society where racial demographics can manipulate a large part in the justice system, we would like to perform a hypothesis test to see if a black complainant who had trouble with a white officer was more likely to be exonerated and thus more likely to lose their case. To do this, we need to quantify the `dispositions` column. We can create a new feature of boolean values in which `True` represents a substantied disposition and `False` represents either exonerated or unsubstantiated."
   ]
  },
  {
   "cell_type": "code",
   "execution_count": 98,
   "metadata": {},
   "outputs": [
    {
     "data": {
      "text/html": [
       "<div>\n",
       "<style scoped>\n",
       "    .dataframe tbody tr th:only-of-type {\n",
       "        vertical-align: middle;\n",
       "    }\n",
       "\n",
       "    .dataframe tbody tr th {\n",
       "        vertical-align: top;\n",
       "    }\n",
       "\n",
       "    .dataframe thead th {\n",
       "        text-align: right;\n",
       "    }\n",
       "</style>\n",
       "<table border=\"1\" class=\"dataframe\">\n",
       "  <thead>\n",
       "    <tr style=\"text-align: right;\">\n",
       "      <th></th>\n",
       "      <th>did_win_case</th>\n",
       "      <th>board_disposition</th>\n",
       "    </tr>\n",
       "  </thead>\n",
       "  <tbody>\n",
       "    <tr>\n",
       "      <th>0</th>\n",
       "      <td>True</td>\n",
       "      <td>Substantiated (Command Lvl Instructions)</td>\n",
       "    </tr>\n",
       "    <tr>\n",
       "      <th>1</th>\n",
       "      <td>True</td>\n",
       "      <td>Substantiated (Charges)</td>\n",
       "    </tr>\n",
       "    <tr>\n",
       "      <th>2</th>\n",
       "      <td>True</td>\n",
       "      <td>Substantiated (Charges)</td>\n",
       "    </tr>\n",
       "    <tr>\n",
       "      <th>3</th>\n",
       "      <td>True</td>\n",
       "      <td>Substantiated (Charges)</td>\n",
       "    </tr>\n",
       "    <tr>\n",
       "      <th>4</th>\n",
       "      <td>True</td>\n",
       "      <td>Substantiated (Formalized Training)</td>\n",
       "    </tr>\n",
       "    <tr>\n",
       "      <th>5</th>\n",
       "      <td>False</td>\n",
       "      <td>Unsubstantiated</td>\n",
       "    </tr>\n",
       "    <tr>\n",
       "      <th>6</th>\n",
       "      <td>False</td>\n",
       "      <td>Unsubstantiated</td>\n",
       "    </tr>\n",
       "    <tr>\n",
       "      <th>7</th>\n",
       "      <td>True</td>\n",
       "      <td>Substantiated (Command Discipline A)</td>\n",
       "    </tr>\n",
       "    <tr>\n",
       "      <th>8</th>\n",
       "      <td>True</td>\n",
       "      <td>Substantiated (Command Lvl Instructions)</td>\n",
       "    </tr>\n",
       "    <tr>\n",
       "      <th>9</th>\n",
       "      <td>False</td>\n",
       "      <td>Unsubstantiated</td>\n",
       "    </tr>\n",
       "    <tr>\n",
       "      <th>10</th>\n",
       "      <td>False</td>\n",
       "      <td>Unsubstantiated</td>\n",
       "    </tr>\n",
       "    <tr>\n",
       "      <th>11</th>\n",
       "      <td>False</td>\n",
       "      <td>Unsubstantiated</td>\n",
       "    </tr>\n",
       "    <tr>\n",
       "      <th>12</th>\n",
       "      <td>False</td>\n",
       "      <td>Exonerated</td>\n",
       "    </tr>\n",
       "    <tr>\n",
       "      <th>13</th>\n",
       "      <td>False</td>\n",
       "      <td>Unsubstantiated</td>\n",
       "    </tr>\n",
       "    <tr>\n",
       "      <th>14</th>\n",
       "      <td>False</td>\n",
       "      <td>Exonerated</td>\n",
       "    </tr>\n",
       "  </tbody>\n",
       "</table>\n",
       "</div>"
      ],
      "text/plain": [
       "   did_win_case                         board_disposition\n",
       "0          True  Substantiated (Command Lvl Instructions)\n",
       "1          True                   Substantiated (Charges)\n",
       "2          True                   Substantiated (Charges)\n",
       "3          True                   Substantiated (Charges)\n",
       "4          True       Substantiated (Formalized Training)\n",
       "5         False                           Unsubstantiated\n",
       "6         False                           Unsubstantiated\n",
       "7          True      Substantiated (Command Discipline A)\n",
       "8          True  Substantiated (Command Lvl Instructions)\n",
       "9         False                           Unsubstantiated\n",
       "10        False                           Unsubstantiated\n",
       "11        False                           Unsubstantiated\n",
       "12        False                                Exonerated\n",
       "13        False                           Unsubstantiated\n",
       "14        False                                Exonerated"
      ]
     },
     "execution_count": 98,
     "metadata": {},
     "output_type": "execute_result"
    }
   ],
   "source": [
    "def create_disposition_feature(disposition):\n",
    "    if pd.isnull(disposition):\n",
    "        return np.nan\n",
    "    elif \"Substantiated\" in disposition:\n",
    "        return True\n",
    "    else:\n",
    "        return False\n",
    "\n",
    "cleaned['did_win_case'] = cleaned['board_disposition'].apply(create_disposition_feature)\n",
    "cleaned[['did_win_case', 'board_disposition']].head(15)"
   ]
  },
  {
   "cell_type": "code",
   "execution_count": 99,
   "metadata": {},
   "outputs": [
    {
     "data": {
      "text/html": [
       "<div>\n",
       "<style scoped>\n",
       "    .dataframe tbody tr th:only-of-type {\n",
       "        vertical-align: middle;\n",
       "    }\n",
       "\n",
       "    .dataframe tbody tr th {\n",
       "        vertical-align: top;\n",
       "    }\n",
       "\n",
       "    .dataframe thead th {\n",
       "        text-align: right;\n",
       "    }\n",
       "</style>\n",
       "<table border=\"1\" class=\"dataframe\">\n",
       "  <thead>\n",
       "    <tr style=\"text-align: right;\">\n",
       "      <th>complainant_ethnicity</th>\n",
       "      <th>American Indian</th>\n",
       "      <th>Asian</th>\n",
       "      <th>Black</th>\n",
       "      <th>Hispanic</th>\n",
       "      <th>White</th>\n",
       "    </tr>\n",
       "    <tr>\n",
       "      <th>mos_ethnicity</th>\n",
       "      <th></th>\n",
       "      <th></th>\n",
       "      <th></th>\n",
       "      <th></th>\n",
       "      <th></th>\n",
       "    </tr>\n",
       "  </thead>\n",
       "  <tbody>\n",
       "    <tr>\n",
       "      <th>American Indian</th>\n",
       "      <td>NaN</td>\n",
       "      <td>NaN</td>\n",
       "      <td>0.222222</td>\n",
       "      <td>0.000000</td>\n",
       "      <td>0.000000</td>\n",
       "    </tr>\n",
       "    <tr>\n",
       "      <th>Asian</th>\n",
       "      <td>0.500</td>\n",
       "      <td>0.459016</td>\n",
       "      <td>0.292115</td>\n",
       "      <td>0.254237</td>\n",
       "      <td>0.403101</td>\n",
       "    </tr>\n",
       "    <tr>\n",
       "      <th>Black</th>\n",
       "      <td>0.250</td>\n",
       "      <td>0.192982</td>\n",
       "      <td>0.234963</td>\n",
       "      <td>0.239774</td>\n",
       "      <td>0.323684</td>\n",
       "    </tr>\n",
       "    <tr>\n",
       "      <th>Hispanic</th>\n",
       "      <td>0.125</td>\n",
       "      <td>0.265957</td>\n",
       "      <td>0.240729</td>\n",
       "      <td>0.248758</td>\n",
       "      <td>0.267200</td>\n",
       "    </tr>\n",
       "    <tr>\n",
       "      <th>White</th>\n",
       "      <td>0.400</td>\n",
       "      <td>0.281646</td>\n",
       "      <td>0.234408</td>\n",
       "      <td>0.242787</td>\n",
       "      <td>0.263670</td>\n",
       "    </tr>\n",
       "  </tbody>\n",
       "</table>\n",
       "</div>"
      ],
      "text/plain": [
       "complainant_ethnicity  American Indian     Asian     Black  Hispanic     White\n",
       "mos_ethnicity                                                                 \n",
       "American Indian                    NaN       NaN  0.222222  0.000000  0.000000\n",
       "Asian                            0.500  0.459016  0.292115  0.254237  0.403101\n",
       "Black                            0.250  0.192982  0.234963  0.239774  0.323684\n",
       "Hispanic                         0.125  0.265957  0.240729  0.248758  0.267200\n",
       "White                            0.400  0.281646  0.234408  0.242787  0.263670"
      ]
     },
     "execution_count": 99,
     "metadata": {},
     "output_type": "execute_result"
    }
   ],
   "source": [
    "ethnicity_pivot_table = cleaned.pivot_table(index = 'mos_ethnicity', columns='complainant_ethnicity', values='did_win_case', aggfunc='mean')\n",
    "ethnicity_pivot_table"
   ]
  },
  {
   "cell_type": "markdown",
   "metadata": {},
   "source": [
    "This pivot table gives us a matrix of probabilities corresponding to the chance that a complainant with a certain ethnicity would win their case against a police officer of a certain ethnicity. We are particularly interested in the probabilities of winning a case against a white police officer, and so let's query that row and plot a distribution."
   ]
  },
  {
   "cell_type": "code",
   "execution_count": 100,
   "metadata": {},
   "outputs": [
    {
     "data": {
      "text/plain": [
       "Text(0, 0.5, 'Chance of winning against white officer')"
      ]
     },
     "execution_count": 100,
     "metadata": {},
     "output_type": "execute_result"
    },
    {
     "data": {
      "image/png": "[encoded data removed]",
      "text/plain": [
       "<Figure size 432x288 with 1 Axes>"
      ]
     },
     "metadata": {},
     "output_type": "display_data"
    }
   ],
   "source": [
    "white_officer_pivot_table = ethnicity_pivot_table.loc['White']\n",
    "ax = sns.barplot(x = white_officer_pivot_table.sort_values().index, y = white_officer_pivot_table.sort_values())\n",
    "ax.set_ylabel(\"Chance of winning against white officer\")"
   ]
  },
  {
   "cell_type": "markdown",
   "metadata": {},
   "source": [
    "It seems that you have a lower chance of winning your complaint if you are a black complainant versus a white officer. Let's conduct a hypothesis test to know if this chance disparity comes from randomness or not. Let's formulate the test:\n",
    "- Null hypothesis: Race and chance of winning a complaint are not related - the low black proportion is strictly due to chance.\n",
    "- Alternative hypothesis: Race and chance of winning are related - the chance of winning as a black person against a white officer is lower than that of other races.\n",
    "- Test statistic: percent chance of success\n",
    "- P-value: 0.05"
   ]
  },
  {
   "cell_type": "code",
   "execution_count": 101,
   "metadata": {},
   "outputs": [
    {
     "data": {
      "text/html": [
       "<div>\n",
       "<style scoped>\n",
       "    .dataframe tbody tr th:only-of-type {\n",
       "        vertical-align: middle;\n",
       "    }\n",
       "\n",
       "    .dataframe tbody tr th {\n",
       "        vertical-align: top;\n",
       "    }\n",
       "\n",
       "    .dataframe thead th {\n",
       "        text-align: right;\n",
       "    }\n",
       "</style>\n",
       "<table border=\"1\" class=\"dataframe\">\n",
       "  <thead>\n",
       "    <tr style=\"text-align: right;\">\n",
       "      <th>complainant_ethnicity</th>\n",
       "      <th>American Indian</th>\n",
       "      <th>Asian</th>\n",
       "      <th>Black</th>\n",
       "      <th>Hispanic</th>\n",
       "      <th>White</th>\n",
       "    </tr>\n",
       "    <tr>\n",
       "      <th>mos_ethnicity</th>\n",
       "      <th></th>\n",
       "      <th></th>\n",
       "      <th></th>\n",
       "      <th></th>\n",
       "      <th></th>\n",
       "    </tr>\n",
       "  </thead>\n",
       "  <tbody>\n",
       "    <tr>\n",
       "      <th>American Indian</th>\n",
       "      <td>NaN</td>\n",
       "      <td>NaN</td>\n",
       "      <td>18.0</td>\n",
       "      <td>2.0</td>\n",
       "      <td>2.0</td>\n",
       "    </tr>\n",
       "    <tr>\n",
       "      <th>Asian</th>\n",
       "      <td>2.0</td>\n",
       "      <td>61.0</td>\n",
       "      <td>558.0</td>\n",
       "      <td>236.0</td>\n",
       "      <td>129.0</td>\n",
       "    </tr>\n",
       "    <tr>\n",
       "      <th>Black</th>\n",
       "      <td>4.0</td>\n",
       "      <td>57.0</td>\n",
       "      <td>2843.0</td>\n",
       "      <td>709.0</td>\n",
       "      <td>380.0</td>\n",
       "    </tr>\n",
       "    <tr>\n",
       "      <th>Hispanic</th>\n",
       "      <td>8.0</td>\n",
       "      <td>94.0</td>\n",
       "      <td>4719.0</td>\n",
       "      <td>2215.0</td>\n",
       "      <td>625.0</td>\n",
       "    </tr>\n",
       "    <tr>\n",
       "      <th>White</th>\n",
       "      <td>50.0</td>\n",
       "      <td>316.0</td>\n",
       "      <td>8963.0</td>\n",
       "      <td>3258.0</td>\n",
       "      <td>1646.0</td>\n",
       "    </tr>\n",
       "  </tbody>\n",
       "</table>\n",
       "</div>"
      ],
      "text/plain": [
       "complainant_ethnicity  American Indian  Asian   Black  Hispanic   White\n",
       "mos_ethnicity                                                          \n",
       "American Indian                    NaN    NaN    18.0       2.0     2.0\n",
       "Asian                              2.0   61.0   558.0     236.0   129.0\n",
       "Black                              4.0   57.0  2843.0     709.0   380.0\n",
       "Hispanic                           8.0   94.0  4719.0    2215.0   625.0\n",
       "White                             50.0  316.0  8963.0    3258.0  1646.0"
      ]
     },
     "execution_count": 101,
     "metadata": {},
     "output_type": "execute_result"
    }
   ],
   "source": [
    "cleaned.pivot_table(index = 'mos_ethnicity', columns='complainant_ethnicity', values='did_win_case', aggfunc='count')"
   ]
  },
  {
   "cell_type": "markdown",
   "metadata": {},
   "source": [
    "The above table shows the counts of each racial interaction. There are 8963 black complainants against white officers. Thus, our hypothesis test can be summarized by the fact that if we randomly sample 8963 complainants from a general population of complainants that are against white officers, calculate the percent chance of success, and then compare to our observed statistic, we would either see negligible difference or significant difference."
   ]
  },
  {
   "cell_type": "code",
   "execution_count": 102,
   "metadata": {},
   "outputs": [
    {
     "data": {
      "text/plain": [
       "<matplotlib.lines.Line2D at 0x266aebefc40>"
      ]
     },
     "execution_count": 102,
     "metadata": {},
     "output_type": "execute_result"
    },
    {
     "data": {
      "image/png": "[encoded data removed]",
      "text/plain": [
       "<Figure size 432x288 with 1 Axes>"
      ]
     },
     "metadata": {},
     "output_type": "display_data"
    }
   ],
   "source": [
    "def racial_hypoth(cleaned, N):\n",
    "    obs = ethnicity_pivot_table.loc['White', 'Black']\n",
    "    only_white_officer = cleaned[(cleaned['mos_ethnicity'] == 'White') & (~cleaned['mos_ethnicity'].isna())]['did_win_case']\n",
    "    probabilities = np.random.choice(only_white_officer, size = (N, 8963)).mean(axis = 1)\n",
    "    return probabilities, np.mean(probabilities <= obs), obs\n",
    "probabilities, p_val, obs = racial_hypoth(cleaned, 5000)\n",
    "ax = pd.Series(probabilities).plot(kind = 'hist', bins = 30, ec = 'black', alpha = .5)\n",
    "plt.axvline(obs, color = 'red')"
   ]
  },
  {
   "cell_type": "code",
   "execution_count": 103,
   "metadata": {},
   "outputs": [
    {
     "name": "stdout",
     "output_type": "stream",
     "text": [
      "P-value is: 0.0648\n"
     ]
    }
   ],
   "source": [
    "print(\"P-value is: {}\".format(p_val))"
   ]
  },
  {
   "cell_type": "markdown",
   "metadata": {},
   "source": [
    "Because our p-value is 0.0552, which is greater than our set 0.05 significance level, we fail to reject the null hypothesis that race and chance of winning are not related. However, this doesn't mean that race and chance of winning a complaint aren't completely unrelated!"
   ]
  },
  {
   "cell_type": "markdown",
   "metadata": {},
   "source": [
    "### Gender exploration:\n",
    "Now, let's see if we can find any interesting insights towards how gender might play a role in our data."
   ]
  },
  {
   "cell_type": "markdown",
   "metadata": {},
   "source": [
    "What are the gender proportions for officers? For complainants?"
   ]
  },
  {
   "cell_type": "code",
   "execution_count": 104,
   "metadata": {},
   "outputs": [
    {
     "data": {
      "text/plain": [
       "M    0.947139\n",
       "F    0.052861\n",
       "Name: mos_gender, dtype: float64"
      ]
     },
     "metadata": {},
     "output_type": "display_data"
    },
    {
     "data": {
      "text/plain": [
       "Male                     0.826725\n",
       "Female                   0.172346\n",
       "Transwoman (MTF)         0.000688\n",
       "Transman (FTM)           0.000172\n",
       "Gender non-conforming    0.000069\n",
       "Name: complainant_gender, dtype: float64"
      ]
     },
     "metadata": {},
     "output_type": "display_data"
    }
   ],
   "source": [
    "display(cleaned['mos_gender'].value_counts(normalize = True))\n",
    "display(cleaned['complainant_gender'].value_counts(normalize = True))"
   ]
  },
  {
   "cell_type": "markdown",
   "metadata": {},
   "source": [
    "What are the top reasons why an officer made contact for each complainant gender group? Why the complainant had a complaint in the first place?"
   ]
  },
  {
   "cell_type": "code",
   "execution_count": 105,
   "metadata": {},
   "outputs": [
    {
     "data": {
      "text/html": [
       "<style type=\"text/css\">\n",
       "</style>\n",
       "<table id=\"T_71d1e_\">\n",
       "  <caption>Most common reasons by gender</caption>\n",
       "  <thead>\n",
       "    <tr>\n",
       "      <th class=\"blank level0\" >&nbsp;</th>\n",
       "      <th class=\"col_heading level0 col0\" >fado_type</th>\n",
       "      <th class=\"col_heading level0 col1\" >allegation</th>\n",
       "      <th class=\"col_heading level0 col2\" >contact_reason</th>\n",
       "    </tr>\n",
       "    <tr>\n",
       "      <th class=\"index_name level0\" >complainant_gender</th>\n",
       "      <th class=\"blank col0\" >&nbsp;</th>\n",
       "      <th class=\"blank col1\" >&nbsp;</th>\n",
       "      <th class=\"blank col2\" >&nbsp;</th>\n",
       "    </tr>\n",
       "  </thead>\n",
       "  <tbody>\n",
       "    <tr>\n",
       "      <th id=\"T_71d1e_level0_row0\" class=\"row_heading level0 row0\" >Female</th>\n",
       "      <td id=\"T_71d1e_row0_col0\" class=\"data row0 col0\" >Abuse of Authority</td>\n",
       "      <td id=\"T_71d1e_row0_col1\" class=\"data row0 col1\" >Word</td>\n",
       "      <td id=\"T_71d1e_row0_col2\" class=\"data row0 col2\" >PD suspected C/V of violation/crime - street</td>\n",
       "    </tr>\n",
       "    <tr>\n",
       "      <th id=\"T_71d1e_level0_row1\" class=\"row_heading level0 row1\" >Gender non-conforming</th>\n",
       "      <td id=\"T_71d1e_row1_col0\" class=\"data row1 col0\" >Abuse of Authority</td>\n",
       "      <td id=\"T_71d1e_row1_col1\" class=\"data row1 col1\" >Interference with recording</td>\n",
       "      <td id=\"T_71d1e_row1_col2\" class=\"data row1 col2\" >C/V at PCT to file complaint of crime</td>\n",
       "    </tr>\n",
       "    <tr>\n",
       "      <th id=\"T_71d1e_level0_row2\" class=\"row_heading level0 row2\" >Male</th>\n",
       "      <td id=\"T_71d1e_row2_col0\" class=\"data row2 col0\" >Abuse of Authority</td>\n",
       "      <td id=\"T_71d1e_row2_col1\" class=\"data row2 col1\" >Physical force</td>\n",
       "      <td id=\"T_71d1e_row2_col2\" class=\"data row2 col2\" >PD suspected C/V of violation/crime - street</td>\n",
       "    </tr>\n",
       "    <tr>\n",
       "      <th id=\"T_71d1e_level0_row3\" class=\"row_heading level0 row3\" >Transman (FTM)</th>\n",
       "      <td id=\"T_71d1e_row3_col0\" class=\"data row3 col0\" >Discourtesy</td>\n",
       "      <td id=\"T_71d1e_row3_col1\" class=\"data row3 col1\" >Word</td>\n",
       "      <td id=\"T_71d1e_row3_col2\" class=\"data row3 col2\" >Report-dispute</td>\n",
       "    </tr>\n",
       "    <tr>\n",
       "      <th id=\"T_71d1e_level0_row4\" class=\"row_heading level0 row4\" >Transwoman (MTF)</th>\n",
       "      <td id=\"T_71d1e_row4_col0\" class=\"data row4 col0\" >Abuse of Authority</td>\n",
       "      <td id=\"T_71d1e_row4_col1\" class=\"data row4 col1\" >Gender</td>\n",
       "      <td id=\"T_71d1e_row4_col2\" class=\"data row4 col2\" >PD suspected C/V of violation/crime - street</td>\n",
       "    </tr>\n",
       "  </tbody>\n",
       "</table>\n"
      ],
      "text/plain": [
       "<pandas.io.formats.style.Styler at 0x266b1604f40>"
      ]
     },
     "execution_count": 105,
     "metadata": {},
     "output_type": "execute_result"
    }
   ],
   "source": [
    "most_common_reasons_by_gender = cleaned.groupby(\"complainant_gender\").agg(lambda series: series.value_counts().index[0])[['fado_type', 'allegation', 'contact_reason']]\n",
    "most_common_reasons_by_gender.style.set_caption(\"Most common reasons by gender\")"
   ]
  },
  {
   "cell_type": "markdown",
   "metadata": {},
   "source": [
    "What are the general win percentages for each gender? What about the general duration it took for these cases?"
   ]
  },
  {
   "cell_type": "code",
   "execution_count": 106,
   "metadata": {},
   "outputs": [
    {
     "data": {
      "text/html": [
       "<div>\n",
       "<style scoped>\n",
       "    .dataframe tbody tr th:only-of-type {\n",
       "        vertical-align: middle;\n",
       "    }\n",
       "\n",
       "    .dataframe tbody tr th {\n",
       "        vertical-align: top;\n",
       "    }\n",
       "\n",
       "    .dataframe thead th {\n",
       "        text-align: right;\n",
       "    }\n",
       "</style>\n",
       "<table border=\"1\" class=\"dataframe\">\n",
       "  <thead>\n",
       "    <tr style=\"text-align: right;\">\n",
       "      <th></th>\n",
       "      <th>did_win_case</th>\n",
       "      <th>days_taken</th>\n",
       "    </tr>\n",
       "    <tr>\n",
       "      <th>complainant_gender</th>\n",
       "      <th></th>\n",
       "      <th></th>\n",
       "    </tr>\n",
       "  </thead>\n",
       "  <tbody>\n",
       "    <tr>\n",
       "      <th>Female</th>\n",
       "      <td>0.205507</td>\n",
       "      <td>298.896648</td>\n",
       "    </tr>\n",
       "    <tr>\n",
       "      <th>Gender non-conforming</th>\n",
       "      <td>1.000000</td>\n",
       "      <td>304.000000</td>\n",
       "    </tr>\n",
       "    <tr>\n",
       "      <th>Male</th>\n",
       "      <td>0.255719</td>\n",
       "      <td>314.194951</td>\n",
       "    </tr>\n",
       "    <tr>\n",
       "      <th>Transman (FTM)</th>\n",
       "      <td>0.400000</td>\n",
       "      <td>274.000000</td>\n",
       "    </tr>\n",
       "    <tr>\n",
       "      <th>Transwoman (MTF)</th>\n",
       "      <td>0.550000</td>\n",
       "      <td>264.800000</td>\n",
       "    </tr>\n",
       "  </tbody>\n",
       "</table>\n",
       "</div>"
      ],
      "text/plain": [
       "                       did_win_case  days_taken\n",
       "complainant_gender                             \n",
       "Female                     0.205507  298.896648\n",
       "Gender non-conforming      1.000000  304.000000\n",
       "Male                       0.255719  314.194951\n",
       "Transman (FTM)             0.400000  274.000000\n",
       "Transwoman (MTF)           0.550000  264.800000"
      ]
     },
     "execution_count": 106,
     "metadata": {},
     "output_type": "execute_result"
    }
   ],
   "source": [
    "pd.concat([cleaned.groupby(\"complainant_gender\")[['did_win_case']].mean(), cleaned.groupby(\"complainant_gender\")[['days_taken']].mean()], axis= 1)"
   ]
  },
  {
   "cell_type": "markdown",
   "metadata": {},
   "source": [
    "Do females have a higher complaint success rate than men for the same allegations? Let's use fado_type, which is a generalization of the allegation column and thus has less unique values."
   ]
  },
  {
   "cell_type": "code",
   "execution_count": 121,
   "metadata": {},
   "outputs": [
    {
     "data": {
      "image/png": "[encoded data removed]",
      "text/plain": [
       "<Figure size 432x288 with 1 Axes>"
      ]
     },
     "metadata": {},
     "output_type": "display_data"
    }
   ],
   "source": [
    "gender_and_allegation_table = cleaned.pivot_table(index = 'complainant_gender', columns = 'fado_type', values='did_win_case', aggfunc=\"mean\", fill_value=0)\n",
    "gender_and_allegation_table.loc[['Female', 'Male'], :].T.plot(kind = 'bar')\n",
    "x = plt.xticks(rotation = 'horizontal')"
   ]
  },
  {
   "cell_type": "markdown",
   "metadata": {},
   "source": [
    "Interesting! It seems that, across all types of complaints, women lose a disproportionate amount of their cases than men do. Because we are comparing the categorical distribution of win percentage for females against the categorical distribution of win percentage for males, let's formulate a permutation test:\n",
    "- Null hypothesis: the distribution of percent chance of winning a complaint for men is the same as that for females.\n",
    "- Alternative hypothesis: the distribution of percent chance of winning a complaint as a female is less than that for men.\n",
    "- Test statistic: sum of proportion differences between female and men \n",
    "- Significance level: 0.05"
   ]
  },
  {
   "cell_type": "markdown",
   "metadata": {},
   "source": [
    "LEARN HOW MELTING WORKS"
   ]
  },
  {
   "cell_type": "markdown",
   "metadata": {},
   "source": []
  }
 ],
 "metadata": {
  "kernelspec": {
   "display_name": "Python 3.8.13 ('dsc80')",
   "language": "python",
   "name": "python3"
  },
  "language_info": {
   "codemirror_mode": {
    "name": "ipython",
    "version": 3
   },
   "file_extension": ".py",
   "mimetype": "text/x-python",
   "name": "python",
   "nbconvert_exporter": "python",
   "pygments_lexer": "ipython3",
   "version": "3.8.13"
  },
  "orig_nbformat": 4,
  "vscode": {
   "interpreter": {
    "hash": "0e422166b5adcc923e002e608330e119deee9feb3a15aa7a24bd1b92d5f8f5bb"
   }
  }
 },
 "nbformat": 4,
 "nbformat_minor": 2
}
