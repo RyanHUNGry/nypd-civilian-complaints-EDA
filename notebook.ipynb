{
 "cells": [
  {
   "cell_type": "markdown",
   "metadata": {},
   "source": [
    "## NYPD Civilian Complaints EDA:\n",
    "**Author**: Ryan Hung\n",
    "\n",
    "**Started**: 7/26/2022\n",
    "\n",
    "**Completed**: TBD\n",
    "\n",
    "**Data introduction**: After New York state repealed the statute that kept police disciplinary records secret, known as 50-a, ProPublica filed a records request with New York City’s Civilian Complaint Review Board, which investigates complaints by the public about NYPD officers. The board provided us with records about closed cases for every police officer still on the force as of late June 2020 who had at least one substantiated allegation against them. The records span decades, from September 1985 to January 2020.\n",
    "\n",
    "**Data source**: https://www.propublica.org/datastore/dataset/civilian-complaints-against-new-york-city-police-officers\n",
    "\n",
    "**Analysis Objective**: Clean and wrangle dataset so that insights related to race can be extracted; pave the way for a machine learning model deployment to predict case outcome."
   ]
  },
  {
   "cell_type": "markdown",
   "metadata": {},
   "source": [
    "## Notebook breakdown:\n",
    "1. [Loading in data](#loading-in-our-data)\n",
    "2. [Data cleaning](#data-cleaning)\n",
    "3. [EDA](#eda)\n",
    "3. Age permutation testing\n",
    "4. Racial hypothesis testing"
   ]
  },
  {
   "cell_type": "markdown",
   "metadata": {},
   "source": [
    "### Loading in our data:\n",
    "Before we begin, let's load in our libraries, options, and data."
   ]
  },
  {
   "cell_type": "code",
   "execution_count": 401,
   "metadata": {},
   "outputs": [],
   "source": [
    "import pandas as pd\n",
    "import numpy as np\n",
    "import seaborn as sns\n",
    "import matplotlib\n",
    "import matplotlib.pyplot as plt\n",
    "from sklearn.preprocessing import StandardScaler\n",
    "sns.set_theme(style = 'darkgrid', palette='Blues_d')\n",
    "pd.set_option('display.max_columns', None)"
   ]
  },
  {
   "cell_type": "code",
   "execution_count": 41,
   "metadata": {},
   "outputs": [
    {
     "data": {
      "text/plain": [
       "['Layout', 'Rank Abbrevs', 'Command Abbrevs', 'FADO', 'Dispositions']"
      ]
     },
     "execution_count": 41,
     "metadata": {},
     "output_type": "execute_result"
    }
   ],
   "source": [
    "complaints_path = 'data/allegations_202007271729.csv'\n",
    "layout_path = 'data/CCRB Data Layout Table.xlsx'\n",
    "excelList = pd.ExcelFile(layout_path).sheet_names # Excel file is separated into multiple sheets\n",
    "excelList"
   ]
  },
  {
   "cell_type": "code",
   "execution_count": 42,
   "metadata": {},
   "outputs": [
    {
     "data": {
      "text/html": [
       "<div>\n",
       "<style scoped>\n",
       "    .dataframe tbody tr th:only-of-type {\n",
       "        vertical-align: middle;\n",
       "    }\n",
       "\n",
       "    .dataframe tbody tr th {\n",
       "        vertical-align: top;\n",
       "    }\n",
       "\n",
       "    .dataframe thead th {\n",
       "        text-align: right;\n",
       "    }\n",
       "</style>\n",
       "<table border=\"1\" class=\"dataframe\">\n",
       "  <thead>\n",
       "    <tr style=\"text-align: right;\">\n",
       "      <th></th>\n",
       "      <th>unique_mos_id</th>\n",
       "      <th>first_name</th>\n",
       "      <th>last_name</th>\n",
       "      <th>command_now</th>\n",
       "      <th>shield_no</th>\n",
       "      <th>complaint_id</th>\n",
       "      <th>month_received</th>\n",
       "      <th>year_received</th>\n",
       "      <th>month_closed</th>\n",
       "      <th>year_closed</th>\n",
       "      <th>command_at_incident</th>\n",
       "      <th>rank_abbrev_incident</th>\n",
       "      <th>rank_abbrev_now</th>\n",
       "      <th>rank_now</th>\n",
       "      <th>rank_incident</th>\n",
       "      <th>mos_ethnicity</th>\n",
       "      <th>mos_gender</th>\n",
       "      <th>mos_age_incident</th>\n",
       "      <th>complainant_ethnicity</th>\n",
       "      <th>complainant_gender</th>\n",
       "      <th>complainant_age_incident</th>\n",
       "      <th>fado_type</th>\n",
       "      <th>allegation</th>\n",
       "      <th>precinct</th>\n",
       "      <th>contact_reason</th>\n",
       "      <th>outcome_description</th>\n",
       "      <th>board_disposition</th>\n",
       "    </tr>\n",
       "  </thead>\n",
       "  <tbody>\n",
       "    <tr>\n",
       "      <th>0</th>\n",
       "      <td>10004</td>\n",
       "      <td>Jonathan</td>\n",
       "      <td>Ruiz</td>\n",
       "      <td>078 PCT</td>\n",
       "      <td>8409</td>\n",
       "      <td>42835</td>\n",
       "      <td>7</td>\n",
       "      <td>2019</td>\n",
       "      <td>5</td>\n",
       "      <td>2020</td>\n",
       "      <td>078 PCT</td>\n",
       "      <td>POM</td>\n",
       "      <td>POM</td>\n",
       "      <td>Police Officer</td>\n",
       "      <td>Police Officer</td>\n",
       "      <td>Hispanic</td>\n",
       "      <td>M</td>\n",
       "      <td>32</td>\n",
       "      <td>Black</td>\n",
       "      <td>Female</td>\n",
       "      <td>38.0</td>\n",
       "      <td>Abuse of Authority</td>\n",
       "      <td>Failure to provide RTKA card</td>\n",
       "      <td>78.0</td>\n",
       "      <td>Report-domestic dispute</td>\n",
       "      <td>No arrest made or summons issued</td>\n",
       "      <td>Substantiated (Command Lvl Instructions)</td>\n",
       "    </tr>\n",
       "    <tr>\n",
       "      <th>1</th>\n",
       "      <td>10007</td>\n",
       "      <td>John</td>\n",
       "      <td>Sears</td>\n",
       "      <td>078 PCT</td>\n",
       "      <td>5952</td>\n",
       "      <td>24601</td>\n",
       "      <td>11</td>\n",
       "      <td>2011</td>\n",
       "      <td>8</td>\n",
       "      <td>2012</td>\n",
       "      <td>PBBS</td>\n",
       "      <td>POM</td>\n",
       "      <td>POM</td>\n",
       "      <td>Police Officer</td>\n",
       "      <td>Police Officer</td>\n",
       "      <td>White</td>\n",
       "      <td>M</td>\n",
       "      <td>24</td>\n",
       "      <td>Black</td>\n",
       "      <td>Male</td>\n",
       "      <td>26.0</td>\n",
       "      <td>Discourtesy</td>\n",
       "      <td>Action</td>\n",
       "      <td>67.0</td>\n",
       "      <td>Moving violation</td>\n",
       "      <td>Moving violation summons issued</td>\n",
       "      <td>Substantiated (Charges)</td>\n",
       "    </tr>\n",
       "    <tr>\n",
       "      <th>2</th>\n",
       "      <td>10007</td>\n",
       "      <td>John</td>\n",
       "      <td>Sears</td>\n",
       "      <td>078 PCT</td>\n",
       "      <td>5952</td>\n",
       "      <td>24601</td>\n",
       "      <td>11</td>\n",
       "      <td>2011</td>\n",
       "      <td>8</td>\n",
       "      <td>2012</td>\n",
       "      <td>PBBS</td>\n",
       "      <td>POM</td>\n",
       "      <td>POM</td>\n",
       "      <td>Police Officer</td>\n",
       "      <td>Police Officer</td>\n",
       "      <td>White</td>\n",
       "      <td>M</td>\n",
       "      <td>24</td>\n",
       "      <td>Black</td>\n",
       "      <td>Male</td>\n",
       "      <td>26.0</td>\n",
       "      <td>Offensive Language</td>\n",
       "      <td>Race</td>\n",
       "      <td>67.0</td>\n",
       "      <td>Moving violation</td>\n",
       "      <td>Moving violation summons issued</td>\n",
       "      <td>Substantiated (Charges)</td>\n",
       "    </tr>\n",
       "    <tr>\n",
       "      <th>3</th>\n",
       "      <td>10007</td>\n",
       "      <td>John</td>\n",
       "      <td>Sears</td>\n",
       "      <td>078 PCT</td>\n",
       "      <td>5952</td>\n",
       "      <td>26146</td>\n",
       "      <td>7</td>\n",
       "      <td>2012</td>\n",
       "      <td>9</td>\n",
       "      <td>2013</td>\n",
       "      <td>PBBS</td>\n",
       "      <td>POM</td>\n",
       "      <td>POM</td>\n",
       "      <td>Police Officer</td>\n",
       "      <td>Police Officer</td>\n",
       "      <td>White</td>\n",
       "      <td>M</td>\n",
       "      <td>25</td>\n",
       "      <td>Black</td>\n",
       "      <td>Male</td>\n",
       "      <td>45.0</td>\n",
       "      <td>Abuse of Authority</td>\n",
       "      <td>Question</td>\n",
       "      <td>67.0</td>\n",
       "      <td>PD suspected C/V of violation/crime - street</td>\n",
       "      <td>No arrest made or summons issued</td>\n",
       "      <td>Substantiated (Charges)</td>\n",
       "    </tr>\n",
       "    <tr>\n",
       "      <th>4</th>\n",
       "      <td>10009</td>\n",
       "      <td>Noemi</td>\n",
       "      <td>Sierra</td>\n",
       "      <td>078 PCT</td>\n",
       "      <td>24058</td>\n",
       "      <td>40253</td>\n",
       "      <td>8</td>\n",
       "      <td>2018</td>\n",
       "      <td>2</td>\n",
       "      <td>2019</td>\n",
       "      <td>078 PCT</td>\n",
       "      <td>POF</td>\n",
       "      <td>POF</td>\n",
       "      <td>Police Officer</td>\n",
       "      <td>Police Officer</td>\n",
       "      <td>Hispanic</td>\n",
       "      <td>F</td>\n",
       "      <td>39</td>\n",
       "      <td>NaN</td>\n",
       "      <td>NaN</td>\n",
       "      <td>16.0</td>\n",
       "      <td>Force</td>\n",
       "      <td>Physical force</td>\n",
       "      <td>67.0</td>\n",
       "      <td>Report-dispute</td>\n",
       "      <td>Arrest - other violation/crime</td>\n",
       "      <td>Substantiated (Command Discipline A)</td>\n",
       "    </tr>\n",
       "  </tbody>\n",
       "</table>\n",
       "</div>"
      ],
      "text/plain": [
       "   unique_mos_id first_name last_name command_now  shield_no  complaint_id  \\\n",
       "0          10004   Jonathan      Ruiz     078 PCT       8409         42835   \n",
       "1          10007       John     Sears     078 PCT       5952         24601   \n",
       "2          10007       John     Sears     078 PCT       5952         24601   \n",
       "3          10007       John     Sears     078 PCT       5952         26146   \n",
       "4          10009      Noemi    Sierra     078 PCT      24058         40253   \n",
       "\n",
       "   month_received  year_received  month_closed  year_closed  \\\n",
       "0               7           2019             5         2020   \n",
       "1              11           2011             8         2012   \n",
       "2              11           2011             8         2012   \n",
       "3               7           2012             9         2013   \n",
       "4               8           2018             2         2019   \n",
       "\n",
       "  command_at_incident rank_abbrev_incident rank_abbrev_now        rank_now  \\\n",
       "0             078 PCT                  POM             POM  Police Officer   \n",
       "1                PBBS                  POM             POM  Police Officer   \n",
       "2                PBBS                  POM             POM  Police Officer   \n",
       "3                PBBS                  POM             POM  Police Officer   \n",
       "4             078 PCT                  POF             POF  Police Officer   \n",
       "\n",
       "    rank_incident mos_ethnicity mos_gender  mos_age_incident  \\\n",
       "0  Police Officer      Hispanic          M                32   \n",
       "1  Police Officer         White          M                24   \n",
       "2  Police Officer         White          M                24   \n",
       "3  Police Officer         White          M                25   \n",
       "4  Police Officer      Hispanic          F                39   \n",
       "\n",
       "  complainant_ethnicity complainant_gender  complainant_age_incident  \\\n",
       "0                 Black             Female                      38.0   \n",
       "1                 Black               Male                      26.0   \n",
       "2                 Black               Male                      26.0   \n",
       "3                 Black               Male                      45.0   \n",
       "4                   NaN                NaN                      16.0   \n",
       "\n",
       "            fado_type                    allegation  precinct  \\\n",
       "0  Abuse of Authority  Failure to provide RTKA card      78.0   \n",
       "1         Discourtesy                        Action      67.0   \n",
       "2  Offensive Language                          Race      67.0   \n",
       "3  Abuse of Authority                      Question      67.0   \n",
       "4               Force                Physical force      67.0   \n",
       "\n",
       "                                 contact_reason  \\\n",
       "0                       Report-domestic dispute   \n",
       "1                              Moving violation   \n",
       "2                              Moving violation   \n",
       "3  PD suspected C/V of violation/crime - street   \n",
       "4                                Report-dispute   \n",
       "\n",
       "                outcome_description                         board_disposition  \n",
       "0  No arrest made or summons issued  Substantiated (Command Lvl Instructions)  \n",
       "1   Moving violation summons issued                   Substantiated (Charges)  \n",
       "2   Moving violation summons issued                   Substantiated (Charges)  \n",
       "3  No arrest made or summons issued                   Substantiated (Charges)  \n",
       "4    Arrest - other violation/crime      Substantiated (Command Discipline A)  "
      ]
     },
     "execution_count": 42,
     "metadata": {},
     "output_type": "execute_result"
    }
   ],
   "source": [
    "layout = pd.read_excel(layout_path)\n",
    "police_abbrev = pd.read_excel(layout_path, sheet_name=excelList[1]) # Details the full rank behind police abbreviations\n",
    "dispositions = pd.read_excel(layout_path, sheet_name=excelList[4]) # Describes the meaning behind final verdict\n",
    "complaints = pd.read_csv(complaints_path) # Dataframe of complaints\n",
    "complaints.head()"
   ]
  },
  {
   "cell_type": "markdown",
   "metadata": {},
   "source": [
    "The dataset comes with a handy dictionary of column names and their descriptions."
   ]
  },
  {
   "cell_type": "code",
   "execution_count": 43,
   "metadata": {},
   "outputs": [
    {
     "data": {
      "text/html": [
       "<div>\n",
       "<style scoped>\n",
       "    .dataframe tbody tr th:only-of-type {\n",
       "        vertical-align: middle;\n",
       "    }\n",
       "\n",
       "    .dataframe tbody tr th {\n",
       "        vertical-align: top;\n",
       "    }\n",
       "\n",
       "    .dataframe thead th {\n",
       "        text-align: right;\n",
       "    }\n",
       "</style>\n",
       "<table border=\"1\" class=\"dataframe\">\n",
       "  <thead>\n",
       "    <tr style=\"text-align: right;\">\n",
       "      <th></th>\n",
       "      <th>field name</th>\n",
       "      <th>description</th>\n",
       "    </tr>\n",
       "  </thead>\n",
       "  <tbody>\n",
       "    <tr>\n",
       "      <th>0</th>\n",
       "      <td>unique_mos_id</td>\n",
       "      <td>unique ID of the officer (\"member of service\")</td>\n",
       "    </tr>\n",
       "    <tr>\n",
       "      <th>1</th>\n",
       "      <td>first_name</td>\n",
       "      <td>Officer's first name</td>\n",
       "    </tr>\n",
       "    <tr>\n",
       "      <th>2</th>\n",
       "      <td>last_name</td>\n",
       "      <td>Officer's last name</td>\n",
       "    </tr>\n",
       "    <tr>\n",
       "      <th>3</th>\n",
       "      <td>command_now</td>\n",
       "      <td>Officer's command assignment as of July 2020</td>\n",
       "    </tr>\n",
       "    <tr>\n",
       "      <th>4</th>\n",
       "      <td>complaint_id</td>\n",
       "      <td>Unique ID of the complaint</td>\n",
       "    </tr>\n",
       "    <tr>\n",
       "      <th>5</th>\n",
       "      <td>month_received</td>\n",
       "      <td>Month the complaint was received by CCRB</td>\n",
       "    </tr>\n",
       "    <tr>\n",
       "      <th>6</th>\n",
       "      <td>year_received</td>\n",
       "      <td>Year the complaint was received by CCRB</td>\n",
       "    </tr>\n",
       "    <tr>\n",
       "      <th>7</th>\n",
       "      <td>month_closed</td>\n",
       "      <td>Month the complaint investigation was closed b...</td>\n",
       "    </tr>\n",
       "    <tr>\n",
       "      <th>8</th>\n",
       "      <td>year_closed</td>\n",
       "      <td>Year the complaint investigation was closed by...</td>\n",
       "    </tr>\n",
       "    <tr>\n",
       "      <th>9</th>\n",
       "      <td>command_at_incident</td>\n",
       "      <td>Officer's command assignment at the time of th...</td>\n",
       "    </tr>\n",
       "    <tr>\n",
       "      <th>10</th>\n",
       "      <td>rank_abbrev_incident</td>\n",
       "      <td>Officer's rank at the time of the incident, ab...</td>\n",
       "    </tr>\n",
       "    <tr>\n",
       "      <th>11</th>\n",
       "      <td>rank_abbrev_now</td>\n",
       "      <td>Officer's rank as of July 2020, abbreviation</td>\n",
       "    </tr>\n",
       "    <tr>\n",
       "      <th>12</th>\n",
       "      <td>rank_now</td>\n",
       "      <td>Officer's rank as of July 2020</td>\n",
       "    </tr>\n",
       "    <tr>\n",
       "      <th>13</th>\n",
       "      <td>rank_incident</td>\n",
       "      <td>Officer's rank at the time of the incident</td>\n",
       "    </tr>\n",
       "    <tr>\n",
       "      <th>14</th>\n",
       "      <td>mos_ethnicity</td>\n",
       "      <td>Officer's ethnicity</td>\n",
       "    </tr>\n",
       "    <tr>\n",
       "      <th>15</th>\n",
       "      <td>mos_gender</td>\n",
       "      <td>Officer's gender</td>\n",
       "    </tr>\n",
       "    <tr>\n",
       "      <th>16</th>\n",
       "      <td>mos_age_incident</td>\n",
       "      <td>Officer's age at time of incident</td>\n",
       "    </tr>\n",
       "    <tr>\n",
       "      <th>17</th>\n",
       "      <td>complainant_ethnicity</td>\n",
       "      <td>Complainant's ethnicity</td>\n",
       "    </tr>\n",
       "    <tr>\n",
       "      <th>18</th>\n",
       "      <td>complainant_gender</td>\n",
       "      <td>Complainant's gender</td>\n",
       "    </tr>\n",
       "    <tr>\n",
       "      <th>19</th>\n",
       "      <td>complainant_age_incident</td>\n",
       "      <td>Complainant's age at time of incident</td>\n",
       "    </tr>\n",
       "    <tr>\n",
       "      <th>20</th>\n",
       "      <td>fado_type</td>\n",
       "      <td>Top-level category of complaint</td>\n",
       "    </tr>\n",
       "    <tr>\n",
       "      <th>21</th>\n",
       "      <td>allegation</td>\n",
       "      <td>Specific category of complaint</td>\n",
       "    </tr>\n",
       "    <tr>\n",
       "      <th>22</th>\n",
       "      <td>precinct</td>\n",
       "      <td>Precinct associated with the complaint</td>\n",
       "    </tr>\n",
       "    <tr>\n",
       "      <th>23</th>\n",
       "      <td>contact_reason</td>\n",
       "      <td>Reason officer made contact with complainant</td>\n",
       "    </tr>\n",
       "    <tr>\n",
       "      <th>24</th>\n",
       "      <td>outcome_description</td>\n",
       "      <td>Outcome of the contact between office and comp...</td>\n",
       "    </tr>\n",
       "    <tr>\n",
       "      <th>25</th>\n",
       "      <td>board_disposition</td>\n",
       "      <td>Finding by the CCRB</td>\n",
       "    </tr>\n",
       "  </tbody>\n",
       "</table>\n",
       "</div>"
      ],
      "text/plain": [
       "                  field name  \\\n",
       "0              unique_mos_id   \n",
       "1                 first_name   \n",
       "2                  last_name   \n",
       "3                command_now   \n",
       "4               complaint_id   \n",
       "5             month_received   \n",
       "6              year_received   \n",
       "7               month_closed   \n",
       "8                year_closed   \n",
       "9        command_at_incident   \n",
       "10      rank_abbrev_incident   \n",
       "11           rank_abbrev_now   \n",
       "12                  rank_now   \n",
       "13             rank_incident   \n",
       "14             mos_ethnicity   \n",
       "15                mos_gender   \n",
       "16          mos_age_incident   \n",
       "17     complainant_ethnicity   \n",
       "18        complainant_gender   \n",
       "19  complainant_age_incident   \n",
       "20                 fado_type   \n",
       "21                allegation   \n",
       "22                  precinct   \n",
       "23            contact_reason   \n",
       "24       outcome_description   \n",
       "25         board_disposition   \n",
       "\n",
       "                                          description  \n",
       "0     unique ID of the officer (\"member of service\")   \n",
       "1                                Officer's first name  \n",
       "2                                 Officer's last name  \n",
       "3        Officer's command assignment as of July 2020  \n",
       "4                          Unique ID of the complaint  \n",
       "5            Month the complaint was received by CCRB  \n",
       "6             Year the complaint was received by CCRB  \n",
       "7   Month the complaint investigation was closed b...  \n",
       "8   Year the complaint investigation was closed by...  \n",
       "9   Officer's command assignment at the time of th...  \n",
       "10  Officer's rank at the time of the incident, ab...  \n",
       "11       Officer's rank as of July 2020, abbreviation  \n",
       "12                     Officer's rank as of July 2020  \n",
       "13         Officer's rank at the time of the incident  \n",
       "14                                Officer's ethnicity  \n",
       "15                                   Officer's gender  \n",
       "16                  Officer's age at time of incident  \n",
       "17                            Complainant's ethnicity  \n",
       "18                               Complainant's gender  \n",
       "19              Complainant's age at time of incident  \n",
       "20                    Top-level category of complaint  \n",
       "21                     Specific category of complaint  \n",
       "22             Precinct associated with the complaint  \n",
       "23       Reason officer made contact with complainant  \n",
       "24  Outcome of the contact between office and comp...  \n",
       "25                                Finding by the CCRB  "
      ]
     },
     "execution_count": 43,
     "metadata": {},
     "output_type": "execute_result"
    }
   ],
   "source": [
    "layout.drop(columns = \"glossary\") "
   ]
  },
  {
   "cell_type": "markdown",
   "metadata": {},
   "source": [
    "### Data cleaning:"
   ]
  },
  {
   "cell_type": "code",
   "execution_count": 44,
   "metadata": {},
   "outputs": [
    {
     "name": "stdout",
     "output_type": "stream",
     "text": [
      "<class 'pandas.core.frame.DataFrame'>\n",
      "RangeIndex: 33358 entries, 0 to 33357\n",
      "Data columns (total 27 columns):\n",
      " #   Column                    Non-Null Count  Dtype  \n",
      "---  ------                    --------------  -----  \n",
      " 0   unique_mos_id             33358 non-null  int64  \n",
      " 1   first_name                33358 non-null  object \n",
      " 2   last_name                 33358 non-null  object \n",
      " 3   command_now               33358 non-null  object \n",
      " 4   shield_no                 33358 non-null  int64  \n",
      " 5   complaint_id              33358 non-null  int64  \n",
      " 6   month_received            33358 non-null  int64  \n",
      " 7   year_received             33358 non-null  int64  \n",
      " 8   month_closed              33358 non-null  int64  \n",
      " 9   year_closed               33358 non-null  int64  \n",
      " 10  command_at_incident       31814 non-null  object \n",
      " 11  rank_abbrev_incident      33358 non-null  object \n",
      " 12  rank_abbrev_now           33358 non-null  object \n",
      " 13  rank_now                  33358 non-null  object \n",
      " 14  rank_incident             33358 non-null  object \n",
      " 15  mos_ethnicity             33358 non-null  object \n",
      " 16  mos_gender                33358 non-null  object \n",
      " 17  mos_age_incident          33358 non-null  int64  \n",
      " 18  complainant_ethnicity     28894 non-null  object \n",
      " 19  complainant_gender        29163 non-null  object \n",
      " 20  complainant_age_incident  28546 non-null  float64\n",
      " 21  fado_type                 33358 non-null  object \n",
      " 22  allegation                33357 non-null  object \n",
      " 23  precinct                  33334 non-null  float64\n",
      " 24  contact_reason            33159 non-null  object \n",
      " 25  outcome_description       33302 non-null  object \n",
      " 26  board_disposition         33358 non-null  object \n",
      "dtypes: float64(2), int64(8), object(17)\n",
      "memory usage: 6.9+ MB\n"
     ]
    }
   ],
   "source": [
    "complaints.info()"
   ]
  },
  {
   "cell_type": "markdown",
   "metadata": {},
   "source": [
    "It seems that the date fields `month_received`, `year_received`, `month_closed`, and `year_closed` can be converted into datetime objects."
   ]
  },
  {
   "cell_type": "code",
   "execution_count": 45,
   "metadata": {},
   "outputs": [
    {
     "data": {
      "text/html": [
       "<div>\n",
       "<style scoped>\n",
       "    .dataframe tbody tr th:only-of-type {\n",
       "        vertical-align: middle;\n",
       "    }\n",
       "\n",
       "    .dataframe tbody tr th {\n",
       "        vertical-align: top;\n",
       "    }\n",
       "\n",
       "    .dataframe thead th {\n",
       "        text-align: right;\n",
       "    }\n",
       "</style>\n",
       "<table border=\"1\" class=\"dataframe\">\n",
       "  <thead>\n",
       "    <tr style=\"text-align: right;\">\n",
       "      <th></th>\n",
       "      <th>month_received</th>\n",
       "      <th>year_received</th>\n",
       "      <th>month_closed</th>\n",
       "      <th>year_closed</th>\n",
       "    </tr>\n",
       "  </thead>\n",
       "  <tbody>\n",
       "    <tr>\n",
       "      <th>0</th>\n",
       "      <td>7</td>\n",
       "      <td>2019</td>\n",
       "      <td>5</td>\n",
       "      <td>2020</td>\n",
       "    </tr>\n",
       "    <tr>\n",
       "      <th>1</th>\n",
       "      <td>11</td>\n",
       "      <td>2011</td>\n",
       "      <td>8</td>\n",
       "      <td>2012</td>\n",
       "    </tr>\n",
       "    <tr>\n",
       "      <th>2</th>\n",
       "      <td>11</td>\n",
       "      <td>2011</td>\n",
       "      <td>8</td>\n",
       "      <td>2012</td>\n",
       "    </tr>\n",
       "    <tr>\n",
       "      <th>3</th>\n",
       "      <td>7</td>\n",
       "      <td>2012</td>\n",
       "      <td>9</td>\n",
       "      <td>2013</td>\n",
       "    </tr>\n",
       "    <tr>\n",
       "      <th>4</th>\n",
       "      <td>8</td>\n",
       "      <td>2018</td>\n",
       "      <td>2</td>\n",
       "      <td>2019</td>\n",
       "    </tr>\n",
       "  </tbody>\n",
       "</table>\n",
       "</div>"
      ],
      "text/plain": [
       "   month_received  year_received  month_closed  year_closed\n",
       "0               7           2019             5         2020\n",
       "1              11           2011             8         2012\n",
       "2              11           2011             8         2012\n",
       "3               7           2012             9         2013\n",
       "4               8           2018             2         2019"
      ]
     },
     "execution_count": 45,
     "metadata": {},
     "output_type": "execute_result"
    }
   ],
   "source": [
    "complaint_times = complaints[['month_received', 'year_received', 'month_closed', 'year_closed']]\n",
    "complaint_times.head()"
   ]
  },
  {
   "cell_type": "code",
   "execution_count": 46,
   "metadata": {},
   "outputs": [
    {
     "data": {
      "text/html": [
       "<div>\n",
       "<style scoped>\n",
       "    .dataframe tbody tr th:only-of-type {\n",
       "        vertical-align: middle;\n",
       "    }\n",
       "\n",
       "    .dataframe tbody tr th {\n",
       "        vertical-align: top;\n",
       "    }\n",
       "\n",
       "    .dataframe thead th {\n",
       "        text-align: right;\n",
       "    }\n",
       "</style>\n",
       "<table border=\"1\" class=\"dataframe\">\n",
       "  <thead>\n",
       "    <tr style=\"text-align: right;\">\n",
       "      <th></th>\n",
       "      <th>date_received</th>\n",
       "      <th>date_closed</th>\n",
       "    </tr>\n",
       "  </thead>\n",
       "  <tbody>\n",
       "    <tr>\n",
       "      <th>0</th>\n",
       "      <td>2019-07-01</td>\n",
       "      <td>2020-05-01</td>\n",
       "    </tr>\n",
       "    <tr>\n",
       "      <th>1</th>\n",
       "      <td>2011-11-01</td>\n",
       "      <td>2012-08-01</td>\n",
       "    </tr>\n",
       "    <tr>\n",
       "      <th>2</th>\n",
       "      <td>2011-11-01</td>\n",
       "      <td>2012-08-01</td>\n",
       "    </tr>\n",
       "    <tr>\n",
       "      <th>3</th>\n",
       "      <td>2012-07-01</td>\n",
       "      <td>2013-09-01</td>\n",
       "    </tr>\n",
       "    <tr>\n",
       "      <th>4</th>\n",
       "      <td>2018-08-01</td>\n",
       "      <td>2019-02-01</td>\n",
       "    </tr>\n",
       "  </tbody>\n",
       "</table>\n",
       "</div>"
      ],
      "text/plain": [
       "  date_received date_closed\n",
       "0    2019-07-01  2020-05-01\n",
       "1    2011-11-01  2012-08-01\n",
       "2    2011-11-01  2012-08-01\n",
       "3    2012-07-01  2013-09-01\n",
       "4    2018-08-01  2019-02-01"
      ]
     },
     "execution_count": 46,
     "metadata": {},
     "output_type": "execute_result"
    }
   ],
   "source": [
    "time_labels = [('month_received', 'year_received'), ('month_closed', 'year_closed')]\n",
    "times = []\n",
    "\n",
    "# Creates a list of datetime columns\n",
    "for label in time_labels:\n",
    "    times += [pd.to_datetime(complaint_times[label[0]].astype(str) + complaint_times[label[1]].astype(str), format = \"%m%Y\")]\n",
    "\n",
    "complaints = complaints.assign(date_received = times[0]).assign(date_closed = times[1])\n",
    "complaints[['date_received', 'date_closed']].head()"
   ]
  },
  {
   "cell_type": "markdown",
   "metadata": {},
   "source": [
    "Let's engineer a new feature called `days_taken` which represents the duration, in days, a case took to be closed."
   ]
  },
  {
   "cell_type": "code",
   "execution_count": 47,
   "metadata": {},
   "outputs": [
    {
     "data": {
      "text/html": [
       "<div>\n",
       "<style scoped>\n",
       "    .dataframe tbody tr th:only-of-type {\n",
       "        vertical-align: middle;\n",
       "    }\n",
       "\n",
       "    .dataframe tbody tr th {\n",
       "        vertical-align: top;\n",
       "    }\n",
       "\n",
       "    .dataframe thead th {\n",
       "        text-align: right;\n",
       "    }\n",
       "</style>\n",
       "<table border=\"1\" class=\"dataframe\">\n",
       "  <thead>\n",
       "    <tr style=\"text-align: right;\">\n",
       "      <th></th>\n",
       "      <th>date_received</th>\n",
       "      <th>date_closed</th>\n",
       "      <th>days_taken</th>\n",
       "    </tr>\n",
       "  </thead>\n",
       "  <tbody>\n",
       "    <tr>\n",
       "      <th>0</th>\n",
       "      <td>2019-07-01</td>\n",
       "      <td>2020-05-01</td>\n",
       "      <td>305 days</td>\n",
       "    </tr>\n",
       "    <tr>\n",
       "      <th>1</th>\n",
       "      <td>2011-11-01</td>\n",
       "      <td>2012-08-01</td>\n",
       "      <td>274 days</td>\n",
       "    </tr>\n",
       "    <tr>\n",
       "      <th>2</th>\n",
       "      <td>2011-11-01</td>\n",
       "      <td>2012-08-01</td>\n",
       "      <td>274 days</td>\n",
       "    </tr>\n",
       "    <tr>\n",
       "      <th>3</th>\n",
       "      <td>2012-07-01</td>\n",
       "      <td>2013-09-01</td>\n",
       "      <td>427 days</td>\n",
       "    </tr>\n",
       "    <tr>\n",
       "      <th>4</th>\n",
       "      <td>2018-08-01</td>\n",
       "      <td>2019-02-01</td>\n",
       "      <td>184 days</td>\n",
       "    </tr>\n",
       "  </tbody>\n",
       "</table>\n",
       "</div>"
      ],
      "text/plain": [
       "  date_received date_closed days_taken\n",
       "0    2019-07-01  2020-05-01   305 days\n",
       "1    2011-11-01  2012-08-01   274 days\n",
       "2    2011-11-01  2012-08-01   274 days\n",
       "3    2012-07-01  2013-09-01   427 days\n",
       "4    2018-08-01  2019-02-01   184 days"
      ]
     },
     "execution_count": 47,
     "metadata": {},
     "output_type": "execute_result"
    }
   ],
   "source": [
    "complaints['days_taken'] = (complaints['date_closed'] - complaints['date_received']) # Compute timedelta\n",
    "complaints[['date_received', 'date_closed', 'days_taken']].head()"
   ]
  },
  {
   "cell_type": "code",
   "execution_count": 48,
   "metadata": {},
   "outputs": [
    {
     "data": {
      "text/plain": [
       "count                          33358\n",
       "mean     296 days 06:26:57.507044788\n",
       "std      152 days 16:52:42.935615560\n",
       "min                  0 days 00:00:00\n",
       "25%                183 days 00:00:00\n",
       "50%                303 days 00:00:00\n",
       "75%                396 days 00:00:00\n",
       "max               3348 days 00:00:00\n",
       "Name: days_taken, dtype: object"
      ]
     },
     "execution_count": 48,
     "metadata": {},
     "output_type": "execute_result"
    }
   ],
   "source": [
    "complaints['days_taken'].describe() # Some cases were immediately resolved. Other's took close to a decade."
   ]
  },
  {
   "cell_type": "markdown",
   "metadata": {},
   "source": [
    "Let's inspect all quantative columns."
   ]
  },
  {
   "cell_type": "code",
   "execution_count": 49,
   "metadata": {},
   "outputs": [
    {
     "data": {
      "text/html": [
       "<div>\n",
       "<style scoped>\n",
       "    .dataframe tbody tr th:only-of-type {\n",
       "        vertical-align: middle;\n",
       "    }\n",
       "\n",
       "    .dataframe tbody tr th {\n",
       "        vertical-align: top;\n",
       "    }\n",
       "\n",
       "    .dataframe thead th {\n",
       "        text-align: right;\n",
       "    }\n",
       "</style>\n",
       "<table border=\"1\" class=\"dataframe\">\n",
       "  <thead>\n",
       "    <tr style=\"text-align: right;\">\n",
       "      <th></th>\n",
       "      <th>unique_mos_id</th>\n",
       "      <th>shield_no</th>\n",
       "      <th>complaint_id</th>\n",
       "      <th>month_received</th>\n",
       "      <th>year_received</th>\n",
       "      <th>month_closed</th>\n",
       "      <th>year_closed</th>\n",
       "      <th>mos_age_incident</th>\n",
       "      <th>complainant_age_incident</th>\n",
       "      <th>precinct</th>\n",
       "      <th>days_taken</th>\n",
       "    </tr>\n",
       "  </thead>\n",
       "  <tbody>\n",
       "    <tr>\n",
       "      <th>count</th>\n",
       "      <td>33358.000000</td>\n",
       "      <td>33358.000000</td>\n",
       "      <td>33358.000000</td>\n",
       "      <td>33358.000000</td>\n",
       "      <td>33358.000000</td>\n",
       "      <td>33358.000000</td>\n",
       "      <td>33358.000000</td>\n",
       "      <td>33358.000000</td>\n",
       "      <td>28546.000000</td>\n",
       "      <td>33334.000000</td>\n",
       "      <td>33358</td>\n",
       "    </tr>\n",
       "    <tr>\n",
       "      <th>mean</th>\n",
       "      <td>18169.912495</td>\n",
       "      <td>6451.608819</td>\n",
       "      <td>23905.058217</td>\n",
       "      <td>6.323551</td>\n",
       "      <td>2010.726782</td>\n",
       "      <td>6.470772</td>\n",
       "      <td>2011.525661</td>\n",
       "      <td>32.346873</td>\n",
       "      <td>32.484201</td>\n",
       "      <td>64.365213</td>\n",
       "      <td>296 days 06:26:57.507044788</td>\n",
       "    </tr>\n",
       "    <tr>\n",
       "      <th>std</th>\n",
       "      <td>9566.316896</td>\n",
       "      <td>7945.641596</td>\n",
       "      <td>11954.434138</td>\n",
       "      <td>3.362951</td>\n",
       "      <td>6.034725</td>\n",
       "      <td>3.343372</td>\n",
       "      <td>6.085907</td>\n",
       "      <td>6.040944</td>\n",
       "      <td>28.408963</td>\n",
       "      <td>31.451592</td>\n",
       "      <td>152 days 16:52:42.935615560</td>\n",
       "    </tr>\n",
       "    <tr>\n",
       "      <th>min</th>\n",
       "      <td>2.000000</td>\n",
       "      <td>0.000000</td>\n",
       "      <td>517.000000</td>\n",
       "      <td>1.000000</td>\n",
       "      <td>1985.000000</td>\n",
       "      <td>1.000000</td>\n",
       "      <td>1985.000000</td>\n",
       "      <td>20.000000</td>\n",
       "      <td>-4301.000000</td>\n",
       "      <td>0.000000</td>\n",
       "      <td>0 days 00:00:00</td>\n",
       "    </tr>\n",
       "    <tr>\n",
       "      <th>25%</th>\n",
       "      <td>9671.000000</td>\n",
       "      <td>1089.000000</td>\n",
       "      <td>13684.750000</td>\n",
       "      <td>3.000000</td>\n",
       "      <td>2007.000000</td>\n",
       "      <td>4.000000</td>\n",
       "      <td>2008.000000</td>\n",
       "      <td>28.000000</td>\n",
       "      <td>23.000000</td>\n",
       "      <td>43.000000</td>\n",
       "      <td>183 days 00:00:00</td>\n",
       "    </tr>\n",
       "    <tr>\n",
       "      <th>50%</th>\n",
       "      <td>19215.000000</td>\n",
       "      <td>3691.000000</td>\n",
       "      <td>25132.000000</td>\n",
       "      <td>6.000000</td>\n",
       "      <td>2012.000000</td>\n",
       "      <td>6.000000</td>\n",
       "      <td>2013.000000</td>\n",
       "      <td>31.000000</td>\n",
       "      <td>30.000000</td>\n",
       "      <td>67.000000</td>\n",
       "      <td>303 days 00:00:00</td>\n",
       "    </tr>\n",
       "    <tr>\n",
       "      <th>75%</th>\n",
       "      <td>25412.000000</td>\n",
       "      <td>7155.000000</td>\n",
       "      <td>34252.000000</td>\n",
       "      <td>9.000000</td>\n",
       "      <td>2016.000000</td>\n",
       "      <td>9.000000</td>\n",
       "      <td>2016.000000</td>\n",
       "      <td>36.000000</td>\n",
       "      <td>41.000000</td>\n",
       "      <td>81.000000</td>\n",
       "      <td>396 days 00:00:00</td>\n",
       "    </tr>\n",
       "    <tr>\n",
       "      <th>max</th>\n",
       "      <td>36374.000000</td>\n",
       "      <td>31977.000000</td>\n",
       "      <td>43703.000000</td>\n",
       "      <td>12.000000</td>\n",
       "      <td>2020.000000</td>\n",
       "      <td>12.000000</td>\n",
       "      <td>2020.000000</td>\n",
       "      <td>60.000000</td>\n",
       "      <td>101.000000</td>\n",
       "      <td>1000.000000</td>\n",
       "      <td>3348 days 00:00:00</td>\n",
       "    </tr>\n",
       "  </tbody>\n",
       "</table>\n",
       "</div>"
      ],
      "text/plain": [
       "       unique_mos_id     shield_no  complaint_id  month_received  \\\n",
       "count   33358.000000  33358.000000  33358.000000    33358.000000   \n",
       "mean    18169.912495   6451.608819  23905.058217        6.323551   \n",
       "std      9566.316896   7945.641596  11954.434138        3.362951   \n",
       "min         2.000000      0.000000    517.000000        1.000000   \n",
       "25%      9671.000000   1089.000000  13684.750000        3.000000   \n",
       "50%     19215.000000   3691.000000  25132.000000        6.000000   \n",
       "75%     25412.000000   7155.000000  34252.000000        9.000000   \n",
       "max     36374.000000  31977.000000  43703.000000       12.000000   \n",
       "\n",
       "       year_received  month_closed   year_closed  mos_age_incident  \\\n",
       "count   33358.000000  33358.000000  33358.000000      33358.000000   \n",
       "mean     2010.726782      6.470772   2011.525661         32.346873   \n",
       "std         6.034725      3.343372      6.085907          6.040944   \n",
       "min      1985.000000      1.000000   1985.000000         20.000000   \n",
       "25%      2007.000000      4.000000   2008.000000         28.000000   \n",
       "50%      2012.000000      6.000000   2013.000000         31.000000   \n",
       "75%      2016.000000      9.000000   2016.000000         36.000000   \n",
       "max      2020.000000     12.000000   2020.000000         60.000000   \n",
       "\n",
       "       complainant_age_incident      precinct                   days_taken  \n",
       "count              28546.000000  33334.000000                        33358  \n",
       "mean                  32.484201     64.365213  296 days 06:26:57.507044788  \n",
       "std                   28.408963     31.451592  152 days 16:52:42.935615560  \n",
       "min                -4301.000000      0.000000              0 days 00:00:00  \n",
       "25%                   23.000000     43.000000            183 days 00:00:00  \n",
       "50%                   30.000000     67.000000            303 days 00:00:00  \n",
       "75%                   41.000000     81.000000            396 days 00:00:00  \n",
       "max                  101.000000   1000.000000           3348 days 00:00:00  "
      ]
     },
     "execution_count": 49,
     "metadata": {},
     "output_type": "execute_result"
    }
   ],
   "source": [
    "complaints.describe()"
   ]
  },
  {
   "cell_type": "markdown",
   "metadata": {},
   "source": [
    "The column `complainant_age_incident` has a value of -4301, which is obviously incorrect."
   ]
  },
  {
   "cell_type": "code",
   "execution_count": 50,
   "metadata": {},
   "outputs": [
    {
     "data": {
      "text/plain": [
       "count    28538.000000\n",
       "mean        32.644194\n",
       "std         12.204035\n",
       "min          1.000000\n",
       "25%         23.000000\n",
       "50%         30.000000\n",
       "75%         41.000000\n",
       "max        101.000000\n",
       "Name: complainant_age_incident, dtype: float64"
      ]
     },
     "execution_count": 50,
     "metadata": {},
     "output_type": "execute_result"
    }
   ],
   "source": [
    "complaints['complainant_age_incident'] = complaints['complainant_age_incident'].apply(lambda age: np.nan if age <= 0 else age) # Replace negative ages with np.nan\n",
    "complaints['complainant_age_incident'].describe()"
   ]
  },
  {
   "cell_type": "markdown",
   "metadata": {},
   "source": [
    "Let's inspect all qualitative columns by detailing a course of action for each qualitative column."
   ]
  },
  {
   "cell_type": "code",
   "execution_count": 151,
   "metadata": {},
   "outputs": [
    {
     "data": {
      "text/plain": [
       "first_name               1217\n",
       "last_name                2835\n",
       "command_now               415\n",
       "command_at_incident       361\n",
       "rank_abbrev_incident       18\n",
       "rank_abbrev_now            20\n",
       "mos_ethnicity               5\n",
       "mos_gender                  2\n",
       "complainant_ethnicity       8\n",
       "complainant_gender          6\n",
       "fado_type                   4\n",
       "allegation                115\n",
       "contact_reason             53\n",
       "outcome_description        23\n",
       "board_disposition          11\n",
       "rank_incident              15\n",
       "rank_now                   18\n",
       "precinct                   79\n",
       "dtype: int64"
      ]
     },
     "execution_count": 151,
     "metadata": {},
     "output_type": "execute_result"
    }
   ],
   "source": [
    "pd.concat([complaints.select_dtypes(object), complaints['precinct']], axis = 1).nunique()"
   ]
  },
  {
   "cell_type": "markdown",
   "metadata": {},
   "source": [
    "- `first_name`, `last_name`, `command_now`, `contact_reason`, `allegation`, and `command_at_incident` all contain dozens if not thousands of unique values that, for simplicity's sake, will be left alone\n",
    "- `rank_abbrev_incident` and `rank_abbrev_now` have more unique values than `rank_now` and `rank_incident` so converting the abbreviated columns would yield more specific data\n",
    "- `mos_ethnicity`, `mos_gender`, `complainant_ethnicity`, `complainant_gender`, `fado_type`, `board_disposition`, `precinct`, and `outcome_description` can be manually checked for inconsistencies and cleaned accordingly due to their limited diversity"
   ]
  },
  {
   "cell_type": "markdown",
   "metadata": {},
   "source": [
    "Certain rows have differing abbreviated ranks but same full ranks."
   ]
  },
  {
   "cell_type": "code",
   "execution_count": 52,
   "metadata": {},
   "outputs": [
    {
     "data": {
      "text/html": [
       "<div>\n",
       "<style scoped>\n",
       "    .dataframe tbody tr th:only-of-type {\n",
       "        vertical-align: middle;\n",
       "    }\n",
       "\n",
       "    .dataframe tbody tr th {\n",
       "        vertical-align: top;\n",
       "    }\n",
       "\n",
       "    .dataframe thead th {\n",
       "        text-align: right;\n",
       "    }\n",
       "</style>\n",
       "<table border=\"1\" class=\"dataframe\">\n",
       "  <thead>\n",
       "    <tr style=\"text-align: right;\">\n",
       "      <th></th>\n",
       "      <th>rank_abbrev_incident</th>\n",
       "      <th>rank_abbrev_now</th>\n",
       "      <th>rank_incident</th>\n",
       "      <th>rank_now</th>\n",
       "    </tr>\n",
       "  </thead>\n",
       "  <tbody>\n",
       "    <tr>\n",
       "      <th>340</th>\n",
       "      <td>PO</td>\n",
       "      <td>POM</td>\n",
       "      <td>Police Officer</td>\n",
       "      <td>Police Officer</td>\n",
       "    </tr>\n",
       "    <tr>\n",
       "      <th>453</th>\n",
       "      <td>DT3</td>\n",
       "      <td>DT2</td>\n",
       "      <td>Detective</td>\n",
       "      <td>Detective</td>\n",
       "    </tr>\n",
       "    <tr>\n",
       "      <th>466</th>\n",
       "      <td>SGT</td>\n",
       "      <td>SDS</td>\n",
       "      <td>Sergeant</td>\n",
       "      <td>Sergeant</td>\n",
       "    </tr>\n",
       "    <tr>\n",
       "      <th>467</th>\n",
       "      <td>SGT</td>\n",
       "      <td>SDS</td>\n",
       "      <td>Sergeant</td>\n",
       "      <td>Sergeant</td>\n",
       "    </tr>\n",
       "    <tr>\n",
       "      <th>468</th>\n",
       "      <td>SGT</td>\n",
       "      <td>SDS</td>\n",
       "      <td>Sergeant</td>\n",
       "      <td>Sergeant</td>\n",
       "    </tr>\n",
       "    <tr>\n",
       "      <th>469</th>\n",
       "      <td>SGT</td>\n",
       "      <td>SDS</td>\n",
       "      <td>Sergeant</td>\n",
       "      <td>Sergeant</td>\n",
       "    </tr>\n",
       "    <tr>\n",
       "      <th>470</th>\n",
       "      <td>SGT</td>\n",
       "      <td>SDS</td>\n",
       "      <td>Sergeant</td>\n",
       "      <td>Sergeant</td>\n",
       "    </tr>\n",
       "    <tr>\n",
       "      <th>471</th>\n",
       "      <td>SGT</td>\n",
       "      <td>SDS</td>\n",
       "      <td>Sergeant</td>\n",
       "      <td>Sergeant</td>\n",
       "    </tr>\n",
       "    <tr>\n",
       "      <th>472</th>\n",
       "      <td>SGT</td>\n",
       "      <td>SDS</td>\n",
       "      <td>Sergeant</td>\n",
       "      <td>Sergeant</td>\n",
       "    </tr>\n",
       "    <tr>\n",
       "      <th>473</th>\n",
       "      <td>SGT</td>\n",
       "      <td>SDS</td>\n",
       "      <td>Sergeant</td>\n",
       "      <td>Sergeant</td>\n",
       "    </tr>\n",
       "  </tbody>\n",
       "</table>\n",
       "</div>"
      ],
      "text/plain": [
       "    rank_abbrev_incident rank_abbrev_now   rank_incident        rank_now\n",
       "340                   PO             POM  Police Officer  Police Officer\n",
       "453                  DT3             DT2       Detective       Detective\n",
       "466                  SGT             SDS        Sergeant        Sergeant\n",
       "467                  SGT             SDS        Sergeant        Sergeant\n",
       "468                  SGT             SDS        Sergeant        Sergeant\n",
       "469                  SGT             SDS        Sergeant        Sergeant\n",
       "470                  SGT             SDS        Sergeant        Sergeant\n",
       "471                  SGT             SDS        Sergeant        Sergeant\n",
       "472                  SGT             SDS        Sergeant        Sergeant\n",
       "473                  SGT             SDS        Sergeant        Sergeant"
      ]
     },
     "execution_count": 52,
     "metadata": {},
     "output_type": "execute_result"
    }
   ],
   "source": [
    "find_rank_inconsistencies = lambda: complaints[(complaints['rank_abbrev_incident'] != complaints['rank_abbrev_now']) & (complaints['rank_incident'] == complaints['rank_now'])][['rank_abbrev_incident', 'rank_abbrev_now', 'rank_incident', 'rank_now']].head(10)\n",
    "find_rank_inconsistencies() # Function displaying rows with different abbreviations but same full rank"
   ]
  },
  {
   "cell_type": "markdown",
   "metadata": {},
   "source": [
    "To ensure that full ranks stay consistent with their abbreviated ranks, we can convert abbreviated ranks because they are more specific. We can achieve this by joining the `police_abbrev` dataframe with our original dataset."
   ]
  },
  {
   "cell_type": "code",
   "execution_count": 131,
   "metadata": {},
   "outputs": [
    {
     "data": {
      "text/html": [
       "<div>\n",
       "<style scoped>\n",
       "    .dataframe tbody tr th:only-of-type {\n",
       "        vertical-align: middle;\n",
       "    }\n",
       "\n",
       "    .dataframe tbody tr th {\n",
       "        vertical-align: top;\n",
       "    }\n",
       "\n",
       "    .dataframe thead th {\n",
       "        text-align: right;\n",
       "    }\n",
       "</style>\n",
       "<table border=\"1\" class=\"dataframe\">\n",
       "  <thead>\n",
       "    <tr style=\"text-align: right;\">\n",
       "      <th></th>\n",
       "      <th>Abbreviation</th>\n",
       "      <th>Rank</th>\n",
       "    </tr>\n",
       "  </thead>\n",
       "  <tbody>\n",
       "    <tr>\n",
       "      <th>0</th>\n",
       "      <td>POM</td>\n",
       "      <td>Police Officer</td>\n",
       "    </tr>\n",
       "    <tr>\n",
       "      <th>1</th>\n",
       "      <td>POF</td>\n",
       "      <td>Police Officer</td>\n",
       "    </tr>\n",
       "    <tr>\n",
       "      <th>2</th>\n",
       "      <td>PO</td>\n",
       "      <td>Police Officer</td>\n",
       "    </tr>\n",
       "    <tr>\n",
       "      <th>3</th>\n",
       "      <td>PSA</td>\n",
       "      <td>Police Officer Special Assignment</td>\n",
       "    </tr>\n",
       "    <tr>\n",
       "      <th>4</th>\n",
       "      <td>SGT</td>\n",
       "      <td>Sergeant</td>\n",
       "    </tr>\n",
       "  </tbody>\n",
       "</table>\n",
       "</div>"
      ],
      "text/plain": [
       "  Abbreviation                               Rank\n",
       "0          POM                     Police Officer\n",
       "1          POF                     Police Officer\n",
       "2           PO                     Police Officer\n",
       "3          PSA  Police Officer Special Assignment\n",
       "4          SGT                           Sergeant"
      ]
     },
     "execution_count": 131,
     "metadata": {},
     "output_type": "execute_result"
    }
   ],
   "source": [
    "police_abbrev.head()"
   ]
  },
  {
   "cell_type": "code",
   "execution_count": 109,
   "metadata": {},
   "outputs": [],
   "source": [
    "def convert_abbrev(police_abbrev, complaints):\n",
    "    # Merges twice, one for incident rank and one for current rank\n",
    "    # Performs left join to keep all complaints\n",
    "    merged = complaints.merge(police_abbrev, how='left', left_on=['rank_abbrev_incident'], right_on =['Abbreviation']).merge(police_abbrev, how = 'left', left_on=['rank_abbrev_now'], right_on=['Abbreviation'], suffixes=(\"_incident\", \"_now\")).drop(columns = ['rank_now', 'rank_incident', 'Abbreviation_incident', 'Abbreviation_now']).rename(columns = {'Rank_now': 'rank_now', 'Rank_incident': 'rank_incident'})\n",
    "    return merged\n",
    "\n",
    "complaints = convert_abbrev(police_abbrev, complaints)"
   ]
  },
  {
   "cell_type": "markdown",
   "metadata": {},
   "source": [
    "Let's check for values that were unable to be converted."
   ]
  },
  {
   "cell_type": "code",
   "execution_count": 137,
   "metadata": {},
   "outputs": [
    {
     "name": "stdout",
     "output_type": "stream",
     "text": [
      "['DET'] does not exist within the police abbreviation dictionary for rank_abbrev_incident\n",
      "['CCC'] does not exist within the police abbreviation dictionary for rank_abbrev_now\n"
     ]
    }
   ],
   "source": [
    "merged = complaints[['rank_abbrev_incident', 'rank_abbrev_now', 'rank_incident', 'rank_now']] # Finds unconverted abbreviations\n",
    "print(f\"{list(merged[(merged['rank_incident'].isna())]['rank_abbrev_incident'].unique())} does not exist within the police abbreviation dictionary for rank_abbrev_incident\")\n",
    "print(f\"{list(merged[(merged['rank_now'].isna())]['rank_abbrev_now'].unique())} does not exist within the police abbreviation dictionary for rank_abbrev_now\")"
   ]
  },
  {
   "cell_type": "markdown",
   "metadata": {},
   "source": [
    "We can now run `find_rank_inconsistencies` to check if merging worked. Certain ranks will still differ in abbreviation but no in rank because their abbreviations in `police_abbrev` convert to the same rank."
   ]
  },
  {
   "cell_type": "code",
   "execution_count": 138,
   "metadata": {},
   "outputs": [
    {
     "data": {
      "text/html": [
       "<div>\n",
       "<style scoped>\n",
       "    .dataframe tbody tr th:only-of-type {\n",
       "        vertical-align: middle;\n",
       "    }\n",
       "\n",
       "    .dataframe tbody tr th {\n",
       "        vertical-align: top;\n",
       "    }\n",
       "\n",
       "    .dataframe thead th {\n",
       "        text-align: right;\n",
       "    }\n",
       "</style>\n",
       "<table border=\"1\" class=\"dataframe\">\n",
       "  <thead>\n",
       "    <tr style=\"text-align: right;\">\n",
       "      <th></th>\n",
       "      <th>rank_abbrev_incident</th>\n",
       "      <th>rank_abbrev_now</th>\n",
       "      <th>rank_incident</th>\n",
       "      <th>rank_now</th>\n",
       "    </tr>\n",
       "  </thead>\n",
       "  <tbody>\n",
       "    <tr>\n",
       "      <th>340</th>\n",
       "      <td>PO</td>\n",
       "      <td>POM</td>\n",
       "      <td>Police Officer</td>\n",
       "      <td>Police Officer</td>\n",
       "    </tr>\n",
       "    <tr>\n",
       "      <th>899</th>\n",
       "      <td>PO</td>\n",
       "      <td>POM</td>\n",
       "      <td>Police Officer</td>\n",
       "      <td>Police Officer</td>\n",
       "    </tr>\n",
       "    <tr>\n",
       "      <th>900</th>\n",
       "      <td>PO</td>\n",
       "      <td>POM</td>\n",
       "      <td>Police Officer</td>\n",
       "      <td>Police Officer</td>\n",
       "    </tr>\n",
       "    <tr>\n",
       "      <th>901</th>\n",
       "      <td>PO</td>\n",
       "      <td>POM</td>\n",
       "      <td>Police Officer</td>\n",
       "      <td>Police Officer</td>\n",
       "    </tr>\n",
       "    <tr>\n",
       "      <th>902</th>\n",
       "      <td>PO</td>\n",
       "      <td>POM</td>\n",
       "      <td>Police Officer</td>\n",
       "      <td>Police Officer</td>\n",
       "    </tr>\n",
       "    <tr>\n",
       "      <th>903</th>\n",
       "      <td>PO</td>\n",
       "      <td>POM</td>\n",
       "      <td>Police Officer</td>\n",
       "      <td>Police Officer</td>\n",
       "    </tr>\n",
       "    <tr>\n",
       "      <th>904</th>\n",
       "      <td>PO</td>\n",
       "      <td>POM</td>\n",
       "      <td>Police Officer</td>\n",
       "      <td>Police Officer</td>\n",
       "    </tr>\n",
       "    <tr>\n",
       "      <th>905</th>\n",
       "      <td>PO</td>\n",
       "      <td>POM</td>\n",
       "      <td>Police Officer</td>\n",
       "      <td>Police Officer</td>\n",
       "    </tr>\n",
       "    <tr>\n",
       "      <th>906</th>\n",
       "      <td>PO</td>\n",
       "      <td>POM</td>\n",
       "      <td>Police Officer</td>\n",
       "      <td>Police Officer</td>\n",
       "    </tr>\n",
       "    <tr>\n",
       "      <th>907</th>\n",
       "      <td>PO</td>\n",
       "      <td>POM</td>\n",
       "      <td>Police Officer</td>\n",
       "      <td>Police Officer</td>\n",
       "    </tr>\n",
       "  </tbody>\n",
       "</table>\n",
       "</div>"
      ],
      "text/plain": [
       "    rank_abbrev_incident rank_abbrev_now   rank_incident        rank_now\n",
       "340                   PO             POM  Police Officer  Police Officer\n",
       "899                   PO             POM  Police Officer  Police Officer\n",
       "900                   PO             POM  Police Officer  Police Officer\n",
       "901                   PO             POM  Police Officer  Police Officer\n",
       "902                   PO             POM  Police Officer  Police Officer\n",
       "903                   PO             POM  Police Officer  Police Officer\n",
       "904                   PO             POM  Police Officer  Police Officer\n",
       "905                   PO             POM  Police Officer  Police Officer\n",
       "906                   PO             POM  Police Officer  Police Officer\n",
       "907                   PO             POM  Police Officer  Police Officer"
      ]
     },
     "metadata": {},
     "output_type": "display_data"
    },
    {
     "data": {
      "text/plain": [
       "rank_incident    15\n",
       "rank_now         18\n",
       "dtype: int64"
      ]
     },
     "metadata": {},
     "output_type": "display_data"
    }
   ],
   "source": [
    "display(find_rank_inconsistencies()) # Function displaying rows with different abbreviations but same full rank\n",
    "display(complaints[['rank_incident', 'rank_now']].nunique())"
   ]
  },
  {
   "cell_type": "markdown",
   "metadata": {},
   "source": [
    "Now, let's manually sift through features that have a low amount of unique values and look for inconsistencies."
   ]
  },
  {
   "cell_type": "code",
   "execution_count": 152,
   "metadata": {},
   "outputs": [
    {
     "name": "stdout",
     "output_type": "stream",
     "text": [
      "mos_ethnicity's unique values are: ['Hispanic' 'White' 'Black' 'Asian' 'American Indian']\n",
      "\n",
      "mos_gender's unique values are: ['M' 'F']\n",
      "\n",
      "complainant_ethnicity's unique values are: ['Black' nan 'White' 'Asian' 'Refused' 'Hispanic' 'Unknown' 'Other Race'\n",
      " 'American Indian']\n",
      "\n",
      "complainant_gender's unique values are: ['Female' 'Male' nan 'Transman (FTM)' 'Not described' 'Transwoman (MTF)'\n",
      " 'Gender non-conforming']\n",
      "\n",
      "fado_type's unique values are: ['Abuse of Authority' 'Discourtesy' 'Offensive Language' 'Force']\n",
      "\n",
      "board_disposition's unique values are: ['Substantiated (Command Lvl Instructions)' 'Substantiated (Charges)'\n",
      " 'Substantiated (Command Discipline A)'\n",
      " 'Substantiated (Formalized Training)' 'Unsubstantiated' 'Exonerated'\n",
      " 'Substantiated (Command Discipline B)' 'Substantiated (Instructions)'\n",
      " 'Substantiated (Command Discipline)' 'Substantiated (No Recommendations)'\n",
      " 'Substantiated (MOS Unidentified)']\n",
      "\n",
      "outcome_description's unique values are: ['No arrest made or summons issued' 'Moving violation summons issued'\n",
      " 'Arrest - other violation/crime' 'Summons - other violation/crime'\n",
      " 'Arrest - OGA' 'Other VTL violation summons issued'\n",
      " 'Arrest - resisting arrest' 'Arrest - disorderly conduct'\n",
      " 'Arrest - assault (against a PO)' 'Summons - disorderly conduct'\n",
      " 'Juvenile Report' 'Parking summons issued'\n",
      " 'Disorderly-Conduct/Arr/Summons' 'Assault/Arrested'\n",
      " 'Other Summons Claimed or Issued' nan\n",
      " 'Arrest - harrassment (against a PO)' 'Arrest on Other Charge'\n",
      " 'Obstruct-Govt-Admin/Arrested' 'Traffic Summons Claimed or Issued'\n",
      " 'Resisting Arrest/Arrested' 'Harrassment/Arrested/Summons'\n",
      " 'Summons - OGA' 'Summons - harrassment (against a PO)']\n",
      "\n",
      "precinct's unique values are: [  78.   67.   79.   77.   81.   73.   90.   75.  120.   10.   25.  110.\n",
      "   83.   46.    9.   28.    1.   68.   70.   72.  122.  113.  101.  100.\n",
      "    7.   13.   71.   23.  112.   69.   32.   94.   63.   76.   52.   47.\n",
      "   62.   42.   84.  115.  109.    5.   88.   14.  103.  107.  104.   40.\n",
      "  108.   50.   45.   18.  102.  114.   19.   20.  106.  105.   17.   60.\n",
      "   34.   44.   48.   41.   43.  111.   49.   26.   30.   33.    6.   61.\n",
      "  123.  121.   66.   24.    0.   22. 1000.   nan]\n",
      "\n"
     ]
    }
   ],
   "source": [
    "small_qualitative_features = ['mos_ethnicity', 'mos_gender', 'complainant_ethnicity', 'complainant_gender', 'fado_type', 'board_disposition', 'outcome_description', 'precinct']\n",
    "for feature in small_qualitative_features:\n",
    "    print(\"{}'s unique values are: {}\".format(feature, complaints[feature].unique()), end='\\n\\n') # Prints unique values of columns"
   ]
  },
  {
   "cell_type": "markdown",
   "metadata": {},
   "source": [
    "- `complainant_ethnicity` and `complainant_gender` have vague values that should be represented with `np.nan`\n",
    "- New York contains precincts between 1 and 123, so `precinct` has to conform with this range"
   ]
  },
  {
   "cell_type": "code",
   "execution_count": 154,
   "metadata": {},
   "outputs": [
    {
     "name": "stdout",
     "output_type": "stream",
     "text": [
      "complainant_ethnicity's unique values are: ['Black' nan 'White' 'Asian' 'Hispanic' 'American Indian']\n",
      "\n",
      "complainant_gender's unique values are: ['Female' 'Male' nan 'Transman (FTM)' 'Transwoman (MTF)'\n",
      " 'Gender non-conforming']\n",
      "\n",
      "precinct's unique values are: [ 78.  67.  79.  77.  81.  73.  90.  75. 120.  10.  25. 110.  83.  46.\n",
      "   9.  28.   1.  68.  70.  72. 122. 113. 101. 100.   7.  13.  71.  23.\n",
      " 112.  69.  32.  94.  63.  76.  52.  47.  62.  42.  84. 115. 109.   5.\n",
      "  88.  14. 103. 107. 104.  40. 108.  50.  45.  18. 102. 114.  19.  20.\n",
      " 106. 105.  17.  60.  34.  44.  48.  41.  43. 111.  49.  26.  30.  33.\n",
      "   6.  61. 123. 121.  66.  24.  nan  22.]\n",
      "\n"
     ]
    }
   ],
   "source": [
    "def replace_with_nan(complaints):\n",
    "    columns_to_clean = ['complainant_ethnicity', 'complainant_gender', 'precinct'] # Columns to clean\n",
    "    replaced_with_nan = complaints.assign(complainant_ethnicity = complaints['complainant_ethnicity'].replace({\"Refused\": np.nan, 'Unknown': np.nan, 'Other Race': np.nan})).assign(complainant_gender = complaints['complainant_gender'].replace({'Not described': np.nan}))\n",
    "    replaced_with_nan[(replaced_with_nan['precinct'] > 123) | (replaced_with_nan['precinct'] <= 0)] = np.nan\n",
    "    for column in columns_to_clean:\n",
    "        print(\"{}'s unique values are: {}\".format(column, replaced_with_nan[column].unique()), end='\\n\\n')\n",
    "    return replaced_with_nan\n",
    "\n",
    "complaints = replace_with_nan(complaints)"
   ]
  },
  {
   "cell_type": "markdown",
   "metadata": {},
   "source": [
    "This is our dataset, now fully cleaned."
   ]
  },
  {
   "cell_type": "code",
   "execution_count": 156,
   "metadata": {},
   "outputs": [
    {
     "data": {
      "text/html": [
       "<div>\n",
       "<style scoped>\n",
       "    .dataframe tbody tr th:only-of-type {\n",
       "        vertical-align: middle;\n",
       "    }\n",
       "\n",
       "    .dataframe tbody tr th {\n",
       "        vertical-align: top;\n",
       "    }\n",
       "\n",
       "    .dataframe thead th {\n",
       "        text-align: right;\n",
       "    }\n",
       "</style>\n",
       "<table border=\"1\" class=\"dataframe\">\n",
       "  <thead>\n",
       "    <tr style=\"text-align: right;\">\n",
       "      <th></th>\n",
       "      <th>first_name</th>\n",
       "      <th>last_name</th>\n",
       "      <th>command_now</th>\n",
       "      <th>shield_no</th>\n",
       "      <th>complaint_id</th>\n",
       "      <th>month_received</th>\n",
       "      <th>year_received</th>\n",
       "      <th>month_closed</th>\n",
       "      <th>year_closed</th>\n",
       "      <th>command_at_incident</th>\n",
       "      <th>rank_abbrev_incident</th>\n",
       "      <th>rank_abbrev_now</th>\n",
       "      <th>mos_ethnicity</th>\n",
       "      <th>mos_gender</th>\n",
       "      <th>mos_age_incident</th>\n",
       "      <th>complainant_ethnicity</th>\n",
       "      <th>complainant_gender</th>\n",
       "      <th>complainant_age_incident</th>\n",
       "      <th>fado_type</th>\n",
       "      <th>allegation</th>\n",
       "      <th>precinct</th>\n",
       "      <th>contact_reason</th>\n",
       "      <th>outcome_description</th>\n",
       "      <th>board_disposition</th>\n",
       "      <th>date_received</th>\n",
       "      <th>date_closed</th>\n",
       "      <th>days_taken</th>\n",
       "      <th>rank_incident</th>\n",
       "      <th>rank_now</th>\n",
       "    </tr>\n",
       "  </thead>\n",
       "  <tbody>\n",
       "    <tr>\n",
       "      <th>0</th>\n",
       "      <td>Jonathan</td>\n",
       "      <td>Ruiz</td>\n",
       "      <td>078 PCT</td>\n",
       "      <td>8409.0</td>\n",
       "      <td>42835.0</td>\n",
       "      <td>7.0</td>\n",
       "      <td>2019.0</td>\n",
       "      <td>5.0</td>\n",
       "      <td>2020.0</td>\n",
       "      <td>078 PCT</td>\n",
       "      <td>POM</td>\n",
       "      <td>POM</td>\n",
       "      <td>Hispanic</td>\n",
       "      <td>M</td>\n",
       "      <td>32.0</td>\n",
       "      <td>Black</td>\n",
       "      <td>Female</td>\n",
       "      <td>38.0</td>\n",
       "      <td>Abuse of Authority</td>\n",
       "      <td>Failure to provide RTKA card</td>\n",
       "      <td>78.0</td>\n",
       "      <td>Report-domestic dispute</td>\n",
       "      <td>No arrest made or summons issued</td>\n",
       "      <td>Substantiated (Command Lvl Instructions)</td>\n",
       "      <td>2019-07-01</td>\n",
       "      <td>2020-05-01</td>\n",
       "      <td>305 days</td>\n",
       "      <td>Police Officer</td>\n",
       "      <td>Police Officer</td>\n",
       "    </tr>\n",
       "    <tr>\n",
       "      <th>1</th>\n",
       "      <td>John</td>\n",
       "      <td>Sears</td>\n",
       "      <td>078 PCT</td>\n",
       "      <td>5952.0</td>\n",
       "      <td>24601.0</td>\n",
       "      <td>11.0</td>\n",
       "      <td>2011.0</td>\n",
       "      <td>8.0</td>\n",
       "      <td>2012.0</td>\n",
       "      <td>PBBS</td>\n",
       "      <td>POM</td>\n",
       "      <td>POM</td>\n",
       "      <td>White</td>\n",
       "      <td>M</td>\n",
       "      <td>24.0</td>\n",
       "      <td>Black</td>\n",
       "      <td>Male</td>\n",
       "      <td>26.0</td>\n",
       "      <td>Discourtesy</td>\n",
       "      <td>Action</td>\n",
       "      <td>67.0</td>\n",
       "      <td>Moving violation</td>\n",
       "      <td>Moving violation summons issued</td>\n",
       "      <td>Substantiated (Charges)</td>\n",
       "      <td>2011-11-01</td>\n",
       "      <td>2012-08-01</td>\n",
       "      <td>274 days</td>\n",
       "      <td>Police Officer</td>\n",
       "      <td>Police Officer</td>\n",
       "    </tr>\n",
       "    <tr>\n",
       "      <th>2</th>\n",
       "      <td>John</td>\n",
       "      <td>Sears</td>\n",
       "      <td>078 PCT</td>\n",
       "      <td>5952.0</td>\n",
       "      <td>24601.0</td>\n",
       "      <td>11.0</td>\n",
       "      <td>2011.0</td>\n",
       "      <td>8.0</td>\n",
       "      <td>2012.0</td>\n",
       "      <td>PBBS</td>\n",
       "      <td>POM</td>\n",
       "      <td>POM</td>\n",
       "      <td>White</td>\n",
       "      <td>M</td>\n",
       "      <td>24.0</td>\n",
       "      <td>Black</td>\n",
       "      <td>Male</td>\n",
       "      <td>26.0</td>\n",
       "      <td>Offensive Language</td>\n",
       "      <td>Race</td>\n",
       "      <td>67.0</td>\n",
       "      <td>Moving violation</td>\n",
       "      <td>Moving violation summons issued</td>\n",
       "      <td>Substantiated (Charges)</td>\n",
       "      <td>2011-11-01</td>\n",
       "      <td>2012-08-01</td>\n",
       "      <td>274 days</td>\n",
       "      <td>Police Officer</td>\n",
       "      <td>Police Officer</td>\n",
       "    </tr>\n",
       "    <tr>\n",
       "      <th>3</th>\n",
       "      <td>John</td>\n",
       "      <td>Sears</td>\n",
       "      <td>078 PCT</td>\n",
       "      <td>5952.0</td>\n",
       "      <td>26146.0</td>\n",
       "      <td>7.0</td>\n",
       "      <td>2012.0</td>\n",
       "      <td>9.0</td>\n",
       "      <td>2013.0</td>\n",
       "      <td>PBBS</td>\n",
       "      <td>POM</td>\n",
       "      <td>POM</td>\n",
       "      <td>White</td>\n",
       "      <td>M</td>\n",
       "      <td>25.0</td>\n",
       "      <td>Black</td>\n",
       "      <td>Male</td>\n",
       "      <td>45.0</td>\n",
       "      <td>Abuse of Authority</td>\n",
       "      <td>Question</td>\n",
       "      <td>67.0</td>\n",
       "      <td>PD suspected C/V of violation/crime - street</td>\n",
       "      <td>No arrest made or summons issued</td>\n",
       "      <td>Substantiated (Charges)</td>\n",
       "      <td>2012-07-01</td>\n",
       "      <td>2013-09-01</td>\n",
       "      <td>427 days</td>\n",
       "      <td>Police Officer</td>\n",
       "      <td>Police Officer</td>\n",
       "    </tr>\n",
       "    <tr>\n",
       "      <th>4</th>\n",
       "      <td>Noemi</td>\n",
       "      <td>Sierra</td>\n",
       "      <td>078 PCT</td>\n",
       "      <td>24058.0</td>\n",
       "      <td>40253.0</td>\n",
       "      <td>8.0</td>\n",
       "      <td>2018.0</td>\n",
       "      <td>2.0</td>\n",
       "      <td>2019.0</td>\n",
       "      <td>078 PCT</td>\n",
       "      <td>POF</td>\n",
       "      <td>POF</td>\n",
       "      <td>Hispanic</td>\n",
       "      <td>F</td>\n",
       "      <td>39.0</td>\n",
       "      <td>NaN</td>\n",
       "      <td>NaN</td>\n",
       "      <td>16.0</td>\n",
       "      <td>Force</td>\n",
       "      <td>Physical force</td>\n",
       "      <td>67.0</td>\n",
       "      <td>Report-dispute</td>\n",
       "      <td>Arrest - other violation/crime</td>\n",
       "      <td>Substantiated (Command Discipline A)</td>\n",
       "      <td>2018-08-01</td>\n",
       "      <td>2019-02-01</td>\n",
       "      <td>184 days</td>\n",
       "      <td>Police Officer</td>\n",
       "      <td>Police Officer</td>\n",
       "    </tr>\n",
       "  </tbody>\n",
       "</table>\n",
       "</div>"
      ],
      "text/plain": [
       "  first_name last_name command_now  shield_no  complaint_id  month_received  \\\n",
       "0   Jonathan      Ruiz     078 PCT     8409.0       42835.0             7.0   \n",
       "1       John     Sears     078 PCT     5952.0       24601.0            11.0   \n",
       "2       John     Sears     078 PCT     5952.0       24601.0            11.0   \n",
       "3       John     Sears     078 PCT     5952.0       26146.0             7.0   \n",
       "4      Noemi    Sierra     078 PCT    24058.0       40253.0             8.0   \n",
       "\n",
       "   year_received  month_closed  year_closed command_at_incident  \\\n",
       "0         2019.0           5.0       2020.0             078 PCT   \n",
       "1         2011.0           8.0       2012.0                PBBS   \n",
       "2         2011.0           8.0       2012.0                PBBS   \n",
       "3         2012.0           9.0       2013.0                PBBS   \n",
       "4         2018.0           2.0       2019.0             078 PCT   \n",
       "\n",
       "  rank_abbrev_incident rank_abbrev_now mos_ethnicity mos_gender  \\\n",
       "0                  POM             POM      Hispanic          M   \n",
       "1                  POM             POM         White          M   \n",
       "2                  POM             POM         White          M   \n",
       "3                  POM             POM         White          M   \n",
       "4                  POF             POF      Hispanic          F   \n",
       "\n",
       "   mos_age_incident complainant_ethnicity complainant_gender  \\\n",
       "0              32.0                 Black             Female   \n",
       "1              24.0                 Black               Male   \n",
       "2              24.0                 Black               Male   \n",
       "3              25.0                 Black               Male   \n",
       "4              39.0                   NaN                NaN   \n",
       "\n",
       "   complainant_age_incident           fado_type                    allegation  \\\n",
       "0                      38.0  Abuse of Authority  Failure to provide RTKA card   \n",
       "1                      26.0         Discourtesy                        Action   \n",
       "2                      26.0  Offensive Language                          Race   \n",
       "3                      45.0  Abuse of Authority                      Question   \n",
       "4                      16.0               Force                Physical force   \n",
       "\n",
       "   precinct                                contact_reason  \\\n",
       "0      78.0                       Report-domestic dispute   \n",
       "1      67.0                              Moving violation   \n",
       "2      67.0                              Moving violation   \n",
       "3      67.0  PD suspected C/V of violation/crime - street   \n",
       "4      67.0                                Report-dispute   \n",
       "\n",
       "                outcome_description                         board_disposition  \\\n",
       "0  No arrest made or summons issued  Substantiated (Command Lvl Instructions)   \n",
       "1   Moving violation summons issued                   Substantiated (Charges)   \n",
       "2   Moving violation summons issued                   Substantiated (Charges)   \n",
       "3  No arrest made or summons issued                   Substantiated (Charges)   \n",
       "4    Arrest - other violation/crime      Substantiated (Command Discipline A)   \n",
       "\n",
       "  date_received date_closed days_taken   rank_incident        rank_now  \n",
       "0    2019-07-01  2020-05-01   305 days  Police Officer  Police Officer  \n",
       "1    2011-11-01  2012-08-01   274 days  Police Officer  Police Officer  \n",
       "2    2011-11-01  2012-08-01   274 days  Police Officer  Police Officer  \n",
       "3    2012-07-01  2013-09-01   427 days  Police Officer  Police Officer  \n",
       "4    2018-08-01  2019-02-01   184 days  Police Officer  Police Officer  "
      ]
     },
     "execution_count": 156,
     "metadata": {},
     "output_type": "execute_result"
    }
   ],
   "source": [
    "complaints.head()"
   ]
  },
  {
   "cell_type": "markdown",
   "metadata": {},
   "source": [
    "### EDA:"
   ]
  },
  {
   "cell_type": "markdown",
   "metadata": {},
   "source": [
    "Does the length that the complaint is open depend on ethnicity/age/gender? Let's try to visualize this question."
   ]
  },
  {
   "cell_type": "code",
   "execution_count": 402,
   "metadata": {},
   "outputs": [
    {
     "data": {
      "text/plain": [
       "<AxesSubplot:xlabel='complainant_gender', ylabel='days_taken'>"
      ]
     },
     "execution_count": 402,
     "metadata": {},
     "output_type": "execute_result"
    },
    {
     "data": {
      "image/png": "[encoded data removed]",
      "text/plain": [
       "<Figure size 864x864 with 2 Axes>"
      ]
     },
     "metadata": {},
     "output_type": "display_data"
    }
   ],
   "source": [
    "fig, axes = plt.subplots(2, 1, figsize = (12, 12))\n",
    "\n",
    "complaint_duration_by_ethnicity = pd.concat([complaints['days_taken'].dt.days, complaints['complainant_ethnicity']], axis = 1).groupby(\"complainant_ethnicity\")['days_taken'].mean().sort_values().reset_index() # Calculate average duration for each ethnicity\n",
    "sns.barplot(data = complaint_duration_by_ethnicity, x = 'complainant_ethnicity', y = 'days_taken', ax=axes[0])\n",
    "\n",
    "complaint_duration_by_gender = pd.concat([complaints['days_taken'].dt.days, complaints['complainant_gender']], axis = 1).groupby(\"complainant_gender\")['days_taken'].mean().sort_values().reset_index() # Calculate average duration for each gender\n",
    "sns.barplot(data = complaint_duration_by_gender, x = 'complainant_gender', y = 'days_taken', ax=axes[1])"
   ]
  },
  {
   "cell_type": "markdown",
   "metadata": {},
   "source": [
    "From the bar graphs, Asian complaints resolve quickest and black complaints resolve slowest. Transwoman complaints resolve quickest while male complaints resolve slowest. Let's conduct a permutation test to see whether the differences between these average case durations are due to chance."
   ]
  },
  {
   "cell_type": "markdown",
   "metadata": {},
   "source": [
    "What about age, a quantitative variable, and its effect on case duration?"
   ]
  },
  {
   "cell_type": "code",
   "execution_count": 358,
   "metadata": {},
   "outputs": [
    {
     "data": {
      "text/plain": [
       "<seaborn.axisgrid.FacetGrid at 0x2ccd29207f0>"
      ]
     },
     "execution_count": 358,
     "metadata": {},
     "output_type": "execute_result"
    },
    {
     "data": {
      "image/png": "[encoded data removed]",
      "text/plain": [
       "<Figure size 360x360 with 1 Axes>"
      ]
     },
     "metadata": {},
     "output_type": "display_data"
    }
   ],
   "source": [
    "sns.lmplot(data = pd.concat([complaints['days_taken'].dt.days, complaints['complainant_age_incident']], axis = 1), x = \"complainant_age_incident\", y = 'days_taken')"
   ]
  },
  {
   "cell_type": "markdown",
   "metadata": {},
   "source": [
    "Let's calculate Pearson correlation coefficient between these two variables."
   ]
  },
  {
   "cell_type": "code",
   "execution_count": 369,
   "metadata": {},
   "outputs": [
    {
     "name": "stdout",
     "output_type": "stream",
     "text": [
      "r: -0.08829312664488052\n"
     ]
    }
   ],
   "source": [
    "corr = pd.concat([complaints['days_taken'].dt.days, complaints['complainant_age_incident']], axis = 1).corr().loc['days_taken', 'complainant_age_incident']\n",
    "print(f\"r: {corr}\")"
   ]
  },
  {
   "cell_type": "markdown",
   "metadata": {},
   "source": [
    "The correlation is very low between the two variables, and so it is difficult to determine their relationship. Let's take another approach by grouping ages by intervals of 5, and then plotting the average case duration against each age group."
   ]
  },
  {
   "cell_type": "code",
   "execution_count": 386,
   "metadata": {},
   "outputs": [
    {
     "data": {
      "text/html": [
       "<div>\n",
       "<style scoped>\n",
       "    .dataframe tbody tr th:only-of-type {\n",
       "        vertical-align: middle;\n",
       "    }\n",
       "\n",
       "    .dataframe tbody tr th {\n",
       "        vertical-align: top;\n",
       "    }\n",
       "\n",
       "    .dataframe thead th {\n",
       "        text-align: right;\n",
       "    }\n",
       "</style>\n",
       "<table border=\"1\" class=\"dataframe\">\n",
       "  <thead>\n",
       "    <tr style=\"text-align: right;\">\n",
       "      <th></th>\n",
       "      <th>complainant_age_group</th>\n",
       "      <th>days_taken</th>\n",
       "    </tr>\n",
       "  </thead>\n",
       "  <tbody>\n",
       "    <tr>\n",
       "      <th>0</th>\n",
       "      <td>35.0-39.0</td>\n",
       "      <td>305.0</td>\n",
       "    </tr>\n",
       "    <tr>\n",
       "      <th>1</th>\n",
       "      <td>25.0-29.0</td>\n",
       "      <td>274.0</td>\n",
       "    </tr>\n",
       "    <tr>\n",
       "      <th>2</th>\n",
       "      <td>25.0-29.0</td>\n",
       "      <td>274.0</td>\n",
       "    </tr>\n",
       "    <tr>\n",
       "      <th>3</th>\n",
       "      <td>45.0-49.0</td>\n",
       "      <td>427.0</td>\n",
       "    </tr>\n",
       "    <tr>\n",
       "      <th>4</th>\n",
       "      <td>15.0-19.0</td>\n",
       "      <td>184.0</td>\n",
       "    </tr>\n",
       "  </tbody>\n",
       "</table>\n",
       "</div>"
      ],
      "text/plain": [
       "  complainant_age_group  days_taken\n",
       "0             35.0-39.0       305.0\n",
       "1             25.0-29.0       274.0\n",
       "2             25.0-29.0       274.0\n",
       "3             45.0-49.0       427.0\n",
       "4             15.0-19.0       184.0"
      ]
     },
     "execution_count": 386,
     "metadata": {},
     "output_type": "execute_result"
    }
   ],
   "source": [
    "def assign_age_groups(complaints):\n",
    "    age_df = pd.DataFrame()\n",
    "    def round_to_five(age):\n",
    "        tenths, ones = age//10, age % 10\n",
    "        if ones >= 0 and ones < 5:\n",
    "            ones = 0\n",
    "        else:\n",
    "            ones = 5\n",
    "        return str((tenths * 10) + ones) + \"-\" + str((tenths * 10) + ones + 4)\n",
    "    age_df['complainant_age_group'] = complaints['complainant_age_incident'].apply(round_to_five)\n",
    "    return pd.concat([age_df, complaints['days_taken'].dt.days], axis = 1).replace({\"nan-nan\": np.nan})\n",
    "age_groups = assign_age_groups(complaints)\n",
    "age_groups.head()"
   ]
  },
  {
   "cell_type": "code",
   "execution_count": 404,
   "metadata": {},
   "outputs": [
    {
     "data": {
      "text/plain": [
       "<AxesSubplot:xlabel='complainant_age_group', ylabel='days_taken'>"
      ]
     },
     "execution_count": 404,
     "metadata": {},
     "output_type": "execute_result"
    },
    {
     "data": {
      "image/png": "[encoded data removed]",
      "text/plain": [
       "<Figure size 1440x432 with 1 Axes>"
      ]
     },
     "metadata": {},
     "output_type": "display_data"
    }
   ],
   "source": [
    "ax = plt.subplots(figsize = (20, 6))\n",
    "complaint_duration_by_age_groups = age_groups.groupby(\"complainant_age_group\").mean().sort_values(by = 'days_taken').reset_index()\n",
    "sns.barplot(data = complaint_duration_by_age_groups, x = 'complainant_age_group', y = 'days_taken')"
   ]
  },
  {
   "cell_type": "markdown",
   "metadata": {},
   "source": [
    "There isn't a clear pattern in the bar plot indicating whether age affects case duration. However, this new approach enables permutation testing because we are comparing categorical distributions to see if there is exists any significant difference:\n",
    "\n",
    "- Null hypothesis: The distribution of \n",
    "- Alternative hypothesis: Of all complaints in New York, the distribution of police officer ages is not equal to  the distribution of complainant ages.\n",
    "- Test statistic: total variation distance\n",
    "- Significance level: 0.05"
   ]
  },
  {
   "cell_type": "code",
   "execution_count": null,
   "metadata": {},
   "outputs": [
    {
     "name": "stdout",
     "output_type": "stream",
     "text": [
      "Observed value: 0.3701027977559452\n"
     ]
    }
   ],
   "source": [
    "def calculateTVD(age_probabilities, col1, col2):\n",
    "    return np.abs((age_probabilities[col1] - age_probabilities[col2])).sum()/2\n",
    "obs = calculateTVD(age_probabilities, 'mos_age_incident', 'complainant_age_incident')\n",
    "print(\"Observed value: {}\".format(obs))"
   ]
  },
  {
   "cell_type": "markdown",
   "metadata": {},
   "source": [
    "An important aspect of this dataframe is the final result of the complaint. This is captured in the column board_disposition. The column has 3 main values corresponding to different decrees according to `dispositions`."
   ]
  },
  {
   "cell_type": "code",
   "execution_count": null,
   "metadata": {},
   "outputs": [
    {
     "name": "stdout",
     "output_type": "stream",
     "text": [
      "Substantiated: The alleged conduct occurred and it violated the rules. (A breakdown of the types of discipline the CCRB can recommend is here: https://www1.nyc.gov/site/ccrb/prosecution/police-discipline.page) The NYPD can choose to ignore those recommendations. It has discretion over what, if any, discipline is imposed.)\n",
      "\n",
      "Exonerated: The alleged conduct occurred but did not violate the NYPD’s rules, which often give officers significant discretion over use of force.\n",
      "\n",
      "Unsubstantiated: The CCRB has fully investigated but could not affirmatively conclude both that the conduct occurred and that it broke the rules.\n",
      "\n"
     ]
    },
    {
     "data": {
      "text/plain": [
       "array(['Substantiated (Command Lvl Instructions)',\n",
       "       'Substantiated (Charges)', 'Substantiated (Formalized Training)',\n",
       "       'Unsubstantiated', 'Substantiated (Command Discipline A)',\n",
       "       'Exonerated', 'Substantiated (Command Discipline B)',\n",
       "       'Substantiated (Command Discipline)',\n",
       "       'Substantiated (Instructions)',\n",
       "       'Substantiated (No Recommendations)', nan,\n",
       "       'Substantiated (MOS Unidentified)'], dtype=object)"
      ]
     },
     "metadata": {},
     "output_type": "display_data"
    }
   ],
   "source": [
    "for index, row in dispositions.iterrows():\n",
    "    print(row['Disposition'] + \": \" + row['Description'], end = \"\\n\\n\")\n",
    "display(cleaned['board_disposition'].unique())"
   ]
  },
  {
   "cell_type": "markdown",
   "metadata": {},
   "source": [
    "In a society where racial demographics can manipulate a large part in the justice system, we would like to perform a hypothesis test to see if a black complainant who had trouble with a white officer was more likely to be exonerated and thus more likely to lose their case. To do this, we need to quantify the `dispositions` column. We can create a new feature of boolean values in which `True` represents a substantied disposition and `False` represents either exonerated or unsubstantiated."
   ]
  },
  {
   "cell_type": "code",
   "execution_count": null,
   "metadata": {},
   "outputs": [
    {
     "data": {
      "text/html": [
       "<div>\n",
       "<style scoped>\n",
       "    .dataframe tbody tr th:only-of-type {\n",
       "        vertical-align: middle;\n",
       "    }\n",
       "\n",
       "    .dataframe tbody tr th {\n",
       "        vertical-align: top;\n",
       "    }\n",
       "\n",
       "    .dataframe thead th {\n",
       "        text-align: right;\n",
       "    }\n",
       "</style>\n",
       "<table border=\"1\" class=\"dataframe\">\n",
       "  <thead>\n",
       "    <tr style=\"text-align: right;\">\n",
       "      <th></th>\n",
       "      <th>did_win_case</th>\n",
       "      <th>board_disposition</th>\n",
       "    </tr>\n",
       "  </thead>\n",
       "  <tbody>\n",
       "    <tr>\n",
       "      <th>0</th>\n",
       "      <td>True</td>\n",
       "      <td>Substantiated (Command Lvl Instructions)</td>\n",
       "    </tr>\n",
       "    <tr>\n",
       "      <th>1</th>\n",
       "      <td>True</td>\n",
       "      <td>Substantiated (Charges)</td>\n",
       "    </tr>\n",
       "    <tr>\n",
       "      <th>2</th>\n",
       "      <td>True</td>\n",
       "      <td>Substantiated (Charges)</td>\n",
       "    </tr>\n",
       "    <tr>\n",
       "      <th>3</th>\n",
       "      <td>True</td>\n",
       "      <td>Substantiated (Charges)</td>\n",
       "    </tr>\n",
       "    <tr>\n",
       "      <th>4</th>\n",
       "      <td>True</td>\n",
       "      <td>Substantiated (Formalized Training)</td>\n",
       "    </tr>\n",
       "    <tr>\n",
       "      <th>5</th>\n",
       "      <td>False</td>\n",
       "      <td>Unsubstantiated</td>\n",
       "    </tr>\n",
       "    <tr>\n",
       "      <th>6</th>\n",
       "      <td>False</td>\n",
       "      <td>Unsubstantiated</td>\n",
       "    </tr>\n",
       "    <tr>\n",
       "      <th>7</th>\n",
       "      <td>True</td>\n",
       "      <td>Substantiated (Command Discipline A)</td>\n",
       "    </tr>\n",
       "    <tr>\n",
       "      <th>8</th>\n",
       "      <td>True</td>\n",
       "      <td>Substantiated (Command Lvl Instructions)</td>\n",
       "    </tr>\n",
       "    <tr>\n",
       "      <th>9</th>\n",
       "      <td>False</td>\n",
       "      <td>Unsubstantiated</td>\n",
       "    </tr>\n",
       "    <tr>\n",
       "      <th>10</th>\n",
       "      <td>False</td>\n",
       "      <td>Unsubstantiated</td>\n",
       "    </tr>\n",
       "    <tr>\n",
       "      <th>11</th>\n",
       "      <td>False</td>\n",
       "      <td>Unsubstantiated</td>\n",
       "    </tr>\n",
       "    <tr>\n",
       "      <th>12</th>\n",
       "      <td>False</td>\n",
       "      <td>Exonerated</td>\n",
       "    </tr>\n",
       "    <tr>\n",
       "      <th>13</th>\n",
       "      <td>False</td>\n",
       "      <td>Unsubstantiated</td>\n",
       "    </tr>\n",
       "    <tr>\n",
       "      <th>14</th>\n",
       "      <td>False</td>\n",
       "      <td>Exonerated</td>\n",
       "    </tr>\n",
       "  </tbody>\n",
       "</table>\n",
       "</div>"
      ],
      "text/plain": [
       "   did_win_case                         board_disposition\n",
       "0          True  Substantiated (Command Lvl Instructions)\n",
       "1          True                   Substantiated (Charges)\n",
       "2          True                   Substantiated (Charges)\n",
       "3          True                   Substantiated (Charges)\n",
       "4          True       Substantiated (Formalized Training)\n",
       "5         False                           Unsubstantiated\n",
       "6         False                           Unsubstantiated\n",
       "7          True      Substantiated (Command Discipline A)\n",
       "8          True  Substantiated (Command Lvl Instructions)\n",
       "9         False                           Unsubstantiated\n",
       "10        False                           Unsubstantiated\n",
       "11        False                           Unsubstantiated\n",
       "12        False                                Exonerated\n",
       "13        False                           Unsubstantiated\n",
       "14        False                                Exonerated"
      ]
     },
     "execution_count": 469,
     "metadata": {},
     "output_type": "execute_result"
    }
   ],
   "source": [
    "def create_disposition_feature(disposition):\n",
    "    if pd.isnull(disposition):\n",
    "        return np.nan\n",
    "    elif \"Substantiated\" in disposition:\n",
    "        return True\n",
    "    else:\n",
    "        return False\n",
    "\n",
    "cleaned['did_win_case'] = cleaned['board_disposition'].apply(create_disposition_feature)\n",
    "cleaned[['did_win_case', 'board_disposition']].head(15)"
   ]
  },
  {
   "cell_type": "code",
   "execution_count": null,
   "metadata": {},
   "outputs": [
    {
     "data": {
      "text/html": [
       "<div>\n",
       "<style scoped>\n",
       "    .dataframe tbody tr th:only-of-type {\n",
       "        vertical-align: middle;\n",
       "    }\n",
       "\n",
       "    .dataframe tbody tr th {\n",
       "        vertical-align: top;\n",
       "    }\n",
       "\n",
       "    .dataframe thead th {\n",
       "        text-align: right;\n",
       "    }\n",
       "</style>\n",
       "<table border=\"1\" class=\"dataframe\">\n",
       "  <thead>\n",
       "    <tr style=\"text-align: right;\">\n",
       "      <th>complainant_ethnicity</th>\n",
       "      <th>American Indian</th>\n",
       "      <th>Asian</th>\n",
       "      <th>Black</th>\n",
       "      <th>Hispanic</th>\n",
       "      <th>White</th>\n",
       "    </tr>\n",
       "    <tr>\n",
       "      <th>mos_ethnicity</th>\n",
       "      <th></th>\n",
       "      <th></th>\n",
       "      <th></th>\n",
       "      <th></th>\n",
       "      <th></th>\n",
       "    </tr>\n",
       "  </thead>\n",
       "  <tbody>\n",
       "    <tr>\n",
       "      <th>American Indian</th>\n",
       "      <td>NaN</td>\n",
       "      <td>NaN</td>\n",
       "      <td>0.222222</td>\n",
       "      <td>0.000000</td>\n",
       "      <td>0.000000</td>\n",
       "    </tr>\n",
       "    <tr>\n",
       "      <th>Asian</th>\n",
       "      <td>0.500</td>\n",
       "      <td>0.459016</td>\n",
       "      <td>0.292115</td>\n",
       "      <td>0.254237</td>\n",
       "      <td>0.403101</td>\n",
       "    </tr>\n",
       "    <tr>\n",
       "      <th>Black</th>\n",
       "      <td>0.250</td>\n",
       "      <td>0.189655</td>\n",
       "      <td>0.234715</td>\n",
       "      <td>0.239774</td>\n",
       "      <td>0.323684</td>\n",
       "    </tr>\n",
       "    <tr>\n",
       "      <th>Hispanic</th>\n",
       "      <td>0.125</td>\n",
       "      <td>0.265957</td>\n",
       "      <td>0.240627</td>\n",
       "      <td>0.248758</td>\n",
       "      <td>0.267200</td>\n",
       "    </tr>\n",
       "    <tr>\n",
       "      <th>White</th>\n",
       "      <td>0.400</td>\n",
       "      <td>0.283912</td>\n",
       "      <td>0.234408</td>\n",
       "      <td>0.242787</td>\n",
       "      <td>0.263670</td>\n",
       "    </tr>\n",
       "  </tbody>\n",
       "</table>\n",
       "</div>"
      ],
      "text/plain": [
       "complainant_ethnicity  American Indian     Asian     Black  Hispanic     White\n",
       "mos_ethnicity                                                                 \n",
       "American Indian                    NaN       NaN  0.222222  0.000000  0.000000\n",
       "Asian                            0.500  0.459016  0.292115  0.254237  0.403101\n",
       "Black                            0.250  0.189655  0.234715  0.239774  0.323684\n",
       "Hispanic                         0.125  0.265957  0.240627  0.248758  0.267200\n",
       "White                            0.400  0.283912  0.234408  0.242787  0.263670"
      ]
     },
     "execution_count": 470,
     "metadata": {},
     "output_type": "execute_result"
    }
   ],
   "source": [
    "ethnicity_pivot_table = cleaned.pivot_table(index = 'mos_ethnicity', columns='complainant_ethnicity', values='did_win_case', aggfunc='mean')\n",
    "ethnicity_pivot_table"
   ]
  },
  {
   "cell_type": "markdown",
   "metadata": {},
   "source": [
    "This pivot table gives us a matrix of probabilities corresponding to the chance that a complainant with a certain ethnicity would win their case against a police officer of a certain ethnicity. We are particularly interested in the probabilities of winning a case against a white police officer, and so let's query that row and plot a distribution."
   ]
  },
  {
   "cell_type": "code",
   "execution_count": null,
   "metadata": {},
   "outputs": [
    {
     "data": {
      "text/plain": [
       "Text(0, 0.5, 'Chance of winning against white officer')"
      ]
     },
     "execution_count": 471,
     "metadata": {},
     "output_type": "execute_result"
    },
    {
     "data": {
      "image/png": "[encoded data removed]",
      "text/plain": [
       "<Figure size 432x288 with 1 Axes>"
      ]
     },
     "metadata": {},
     "output_type": "display_data"
    }
   ],
   "source": [
    "white_officer_pivot_table = ethnicity_pivot_table.loc['White']\n",
    "ax = sns.barplot(x = white_officer_pivot_table.sort_values().index, y = white_officer_pivot_table.sort_values())\n",
    "ax.set_ylabel(\"Chance of winning against white officer\")"
   ]
  },
  {
   "cell_type": "markdown",
   "metadata": {},
   "source": [
    "It seems that you have a lower chance of winning your complaint if you are a black complainant versus a white officer. Let's conduct a hypothesis test to know if this chance disparity comes from randomness or not. Let's formulate the test:\n",
    "- Null hypothesis: Race and chance of winning a complaint are not related - the low black proportion is strictly due to chance.\n",
    "- Alternative hypothesis: Race and chance of winning are related - the chance of winning as a black person against a white officer is lower than that of other races.\n",
    "- Test statistic: percent chance of success\n",
    "- P-value: 0.05"
   ]
  },
  {
   "cell_type": "code",
   "execution_count": null,
   "metadata": {},
   "outputs": [
    {
     "data": {
      "text/html": [
       "<div>\n",
       "<style scoped>\n",
       "    .dataframe tbody tr th:only-of-type {\n",
       "        vertical-align: middle;\n",
       "    }\n",
       "\n",
       "    .dataframe tbody tr th {\n",
       "        vertical-align: top;\n",
       "    }\n",
       "\n",
       "    .dataframe thead th {\n",
       "        text-align: right;\n",
       "    }\n",
       "</style>\n",
       "<table border=\"1\" class=\"dataframe\">\n",
       "  <thead>\n",
       "    <tr style=\"text-align: right;\">\n",
       "      <th>complainant_ethnicity</th>\n",
       "      <th>American Indian</th>\n",
       "      <th>Asian</th>\n",
       "      <th>Black</th>\n",
       "      <th>Hispanic</th>\n",
       "      <th>White</th>\n",
       "    </tr>\n",
       "    <tr>\n",
       "      <th>mos_ethnicity</th>\n",
       "      <th></th>\n",
       "      <th></th>\n",
       "      <th></th>\n",
       "      <th></th>\n",
       "      <th></th>\n",
       "    </tr>\n",
       "  </thead>\n",
       "  <tbody>\n",
       "    <tr>\n",
       "      <th>American Indian</th>\n",
       "      <td>NaN</td>\n",
       "      <td>NaN</td>\n",
       "      <td>18.0</td>\n",
       "      <td>2.0</td>\n",
       "      <td>2.0</td>\n",
       "    </tr>\n",
       "    <tr>\n",
       "      <th>Asian</th>\n",
       "      <td>2.0</td>\n",
       "      <td>61.0</td>\n",
       "      <td>558.0</td>\n",
       "      <td>236.0</td>\n",
       "      <td>129.0</td>\n",
       "    </tr>\n",
       "    <tr>\n",
       "      <th>Black</th>\n",
       "      <td>4.0</td>\n",
       "      <td>58.0</td>\n",
       "      <td>2846.0</td>\n",
       "      <td>709.0</td>\n",
       "      <td>380.0</td>\n",
       "    </tr>\n",
       "    <tr>\n",
       "      <th>Hispanic</th>\n",
       "      <td>8.0</td>\n",
       "      <td>94.0</td>\n",
       "      <td>4721.0</td>\n",
       "      <td>2215.0</td>\n",
       "      <td>625.0</td>\n",
       "    </tr>\n",
       "    <tr>\n",
       "      <th>White</th>\n",
       "      <td>50.0</td>\n",
       "      <td>317.0</td>\n",
       "      <td>8963.0</td>\n",
       "      <td>3258.0</td>\n",
       "      <td>1646.0</td>\n",
       "    </tr>\n",
       "  </tbody>\n",
       "</table>\n",
       "</div>"
      ],
      "text/plain": [
       "complainant_ethnicity  American Indian  Asian   Black  Hispanic   White\n",
       "mos_ethnicity                                                          \n",
       "American Indian                    NaN    NaN    18.0       2.0     2.0\n",
       "Asian                              2.0   61.0   558.0     236.0   129.0\n",
       "Black                              4.0   58.0  2846.0     709.0   380.0\n",
       "Hispanic                           8.0   94.0  4721.0    2215.0   625.0\n",
       "White                             50.0  317.0  8963.0    3258.0  1646.0"
      ]
     },
     "execution_count": 472,
     "metadata": {},
     "output_type": "execute_result"
    }
   ],
   "source": [
    "cleaned.pivot_table(index = 'mos_ethnicity', columns='complainant_ethnicity', values='did_win_case', aggfunc='count')"
   ]
  },
  {
   "cell_type": "markdown",
   "metadata": {},
   "source": [
    "The above table shows the counts of each racial interaction. There are 8963 black complainants against white officers. Thus, our hypothesis test can be summarized by the fact that if we randomly sample 8963 complainants from a general population of complainants that are against white officers, calculate the percent chance of success, and then compare to our observed statistic, we would either see negligible difference or significant difference."
   ]
  },
  {
   "cell_type": "code",
   "execution_count": null,
   "metadata": {},
   "outputs": [],
   "source": [
    "def racial_hypoth(cleaned, N):\n",
    "    obs = ethnicity_pivot_table.loc['White', 'Black']\n",
    "    only_white_officer = cleaned[(cleaned['mos_ethnicity'] == 'White') & (~cleaned['mos_ethnicity'].isna())]['did_win_case']\n",
    "    probabilities = np.random.choice(only_white_officer, size = (N, 8963)).mean(axis = 1)\n",
    "    return probabilities, np.mean(probabilities <= obs), obs\n",
    "probabilities, p_val, obs = racial_hypoth(cleaned, 5000)\n",
    "ax = pd.Series(probabilities).plot(kind = 'hist', bins = 30, ec = 'black', alpha = .5)\n",
    "plt.axvline(obs, color = 'red')"
   ]
  },
  {
   "cell_type": "code",
   "execution_count": null,
   "metadata": {},
   "outputs": [
    {
     "name": "stdout",
     "output_type": "stream",
     "text": [
      "P-value is: 0.059\n"
     ]
    }
   ],
   "source": [
    "print(\"P-value is: {}\".format(p_val))"
   ]
  },
  {
   "cell_type": "markdown",
   "metadata": {},
   "source": [
    "Because our p-value is 0.0552, which is greater than our set 0.05 significance level, we fail to reject the null hypothesis that race and chance of winning are not related. However, this doesn't mean that race and chance of winning a complaint aren't completely unrelated!"
   ]
  },
  {
   "cell_type": "markdown",
   "metadata": {},
   "source": [
    "### Gender exploration:\n",
    "Now, let's see if we can find any interesting insights towards how gender might play a role in our data."
   ]
  },
  {
   "cell_type": "markdown",
   "metadata": {},
   "source": [
    "What are the gender proportions for officers? For complainants?"
   ]
  },
  {
   "cell_type": "code",
   "execution_count": null,
   "metadata": {},
   "outputs": [
    {
     "data": {
      "text/plain": [
       "M    0.947092\n",
       "F    0.052908\n",
       "Name: mos_gender, dtype: float64"
      ]
     },
     "metadata": {},
     "output_type": "display_data"
    },
    {
     "data": {
      "text/plain": [
       "Male                     0.826670\n",
       "Female                   0.172402\n",
       "Transwoman (MTF)         0.000688\n",
       "Transman (FTM)           0.000172\n",
       "Gender non-conforming    0.000069\n",
       "Name: complainant_gender, dtype: float64"
      ]
     },
     "metadata": {},
     "output_type": "display_data"
    }
   ],
   "source": [
    "display(cleaned['mos_gender'].value_counts(normalize = True))\n",
    "display(cleaned['complainant_gender'].value_counts(normalize = True))"
   ]
  },
  {
   "cell_type": "markdown",
   "metadata": {},
   "source": [
    "What are the top reasons why an officer made contact for each complainant gender group? Why the complainant had a complaint in the first place?"
   ]
  },
  {
   "cell_type": "code",
   "execution_count": null,
   "metadata": {},
   "outputs": [
    {
     "data": {
      "text/html": [
       "<style type=\"text/css\">\n",
       "</style>\n",
       "<table id=\"T_c77c3_\">\n",
       "  <caption>Most common reasons by gender</caption>\n",
       "  <thead>\n",
       "    <tr>\n",
       "      <th class=\"blank level0\" >&nbsp;</th>\n",
       "      <th class=\"col_heading level0 col0\" >fado_type</th>\n",
       "      <th class=\"col_heading level0 col1\" >allegation</th>\n",
       "      <th class=\"col_heading level0 col2\" >contact_reason</th>\n",
       "    </tr>\n",
       "    <tr>\n",
       "      <th class=\"index_name level0\" >complainant_gender</th>\n",
       "      <th class=\"blank col0\" >&nbsp;</th>\n",
       "      <th class=\"blank col1\" >&nbsp;</th>\n",
       "      <th class=\"blank col2\" >&nbsp;</th>\n",
       "    </tr>\n",
       "  </thead>\n",
       "  <tbody>\n",
       "    <tr>\n",
       "      <th id=\"T_c77c3_level0_row0\" class=\"row_heading level0 row0\" >Female</th>\n",
       "      <td id=\"T_c77c3_row0_col0\" class=\"data row0 col0\" >Abuse of Authority</td>\n",
       "      <td id=\"T_c77c3_row0_col1\" class=\"data row0 col1\" >Word</td>\n",
       "      <td id=\"T_c77c3_row0_col2\" class=\"data row0 col2\" >PD suspected C/V of violation/crime - street</td>\n",
       "    </tr>\n",
       "    <tr>\n",
       "      <th id=\"T_c77c3_level0_row1\" class=\"row_heading level0 row1\" >Gender non-conforming</th>\n",
       "      <td id=\"T_c77c3_row1_col0\" class=\"data row1 col0\" >Abuse of Authority</td>\n",
       "      <td id=\"T_c77c3_row1_col1\" class=\"data row1 col1\" >Interference with recording</td>\n",
       "      <td id=\"T_c77c3_row1_col2\" class=\"data row1 col2\" >C/V at PCT to file complaint of crime</td>\n",
       "    </tr>\n",
       "    <tr>\n",
       "      <th id=\"T_c77c3_level0_row2\" class=\"row_heading level0 row2\" >Male</th>\n",
       "      <td id=\"T_c77c3_row2_col0\" class=\"data row2 col0\" >Abuse of Authority</td>\n",
       "      <td id=\"T_c77c3_row2_col1\" class=\"data row2 col1\" >Physical force</td>\n",
       "      <td id=\"T_c77c3_row2_col2\" class=\"data row2 col2\" >PD suspected C/V of violation/crime - street</td>\n",
       "    </tr>\n",
       "    <tr>\n",
       "      <th id=\"T_c77c3_level0_row3\" class=\"row_heading level0 row3\" >Transman (FTM)</th>\n",
       "      <td id=\"T_c77c3_row3_col0\" class=\"data row3 col0\" >Discourtesy</td>\n",
       "      <td id=\"T_c77c3_row3_col1\" class=\"data row3 col1\" >Word</td>\n",
       "      <td id=\"T_c77c3_row3_col2\" class=\"data row3 col2\" >Report-dispute</td>\n",
       "    </tr>\n",
       "    <tr>\n",
       "      <th id=\"T_c77c3_level0_row4\" class=\"row_heading level0 row4\" >Transwoman (MTF)</th>\n",
       "      <td id=\"T_c77c3_row4_col0\" class=\"data row4 col0\" >Abuse of Authority</td>\n",
       "      <td id=\"T_c77c3_row4_col1\" class=\"data row4 col1\" >Gender</td>\n",
       "      <td id=\"T_c77c3_row4_col2\" class=\"data row4 col2\" >PD suspected C/V of violation/crime - street</td>\n",
       "    </tr>\n",
       "  </tbody>\n",
       "</table>\n"
      ],
      "text/plain": [
       "<pandas.io.formats.style.Styler at 0x1e2c44c8460>"
      ]
     },
     "execution_count": 436,
     "metadata": {},
     "output_type": "execute_result"
    }
   ],
   "source": [
    "most_common_reasons_by_gender = cleaned.groupby(\"complainant_gender\").agg(lambda series: series.value_counts().index[0])[['fado_type', 'allegation', 'contact_reason']]\n",
    "most_common_reasons_by_gender.style.set_caption(\"Most common reasons by gender\")"
   ]
  },
  {
   "cell_type": "markdown",
   "metadata": {},
   "source": [
    "What are the general win percentages for each gender? What about the general duration it took for these cases?"
   ]
  },
  {
   "cell_type": "code",
   "execution_count": null,
   "metadata": {},
   "outputs": [
    {
     "data": {
      "text/html": [
       "<div>\n",
       "<style scoped>\n",
       "    .dataframe tbody tr th:only-of-type {\n",
       "        vertical-align: middle;\n",
       "    }\n",
       "\n",
       "    .dataframe tbody tr th {\n",
       "        vertical-align: top;\n",
       "    }\n",
       "\n",
       "    .dataframe thead th {\n",
       "        text-align: right;\n",
       "    }\n",
       "</style>\n",
       "<table border=\"1\" class=\"dataframe\">\n",
       "  <thead>\n",
       "    <tr style=\"text-align: right;\">\n",
       "      <th></th>\n",
       "      <th>did_win_case</th>\n",
       "      <th>days_taken</th>\n",
       "    </tr>\n",
       "    <tr>\n",
       "      <th>complainant_gender</th>\n",
       "      <th></th>\n",
       "      <th></th>\n",
       "    </tr>\n",
       "  </thead>\n",
       "  <tbody>\n",
       "    <tr>\n",
       "      <th>Female</th>\n",
       "      <td>0.205583</td>\n",
       "      <td>298 days 19:51:20.279162512</td>\n",
       "    </tr>\n",
       "    <tr>\n",
       "      <th>Gender non-conforming</th>\n",
       "      <td>1.000000</td>\n",
       "      <td>304 days 00:00:00</td>\n",
       "    </tr>\n",
       "    <tr>\n",
       "      <th>Male</th>\n",
       "      <td>0.255666</td>\n",
       "      <td>314 days 04:46:53.889466464</td>\n",
       "    </tr>\n",
       "    <tr>\n",
       "      <th>Transman (FTM)</th>\n",
       "      <td>0.400000</td>\n",
       "      <td>274 days 00:00:00</td>\n",
       "    </tr>\n",
       "    <tr>\n",
       "      <th>Transwoman (MTF)</th>\n",
       "      <td>0.550000</td>\n",
       "      <td>264 days 19:12:00</td>\n",
       "    </tr>\n",
       "  </tbody>\n",
       "</table>\n",
       "</div>"
      ],
      "text/plain": [
       "                       did_win_case                  days_taken\n",
       "complainant_gender                                             \n",
       "Female                     0.205583 298 days 19:51:20.279162512\n",
       "Gender non-conforming      1.000000           304 days 00:00:00\n",
       "Male                       0.255666 314 days 04:46:53.889466464\n",
       "Transman (FTM)             0.400000           274 days 00:00:00\n",
       "Transwoman (MTF)           0.550000           264 days 19:12:00"
      ]
     },
     "execution_count": 437,
     "metadata": {},
     "output_type": "execute_result"
    }
   ],
   "source": [
    "pd.concat([cleaned.groupby(\"complainant_gender\")[['did_win_case']].mean(), cleaned.groupby(\"complainant_gender\")[['days_taken']].mean()], axis= 1)"
   ]
  },
  {
   "cell_type": "markdown",
   "metadata": {},
   "source": [
    "Do females have a higher complaint success rate than men for the same allegations? Let's use fado_type, which is a generalization of the allegation column and thus has less unique values."
   ]
  },
  {
   "cell_type": "code",
   "execution_count": null,
   "metadata": {},
   "outputs": [
    {
     "data": {
      "image/png": "[encoded data removed]",
      "text/plain": [
       "<Figure size 432x288 with 1 Axes>"
      ]
     },
     "metadata": {},
     "output_type": "display_data"
    }
   ],
   "source": [
    "gender_and_allegation_table_obs = cleaned.pivot_table(index = 'complainant_gender', columns = 'fado_type', values='did_win_case', aggfunc=\"mean\", fill_value=0)\n",
    "gender_and_allegation_table_obs.loc[['Female', 'Male'], :].T.plot(kind = 'bar')\n",
    "x = plt.xticks(rotation = 'horizontal')"
   ]
  },
  {
   "cell_type": "markdown",
   "metadata": {},
   "source": [
    "Interesting! It seems that, across all types of complaints, women lose a disproportionate amount of their cases than men do. Because we are comparing the categorical distribution of win percentage for females against the categorical distribution of win percentage for males without knowledge of the *correct* probability model, let's formulate a permutation test:\n",
    "- Null hypothesis: the distribution of percent chance of winning a complaint for men is the same as that for females.\n",
    "- Alternative hypothesis: the distribution of percent chance of winning a complaint as a female is less than that for men.\n",
    "- Test statistic: sum of proportion differences between female and men \n",
    "- Significance level: 0.05"
   ]
  },
  {
   "cell_type": "code",
   "execution_count": null,
   "metadata": {},
   "outputs": [
    {
     "ename": "KeyboardInterrupt",
     "evalue": "",
     "output_type": "error",
     "traceback": [
      "\u001b[1;31m---------------------------------------------------------------------------\u001b[0m",
      "\u001b[1;31mNotImplementedError\u001b[0m                       Traceback (most recent call last)",
      "File \u001b[1;32mc:\\Users\\ryanh\\Anaconda3\\envs\\dsc80\\lib\\site-packages\\pandas\\core\\groupby\\generic.py:1068\u001b[0m, in \u001b[0;36mDataFrameGroupBy._cython_agg_general.<locals>.array_func\u001b[1;34m(values)\u001b[0m\n\u001b[0;32m   1067\u001b[0m \u001b[39mtry\u001b[39;00m:\n\u001b[1;32m-> 1068\u001b[0m     result \u001b[39m=\u001b[39m \u001b[39mself\u001b[39;49m\u001b[39m.\u001b[39;49mgrouper\u001b[39m.\u001b[39;49m_cython_operation(\n\u001b[0;32m   1069\u001b[0m         \u001b[39m\"\u001b[39;49m\u001b[39maggregate\u001b[39;49m\u001b[39m\"\u001b[39;49m, values, how, axis\u001b[39m=\u001b[39;49mdata\u001b[39m.\u001b[39;49mndim \u001b[39m-\u001b[39;49m \u001b[39m1\u001b[39;49m, min_count\u001b[39m=\u001b[39;49mmin_count\n\u001b[0;32m   1070\u001b[0m     )\n\u001b[0;32m   1071\u001b[0m \u001b[39mexcept\u001b[39;00m \u001b[39mNotImplementedError\u001b[39;00m:\n\u001b[0;32m   1072\u001b[0m     \u001b[39m# generally if we have numeric_only=False\u001b[39;00m\n\u001b[0;32m   1073\u001b[0m     \u001b[39m# and non-applicable functions\u001b[39;00m\n\u001b[0;32m   1074\u001b[0m     \u001b[39m# try to python agg\u001b[39;00m\n\u001b[0;32m   1075\u001b[0m     \u001b[39m# TODO: shouldn't min_count matter?\u001b[39;00m\n",
      "File \u001b[1;32mc:\\Users\\ryanh\\Anaconda3\\envs\\dsc80\\lib\\site-packages\\pandas\\core\\groupby\\ops.py:978\u001b[0m, in \u001b[0;36mBaseGrouper._cython_operation\u001b[1;34m(self, kind, values, how, axis, min_count, **kwargs)\u001b[0m\n\u001b[0;32m    977\u001b[0m ngroups \u001b[39m=\u001b[39m \u001b[39mself\u001b[39m\u001b[39m.\u001b[39mngroups\n\u001b[1;32m--> 978\u001b[0m \u001b[39mreturn\u001b[39;00m cy_op\u001b[39m.\u001b[39;49mcython_operation(\n\u001b[0;32m    979\u001b[0m     values\u001b[39m=\u001b[39;49mvalues,\n\u001b[0;32m    980\u001b[0m     axis\u001b[39m=\u001b[39;49maxis,\n\u001b[0;32m    981\u001b[0m     min_count\u001b[39m=\u001b[39;49mmin_count,\n\u001b[0;32m    982\u001b[0m     comp_ids\u001b[39m=\u001b[39;49mids,\n\u001b[0;32m    983\u001b[0m     ngroups\u001b[39m=\u001b[39;49mngroups,\n\u001b[0;32m    984\u001b[0m     \u001b[39m*\u001b[39;49m\u001b[39m*\u001b[39;49mkwargs,\n\u001b[0;32m    985\u001b[0m )\n",
      "File \u001b[1;32mc:\\Users\\ryanh\\Anaconda3\\envs\\dsc80\\lib\\site-packages\\pandas\\core\\groupby\\ops.py:639\u001b[0m, in \u001b[0;36mWrappedCythonOp.cython_operation\u001b[1;34m(self, values, axis, min_count, comp_ids, ngroups, **kwargs)\u001b[0m\n\u001b[0;32m    631\u001b[0m     \u001b[39mreturn\u001b[39;00m \u001b[39mself\u001b[39m\u001b[39m.\u001b[39m_ea_wrap_cython_operation(\n\u001b[0;32m    632\u001b[0m         values,\n\u001b[0;32m    633\u001b[0m         min_count\u001b[39m=\u001b[39mmin_count,\n\u001b[1;32m   (...)\u001b[0m\n\u001b[0;32m    636\u001b[0m         \u001b[39m*\u001b[39m\u001b[39m*\u001b[39mkwargs,\n\u001b[0;32m    637\u001b[0m     )\n\u001b[1;32m--> 639\u001b[0m \u001b[39mreturn\u001b[39;00m \u001b[39mself\u001b[39;49m\u001b[39m.\u001b[39;49m_cython_op_ndim_compat(\n\u001b[0;32m    640\u001b[0m     values,\n\u001b[0;32m    641\u001b[0m     min_count\u001b[39m=\u001b[39;49mmin_count,\n\u001b[0;32m    642\u001b[0m     ngroups\u001b[39m=\u001b[39;49mngroups,\n\u001b[0;32m    643\u001b[0m     comp_ids\u001b[39m=\u001b[39;49mcomp_ids,\n\u001b[0;32m    644\u001b[0m     mask\u001b[39m=\u001b[39;49m\u001b[39mNone\u001b[39;49;00m,\n\u001b[0;32m    645\u001b[0m     \u001b[39m*\u001b[39;49m\u001b[39m*\u001b[39;49mkwargs,\n\u001b[0;32m    646\u001b[0m )\n",
      "File \u001b[1;32mc:\\Users\\ryanh\\Anaconda3\\envs\\dsc80\\lib\\site-packages\\pandas\\core\\groupby\\ops.py:495\u001b[0m, in \u001b[0;36mWrappedCythonOp._cython_op_ndim_compat\u001b[1;34m(self, values, min_count, ngroups, comp_ids, mask, **kwargs)\u001b[0m\n\u001b[0;32m    493\u001b[0m     \u001b[39mreturn\u001b[39;00m res\u001b[39m.\u001b[39mT\n\u001b[1;32m--> 495\u001b[0m \u001b[39mreturn\u001b[39;00m \u001b[39mself\u001b[39;49m\u001b[39m.\u001b[39;49m_call_cython_op(\n\u001b[0;32m    496\u001b[0m     values,\n\u001b[0;32m    497\u001b[0m     min_count\u001b[39m=\u001b[39;49mmin_count,\n\u001b[0;32m    498\u001b[0m     ngroups\u001b[39m=\u001b[39;49mngroups,\n\u001b[0;32m    499\u001b[0m     comp_ids\u001b[39m=\u001b[39;49mcomp_ids,\n\u001b[0;32m    500\u001b[0m     mask\u001b[39m=\u001b[39;49mmask,\n\u001b[0;32m    501\u001b[0m     \u001b[39m*\u001b[39;49m\u001b[39m*\u001b[39;49mkwargs,\n\u001b[0;32m    502\u001b[0m )\n",
      "File \u001b[1;32mc:\\Users\\ryanh\\Anaconda3\\envs\\dsc80\\lib\\site-packages\\pandas\\core\\groupby\\ops.py:541\u001b[0m, in \u001b[0;36mWrappedCythonOp._call_cython_op\u001b[1;34m(self, values, min_count, ngroups, comp_ids, mask, **kwargs)\u001b[0m\n\u001b[0;32m    540\u001b[0m out_shape \u001b[39m=\u001b[39m \u001b[39mself\u001b[39m\u001b[39m.\u001b[39m_get_output_shape(ngroups, values)\n\u001b[1;32m--> 541\u001b[0m func, values \u001b[39m=\u001b[39m \u001b[39mself\u001b[39;49m\u001b[39m.\u001b[39;49mget_cython_func_and_vals(values, is_numeric)\n\u001b[0;32m    542\u001b[0m out_dtype \u001b[39m=\u001b[39m \u001b[39mself\u001b[39m\u001b[39m.\u001b[39mget_out_dtype(values\u001b[39m.\u001b[39mdtype)\n",
      "File \u001b[1;32mc:\\Users\\ryanh\\Anaconda3\\envs\\dsc80\\lib\\site-packages\\pandas\\core\\groupby\\ops.py:204\u001b[0m, in \u001b[0;36mWrappedCythonOp.get_cython_func_and_vals\u001b[1;34m(self, values, is_numeric)\u001b[0m\n\u001b[0;32m    202\u001b[0m     \u001b[39mreturn\u001b[39;00m func, values\n\u001b[1;32m--> 204\u001b[0m func \u001b[39m=\u001b[39m \u001b[39mself\u001b[39;49m\u001b[39m.\u001b[39;49m_get_cython_function(kind, how, values\u001b[39m.\u001b[39;49mdtype, is_numeric)\n\u001b[0;32m    206\u001b[0m \u001b[39mif\u001b[39;00m values\u001b[39m.\u001b[39mdtype\u001b[39m.\u001b[39mkind \u001b[39min\u001b[39;00m [\u001b[39m\"\u001b[39m\u001b[39mi\u001b[39m\u001b[39m\"\u001b[39m, \u001b[39m\"\u001b[39m\u001b[39mu\u001b[39m\u001b[39m\"\u001b[39m]:\n",
      "File \u001b[1;32mc:\\Users\\ryanh\\Anaconda3\\envs\\dsc80\\lib\\site-packages\\pandas\\core\\groupby\\ops.py:169\u001b[0m, in \u001b[0;36mWrappedCythonOp._get_cython_function\u001b[1;34m(cls, kind, how, dtype, is_numeric)\u001b[0m\n\u001b[0;32m    167\u001b[0m \u001b[39mif\u001b[39;00m \u001b[39m\"\u001b[39m\u001b[39mobject\u001b[39m\u001b[39m\"\u001b[39m \u001b[39mnot\u001b[39;00m \u001b[39min\u001b[39;00m f\u001b[39m.\u001b[39m__signatures__:\n\u001b[0;32m    168\u001b[0m     \u001b[39m# raise NotImplementedError here rather than TypeError later\u001b[39;00m\n\u001b[1;32m--> 169\u001b[0m     \u001b[39mraise\u001b[39;00m \u001b[39mNotImplementedError\u001b[39;00m(\n\u001b[0;32m    170\u001b[0m         \u001b[39mf\u001b[39m\u001b[39m\"\u001b[39m\u001b[39mfunction is not implemented for this dtype: \u001b[39m\u001b[39m\"\u001b[39m\n\u001b[0;32m    171\u001b[0m         \u001b[39mf\u001b[39m\u001b[39m\"\u001b[39m\u001b[39m[how->\u001b[39m\u001b[39m{\u001b[39;00mhow\u001b[39m}\u001b[39;00m\u001b[39m,dtype->\u001b[39m\u001b[39m{\u001b[39;00mdtype_str\u001b[39m}\u001b[39;00m\u001b[39m]\u001b[39m\u001b[39m\"\u001b[39m\n\u001b[0;32m    172\u001b[0m     )\n\u001b[0;32m    173\u001b[0m \u001b[39mreturn\u001b[39;00m f\n",
      "\u001b[1;31mNotImplementedError\u001b[0m: function is not implemented for this dtype: [how->mean,dtype->object]",
      "\nDuring handling of the above exception, another exception occurred:\n",
      "\u001b[1;31mKeyboardInterrupt\u001b[0m                         Traceback (most recent call last)",
      "\u001b[1;32mc:\\Users\\ryanh\\code\\DS\\personal\\complaints\\notebook.ipynb Cell 74\u001b[0m in \u001b[0;36m<cell line: 12>\u001b[1;34m()\u001b[0m\n\u001b[0;32m     <a href='vscode-notebook-cell:/c%3A/Users/ryanh/code/DS/personal/complaints/notebook.ipynb#Y124sZmlsZQ%3D%3D?line=9'>10</a>\u001b[0m     plt\u001b[39m.\u001b[39maxvline(np\u001b[39m.\u001b[39mpercentile(stats, \u001b[39m5\u001b[39m), color \u001b[39m=\u001b[39m \u001b[39m'\u001b[39m\u001b[39mred\u001b[39m\u001b[39m'\u001b[39m)\n\u001b[0;32m     <a href='vscode-notebook-cell:/c%3A/Users/ryanh/code/DS/personal/complaints/notebook.ipynb#Y124sZmlsZQ%3D%3D?line=10'>11</a>\u001b[0m     \u001b[39mreturn\u001b[39;00m np\u001b[39m.\u001b[39mmean(np\u001b[39m.\u001b[39marray(stats) \u001b[39m<\u001b[39m\u001b[39m=\u001b[39m obs)\n\u001b[1;32m---> <a href='vscode-notebook-cell:/c%3A/Users/ryanh/code/DS/personal/complaints/notebook.ipynb#Y124sZmlsZQ%3D%3D?line=11'>12</a>\u001b[0m \u001b[39mprint\u001b[39m(\u001b[39m\"\u001b[39m\u001b[39mP-value: \u001b[39m\u001b[39m{}\u001b[39;00m\u001b[39m\"\u001b[39m\u001b[39m.\u001b[39mformat(permutation(cleaned, \u001b[39m400\u001b[39;49m)))\n",
      "\u001b[1;32mc:\\Users\\ryanh\\code\\DS\\personal\\complaints\\notebook.ipynb Cell 74\u001b[0m in \u001b[0;36mpermutation\u001b[1;34m(cleaned, N)\u001b[0m\n\u001b[0;32m      <a href='vscode-notebook-cell:/c%3A/Users/ryanh/code/DS/personal/complaints/notebook.ipynb#Y124sZmlsZQ%3D%3D?line=4'>5</a>\u001b[0m     gender_and_allegation \u001b[39m=\u001b[39m cleaned[[\u001b[39m'\u001b[39m\u001b[39mcomplainant_gender\u001b[39m\u001b[39m'\u001b[39m, \u001b[39m'\u001b[39m\u001b[39mfado_type\u001b[39m\u001b[39m'\u001b[39m, \u001b[39m'\u001b[39m\u001b[39mdid_win_case\u001b[39m\u001b[39m'\u001b[39m]]\u001b[39m.\u001b[39mcopy()\n\u001b[0;32m      <a href='vscode-notebook-cell:/c%3A/Users/ryanh/code/DS/personal/complaints/notebook.ipynb#Y124sZmlsZQ%3D%3D?line=5'>6</a>\u001b[0m     gender_and_allegation[\u001b[39m'\u001b[39m\u001b[39mshuffled_gender\u001b[39m\u001b[39m'\u001b[39m] \u001b[39m=\u001b[39m np\u001b[39m.\u001b[39mrandom\u001b[39m.\u001b[39mpermutation(gender_and_allegation[\u001b[39m'\u001b[39m\u001b[39mcomplainant_gender\u001b[39m\u001b[39m'\u001b[39m])\n\u001b[1;32m----> <a href='vscode-notebook-cell:/c%3A/Users/ryanh/code/DS/personal/complaints/notebook.ipynb#Y124sZmlsZQ%3D%3D?line=6'>7</a>\u001b[0m     gender_and_allegation_table \u001b[39m=\u001b[39m gender_and_allegation\u001b[39m.\u001b[39;49mpivot_table(index \u001b[39m=\u001b[39;49m \u001b[39m'\u001b[39;49m\u001b[39mshuffled_gender\u001b[39;49m\u001b[39m'\u001b[39;49m, columns \u001b[39m=\u001b[39;49m \u001b[39m'\u001b[39;49m\u001b[39mfado_type\u001b[39;49m\u001b[39m'\u001b[39;49m, values\u001b[39m=\u001b[39;49m\u001b[39m'\u001b[39;49m\u001b[39mdid_win_case\u001b[39;49m\u001b[39m'\u001b[39;49m, aggfunc\u001b[39m=\u001b[39;49m\u001b[39m\"\u001b[39;49m\u001b[39mmean\u001b[39;49m\u001b[39m\"\u001b[39;49m, fill_value\u001b[39m=\u001b[39;49m\u001b[39m0\u001b[39;49m)\u001b[39m.\u001b[39mloc[[\u001b[39m'\u001b[39m\u001b[39mFemale\u001b[39m\u001b[39m'\u001b[39m, \u001b[39m'\u001b[39m\u001b[39mMale\u001b[39m\u001b[39m'\u001b[39m], :]\n\u001b[0;32m      <a href='vscode-notebook-cell:/c%3A/Users/ryanh/code/DS/personal/complaints/notebook.ipynb#Y124sZmlsZQ%3D%3D?line=7'>8</a>\u001b[0m     stats\u001b[39m.\u001b[39mappend(gender_and_allegation_table\u001b[39m.\u001b[39mdiff(\u001b[39m-\u001b[39m\u001b[39m1\u001b[39m)\u001b[39m.\u001b[39mloc[\u001b[39m'\u001b[39m\u001b[39mFemale\u001b[39m\u001b[39m'\u001b[39m]\u001b[39m.\u001b[39msum())\n\u001b[0;32m      <a href='vscode-notebook-cell:/c%3A/Users/ryanh/code/DS/personal/complaints/notebook.ipynb#Y124sZmlsZQ%3D%3D?line=8'>9</a>\u001b[0m ax \u001b[39m=\u001b[39m pd\u001b[39m.\u001b[39mSeries(stats)\u001b[39m.\u001b[39mplot(kind \u001b[39m=\u001b[39m \u001b[39m'\u001b[39m\u001b[39mhist\u001b[39m\u001b[39m'\u001b[39m)\u001b[39m.\u001b[39maxvline(obs)\n",
      "File \u001b[1;32mc:\\Users\\ryanh\\Anaconda3\\envs\\dsc80\\lib\\site-packages\\pandas\\core\\frame.py:7951\u001b[0m, in \u001b[0;36mDataFrame.pivot_table\u001b[1;34m(self, values, index, columns, aggfunc, fill_value, margins, dropna, margins_name, observed, sort)\u001b[0m\n\u001b[0;32m   7934\u001b[0m \u001b[39m@Substitution\u001b[39m(\u001b[39m\"\u001b[39m\u001b[39m\"\u001b[39m)\n\u001b[0;32m   7935\u001b[0m \u001b[39m@Appender\u001b[39m(_shared_docs[\u001b[39m\"\u001b[39m\u001b[39mpivot_table\u001b[39m\u001b[39m\"\u001b[39m])\n\u001b[0;32m   7936\u001b[0m \u001b[39mdef\u001b[39;00m \u001b[39mpivot_table\u001b[39m(\n\u001b[1;32m   (...)\u001b[0m\n\u001b[0;32m   7947\u001b[0m     sort\u001b[39m=\u001b[39m\u001b[39mTrue\u001b[39;00m,\n\u001b[0;32m   7948\u001b[0m ) \u001b[39m-\u001b[39m\u001b[39m>\u001b[39m DataFrame:\n\u001b[0;32m   7949\u001b[0m     \u001b[39mfrom\u001b[39;00m \u001b[39mpandas\u001b[39;00m\u001b[39m.\u001b[39;00m\u001b[39mcore\u001b[39;00m\u001b[39m.\u001b[39;00m\u001b[39mreshape\u001b[39;00m\u001b[39m.\u001b[39;00m\u001b[39mpivot\u001b[39;00m \u001b[39mimport\u001b[39;00m pivot_table\n\u001b[1;32m-> 7951\u001b[0m     \u001b[39mreturn\u001b[39;00m pivot_table(\n\u001b[0;32m   7952\u001b[0m         \u001b[39mself\u001b[39;49m,\n\u001b[0;32m   7953\u001b[0m         values\u001b[39m=\u001b[39;49mvalues,\n\u001b[0;32m   7954\u001b[0m         index\u001b[39m=\u001b[39;49mindex,\n\u001b[0;32m   7955\u001b[0m         columns\u001b[39m=\u001b[39;49mcolumns,\n\u001b[0;32m   7956\u001b[0m         aggfunc\u001b[39m=\u001b[39;49maggfunc,\n\u001b[0;32m   7957\u001b[0m         fill_value\u001b[39m=\u001b[39;49mfill_value,\n\u001b[0;32m   7958\u001b[0m         margins\u001b[39m=\u001b[39;49mmargins,\n\u001b[0;32m   7959\u001b[0m         dropna\u001b[39m=\u001b[39;49mdropna,\n\u001b[0;32m   7960\u001b[0m         margins_name\u001b[39m=\u001b[39;49mmargins_name,\n\u001b[0;32m   7961\u001b[0m         observed\u001b[39m=\u001b[39;49mobserved,\n\u001b[0;32m   7962\u001b[0m         sort\u001b[39m=\u001b[39;49msort,\n\u001b[0;32m   7963\u001b[0m     )\n",
      "File \u001b[1;32mc:\\Users\\ryanh\\Anaconda3\\envs\\dsc80\\lib\\site-packages\\pandas\\core\\reshape\\pivot.py:95\u001b[0m, in \u001b[0;36mpivot_table\u001b[1;34m(data, values, index, columns, aggfunc, fill_value, margins, dropna, margins_name, observed, sort)\u001b[0m\n\u001b[0;32m     92\u001b[0m     table \u001b[39m=\u001b[39m concat(pieces, keys\u001b[39m=\u001b[39mkeys, axis\u001b[39m=\u001b[39m\u001b[39m1\u001b[39m)\n\u001b[0;32m     93\u001b[0m     \u001b[39mreturn\u001b[39;00m table\u001b[39m.\u001b[39m__finalize__(data, method\u001b[39m=\u001b[39m\u001b[39m\"\u001b[39m\u001b[39mpivot_table\u001b[39m\u001b[39m\"\u001b[39m)\n\u001b[1;32m---> 95\u001b[0m table \u001b[39m=\u001b[39m __internal_pivot_table(\n\u001b[0;32m     96\u001b[0m     data,\n\u001b[0;32m     97\u001b[0m     values,\n\u001b[0;32m     98\u001b[0m     index,\n\u001b[0;32m     99\u001b[0m     columns,\n\u001b[0;32m    100\u001b[0m     aggfunc,\n\u001b[0;32m    101\u001b[0m     fill_value,\n\u001b[0;32m    102\u001b[0m     margins,\n\u001b[0;32m    103\u001b[0m     dropna,\n\u001b[0;32m    104\u001b[0m     margins_name,\n\u001b[0;32m    105\u001b[0m     observed,\n\u001b[0;32m    106\u001b[0m     sort,\n\u001b[0;32m    107\u001b[0m )\n\u001b[0;32m    108\u001b[0m \u001b[39mreturn\u001b[39;00m table\u001b[39m.\u001b[39m__finalize__(data, method\u001b[39m=\u001b[39m\u001b[39m\"\u001b[39m\u001b[39mpivot_table\u001b[39m\u001b[39m\"\u001b[39m)\n",
      "File \u001b[1;32mc:\\Users\\ryanh\\Anaconda3\\envs\\dsc80\\lib\\site-packages\\pandas\\core\\reshape\\pivot.py:165\u001b[0m, in \u001b[0;36m__internal_pivot_table\u001b[1;34m(data, values, index, columns, aggfunc, fill_value, margins, dropna, margins_name, observed, sort)\u001b[0m\n\u001b[0;32m    162\u001b[0m     values \u001b[39m=\u001b[39m \u001b[39mlist\u001b[39m(values)\n\u001b[0;32m    164\u001b[0m grouped \u001b[39m=\u001b[39m data\u001b[39m.\u001b[39mgroupby(keys, observed\u001b[39m=\u001b[39mobserved, sort\u001b[39m=\u001b[39msort)\n\u001b[1;32m--> 165\u001b[0m agged \u001b[39m=\u001b[39m grouped\u001b[39m.\u001b[39;49magg(aggfunc)\n\u001b[0;32m    166\u001b[0m \u001b[39mif\u001b[39;00m dropna \u001b[39mand\u001b[39;00m \u001b[39misinstance\u001b[39m(agged, ABCDataFrame) \u001b[39mand\u001b[39;00m \u001b[39mlen\u001b[39m(agged\u001b[39m.\u001b[39mcolumns):\n\u001b[0;32m    167\u001b[0m     agged \u001b[39m=\u001b[39m agged\u001b[39m.\u001b[39mdropna(how\u001b[39m=\u001b[39m\u001b[39m\"\u001b[39m\u001b[39mall\u001b[39m\u001b[39m\"\u001b[39m)\n",
      "File \u001b[1;32mc:\\Users\\ryanh\\Anaconda3\\envs\\dsc80\\lib\\site-packages\\pandas\\core\\groupby\\generic.py:979\u001b[0m, in \u001b[0;36mDataFrameGroupBy.aggregate\u001b[1;34m(self, func, engine, engine_kwargs, *args, **kwargs)\u001b[0m\n\u001b[0;32m    976\u001b[0m func \u001b[39m=\u001b[39m maybe_mangle_lambdas(func)\n\u001b[0;32m    978\u001b[0m op \u001b[39m=\u001b[39m GroupByApply(\u001b[39mself\u001b[39m, func, args, kwargs)\n\u001b[1;32m--> 979\u001b[0m result \u001b[39m=\u001b[39m op\u001b[39m.\u001b[39;49magg()\n\u001b[0;32m    980\u001b[0m \u001b[39mif\u001b[39;00m \u001b[39mnot\u001b[39;00m is_dict_like(func) \u001b[39mand\u001b[39;00m result \u001b[39mis\u001b[39;00m \u001b[39mnot\u001b[39;00m \u001b[39mNone\u001b[39;00m:\n\u001b[0;32m    981\u001b[0m     \u001b[39mreturn\u001b[39;00m result\n",
      "File \u001b[1;32mc:\\Users\\ryanh\\Anaconda3\\envs\\dsc80\\lib\\site-packages\\pandas\\core\\apply.py:158\u001b[0m, in \u001b[0;36mApply.agg\u001b[1;34m(self)\u001b[0m\n\u001b[0;32m    155\u001b[0m kwargs \u001b[39m=\u001b[39m \u001b[39mself\u001b[39m\u001b[39m.\u001b[39mkwargs\n\u001b[0;32m    157\u001b[0m \u001b[39mif\u001b[39;00m \u001b[39misinstance\u001b[39m(arg, \u001b[39mstr\u001b[39m):\n\u001b[1;32m--> 158\u001b[0m     \u001b[39mreturn\u001b[39;00m \u001b[39mself\u001b[39;49m\u001b[39m.\u001b[39;49mapply_str()\n\u001b[0;32m    160\u001b[0m \u001b[39mif\u001b[39;00m is_dict_like(arg):\n\u001b[0;32m    161\u001b[0m     \u001b[39mreturn\u001b[39;00m \u001b[39mself\u001b[39m\u001b[39m.\u001b[39magg_dict_like()\n",
      "File \u001b[1;32mc:\\Users\\ryanh\\Anaconda3\\envs\\dsc80\\lib\\site-packages\\pandas\\core\\apply.py:507\u001b[0m, in \u001b[0;36mApply.apply_str\u001b[1;34m(self)\u001b[0m\n\u001b[0;32m    505\u001b[0m     \u001b[39melif\u001b[39;00m \u001b[39mself\u001b[39m\u001b[39m.\u001b[39maxis \u001b[39m!=\u001b[39m \u001b[39m0\u001b[39m:\n\u001b[0;32m    506\u001b[0m         \u001b[39mraise\u001b[39;00m \u001b[39mValueError\u001b[39;00m(\u001b[39mf\u001b[39m\u001b[39m\"\u001b[39m\u001b[39mOperation \u001b[39m\u001b[39m{\u001b[39;00mf\u001b[39m}\u001b[39;00m\u001b[39m does not support axis=1\u001b[39m\u001b[39m\"\u001b[39m)\n\u001b[1;32m--> 507\u001b[0m \u001b[39mreturn\u001b[39;00m \u001b[39mself\u001b[39;49m\u001b[39m.\u001b[39;49m_try_aggregate_string_function(obj, f, \u001b[39m*\u001b[39;49m\u001b[39mself\u001b[39;49m\u001b[39m.\u001b[39;49margs, \u001b[39m*\u001b[39;49m\u001b[39m*\u001b[39;49m\u001b[39mself\u001b[39;49m\u001b[39m.\u001b[39;49mkwargs)\n",
      "File \u001b[1;32mc:\\Users\\ryanh\\Anaconda3\\envs\\dsc80\\lib\\site-packages\\pandas\\core\\apply.py:577\u001b[0m, in \u001b[0;36mApply._try_aggregate_string_function\u001b[1;34m(self, obj, arg, *args, **kwargs)\u001b[0m\n\u001b[0;32m    575\u001b[0m \u001b[39mif\u001b[39;00m f \u001b[39mis\u001b[39;00m \u001b[39mnot\u001b[39;00m \u001b[39mNone\u001b[39;00m:\n\u001b[0;32m    576\u001b[0m     \u001b[39mif\u001b[39;00m callable(f):\n\u001b[1;32m--> 577\u001b[0m         \u001b[39mreturn\u001b[39;00m f(\u001b[39m*\u001b[39;49margs, \u001b[39m*\u001b[39;49m\u001b[39m*\u001b[39;49mkwargs)\n\u001b[0;32m    579\u001b[0m     \u001b[39m# people may try to aggregate on a non-callable attribute\u001b[39;00m\n\u001b[0;32m    580\u001b[0m     \u001b[39m# but don't let them think they can pass args to it\u001b[39;00m\n\u001b[0;32m    581\u001b[0m     \u001b[39massert\u001b[39;00m \u001b[39mlen\u001b[39m(args) \u001b[39m==\u001b[39m \u001b[39m0\u001b[39m\n",
      "File \u001b[1;32mc:\\Users\\ryanh\\Anaconda3\\envs\\dsc80\\lib\\site-packages\\pandas\\core\\groupby\\groupby.py:1684\u001b[0m, in \u001b[0;36mGroupBy.mean\u001b[1;34m(self, numeric_only)\u001b[0m\n\u001b[0;32m   1635\u001b[0m \u001b[39m\"\"\"\u001b[39;00m\n\u001b[0;32m   1636\u001b[0m \u001b[39mCompute mean of groups, excluding missing values.\u001b[39;00m\n\u001b[0;32m   1637\u001b[0m \n\u001b[1;32m   (...)\u001b[0m\n\u001b[0;32m   1680\u001b[0m \u001b[39mName: B, dtype: float64\u001b[39;00m\n\u001b[0;32m   1681\u001b[0m \u001b[39m\"\"\"\u001b[39;00m\n\u001b[0;32m   1682\u001b[0m numeric_only \u001b[39m=\u001b[39m \u001b[39mself\u001b[39m\u001b[39m.\u001b[39m_resolve_numeric_only(numeric_only)\n\u001b[1;32m-> 1684\u001b[0m result \u001b[39m=\u001b[39m \u001b[39mself\u001b[39;49m\u001b[39m.\u001b[39;49m_cython_agg_general(\n\u001b[0;32m   1685\u001b[0m     \u001b[39m\"\u001b[39;49m\u001b[39mmean\u001b[39;49m\u001b[39m\"\u001b[39;49m,\n\u001b[0;32m   1686\u001b[0m     alt\u001b[39m=\u001b[39;49m\u001b[39mlambda\u001b[39;49;00m x: Series(x)\u001b[39m.\u001b[39;49mmean(numeric_only\u001b[39m=\u001b[39;49mnumeric_only),\n\u001b[0;32m   1687\u001b[0m     numeric_only\u001b[39m=\u001b[39;49mnumeric_only,\n\u001b[0;32m   1688\u001b[0m )\n\u001b[0;32m   1689\u001b[0m \u001b[39mreturn\u001b[39;00m result\u001b[39m.\u001b[39m__finalize__(\u001b[39mself\u001b[39m\u001b[39m.\u001b[39mobj, method\u001b[39m=\u001b[39m\u001b[39m\"\u001b[39m\u001b[39mgroupby\u001b[39m\u001b[39m\"\u001b[39m)\n",
      "File \u001b[1;32mc:\\Users\\ryanh\\Anaconda3\\envs\\dsc80\\lib\\site-packages\\pandas\\core\\groupby\\generic.py:1082\u001b[0m, in \u001b[0;36mDataFrameGroupBy._cython_agg_general\u001b[1;34m(self, how, alt, numeric_only, min_count)\u001b[0m\n\u001b[0;32m   1078\u001b[0m     \u001b[39mreturn\u001b[39;00m result\n\u001b[0;32m   1080\u001b[0m \u001b[39m# TypeError -> we may have an exception in trying to aggregate\u001b[39;00m\n\u001b[0;32m   1081\u001b[0m \u001b[39m#  continue and exclude the block\u001b[39;00m\n\u001b[1;32m-> 1082\u001b[0m new_mgr \u001b[39m=\u001b[39m data\u001b[39m.\u001b[39;49mgrouped_reduce(array_func, ignore_failures\u001b[39m=\u001b[39;49m\u001b[39mTrue\u001b[39;49;00m)\n\u001b[0;32m   1084\u001b[0m \u001b[39mif\u001b[39;00m \u001b[39mlen\u001b[39m(new_mgr) \u001b[39m<\u001b[39m \u001b[39mlen\u001b[39m(data):\n\u001b[0;32m   1085\u001b[0m     warnings\u001b[39m.\u001b[39mwarn(\n\u001b[0;32m   1086\u001b[0m         \u001b[39mf\u001b[39m\u001b[39m\"\u001b[39m\u001b[39mDropping invalid columns in \u001b[39m\u001b[39m{\u001b[39;00m\u001b[39mtype\u001b[39m(\u001b[39mself\u001b[39m)\u001b[39m.\u001b[39m\u001b[39m__name__\u001b[39m\u001b[39m}\u001b[39;00m\u001b[39m.\u001b[39m\u001b[39m{\u001b[39;00mhow\u001b[39m}\u001b[39;00m\u001b[39m \u001b[39m\u001b[39m\"\u001b[39m\n\u001b[0;32m   1087\u001b[0m         \u001b[39m\"\u001b[39m\u001b[39mis deprecated. In a future version, a TypeError will be raised. \u001b[39m\u001b[39m\"\u001b[39m\n\u001b[1;32m   (...)\u001b[0m\n\u001b[0;32m   1091\u001b[0m         stacklevel\u001b[39m=\u001b[39m\u001b[39m4\u001b[39m,\n\u001b[0;32m   1092\u001b[0m     )\n",
      "File \u001b[1;32mc:\\Users\\ryanh\\Anaconda3\\envs\\dsc80\\lib\\site-packages\\pandas\\core\\internals\\managers.py:1235\u001b[0m, in \u001b[0;36mBlockManager.grouped_reduce\u001b[1;34m(self, func, ignore_failures)\u001b[0m\n\u001b[0;32m   1233\u001b[0m \u001b[39mfor\u001b[39;00m sb \u001b[39min\u001b[39;00m blk\u001b[39m.\u001b[39m_split():\n\u001b[0;32m   1234\u001b[0m     \u001b[39mtry\u001b[39;00m:\n\u001b[1;32m-> 1235\u001b[0m         applied \u001b[39m=\u001b[39m sb\u001b[39m.\u001b[39;49mapply(func)\n\u001b[0;32m   1236\u001b[0m     \u001b[39mexcept\u001b[39;00m (\u001b[39mTypeError\u001b[39;00m, \u001b[39mNotImplementedError\u001b[39;00m):\n\u001b[0;32m   1237\u001b[0m         \u001b[39mif\u001b[39;00m \u001b[39mnot\u001b[39;00m ignore_failures:\n",
      "File \u001b[1;32mc:\\Users\\ryanh\\Anaconda3\\envs\\dsc80\\lib\\site-packages\\pandas\\core\\internals\\blocks.py:382\u001b[0m, in \u001b[0;36mBlock.apply\u001b[1;34m(self, func, **kwargs)\u001b[0m\n\u001b[0;32m    377\u001b[0m \u001b[39m\"\"\"\u001b[39;00m\n\u001b[0;32m    378\u001b[0m \u001b[39mapply the function to my values; return a block if we are not\u001b[39;00m\n\u001b[0;32m    379\u001b[0m \u001b[39mone\u001b[39;00m\n\u001b[0;32m    380\u001b[0m \u001b[39m\"\"\"\u001b[39;00m\n\u001b[0;32m    381\u001b[0m \u001b[39mwith\u001b[39;00m np\u001b[39m.\u001b[39merrstate(\u001b[39mall\u001b[39m\u001b[39m=\u001b[39m\u001b[39m\"\u001b[39m\u001b[39mignore\u001b[39m\u001b[39m\"\u001b[39m):\n\u001b[1;32m--> 382\u001b[0m     result \u001b[39m=\u001b[39m func(\u001b[39mself\u001b[39;49m\u001b[39m.\u001b[39;49mvalues, \u001b[39m*\u001b[39;49m\u001b[39m*\u001b[39;49mkwargs)\n\u001b[0;32m    384\u001b[0m \u001b[39mreturn\u001b[39;00m \u001b[39mself\u001b[39m\u001b[39m.\u001b[39m_split_op_result(result)\n",
      "File \u001b[1;32mc:\\Users\\ryanh\\Anaconda3\\envs\\dsc80\\lib\\site-packages\\pandas\\core\\groupby\\generic.py:1076\u001b[0m, in \u001b[0;36mDataFrameGroupBy._cython_agg_general.<locals>.array_func\u001b[1;34m(values)\u001b[0m\n\u001b[0;32m   1068\u001b[0m     result \u001b[39m=\u001b[39m \u001b[39mself\u001b[39m\u001b[39m.\u001b[39mgrouper\u001b[39m.\u001b[39m_cython_operation(\n\u001b[0;32m   1069\u001b[0m         \u001b[39m\"\u001b[39m\u001b[39maggregate\u001b[39m\u001b[39m\"\u001b[39m, values, how, axis\u001b[39m=\u001b[39mdata\u001b[39m.\u001b[39mndim \u001b[39m-\u001b[39m \u001b[39m1\u001b[39m, min_count\u001b[39m=\u001b[39mmin_count\n\u001b[0;32m   1070\u001b[0m     )\n\u001b[0;32m   1071\u001b[0m \u001b[39mexcept\u001b[39;00m \u001b[39mNotImplementedError\u001b[39;00m:\n\u001b[0;32m   1072\u001b[0m     \u001b[39m# generally if we have numeric_only=False\u001b[39;00m\n\u001b[0;32m   1073\u001b[0m     \u001b[39m# and non-applicable functions\u001b[39;00m\n\u001b[0;32m   1074\u001b[0m     \u001b[39m# try to python agg\u001b[39;00m\n\u001b[0;32m   1075\u001b[0m     \u001b[39m# TODO: shouldn't min_count matter?\u001b[39;00m\n\u001b[1;32m-> 1076\u001b[0m     result \u001b[39m=\u001b[39m \u001b[39mself\u001b[39;49m\u001b[39m.\u001b[39;49m_agg_py_fallback(values, ndim\u001b[39m=\u001b[39;49mdata\u001b[39m.\u001b[39;49mndim, alt\u001b[39m=\u001b[39;49malt)\n\u001b[0;32m   1078\u001b[0m \u001b[39mreturn\u001b[39;00m result\n",
      "File \u001b[1;32mc:\\Users\\ryanh\\Anaconda3\\envs\\dsc80\\lib\\site-packages\\pandas\\core\\groupby\\groupby.py:1395\u001b[0m, in \u001b[0;36mGroupBy._agg_py_fallback\u001b[1;34m(self, values, ndim, alt)\u001b[0m\n\u001b[0;32m   1390\u001b[0m     ser \u001b[39m=\u001b[39m df\u001b[39m.\u001b[39miloc[:, \u001b[39m0\u001b[39m]\n\u001b[0;32m   1392\u001b[0m \u001b[39m# We do not get here with UDFs, so we know that our dtype\u001b[39;00m\n\u001b[0;32m   1393\u001b[0m \u001b[39m#  should always be preserved by the implemented aggregations\u001b[39;00m\n\u001b[0;32m   1394\u001b[0m \u001b[39m# TODO: Is this exactly right; see WrappedCythonOp get_result_dtype?\u001b[39;00m\n\u001b[1;32m-> 1395\u001b[0m res_values \u001b[39m=\u001b[39m \u001b[39mself\u001b[39;49m\u001b[39m.\u001b[39;49mgrouper\u001b[39m.\u001b[39;49magg_series(ser, alt, preserve_dtype\u001b[39m=\u001b[39;49m\u001b[39mTrue\u001b[39;49;00m)\n\u001b[0;32m   1397\u001b[0m \u001b[39mif\u001b[39;00m \u001b[39misinstance\u001b[39m(values, Categorical):\n\u001b[0;32m   1398\u001b[0m     \u001b[39m# Because we only get here with known dtype-preserving\u001b[39;00m\n\u001b[0;32m   1399\u001b[0m     \u001b[39m#  reductions, we cast back to Categorical.\u001b[39;00m\n\u001b[0;32m   1400\u001b[0m     \u001b[39m# TODO: if we ever get \"rank\" working, exclude it here.\u001b[39;00m\n\u001b[0;32m   1401\u001b[0m     res_values \u001b[39m=\u001b[39m \u001b[39mtype\u001b[39m(values)\u001b[39m.\u001b[39m_from_sequence(res_values, dtype\u001b[39m=\u001b[39mvalues\u001b[39m.\u001b[39mdtype)\n",
      "File \u001b[1;32mc:\\Users\\ryanh\\Anaconda3\\envs\\dsc80\\lib\\site-packages\\pandas\\core\\groupby\\ops.py:1028\u001b[0m, in \u001b[0;36mBaseGrouper.agg_series\u001b[1;34m(self, obj, func, preserve_dtype)\u001b[0m\n\u001b[0;32m   1025\u001b[0m     result \u001b[39m=\u001b[39m \u001b[39mself\u001b[39m\u001b[39m.\u001b[39m_aggregate_series_pure_python(obj, func)\n\u001b[0;32m   1027\u001b[0m \u001b[39melse\u001b[39;00m:\n\u001b[1;32m-> 1028\u001b[0m     result \u001b[39m=\u001b[39m \u001b[39mself\u001b[39;49m\u001b[39m.\u001b[39;49m_aggregate_series_fast(obj, func)\n\u001b[0;32m   1030\u001b[0m npvalues \u001b[39m=\u001b[39m lib\u001b[39m.\u001b[39mmaybe_convert_objects(result, try_float\u001b[39m=\u001b[39m\u001b[39mFalse\u001b[39;00m)\n\u001b[0;32m   1031\u001b[0m \u001b[39mif\u001b[39;00m preserve_dtype:\n",
      "File \u001b[1;32mc:\\Users\\ryanh\\Anaconda3\\envs\\dsc80\\lib\\site-packages\\pandas\\core\\groupby\\ops.py:1051\u001b[0m, in \u001b[0;36mBaseGrouper._aggregate_series_fast\u001b[1;34m(self, obj, func)\u001b[0m\n\u001b[0;32m   1049\u001b[0m indexer \u001b[39m=\u001b[39m get_group_index_sorter(ids, ngroups)\n\u001b[0;32m   1050\u001b[0m obj \u001b[39m=\u001b[39m obj\u001b[39m.\u001b[39mtake(indexer)\n\u001b[1;32m-> 1051\u001b[0m ids \u001b[39m=\u001b[39m ids\u001b[39m.\u001b[39;49mtake(indexer)\n\u001b[0;32m   1052\u001b[0m sgrouper \u001b[39m=\u001b[39m libreduction\u001b[39m.\u001b[39mSeriesGrouper(obj, func, ids, ngroups)\n\u001b[0;32m   1053\u001b[0m result, _ \u001b[39m=\u001b[39m sgrouper\u001b[39m.\u001b[39mget_result()\n",
      "\u001b[1;31mKeyboardInterrupt\u001b[0m: "
     ]
    }
   ],
   "source": [
    "def permutation(cleaned, N):\n",
    "    obs = gender_and_allegation_table_obs.diff(-1).loc['Female'].sum()\n",
    "    stats = []\n",
    "    for _ in range(N):\n",
    "        gender_and_allegation = cleaned[['complainant_gender', 'fado_type', 'did_win_case']].copy()\n",
    "        gender_and_allegation['shuffled_gender'] = np.random.permutation(gender_and_allegation['complainant_gender'])\n",
    "        gender_and_allegation_table = gender_and_allegation.pivot_table(index = 'shuffled_gender', columns = 'fado_type', values='did_win_case', aggfunc=\"mean\", fill_value=0).loc[['Female', 'Male'], :]\n",
    "        stats.append(gender_and_allegation_table.diff(-1).loc['Female'].sum())\n",
    "    ax = pd.Series(stats).plot(kind = 'hist').axvline(obs)\n",
    "    plt.axvline(np.percentile(stats, 5), color = 'red')\n",
    "    return np.mean(np.array(stats) <= obs)\n",
    "print(\"P-value: {}\".format(permutation(cleaned, 400)))"
   ]
  },
  {
   "cell_type": "markdown",
   "metadata": {},
   "source": [
    "Our p-value states that there is a 0 percent chance of seeing our observed value in our general population. Thus, we reject the null hypothesis in favor of the alternative. This, however, does not confirm that females lose more cases on average than men."
   ]
  },
  {
   "cell_type": "markdown",
   "metadata": {},
   "source": [
    "### Lingering thoughts and questions:\n",
    "- In this notebook, all my inferential testing preceeded my missing data analysis and imputation steps. Should I continue to ignore missing values during my inferences? Or, would it be better, in the future, for me to deal with missing data first?\n",
    "- If two distributions contain largely different amounts of values, how should I scale such data for inferential testing?\n",
    "- Melting is definitley difficult to wrap my head around. However, looking at some graphics and animations helped.\n",
    "- Is there a way to determine Simpson's paradox without domain knowledge while I perform my aggregations?"
   ]
  }
 ],
 "metadata": {
  "kernelspec": {
   "display_name": "Python 3.8.13 ('dsc80')",
   "language": "python",
   "name": "python3"
  },
  "language_info": {
   "codemirror_mode": {
    "name": "ipython",
    "version": 3
   },
   "file_extension": ".py",
   "mimetype": "text/x-python",
   "name": "python",
   "nbconvert_exporter": "python",
   "pygments_lexer": "ipython3",
   "version": "3.8.13"
  },
  "orig_nbformat": 4,
  "vscode": {
   "interpreter": {
    "hash": "df11c0525e933a45d9e6db3a30a0511308f5c159f441b2f4d3daa54dfc2ef98e"
   }
  }
 },
 "nbformat": 4,
 "nbformat_minor": 2
}
