{
 "cells": [
  {
   "cell_type": "markdown",
   "metadata": {},
   "source": [
    "## NYPD Civilian Complaints EDA:\n",
    "**Author**: Ryan Hung\n",
    "\n",
    "**Started**: 7/26/2022\n",
    "\n",
    "**Completed**: TBD\n",
    "\n",
    "**Data introduction**: After New York state repealed the statute that kept police disciplinary records secret, known as 50-a, ProPublica filed a records request with New York City’s Civilian Complaint Review Board, which investigates complaints by the public about NYPD officers. The board provided us with records about closed cases for every police officer still on the force as of late June 2020 who had at least one substantiated allegation against them. The records span decades, from September 1985 to January 2020.\n",
    "\n",
    "**Data source**: https://www.propublica.org/datastore/dataset/civilian-complaints-against-new-york-city-police-officers\n",
    "\n",
    "**Analysis Objective**: Clean and wrangle dataset so that insights related to race can be extracted; pave the way for a machine learning model deployment to predict case outcome."
   ]
  },
  {
   "cell_type": "markdown",
   "metadata": {},
   "source": [
    "## Notebook breakdown:\n",
    "1. [Loading in data](#loading-in-our-data)\n",
    "2. [Data cleaning](#data-cleaning)\n",
    "3. [EDA](#eda)\n",
    "4. [Assessment of data missingness](#assessment-of-data-missingness)"
   ]
  },
  {
   "cell_type": "markdown",
   "metadata": {},
   "source": [
    "### Loading in our data:"
   ]
  },
  {
   "cell_type": "markdown",
   "metadata": {},
   "source": [
    "Before we begin, let's load in our libraries, options, and data."
   ]
  },
  {
   "cell_type": "code",
   "execution_count": 103,
   "metadata": {},
   "outputs": [],
   "source": [
    "import pandas as pd\n",
    "import numpy as np\n",
    "import seaborn as sns\n",
    "import matplotlib\n",
    "import matplotlib.pyplot as plt\n",
    "# import missingno\n",
    "from forest.benchmarking import distance_measures\n",
    "\n",
    "sns.set_theme(style = 'darkgrid', palette='Blues_d') # Switch seaborn plotting to my favorite palette :D\n",
    "pd.set_option('display.max_columns', None) # Stretches dataframe output to display every columnn"
   ]
  },
  {
   "cell_type": "code",
   "execution_count": 104,
   "metadata": {},
   "outputs": [
    {
     "name": "stdout",
     "output_type": "stream",
     "text": [
      "Sheets: ['Layout', 'Rank Abbrevs', 'Command Abbrevs', 'FADO', 'Dispositions']\n"
     ]
    }
   ],
   "source": [
    "complaints_path = 'data/allegations_202007271729.csv'\n",
    "layout_path = 'data/CCRB Data Layout Table.xlsx'\n",
    "excelList = pd.ExcelFile(layout_path).sheet_names # Excel file is separated into multiple sheets\n",
    "print(f\"Sheets: {excelList}\")"
   ]
  },
  {
   "cell_type": "code",
   "execution_count": 105,
   "metadata": {},
   "outputs": [
    {
     "data": {
      "text/html": [
       "<div>\n",
       "<style scoped>\n",
       "    .dataframe tbody tr th:only-of-type {\n",
       "        vertical-align: middle;\n",
       "    }\n",
       "\n",
       "    .dataframe tbody tr th {\n",
       "        vertical-align: top;\n",
       "    }\n",
       "\n",
       "    .dataframe thead th {\n",
       "        text-align: right;\n",
       "    }\n",
       "</style>\n",
       "<table border=\"1\" class=\"dataframe\">\n",
       "  <thead>\n",
       "    <tr style=\"text-align: right;\">\n",
       "      <th></th>\n",
       "      <th>unique_mos_id</th>\n",
       "      <th>first_name</th>\n",
       "      <th>last_name</th>\n",
       "      <th>command_now</th>\n",
       "      <th>shield_no</th>\n",
       "      <th>complaint_id</th>\n",
       "      <th>month_received</th>\n",
       "      <th>year_received</th>\n",
       "      <th>month_closed</th>\n",
       "      <th>year_closed</th>\n",
       "      <th>command_at_incident</th>\n",
       "      <th>rank_abbrev_incident</th>\n",
       "      <th>rank_abbrev_now</th>\n",
       "      <th>rank_now</th>\n",
       "      <th>rank_incident</th>\n",
       "      <th>mos_ethnicity</th>\n",
       "      <th>mos_gender</th>\n",
       "      <th>mos_age_incident</th>\n",
       "      <th>complainant_ethnicity</th>\n",
       "      <th>complainant_gender</th>\n",
       "      <th>complainant_age_incident</th>\n",
       "      <th>fado_type</th>\n",
       "      <th>allegation</th>\n",
       "      <th>precinct</th>\n",
       "      <th>contact_reason</th>\n",
       "      <th>outcome_description</th>\n",
       "      <th>board_disposition</th>\n",
       "    </tr>\n",
       "  </thead>\n",
       "  <tbody>\n",
       "    <tr>\n",
       "      <th>0</th>\n",
       "      <td>10004</td>\n",
       "      <td>Jonathan</td>\n",
       "      <td>Ruiz</td>\n",
       "      <td>078 PCT</td>\n",
       "      <td>8409</td>\n",
       "      <td>42835</td>\n",
       "      <td>7</td>\n",
       "      <td>2019</td>\n",
       "      <td>5</td>\n",
       "      <td>2020</td>\n",
       "      <td>078 PCT</td>\n",
       "      <td>POM</td>\n",
       "      <td>POM</td>\n",
       "      <td>Police Officer</td>\n",
       "      <td>Police Officer</td>\n",
       "      <td>Hispanic</td>\n",
       "      <td>M</td>\n",
       "      <td>32</td>\n",
       "      <td>Black</td>\n",
       "      <td>Female</td>\n",
       "      <td>38.0</td>\n",
       "      <td>Abuse of Authority</td>\n",
       "      <td>Failure to provide RTKA card</td>\n",
       "      <td>78.0</td>\n",
       "      <td>Report-domestic dispute</td>\n",
       "      <td>No arrest made or summons issued</td>\n",
       "      <td>Substantiated (Command Lvl Instructions)</td>\n",
       "    </tr>\n",
       "    <tr>\n",
       "      <th>1</th>\n",
       "      <td>10007</td>\n",
       "      <td>John</td>\n",
       "      <td>Sears</td>\n",
       "      <td>078 PCT</td>\n",
       "      <td>5952</td>\n",
       "      <td>24601</td>\n",
       "      <td>11</td>\n",
       "      <td>2011</td>\n",
       "      <td>8</td>\n",
       "      <td>2012</td>\n",
       "      <td>PBBS</td>\n",
       "      <td>POM</td>\n",
       "      <td>POM</td>\n",
       "      <td>Police Officer</td>\n",
       "      <td>Police Officer</td>\n",
       "      <td>White</td>\n",
       "      <td>M</td>\n",
       "      <td>24</td>\n",
       "      <td>Black</td>\n",
       "      <td>Male</td>\n",
       "      <td>26.0</td>\n",
       "      <td>Discourtesy</td>\n",
       "      <td>Action</td>\n",
       "      <td>67.0</td>\n",
       "      <td>Moving violation</td>\n",
       "      <td>Moving violation summons issued</td>\n",
       "      <td>Substantiated (Charges)</td>\n",
       "    </tr>\n",
       "    <tr>\n",
       "      <th>2</th>\n",
       "      <td>10007</td>\n",
       "      <td>John</td>\n",
       "      <td>Sears</td>\n",
       "      <td>078 PCT</td>\n",
       "      <td>5952</td>\n",
       "      <td>24601</td>\n",
       "      <td>11</td>\n",
       "      <td>2011</td>\n",
       "      <td>8</td>\n",
       "      <td>2012</td>\n",
       "      <td>PBBS</td>\n",
       "      <td>POM</td>\n",
       "      <td>POM</td>\n",
       "      <td>Police Officer</td>\n",
       "      <td>Police Officer</td>\n",
       "      <td>White</td>\n",
       "      <td>M</td>\n",
       "      <td>24</td>\n",
       "      <td>Black</td>\n",
       "      <td>Male</td>\n",
       "      <td>26.0</td>\n",
       "      <td>Offensive Language</td>\n",
       "      <td>Race</td>\n",
       "      <td>67.0</td>\n",
       "      <td>Moving violation</td>\n",
       "      <td>Moving violation summons issued</td>\n",
       "      <td>Substantiated (Charges)</td>\n",
       "    </tr>\n",
       "    <tr>\n",
       "      <th>3</th>\n",
       "      <td>10007</td>\n",
       "      <td>John</td>\n",
       "      <td>Sears</td>\n",
       "      <td>078 PCT</td>\n",
       "      <td>5952</td>\n",
       "      <td>26146</td>\n",
       "      <td>7</td>\n",
       "      <td>2012</td>\n",
       "      <td>9</td>\n",
       "      <td>2013</td>\n",
       "      <td>PBBS</td>\n",
       "      <td>POM</td>\n",
       "      <td>POM</td>\n",
       "      <td>Police Officer</td>\n",
       "      <td>Police Officer</td>\n",
       "      <td>White</td>\n",
       "      <td>M</td>\n",
       "      <td>25</td>\n",
       "      <td>Black</td>\n",
       "      <td>Male</td>\n",
       "      <td>45.0</td>\n",
       "      <td>Abuse of Authority</td>\n",
       "      <td>Question</td>\n",
       "      <td>67.0</td>\n",
       "      <td>PD suspected C/V of violation/crime - street</td>\n",
       "      <td>No arrest made or summons issued</td>\n",
       "      <td>Substantiated (Charges)</td>\n",
       "    </tr>\n",
       "    <tr>\n",
       "      <th>4</th>\n",
       "      <td>10009</td>\n",
       "      <td>Noemi</td>\n",
       "      <td>Sierra</td>\n",
       "      <td>078 PCT</td>\n",
       "      <td>24058</td>\n",
       "      <td>40253</td>\n",
       "      <td>8</td>\n",
       "      <td>2018</td>\n",
       "      <td>2</td>\n",
       "      <td>2019</td>\n",
       "      <td>078 PCT</td>\n",
       "      <td>POF</td>\n",
       "      <td>POF</td>\n",
       "      <td>Police Officer</td>\n",
       "      <td>Police Officer</td>\n",
       "      <td>Hispanic</td>\n",
       "      <td>F</td>\n",
       "      <td>39</td>\n",
       "      <td>NaN</td>\n",
       "      <td>NaN</td>\n",
       "      <td>16.0</td>\n",
       "      <td>Force</td>\n",
       "      <td>Physical force</td>\n",
       "      <td>67.0</td>\n",
       "      <td>Report-dispute</td>\n",
       "      <td>Arrest - other violation/crime</td>\n",
       "      <td>Substantiated (Command Discipline A)</td>\n",
       "    </tr>\n",
       "  </tbody>\n",
       "</table>\n",
       "</div>"
      ],
      "text/plain": [
       "   unique_mos_id first_name last_name command_now  shield_no  complaint_id  \\\n",
       "0          10004   Jonathan      Ruiz     078 PCT       8409         42835   \n",
       "1          10007       John     Sears     078 PCT       5952         24601   \n",
       "2          10007       John     Sears     078 PCT       5952         24601   \n",
       "3          10007       John     Sears     078 PCT       5952         26146   \n",
       "4          10009      Noemi    Sierra     078 PCT      24058         40253   \n",
       "\n",
       "   month_received  year_received  month_closed  year_closed  \\\n",
       "0               7           2019             5         2020   \n",
       "1              11           2011             8         2012   \n",
       "2              11           2011             8         2012   \n",
       "3               7           2012             9         2013   \n",
       "4               8           2018             2         2019   \n",
       "\n",
       "  command_at_incident rank_abbrev_incident rank_abbrev_now        rank_now  \\\n",
       "0             078 PCT                  POM             POM  Police Officer   \n",
       "1                PBBS                  POM             POM  Police Officer   \n",
       "2                PBBS                  POM             POM  Police Officer   \n",
       "3                PBBS                  POM             POM  Police Officer   \n",
       "4             078 PCT                  POF             POF  Police Officer   \n",
       "\n",
       "    rank_incident mos_ethnicity mos_gender  mos_age_incident  \\\n",
       "0  Police Officer      Hispanic          M                32   \n",
       "1  Police Officer         White          M                24   \n",
       "2  Police Officer         White          M                24   \n",
       "3  Police Officer         White          M                25   \n",
       "4  Police Officer      Hispanic          F                39   \n",
       "\n",
       "  complainant_ethnicity complainant_gender  complainant_age_incident  \\\n",
       "0                 Black             Female                      38.0   \n",
       "1                 Black               Male                      26.0   \n",
       "2                 Black               Male                      26.0   \n",
       "3                 Black               Male                      45.0   \n",
       "4                   NaN                NaN                      16.0   \n",
       "\n",
       "            fado_type                    allegation  precinct  \\\n",
       "0  Abuse of Authority  Failure to provide RTKA card      78.0   \n",
       "1         Discourtesy                        Action      67.0   \n",
       "2  Offensive Language                          Race      67.0   \n",
       "3  Abuse of Authority                      Question      67.0   \n",
       "4               Force                Physical force      67.0   \n",
       "\n",
       "                                 contact_reason  \\\n",
       "0                       Report-domestic dispute   \n",
       "1                              Moving violation   \n",
       "2                              Moving violation   \n",
       "3  PD suspected C/V of violation/crime - street   \n",
       "4                                Report-dispute   \n",
       "\n",
       "                outcome_description                         board_disposition  \n",
       "0  No arrest made or summons issued  Substantiated (Command Lvl Instructions)  \n",
       "1   Moving violation summons issued                   Substantiated (Charges)  \n",
       "2   Moving violation summons issued                   Substantiated (Charges)  \n",
       "3  No arrest made or summons issued                   Substantiated (Charges)  \n",
       "4    Arrest - other violation/crime      Substantiated (Command Discipline A)  "
      ]
     },
     "execution_count": 105,
     "metadata": {},
     "output_type": "execute_result"
    }
   ],
   "source": [
    "layout = pd.read_excel(layout_path)\n",
    "police_abbrev = pd.read_excel(layout_path, sheet_name=excelList[1]) # Details the full rank behind police abbreviations\n",
    "dispositions = pd.read_excel(layout_path, sheet_name=excelList[4]) # Describes the meaning behind final verdict\n",
    "complaints = pd.read_csv(complaints_path) # Dataframe of complaints\n",
    "complaints.head()"
   ]
  },
  {
   "cell_type": "markdown",
   "metadata": {},
   "source": [
    "The dataset comes with a handy dictionary of column names and their descriptions."
   ]
  },
  {
   "cell_type": "code",
   "execution_count": 106,
   "metadata": {},
   "outputs": [
    {
     "data": {
      "text/html": [
       "<div>\n",
       "<style scoped>\n",
       "    .dataframe tbody tr th:only-of-type {\n",
       "        vertical-align: middle;\n",
       "    }\n",
       "\n",
       "    .dataframe tbody tr th {\n",
       "        vertical-align: top;\n",
       "    }\n",
       "\n",
       "    .dataframe thead th {\n",
       "        text-align: right;\n",
       "    }\n",
       "</style>\n",
       "<table border=\"1\" class=\"dataframe\">\n",
       "  <thead>\n",
       "    <tr style=\"text-align: right;\">\n",
       "      <th></th>\n",
       "      <th>field name</th>\n",
       "      <th>description</th>\n",
       "    </tr>\n",
       "  </thead>\n",
       "  <tbody>\n",
       "    <tr>\n",
       "      <th>0</th>\n",
       "      <td>unique_mos_id</td>\n",
       "      <td>unique ID of the officer (\"member of service\")</td>\n",
       "    </tr>\n",
       "    <tr>\n",
       "      <th>1</th>\n",
       "      <td>first_name</td>\n",
       "      <td>Officer's first name</td>\n",
       "    </tr>\n",
       "    <tr>\n",
       "      <th>2</th>\n",
       "      <td>last_name</td>\n",
       "      <td>Officer's last name</td>\n",
       "    </tr>\n",
       "    <tr>\n",
       "      <th>3</th>\n",
       "      <td>command_now</td>\n",
       "      <td>Officer's command assignment as of July 2020</td>\n",
       "    </tr>\n",
       "    <tr>\n",
       "      <th>4</th>\n",
       "      <td>complaint_id</td>\n",
       "      <td>Unique ID of the complaint</td>\n",
       "    </tr>\n",
       "    <tr>\n",
       "      <th>5</th>\n",
       "      <td>month_received</td>\n",
       "      <td>Month the complaint was received by CCRB</td>\n",
       "    </tr>\n",
       "    <tr>\n",
       "      <th>6</th>\n",
       "      <td>year_received</td>\n",
       "      <td>Year the complaint was received by CCRB</td>\n",
       "    </tr>\n",
       "    <tr>\n",
       "      <th>7</th>\n",
       "      <td>month_closed</td>\n",
       "      <td>Month the complaint investigation was closed b...</td>\n",
       "    </tr>\n",
       "    <tr>\n",
       "      <th>8</th>\n",
       "      <td>year_closed</td>\n",
       "      <td>Year the complaint investigation was closed by...</td>\n",
       "    </tr>\n",
       "    <tr>\n",
       "      <th>9</th>\n",
       "      <td>command_at_incident</td>\n",
       "      <td>Officer's command assignment at the time of th...</td>\n",
       "    </tr>\n",
       "    <tr>\n",
       "      <th>10</th>\n",
       "      <td>rank_abbrev_incident</td>\n",
       "      <td>Officer's rank at the time of the incident, ab...</td>\n",
       "    </tr>\n",
       "    <tr>\n",
       "      <th>11</th>\n",
       "      <td>rank_abbrev_now</td>\n",
       "      <td>Officer's rank as of July 2020, abbreviation</td>\n",
       "    </tr>\n",
       "    <tr>\n",
       "      <th>12</th>\n",
       "      <td>rank_now</td>\n",
       "      <td>Officer's rank as of July 2020</td>\n",
       "    </tr>\n",
       "    <tr>\n",
       "      <th>13</th>\n",
       "      <td>rank_incident</td>\n",
       "      <td>Officer's rank at the time of the incident</td>\n",
       "    </tr>\n",
       "    <tr>\n",
       "      <th>14</th>\n",
       "      <td>mos_ethnicity</td>\n",
       "      <td>Officer's ethnicity</td>\n",
       "    </tr>\n",
       "    <tr>\n",
       "      <th>15</th>\n",
       "      <td>mos_gender</td>\n",
       "      <td>Officer's gender</td>\n",
       "    </tr>\n",
       "    <tr>\n",
       "      <th>16</th>\n",
       "      <td>mos_age_incident</td>\n",
       "      <td>Officer's age at time of incident</td>\n",
       "    </tr>\n",
       "    <tr>\n",
       "      <th>17</th>\n",
       "      <td>complainant_ethnicity</td>\n",
       "      <td>Complainant's ethnicity</td>\n",
       "    </tr>\n",
       "    <tr>\n",
       "      <th>18</th>\n",
       "      <td>complainant_gender</td>\n",
       "      <td>Complainant's gender</td>\n",
       "    </tr>\n",
       "    <tr>\n",
       "      <th>19</th>\n",
       "      <td>complainant_age_incident</td>\n",
       "      <td>Complainant's age at time of incident</td>\n",
       "    </tr>\n",
       "    <tr>\n",
       "      <th>20</th>\n",
       "      <td>fado_type</td>\n",
       "      <td>Top-level category of complaint</td>\n",
       "    </tr>\n",
       "    <tr>\n",
       "      <th>21</th>\n",
       "      <td>allegation</td>\n",
       "      <td>Specific category of complaint</td>\n",
       "    </tr>\n",
       "    <tr>\n",
       "      <th>22</th>\n",
       "      <td>precinct</td>\n",
       "      <td>Precinct associated with the complaint</td>\n",
       "    </tr>\n",
       "    <tr>\n",
       "      <th>23</th>\n",
       "      <td>contact_reason</td>\n",
       "      <td>Reason officer made contact with complainant</td>\n",
       "    </tr>\n",
       "    <tr>\n",
       "      <th>24</th>\n",
       "      <td>outcome_description</td>\n",
       "      <td>Outcome of the contact between office and comp...</td>\n",
       "    </tr>\n",
       "    <tr>\n",
       "      <th>25</th>\n",
       "      <td>board_disposition</td>\n",
       "      <td>Finding by the CCRB</td>\n",
       "    </tr>\n",
       "  </tbody>\n",
       "</table>\n",
       "</div>"
      ],
      "text/plain": [
       "                  field name  \\\n",
       "0              unique_mos_id   \n",
       "1                 first_name   \n",
       "2                  last_name   \n",
       "3                command_now   \n",
       "4               complaint_id   \n",
       "5             month_received   \n",
       "6              year_received   \n",
       "7               month_closed   \n",
       "8                year_closed   \n",
       "9        command_at_incident   \n",
       "10      rank_abbrev_incident   \n",
       "11           rank_abbrev_now   \n",
       "12                  rank_now   \n",
       "13             rank_incident   \n",
       "14             mos_ethnicity   \n",
       "15                mos_gender   \n",
       "16          mos_age_incident   \n",
       "17     complainant_ethnicity   \n",
       "18        complainant_gender   \n",
       "19  complainant_age_incident   \n",
       "20                 fado_type   \n",
       "21                allegation   \n",
       "22                  precinct   \n",
       "23            contact_reason   \n",
       "24       outcome_description   \n",
       "25         board_disposition   \n",
       "\n",
       "                                          description  \n",
       "0     unique ID of the officer (\"member of service\")   \n",
       "1                                Officer's first name  \n",
       "2                                 Officer's last name  \n",
       "3        Officer's command assignment as of July 2020  \n",
       "4                          Unique ID of the complaint  \n",
       "5            Month the complaint was received by CCRB  \n",
       "6             Year the complaint was received by CCRB  \n",
       "7   Month the complaint investigation was closed b...  \n",
       "8   Year the complaint investigation was closed by...  \n",
       "9   Officer's command assignment at the time of th...  \n",
       "10  Officer's rank at the time of the incident, ab...  \n",
       "11       Officer's rank as of July 2020, abbreviation  \n",
       "12                     Officer's rank as of July 2020  \n",
       "13         Officer's rank at the time of the incident  \n",
       "14                                Officer's ethnicity  \n",
       "15                                   Officer's gender  \n",
       "16                  Officer's age at time of incident  \n",
       "17                            Complainant's ethnicity  \n",
       "18                               Complainant's gender  \n",
       "19              Complainant's age at time of incident  \n",
       "20                    Top-level category of complaint  \n",
       "21                     Specific category of complaint  \n",
       "22             Precinct associated with the complaint  \n",
       "23       Reason officer made contact with complainant  \n",
       "24  Outcome of the contact between office and comp...  \n",
       "25                                Finding by the CCRB  "
      ]
     },
     "execution_count": 106,
     "metadata": {},
     "output_type": "execute_result"
    }
   ],
   "source": [
    "layout.drop(columns = \"glossary\") "
   ]
  },
  {
   "cell_type": "markdown",
   "metadata": {},
   "source": [
    "### Data cleaning:"
   ]
  },
  {
   "cell_type": "code",
   "execution_count": 107,
   "metadata": {},
   "outputs": [
    {
     "name": "stdout",
     "output_type": "stream",
     "text": [
      "<class 'pandas.core.frame.DataFrame'>\n",
      "RangeIndex: 33358 entries, 0 to 33357\n",
      "Data columns (total 27 columns):\n",
      " #   Column                    Non-Null Count  Dtype  \n",
      "---  ------                    --------------  -----  \n",
      " 0   unique_mos_id             33358 non-null  int64  \n",
      " 1   first_name                33358 non-null  object \n",
      " 2   last_name                 33358 non-null  object \n",
      " 3   command_now               33358 non-null  object \n",
      " 4   shield_no                 33358 non-null  int64  \n",
      " 5   complaint_id              33358 non-null  int64  \n",
      " 6   month_received            33358 non-null  int64  \n",
      " 7   year_received             33358 non-null  int64  \n",
      " 8   month_closed              33358 non-null  int64  \n",
      " 9   year_closed               33358 non-null  int64  \n",
      " 10  command_at_incident       31814 non-null  object \n",
      " 11  rank_abbrev_incident      33358 non-null  object \n",
      " 12  rank_abbrev_now           33358 non-null  object \n",
      " 13  rank_now                  33358 non-null  object \n",
      " 14  rank_incident             33358 non-null  object \n",
      " 15  mos_ethnicity             33358 non-null  object \n",
      " 16  mos_gender                33358 non-null  object \n",
      " 17  mos_age_incident          33358 non-null  int64  \n",
      " 18  complainant_ethnicity     28894 non-null  object \n",
      " 19  complainant_gender        29163 non-null  object \n",
      " 20  complainant_age_incident  28546 non-null  float64\n",
      " 21  fado_type                 33358 non-null  object \n",
      " 22  allegation                33357 non-null  object \n",
      " 23  precinct                  33334 non-null  float64\n",
      " 24  contact_reason            33159 non-null  object \n",
      " 25  outcome_description       33302 non-null  object \n",
      " 26  board_disposition         33358 non-null  object \n",
      "dtypes: float64(2), int64(8), object(17)\n",
      "memory usage: 6.9+ MB\n"
     ]
    }
   ],
   "source": [
    "complaints.info()"
   ]
  },
  {
   "cell_type": "markdown",
   "metadata": {},
   "source": [
    "It seems that the date fields `month_received`, `year_received`, `month_closed`, and `year_closed` can be converted into datetime objects."
   ]
  },
  {
   "cell_type": "code",
   "execution_count": 108,
   "metadata": {},
   "outputs": [
    {
     "data": {
      "text/html": [
       "<div>\n",
       "<style scoped>\n",
       "    .dataframe tbody tr th:only-of-type {\n",
       "        vertical-align: middle;\n",
       "    }\n",
       "\n",
       "    .dataframe tbody tr th {\n",
       "        vertical-align: top;\n",
       "    }\n",
       "\n",
       "    .dataframe thead th {\n",
       "        text-align: right;\n",
       "    }\n",
       "</style>\n",
       "<table border=\"1\" class=\"dataframe\">\n",
       "  <thead>\n",
       "    <tr style=\"text-align: right;\">\n",
       "      <th></th>\n",
       "      <th>month_received</th>\n",
       "      <th>year_received</th>\n",
       "      <th>month_closed</th>\n",
       "      <th>year_closed</th>\n",
       "    </tr>\n",
       "  </thead>\n",
       "  <tbody>\n",
       "    <tr>\n",
       "      <th>0</th>\n",
       "      <td>7</td>\n",
       "      <td>2019</td>\n",
       "      <td>5</td>\n",
       "      <td>2020</td>\n",
       "    </tr>\n",
       "    <tr>\n",
       "      <th>1</th>\n",
       "      <td>11</td>\n",
       "      <td>2011</td>\n",
       "      <td>8</td>\n",
       "      <td>2012</td>\n",
       "    </tr>\n",
       "    <tr>\n",
       "      <th>2</th>\n",
       "      <td>11</td>\n",
       "      <td>2011</td>\n",
       "      <td>8</td>\n",
       "      <td>2012</td>\n",
       "    </tr>\n",
       "    <tr>\n",
       "      <th>3</th>\n",
       "      <td>7</td>\n",
       "      <td>2012</td>\n",
       "      <td>9</td>\n",
       "      <td>2013</td>\n",
       "    </tr>\n",
       "    <tr>\n",
       "      <th>4</th>\n",
       "      <td>8</td>\n",
       "      <td>2018</td>\n",
       "      <td>2</td>\n",
       "      <td>2019</td>\n",
       "    </tr>\n",
       "  </tbody>\n",
       "</table>\n",
       "</div>"
      ],
      "text/plain": [
       "   month_received  year_received  month_closed  year_closed\n",
       "0               7           2019             5         2020\n",
       "1              11           2011             8         2012\n",
       "2              11           2011             8         2012\n",
       "3               7           2012             9         2013\n",
       "4               8           2018             2         2019"
      ]
     },
     "execution_count": 108,
     "metadata": {},
     "output_type": "execute_result"
    }
   ],
   "source": [
    "complaint_times = complaints[['month_received', 'year_received', 'month_closed', 'year_closed']]\n",
    "complaint_times.head()"
   ]
  },
  {
   "cell_type": "code",
   "execution_count": 109,
   "metadata": {},
   "outputs": [
    {
     "data": {
      "text/html": [
       "<div>\n",
       "<style scoped>\n",
       "    .dataframe tbody tr th:only-of-type {\n",
       "        vertical-align: middle;\n",
       "    }\n",
       "\n",
       "    .dataframe tbody tr th {\n",
       "        vertical-align: top;\n",
       "    }\n",
       "\n",
       "    .dataframe thead th {\n",
       "        text-align: right;\n",
       "    }\n",
       "</style>\n",
       "<table border=\"1\" class=\"dataframe\">\n",
       "  <thead>\n",
       "    <tr style=\"text-align: right;\">\n",
       "      <th></th>\n",
       "      <th>date_received</th>\n",
       "      <th>date_closed</th>\n",
       "    </tr>\n",
       "  </thead>\n",
       "  <tbody>\n",
       "    <tr>\n",
       "      <th>0</th>\n",
       "      <td>2019-07-01</td>\n",
       "      <td>2020-05-01</td>\n",
       "    </tr>\n",
       "    <tr>\n",
       "      <th>1</th>\n",
       "      <td>2011-11-01</td>\n",
       "      <td>2012-08-01</td>\n",
       "    </tr>\n",
       "    <tr>\n",
       "      <th>2</th>\n",
       "      <td>2011-11-01</td>\n",
       "      <td>2012-08-01</td>\n",
       "    </tr>\n",
       "    <tr>\n",
       "      <th>3</th>\n",
       "      <td>2012-07-01</td>\n",
       "      <td>2013-09-01</td>\n",
       "    </tr>\n",
       "    <tr>\n",
       "      <th>4</th>\n",
       "      <td>2018-08-01</td>\n",
       "      <td>2019-02-01</td>\n",
       "    </tr>\n",
       "  </tbody>\n",
       "</table>\n",
       "</div>"
      ],
      "text/plain": [
       "  date_received date_closed\n",
       "0    2019-07-01  2020-05-01\n",
       "1    2011-11-01  2012-08-01\n",
       "2    2011-11-01  2012-08-01\n",
       "3    2012-07-01  2013-09-01\n",
       "4    2018-08-01  2019-02-01"
      ]
     },
     "execution_count": 109,
     "metadata": {},
     "output_type": "execute_result"
    }
   ],
   "source": [
    "time_labels = [('month_received', 'year_received'), ('month_closed', 'year_closed')]\n",
    "times = []\n",
    "\n",
    "# Creates a list of datetime columns\n",
    "for label in time_labels:\n",
    "    times += [pd.to_datetime(complaint_times[label[0]].astype(str) + complaint_times[label[1]].astype(str), format = \"%m%Y\")]\n",
    "\n",
    "complaints = complaints.assign(date_received = times[0]).assign(date_closed = times[1])\n",
    "complaints[['date_received', 'date_closed']].head()"
   ]
  },
  {
   "cell_type": "markdown",
   "metadata": {},
   "source": [
    "Let's engineer a new feature called `days_taken` which represents the duration, in days, a case took to be closed."
   ]
  },
  {
   "cell_type": "code",
   "execution_count": 110,
   "metadata": {},
   "outputs": [
    {
     "data": {
      "text/html": [
       "<div>\n",
       "<style scoped>\n",
       "    .dataframe tbody tr th:only-of-type {\n",
       "        vertical-align: middle;\n",
       "    }\n",
       "\n",
       "    .dataframe tbody tr th {\n",
       "        vertical-align: top;\n",
       "    }\n",
       "\n",
       "    .dataframe thead th {\n",
       "        text-align: right;\n",
       "    }\n",
       "</style>\n",
       "<table border=\"1\" class=\"dataframe\">\n",
       "  <thead>\n",
       "    <tr style=\"text-align: right;\">\n",
       "      <th></th>\n",
       "      <th>date_received</th>\n",
       "      <th>date_closed</th>\n",
       "      <th>days_taken</th>\n",
       "    </tr>\n",
       "  </thead>\n",
       "  <tbody>\n",
       "    <tr>\n",
       "      <th>0</th>\n",
       "      <td>2019-07-01</td>\n",
       "      <td>2020-05-01</td>\n",
       "      <td>305 days</td>\n",
       "    </tr>\n",
       "    <tr>\n",
       "      <th>1</th>\n",
       "      <td>2011-11-01</td>\n",
       "      <td>2012-08-01</td>\n",
       "      <td>274 days</td>\n",
       "    </tr>\n",
       "    <tr>\n",
       "      <th>2</th>\n",
       "      <td>2011-11-01</td>\n",
       "      <td>2012-08-01</td>\n",
       "      <td>274 days</td>\n",
       "    </tr>\n",
       "    <tr>\n",
       "      <th>3</th>\n",
       "      <td>2012-07-01</td>\n",
       "      <td>2013-09-01</td>\n",
       "      <td>427 days</td>\n",
       "    </tr>\n",
       "    <tr>\n",
       "      <th>4</th>\n",
       "      <td>2018-08-01</td>\n",
       "      <td>2019-02-01</td>\n",
       "      <td>184 days</td>\n",
       "    </tr>\n",
       "  </tbody>\n",
       "</table>\n",
       "</div>"
      ],
      "text/plain": [
       "  date_received date_closed days_taken\n",
       "0    2019-07-01  2020-05-01   305 days\n",
       "1    2011-11-01  2012-08-01   274 days\n",
       "2    2011-11-01  2012-08-01   274 days\n",
       "3    2012-07-01  2013-09-01   427 days\n",
       "4    2018-08-01  2019-02-01   184 days"
      ]
     },
     "execution_count": 110,
     "metadata": {},
     "output_type": "execute_result"
    }
   ],
   "source": [
    "complaints['days_taken'] = (complaints['date_closed'] - complaints['date_received']) # Compute timedelta\n",
    "complaints[['date_received', 'date_closed', 'days_taken']].head()"
   ]
  },
  {
   "cell_type": "code",
   "execution_count": 111,
   "metadata": {},
   "outputs": [
    {
     "data": {
      "text/plain": [
       "count                          33358\n",
       "mean     296 days 06:26:57.507044788\n",
       "std      152 days 16:52:42.935615560\n",
       "min                  0 days 00:00:00\n",
       "25%                183 days 00:00:00\n",
       "50%                303 days 00:00:00\n",
       "75%                396 days 00:00:00\n",
       "max               3348 days 00:00:00\n",
       "Name: days_taken, dtype: object"
      ]
     },
     "execution_count": 111,
     "metadata": {},
     "output_type": "execute_result"
    }
   ],
   "source": [
    "complaints['days_taken'].describe()"
   ]
  },
  {
   "cell_type": "markdown",
   "metadata": {},
   "source": [
    "One of the cases took 3348 days, which more than 9 years, to resolve!"
   ]
  },
  {
   "cell_type": "code",
   "execution_count": 112,
   "metadata": {},
   "outputs": [
    {
     "data": {
      "text/html": [
       "<div>\n",
       "<style scoped>\n",
       "    .dataframe tbody tr th:only-of-type {\n",
       "        vertical-align: middle;\n",
       "    }\n",
       "\n",
       "    .dataframe tbody tr th {\n",
       "        vertical-align: top;\n",
       "    }\n",
       "\n",
       "    .dataframe thead th {\n",
       "        text-align: right;\n",
       "    }\n",
       "</style>\n",
       "<table border=\"1\" class=\"dataframe\">\n",
       "  <thead>\n",
       "    <tr style=\"text-align: right;\">\n",
       "      <th></th>\n",
       "      <th>unique_mos_id</th>\n",
       "      <th>first_name</th>\n",
       "      <th>last_name</th>\n",
       "      <th>command_now</th>\n",
       "      <th>shield_no</th>\n",
       "      <th>complaint_id</th>\n",
       "      <th>month_received</th>\n",
       "      <th>year_received</th>\n",
       "      <th>month_closed</th>\n",
       "      <th>year_closed</th>\n",
       "      <th>command_at_incident</th>\n",
       "      <th>rank_abbrev_incident</th>\n",
       "      <th>rank_abbrev_now</th>\n",
       "      <th>rank_now</th>\n",
       "      <th>rank_incident</th>\n",
       "      <th>mos_ethnicity</th>\n",
       "      <th>mos_gender</th>\n",
       "      <th>mos_age_incident</th>\n",
       "      <th>complainant_ethnicity</th>\n",
       "      <th>complainant_gender</th>\n",
       "      <th>complainant_age_incident</th>\n",
       "      <th>fado_type</th>\n",
       "      <th>allegation</th>\n",
       "      <th>precinct</th>\n",
       "      <th>contact_reason</th>\n",
       "      <th>outcome_description</th>\n",
       "      <th>board_disposition</th>\n",
       "      <th>date_received</th>\n",
       "      <th>date_closed</th>\n",
       "      <th>days_taken</th>\n",
       "    </tr>\n",
       "  </thead>\n",
       "  <tbody>\n",
       "    <tr>\n",
       "      <th>23085</th>\n",
       "      <td>31771</td>\n",
       "      <td>Gerard</td>\n",
       "      <td>Delprete</td>\n",
       "      <td>RTCC</td>\n",
       "      <td>1973</td>\n",
       "      <td>16571</td>\n",
       "      <td>9</td>\n",
       "      <td>2008</td>\n",
       "      <td>11</td>\n",
       "      <td>2017</td>\n",
       "      <td>NARCBSI</td>\n",
       "      <td>DT3</td>\n",
       "      <td>DT3</td>\n",
       "      <td>Detective</td>\n",
       "      <td>Detective</td>\n",
       "      <td>White</td>\n",
       "      <td>M</td>\n",
       "      <td>31</td>\n",
       "      <td>Black</td>\n",
       "      <td>Male</td>\n",
       "      <td>28.0</td>\n",
       "      <td>Force</td>\n",
       "      <td>Physical force</td>\n",
       "      <td>120.0</td>\n",
       "      <td>Report-possession/sale of narcotics</td>\n",
       "      <td>Arrest - resisting arrest</td>\n",
       "      <td>Unsubstantiated</td>\n",
       "      <td>2008-09-01</td>\n",
       "      <td>2017-11-01</td>\n",
       "      <td>3348 days</td>\n",
       "    </tr>\n",
       "  </tbody>\n",
       "</table>\n",
       "</div>"
      ],
      "text/plain": [
       "       unique_mos_id first_name last_name command_now  shield_no  \\\n",
       "23085          31771     Gerard  Delprete        RTCC       1973   \n",
       "\n",
       "       complaint_id  month_received  year_received  month_closed  year_closed  \\\n",
       "23085         16571               9           2008            11         2017   \n",
       "\n",
       "      command_at_incident rank_abbrev_incident rank_abbrev_now   rank_now  \\\n",
       "23085             NARCBSI                  DT3             DT3  Detective   \n",
       "\n",
       "      rank_incident mos_ethnicity mos_gender  mos_age_incident  \\\n",
       "23085     Detective         White          M                31   \n",
       "\n",
       "      complainant_ethnicity complainant_gender  complainant_age_incident  \\\n",
       "23085                 Black               Male                      28.0   \n",
       "\n",
       "      fado_type      allegation  precinct  \\\n",
       "23085     Force  Physical force     120.0   \n",
       "\n",
       "                            contact_reason        outcome_description  \\\n",
       "23085  Report-possession/sale of narcotics  Arrest - resisting arrest   \n",
       "\n",
       "      board_disposition date_received date_closed days_taken  \n",
       "23085   Unsubstantiated    2008-09-01  2017-11-01  3348 days  "
      ]
     },
     "execution_count": 112,
     "metadata": {},
     "output_type": "execute_result"
    }
   ],
   "source": [
    "complaints[complaints['days_taken'].dt.days == 3348] # It took 9 years just for the case to be unsubstantiated?"
   ]
  },
  {
   "cell_type": "markdown",
   "metadata": {},
   "source": [
    "Let's inspect all quantative columns."
   ]
  },
  {
   "cell_type": "code",
   "execution_count": 113,
   "metadata": {},
   "outputs": [
    {
     "data": {
      "text/html": [
       "<div>\n",
       "<style scoped>\n",
       "    .dataframe tbody tr th:only-of-type {\n",
       "        vertical-align: middle;\n",
       "    }\n",
       "\n",
       "    .dataframe tbody tr th {\n",
       "        vertical-align: top;\n",
       "    }\n",
       "\n",
       "    .dataframe thead th {\n",
       "        text-align: right;\n",
       "    }\n",
       "</style>\n",
       "<table border=\"1\" class=\"dataframe\">\n",
       "  <thead>\n",
       "    <tr style=\"text-align: right;\">\n",
       "      <th></th>\n",
       "      <th>unique_mos_id</th>\n",
       "      <th>shield_no</th>\n",
       "      <th>complaint_id</th>\n",
       "      <th>month_received</th>\n",
       "      <th>year_received</th>\n",
       "      <th>month_closed</th>\n",
       "      <th>year_closed</th>\n",
       "      <th>mos_age_incident</th>\n",
       "      <th>complainant_age_incident</th>\n",
       "      <th>precinct</th>\n",
       "      <th>days_taken</th>\n",
       "    </tr>\n",
       "  </thead>\n",
       "  <tbody>\n",
       "    <tr>\n",
       "      <th>count</th>\n",
       "      <td>33358.000000</td>\n",
       "      <td>33358.000000</td>\n",
       "      <td>33358.000000</td>\n",
       "      <td>33358.000000</td>\n",
       "      <td>33358.000000</td>\n",
       "      <td>33358.000000</td>\n",
       "      <td>33358.000000</td>\n",
       "      <td>33358.000000</td>\n",
       "      <td>28546.000000</td>\n",
       "      <td>33334.000000</td>\n",
       "      <td>33358</td>\n",
       "    </tr>\n",
       "    <tr>\n",
       "      <th>mean</th>\n",
       "      <td>18169.912495</td>\n",
       "      <td>6451.608819</td>\n",
       "      <td>23905.058217</td>\n",
       "      <td>6.323551</td>\n",
       "      <td>2010.726782</td>\n",
       "      <td>6.470772</td>\n",
       "      <td>2011.525661</td>\n",
       "      <td>32.346873</td>\n",
       "      <td>32.484201</td>\n",
       "      <td>64.365213</td>\n",
       "      <td>296 days 06:26:57.507044788</td>\n",
       "    </tr>\n",
       "    <tr>\n",
       "      <th>std</th>\n",
       "      <td>9566.316896</td>\n",
       "      <td>7945.641596</td>\n",
       "      <td>11954.434138</td>\n",
       "      <td>3.362951</td>\n",
       "      <td>6.034725</td>\n",
       "      <td>3.343372</td>\n",
       "      <td>6.085907</td>\n",
       "      <td>6.040944</td>\n",
       "      <td>28.408963</td>\n",
       "      <td>31.451592</td>\n",
       "      <td>152 days 16:52:42.935615560</td>\n",
       "    </tr>\n",
       "    <tr>\n",
       "      <th>min</th>\n",
       "      <td>2.000000</td>\n",
       "      <td>0.000000</td>\n",
       "      <td>517.000000</td>\n",
       "      <td>1.000000</td>\n",
       "      <td>1985.000000</td>\n",
       "      <td>1.000000</td>\n",
       "      <td>1985.000000</td>\n",
       "      <td>20.000000</td>\n",
       "      <td>-4301.000000</td>\n",
       "      <td>0.000000</td>\n",
       "      <td>0 days 00:00:00</td>\n",
       "    </tr>\n",
       "    <tr>\n",
       "      <th>25%</th>\n",
       "      <td>9671.000000</td>\n",
       "      <td>1089.000000</td>\n",
       "      <td>13684.750000</td>\n",
       "      <td>3.000000</td>\n",
       "      <td>2007.000000</td>\n",
       "      <td>4.000000</td>\n",
       "      <td>2008.000000</td>\n",
       "      <td>28.000000</td>\n",
       "      <td>23.000000</td>\n",
       "      <td>43.000000</td>\n",
       "      <td>183 days 00:00:00</td>\n",
       "    </tr>\n",
       "    <tr>\n",
       "      <th>50%</th>\n",
       "      <td>19215.000000</td>\n",
       "      <td>3691.000000</td>\n",
       "      <td>25132.000000</td>\n",
       "      <td>6.000000</td>\n",
       "      <td>2012.000000</td>\n",
       "      <td>6.000000</td>\n",
       "      <td>2013.000000</td>\n",
       "      <td>31.000000</td>\n",
       "      <td>30.000000</td>\n",
       "      <td>67.000000</td>\n",
       "      <td>303 days 00:00:00</td>\n",
       "    </tr>\n",
       "    <tr>\n",
       "      <th>75%</th>\n",
       "      <td>25412.000000</td>\n",
       "      <td>7155.000000</td>\n",
       "      <td>34252.000000</td>\n",
       "      <td>9.000000</td>\n",
       "      <td>2016.000000</td>\n",
       "      <td>9.000000</td>\n",
       "      <td>2016.000000</td>\n",
       "      <td>36.000000</td>\n",
       "      <td>41.000000</td>\n",
       "      <td>81.000000</td>\n",
       "      <td>396 days 00:00:00</td>\n",
       "    </tr>\n",
       "    <tr>\n",
       "      <th>max</th>\n",
       "      <td>36374.000000</td>\n",
       "      <td>31977.000000</td>\n",
       "      <td>43703.000000</td>\n",
       "      <td>12.000000</td>\n",
       "      <td>2020.000000</td>\n",
       "      <td>12.000000</td>\n",
       "      <td>2020.000000</td>\n",
       "      <td>60.000000</td>\n",
       "      <td>101.000000</td>\n",
       "      <td>1000.000000</td>\n",
       "      <td>3348 days 00:00:00</td>\n",
       "    </tr>\n",
       "  </tbody>\n",
       "</table>\n",
       "</div>"
      ],
      "text/plain": [
       "       unique_mos_id     shield_no  complaint_id  month_received  \\\n",
       "count   33358.000000  33358.000000  33358.000000    33358.000000   \n",
       "mean    18169.912495   6451.608819  23905.058217        6.323551   \n",
       "std      9566.316896   7945.641596  11954.434138        3.362951   \n",
       "min         2.000000      0.000000    517.000000        1.000000   \n",
       "25%      9671.000000   1089.000000  13684.750000        3.000000   \n",
       "50%     19215.000000   3691.000000  25132.000000        6.000000   \n",
       "75%     25412.000000   7155.000000  34252.000000        9.000000   \n",
       "max     36374.000000  31977.000000  43703.000000       12.000000   \n",
       "\n",
       "       year_received  month_closed   year_closed  mos_age_incident  \\\n",
       "count   33358.000000  33358.000000  33358.000000      33358.000000   \n",
       "mean     2010.726782      6.470772   2011.525661         32.346873   \n",
       "std         6.034725      3.343372      6.085907          6.040944   \n",
       "min      1985.000000      1.000000   1985.000000         20.000000   \n",
       "25%      2007.000000      4.000000   2008.000000         28.000000   \n",
       "50%      2012.000000      6.000000   2013.000000         31.000000   \n",
       "75%      2016.000000      9.000000   2016.000000         36.000000   \n",
       "max      2020.000000     12.000000   2020.000000         60.000000   \n",
       "\n",
       "       complainant_age_incident      precinct                   days_taken  \n",
       "count              28546.000000  33334.000000                        33358  \n",
       "mean                  32.484201     64.365213  296 days 06:26:57.507044788  \n",
       "std                   28.408963     31.451592  152 days 16:52:42.935615560  \n",
       "min                -4301.000000      0.000000              0 days 00:00:00  \n",
       "25%                   23.000000     43.000000            183 days 00:00:00  \n",
       "50%                   30.000000     67.000000            303 days 00:00:00  \n",
       "75%                   41.000000     81.000000            396 days 00:00:00  \n",
       "max                  101.000000   1000.000000           3348 days 00:00:00  "
      ]
     },
     "execution_count": 113,
     "metadata": {},
     "output_type": "execute_result"
    }
   ],
   "source": [
    "complaints.describe()"
   ]
  },
  {
   "cell_type": "markdown",
   "metadata": {},
   "source": [
    "The column `complainant_age_incident` has a value of -4301, which is obviously incorrect."
   ]
  },
  {
   "cell_type": "code",
   "execution_count": 114,
   "metadata": {},
   "outputs": [
    {
     "data": {
      "text/plain": [
       "count    28538.000000\n",
       "mean        32.644194\n",
       "std         12.204035\n",
       "min          1.000000\n",
       "25%         23.000000\n",
       "50%         30.000000\n",
       "75%         41.000000\n",
       "max        101.000000\n",
       "Name: complainant_age_incident, dtype: float64"
      ]
     },
     "execution_count": 114,
     "metadata": {},
     "output_type": "execute_result"
    }
   ],
   "source": [
    "complaints['complainant_age_incident'] = complaints['complainant_age_incident'].apply(lambda age: np.nan if age <= 0 else age) # Replace negative ages with np.nan\n",
    "complaints['complainant_age_incident'].describe()"
   ]
  },
  {
   "cell_type": "markdown",
   "metadata": {},
   "source": [
    "Let's inspect all qualitative columns by detailing a course of action for each qualitative column."
   ]
  },
  {
   "cell_type": "code",
   "execution_count": 115,
   "metadata": {},
   "outputs": [
    {
     "data": {
      "text/plain": [
       "first_name               1217\n",
       "last_name                2835\n",
       "command_now               415\n",
       "command_at_incident       361\n",
       "rank_abbrev_incident       18\n",
       "rank_abbrev_now            20\n",
       "rank_now                    8\n",
       "rank_incident               8\n",
       "mos_ethnicity               5\n",
       "mos_gender                  2\n",
       "complainant_ethnicity       8\n",
       "complainant_gender          6\n",
       "fado_type                   4\n",
       "allegation                115\n",
       "contact_reason             53\n",
       "outcome_description        23\n",
       "board_disposition          11\n",
       "precinct                   79\n",
       "dtype: int64"
      ]
     },
     "execution_count": 115,
     "metadata": {},
     "output_type": "execute_result"
    }
   ],
   "source": [
    "pd.concat([complaints.select_dtypes(object), complaints['precinct']], axis = 1).nunique()"
   ]
  },
  {
   "cell_type": "markdown",
   "metadata": {},
   "source": [
    "- `first_name`, `last_name`, `command_now`, `contact_reason`, `allegation`, and `command_at_incident` all contain dozens if not thousands of unique values that, for simplicity's sake, will be left alone\n",
    "- `rank_abbrev_incident` and `rank_abbrev_now` have more unique values than `rank_now` and `rank_incident` so converting the abbreviated columns would yield more specific data\n",
    "- `mos_ethnicity`, `mos_gender`, `complainant_ethnicity`, `complainant_gender`, `fado_type`, `board_disposition`, `precinct`, and `outcome_description` can be manually checked for inconsistencies and cleaned accordingly due to their limited diversity"
   ]
  },
  {
   "cell_type": "markdown",
   "metadata": {},
   "source": [
    "Certain rows have differing abbreviated ranks but same full ranks."
   ]
  },
  {
   "cell_type": "code",
   "execution_count": 116,
   "metadata": {},
   "outputs": [
    {
     "data": {
      "text/html": [
       "<div>\n",
       "<style scoped>\n",
       "    .dataframe tbody tr th:only-of-type {\n",
       "        vertical-align: middle;\n",
       "    }\n",
       "\n",
       "    .dataframe tbody tr th {\n",
       "        vertical-align: top;\n",
       "    }\n",
       "\n",
       "    .dataframe thead th {\n",
       "        text-align: right;\n",
       "    }\n",
       "</style>\n",
       "<table border=\"1\" class=\"dataframe\">\n",
       "  <thead>\n",
       "    <tr style=\"text-align: right;\">\n",
       "      <th></th>\n",
       "      <th>rank_abbrev_incident</th>\n",
       "      <th>rank_abbrev_now</th>\n",
       "      <th>rank_incident</th>\n",
       "      <th>rank_now</th>\n",
       "    </tr>\n",
       "  </thead>\n",
       "  <tbody>\n",
       "    <tr>\n",
       "      <th>340</th>\n",
       "      <td>PO</td>\n",
       "      <td>POM</td>\n",
       "      <td>Police Officer</td>\n",
       "      <td>Police Officer</td>\n",
       "    </tr>\n",
       "    <tr>\n",
       "      <th>453</th>\n",
       "      <td>DT3</td>\n",
       "      <td>DT2</td>\n",
       "      <td>Detective</td>\n",
       "      <td>Detective</td>\n",
       "    </tr>\n",
       "    <tr>\n",
       "      <th>466</th>\n",
       "      <td>SGT</td>\n",
       "      <td>SDS</td>\n",
       "      <td>Sergeant</td>\n",
       "      <td>Sergeant</td>\n",
       "    </tr>\n",
       "    <tr>\n",
       "      <th>467</th>\n",
       "      <td>SGT</td>\n",
       "      <td>SDS</td>\n",
       "      <td>Sergeant</td>\n",
       "      <td>Sergeant</td>\n",
       "    </tr>\n",
       "    <tr>\n",
       "      <th>468</th>\n",
       "      <td>SGT</td>\n",
       "      <td>SDS</td>\n",
       "      <td>Sergeant</td>\n",
       "      <td>Sergeant</td>\n",
       "    </tr>\n",
       "    <tr>\n",
       "      <th>469</th>\n",
       "      <td>SGT</td>\n",
       "      <td>SDS</td>\n",
       "      <td>Sergeant</td>\n",
       "      <td>Sergeant</td>\n",
       "    </tr>\n",
       "    <tr>\n",
       "      <th>470</th>\n",
       "      <td>SGT</td>\n",
       "      <td>SDS</td>\n",
       "      <td>Sergeant</td>\n",
       "      <td>Sergeant</td>\n",
       "    </tr>\n",
       "    <tr>\n",
       "      <th>471</th>\n",
       "      <td>SGT</td>\n",
       "      <td>SDS</td>\n",
       "      <td>Sergeant</td>\n",
       "      <td>Sergeant</td>\n",
       "    </tr>\n",
       "    <tr>\n",
       "      <th>472</th>\n",
       "      <td>SGT</td>\n",
       "      <td>SDS</td>\n",
       "      <td>Sergeant</td>\n",
       "      <td>Sergeant</td>\n",
       "    </tr>\n",
       "    <tr>\n",
       "      <th>473</th>\n",
       "      <td>SGT</td>\n",
       "      <td>SDS</td>\n",
       "      <td>Sergeant</td>\n",
       "      <td>Sergeant</td>\n",
       "    </tr>\n",
       "  </tbody>\n",
       "</table>\n",
       "</div>"
      ],
      "text/plain": [
       "    rank_abbrev_incident rank_abbrev_now   rank_incident        rank_now\n",
       "340                   PO             POM  Police Officer  Police Officer\n",
       "453                  DT3             DT2       Detective       Detective\n",
       "466                  SGT             SDS        Sergeant        Sergeant\n",
       "467                  SGT             SDS        Sergeant        Sergeant\n",
       "468                  SGT             SDS        Sergeant        Sergeant\n",
       "469                  SGT             SDS        Sergeant        Sergeant\n",
       "470                  SGT             SDS        Sergeant        Sergeant\n",
       "471                  SGT             SDS        Sergeant        Sergeant\n",
       "472                  SGT             SDS        Sergeant        Sergeant\n",
       "473                  SGT             SDS        Sergeant        Sergeant"
      ]
     },
     "execution_count": 116,
     "metadata": {},
     "output_type": "execute_result"
    }
   ],
   "source": [
    "find_rank_inconsistencies = lambda: complaints[(complaints['rank_abbrev_incident'] != complaints['rank_abbrev_now']) & (complaints['rank_incident'] == complaints['rank_now'])][['rank_abbrev_incident', 'rank_abbrev_now', 'rank_incident', 'rank_now']].head(10)\n",
    "find_rank_inconsistencies() # Function displaying rows with different abbreviations but same full rank"
   ]
  },
  {
   "cell_type": "markdown",
   "metadata": {},
   "source": [
    "To ensure that full ranks stay consistent with their abbreviated ranks, we can convert abbreviated ranks because they are more specific. We can achieve this by joining the `police_abbrev` dataframe with our original dataset."
   ]
  },
  {
   "cell_type": "code",
   "execution_count": 117,
   "metadata": {},
   "outputs": [
    {
     "data": {
      "text/html": [
       "<div>\n",
       "<style scoped>\n",
       "    .dataframe tbody tr th:only-of-type {\n",
       "        vertical-align: middle;\n",
       "    }\n",
       "\n",
       "    .dataframe tbody tr th {\n",
       "        vertical-align: top;\n",
       "    }\n",
       "\n",
       "    .dataframe thead th {\n",
       "        text-align: right;\n",
       "    }\n",
       "</style>\n",
       "<table border=\"1\" class=\"dataframe\">\n",
       "  <thead>\n",
       "    <tr style=\"text-align: right;\">\n",
       "      <th></th>\n",
       "      <th>Abbreviation</th>\n",
       "      <th>Rank</th>\n",
       "    </tr>\n",
       "  </thead>\n",
       "  <tbody>\n",
       "    <tr>\n",
       "      <th>0</th>\n",
       "      <td>POM</td>\n",
       "      <td>Police Officer</td>\n",
       "    </tr>\n",
       "    <tr>\n",
       "      <th>1</th>\n",
       "      <td>POF</td>\n",
       "      <td>Police Officer</td>\n",
       "    </tr>\n",
       "    <tr>\n",
       "      <th>2</th>\n",
       "      <td>PO</td>\n",
       "      <td>Police Officer</td>\n",
       "    </tr>\n",
       "    <tr>\n",
       "      <th>3</th>\n",
       "      <td>PSA</td>\n",
       "      <td>Police Officer Special Assignment</td>\n",
       "    </tr>\n",
       "    <tr>\n",
       "      <th>4</th>\n",
       "      <td>SGT</td>\n",
       "      <td>Sergeant</td>\n",
       "    </tr>\n",
       "  </tbody>\n",
       "</table>\n",
       "</div>"
      ],
      "text/plain": [
       "  Abbreviation                               Rank\n",
       "0          POM                     Police Officer\n",
       "1          POF                     Police Officer\n",
       "2           PO                     Police Officer\n",
       "3          PSA  Police Officer Special Assignment\n",
       "4          SGT                           Sergeant"
      ]
     },
     "execution_count": 117,
     "metadata": {},
     "output_type": "execute_result"
    }
   ],
   "source": [
    "police_abbrev.head()"
   ]
  },
  {
   "cell_type": "code",
   "execution_count": 118,
   "metadata": {},
   "outputs": [],
   "source": [
    "def convert_abbrev(police_abbrev, complaints):\n",
    "    # Merges twice, one for incident rank and one for current rank\n",
    "    # Performs left join to keep all complaints\n",
    "    merged = complaints.merge(police_abbrev, how='left', left_on=['rank_abbrev_incident'], right_on =['Abbreviation']).merge(police_abbrev, how = 'left', left_on=['rank_abbrev_now'], right_on=['Abbreviation'], suffixes=(\"_incident\", \"_now\")).drop(columns = ['rank_now', 'rank_incident', 'Abbreviation_incident', 'Abbreviation_now']).rename(columns = {'Rank_now': 'rank_now', 'Rank_incident': 'rank_incident'})\n",
    "    return merged\n",
    "\n",
    "complaints = convert_abbrev(police_abbrev, complaints)"
   ]
  },
  {
   "cell_type": "markdown",
   "metadata": {},
   "source": [
    "Let's check for values that were unable to be converted."
   ]
  },
  {
   "cell_type": "code",
   "execution_count": 119,
   "metadata": {},
   "outputs": [
    {
     "name": "stdout",
     "output_type": "stream",
     "text": [
      "['DET'] does not exist within the police abbreviation dictionary for rank_abbrev_incident\n",
      "['CCC'] does not exist within the police abbreviation dictionary for rank_abbrev_now\n"
     ]
    }
   ],
   "source": [
    "merged = complaints[['rank_abbrev_incident', 'rank_abbrev_now', 'rank_incident', 'rank_now']] # Finds unconverted abbreviations\n",
    "print(f\"{list(merged[(merged['rank_incident'].isna())]['rank_abbrev_incident'].unique())} does not exist within the police abbreviation dictionary for rank_abbrev_incident\")\n",
    "print(f\"{list(merged[(merged['rank_now'].isna())]['rank_abbrev_now'].unique())} does not exist within the police abbreviation dictionary for rank_abbrev_now\")"
   ]
  },
  {
   "cell_type": "markdown",
   "metadata": {},
   "source": [
    "We can now run `find_rank_inconsistencies` to check if merging worked. Certain ranks will still differ in abbreviation but no in rank because their abbreviations in `police_abbrev` convert to the same rank."
   ]
  },
  {
   "cell_type": "code",
   "execution_count": 120,
   "metadata": {},
   "outputs": [
    {
     "data": {
      "text/html": [
       "<div>\n",
       "<style scoped>\n",
       "    .dataframe tbody tr th:only-of-type {\n",
       "        vertical-align: middle;\n",
       "    }\n",
       "\n",
       "    .dataframe tbody tr th {\n",
       "        vertical-align: top;\n",
       "    }\n",
       "\n",
       "    .dataframe thead th {\n",
       "        text-align: right;\n",
       "    }\n",
       "</style>\n",
       "<table border=\"1\" class=\"dataframe\">\n",
       "  <thead>\n",
       "    <tr style=\"text-align: right;\">\n",
       "      <th></th>\n",
       "      <th>rank_abbrev_incident</th>\n",
       "      <th>rank_abbrev_now</th>\n",
       "      <th>rank_incident</th>\n",
       "      <th>rank_now</th>\n",
       "    </tr>\n",
       "  </thead>\n",
       "  <tbody>\n",
       "    <tr>\n",
       "      <th>340</th>\n",
       "      <td>PO</td>\n",
       "      <td>POM</td>\n",
       "      <td>Police Officer</td>\n",
       "      <td>Police Officer</td>\n",
       "    </tr>\n",
       "    <tr>\n",
       "      <th>899</th>\n",
       "      <td>PO</td>\n",
       "      <td>POM</td>\n",
       "      <td>Police Officer</td>\n",
       "      <td>Police Officer</td>\n",
       "    </tr>\n",
       "    <tr>\n",
       "      <th>900</th>\n",
       "      <td>PO</td>\n",
       "      <td>POM</td>\n",
       "      <td>Police Officer</td>\n",
       "      <td>Police Officer</td>\n",
       "    </tr>\n",
       "    <tr>\n",
       "      <th>901</th>\n",
       "      <td>PO</td>\n",
       "      <td>POM</td>\n",
       "      <td>Police Officer</td>\n",
       "      <td>Police Officer</td>\n",
       "    </tr>\n",
       "    <tr>\n",
       "      <th>902</th>\n",
       "      <td>PO</td>\n",
       "      <td>POM</td>\n",
       "      <td>Police Officer</td>\n",
       "      <td>Police Officer</td>\n",
       "    </tr>\n",
       "    <tr>\n",
       "      <th>903</th>\n",
       "      <td>PO</td>\n",
       "      <td>POM</td>\n",
       "      <td>Police Officer</td>\n",
       "      <td>Police Officer</td>\n",
       "    </tr>\n",
       "    <tr>\n",
       "      <th>904</th>\n",
       "      <td>PO</td>\n",
       "      <td>POM</td>\n",
       "      <td>Police Officer</td>\n",
       "      <td>Police Officer</td>\n",
       "    </tr>\n",
       "    <tr>\n",
       "      <th>905</th>\n",
       "      <td>PO</td>\n",
       "      <td>POM</td>\n",
       "      <td>Police Officer</td>\n",
       "      <td>Police Officer</td>\n",
       "    </tr>\n",
       "    <tr>\n",
       "      <th>906</th>\n",
       "      <td>PO</td>\n",
       "      <td>POM</td>\n",
       "      <td>Police Officer</td>\n",
       "      <td>Police Officer</td>\n",
       "    </tr>\n",
       "    <tr>\n",
       "      <th>907</th>\n",
       "      <td>PO</td>\n",
       "      <td>POM</td>\n",
       "      <td>Police Officer</td>\n",
       "      <td>Police Officer</td>\n",
       "    </tr>\n",
       "  </tbody>\n",
       "</table>\n",
       "</div>"
      ],
      "text/plain": [
       "    rank_abbrev_incident rank_abbrev_now   rank_incident        rank_now\n",
       "340                   PO             POM  Police Officer  Police Officer\n",
       "899                   PO             POM  Police Officer  Police Officer\n",
       "900                   PO             POM  Police Officer  Police Officer\n",
       "901                   PO             POM  Police Officer  Police Officer\n",
       "902                   PO             POM  Police Officer  Police Officer\n",
       "903                   PO             POM  Police Officer  Police Officer\n",
       "904                   PO             POM  Police Officer  Police Officer\n",
       "905                   PO             POM  Police Officer  Police Officer\n",
       "906                   PO             POM  Police Officer  Police Officer\n",
       "907                   PO             POM  Police Officer  Police Officer"
      ]
     },
     "metadata": {},
     "output_type": "display_data"
    },
    {
     "data": {
      "text/plain": [
       "rank_incident    15\n",
       "rank_now         18\n",
       "dtype: int64"
      ]
     },
     "metadata": {},
     "output_type": "display_data"
    }
   ],
   "source": [
    "display(find_rank_inconsistencies()) # Function displaying rows with different abbreviations but same full rank\n",
    "display(complaints[['rank_incident', 'rank_now']].nunique())"
   ]
  },
  {
   "cell_type": "markdown",
   "metadata": {},
   "source": [
    "Now, let's manually sift through features that have a low amount of unique values and look for inconsistencies."
   ]
  },
  {
   "cell_type": "code",
   "execution_count": 121,
   "metadata": {},
   "outputs": [
    {
     "name": "stdout",
     "output_type": "stream",
     "text": [
      "mos_ethnicity's unique values are: ['Hispanic' 'White' 'Black' 'Asian' 'American Indian']\n",
      "\n",
      "mos_gender's unique values are: ['M' 'F']\n",
      "\n",
      "complainant_ethnicity's unique values are: ['Black' nan 'White' 'Asian' 'Refused' 'Hispanic' 'Unknown' 'Other Race'\n",
      " 'American Indian']\n",
      "\n",
      "complainant_gender's unique values are: ['Female' 'Male' nan 'Transman (FTM)' 'Not described' 'Transwoman (MTF)'\n",
      " 'Gender non-conforming']\n",
      "\n",
      "fado_type's unique values are: ['Abuse of Authority' 'Discourtesy' 'Offensive Language' 'Force']\n",
      "\n",
      "board_disposition's unique values are: ['Substantiated (Command Lvl Instructions)' 'Substantiated (Charges)'\n",
      " 'Substantiated (Command Discipline A)'\n",
      " 'Substantiated (Formalized Training)' 'Unsubstantiated' 'Exonerated'\n",
      " 'Substantiated (Command Discipline B)' 'Substantiated (Instructions)'\n",
      " 'Substantiated (Command Discipline)' 'Substantiated (No Recommendations)'\n",
      " 'Substantiated (MOS Unidentified)']\n",
      "\n",
      "outcome_description's unique values are: ['No arrest made or summons issued' 'Moving violation summons issued'\n",
      " 'Arrest - other violation/crime' 'Summons - other violation/crime'\n",
      " 'Arrest - OGA' 'Other VTL violation summons issued'\n",
      " 'Arrest - resisting arrest' 'Arrest - disorderly conduct'\n",
      " 'Arrest - assault (against a PO)' 'Summons - disorderly conduct'\n",
      " 'Juvenile Report' 'Parking summons issued'\n",
      " 'Disorderly-Conduct/Arr/Summons' 'Assault/Arrested'\n",
      " 'Other Summons Claimed or Issued' nan\n",
      " 'Arrest - harrassment (against a PO)' 'Arrest on Other Charge'\n",
      " 'Obstruct-Govt-Admin/Arrested' 'Traffic Summons Claimed or Issued'\n",
      " 'Resisting Arrest/Arrested' 'Harrassment/Arrested/Summons'\n",
      " 'Summons - OGA' 'Summons - harrassment (against a PO)']\n",
      "\n",
      "precinct's unique values are: [  78.   67.   79.   77.   81.   73.   90.   75.  120.   10.   25.  110.\n",
      "   83.   46.    9.   28.    1.   68.   70.   72.  122.  113.  101.  100.\n",
      "    7.   13.   71.   23.  112.   69.   32.   94.   63.   76.   52.   47.\n",
      "   62.   42.   84.  115.  109.    5.   88.   14.  103.  107.  104.   40.\n",
      "  108.   50.   45.   18.  102.  114.   19.   20.  106.  105.   17.   60.\n",
      "   34.   44.   48.   41.   43.  111.   49.   26.   30.   33.    6.   61.\n",
      "  123.  121.   66.   24.    0.   22. 1000.   nan]\n",
      "\n"
     ]
    }
   ],
   "source": [
    "small_qualitative_features = ['mos_ethnicity', 'mos_gender', 'complainant_ethnicity', 'complainant_gender', 'fado_type', 'board_disposition', 'outcome_description', 'precinct']\n",
    "for feature in small_qualitative_features:\n",
    "    print(\"{}'s unique values are: {}\".format(feature, complaints[feature].unique()), end='\\n\\n') # Prints unique values of columns"
   ]
  },
  {
   "cell_type": "markdown",
   "metadata": {},
   "source": [
    "- `complainant_ethnicity` and `complainant_gender` have vague values that should be represented with `np.nan`\n",
    "- According to https://www1.nyc.gov/site/nypd/bureaus/patrol/precincts-landing.page, New York contains precincts between 1 and 123, so `precinct` has to conform with this range"
   ]
  },
  {
   "cell_type": "code",
   "execution_count": 122,
   "metadata": {},
   "outputs": [
    {
     "name": "stdout",
     "output_type": "stream",
     "text": [
      "complainant_ethnicity's unique values are: ['Black' nan 'White' 'Asian' 'Hispanic' 'American Indian']\n",
      "\n",
      "complainant_gender's unique values are: ['Female' 'Male' nan 'Transman (FTM)' 'Transwoman (MTF)'\n",
      " 'Gender non-conforming']\n",
      "\n",
      "precinct's unique values are: [ 78.  67.  79.  77.  81.  73.  90.  75. 120.  10.  25. 110.  83.  46.\n",
      "   9.  28.   1.  68.  70.  72. 122. 113. 101. 100.   7.  13.  71.  23.\n",
      " 112.  69.  32.  94.  63.  76.  52.  47.  62.  42.  84. 115. 109.   5.\n",
      "  88.  14. 103. 107. 104.  40. 108.  50.  45.  18. 102. 114.  19.  20.\n",
      " 106. 105.  17.  60.  34.  44.  48.  41.  43. 111.  49.  26.  30.  33.\n",
      "   6.  61. 123. 121.  66.  24.  nan  22.]\n",
      "\n"
     ]
    }
   ],
   "source": [
    "def replace_with_nan(complaints):\n",
    "    columns_to_clean = ['complainant_ethnicity', 'complainant_gender', 'precinct'] # Columns to clean\n",
    "    replaced_with_nan = complaints.assign(complainant_ethnicity = complaints['complainant_ethnicity'].replace({\"Refused\": np.nan, 'Unknown': np.nan, 'Other Race': np.nan})).assign(complainant_gender = complaints['complainant_gender'].replace({'Not described': np.nan}))\n",
    "    replaced_with_nan[(replaced_with_nan['precinct'] > 123) | (replaced_with_nan['precinct'] <= 0)] = np.nan\n",
    "    for column in columns_to_clean:\n",
    "        print(\"{}'s unique values are: {}\".format(column, replaced_with_nan[column].unique()), end='\\n\\n')\n",
    "    return replaced_with_nan\n",
    "\n",
    "complaints = replace_with_nan(complaints)"
   ]
  },
  {
   "cell_type": "markdown",
   "metadata": {},
   "source": [
    "This is our dataset, now fully cleaned."
   ]
  },
  {
   "cell_type": "code",
   "execution_count": 123,
   "metadata": {},
   "outputs": [
    {
     "data": {
      "text/html": [
       "<div>\n",
       "<style scoped>\n",
       "    .dataframe tbody tr th:only-of-type {\n",
       "        vertical-align: middle;\n",
       "    }\n",
       "\n",
       "    .dataframe tbody tr th {\n",
       "        vertical-align: top;\n",
       "    }\n",
       "\n",
       "    .dataframe thead th {\n",
       "        text-align: right;\n",
       "    }\n",
       "</style>\n",
       "<table border=\"1\" class=\"dataframe\">\n",
       "  <thead>\n",
       "    <tr style=\"text-align: right;\">\n",
       "      <th></th>\n",
       "      <th>unique_mos_id</th>\n",
       "      <th>first_name</th>\n",
       "      <th>last_name</th>\n",
       "      <th>command_now</th>\n",
       "      <th>shield_no</th>\n",
       "      <th>complaint_id</th>\n",
       "      <th>month_received</th>\n",
       "      <th>year_received</th>\n",
       "      <th>month_closed</th>\n",
       "      <th>year_closed</th>\n",
       "      <th>command_at_incident</th>\n",
       "      <th>rank_abbrev_incident</th>\n",
       "      <th>rank_abbrev_now</th>\n",
       "      <th>mos_ethnicity</th>\n",
       "      <th>mos_gender</th>\n",
       "      <th>mos_age_incident</th>\n",
       "      <th>complainant_ethnicity</th>\n",
       "      <th>complainant_gender</th>\n",
       "      <th>complainant_age_incident</th>\n",
       "      <th>fado_type</th>\n",
       "      <th>allegation</th>\n",
       "      <th>precinct</th>\n",
       "      <th>contact_reason</th>\n",
       "      <th>outcome_description</th>\n",
       "      <th>board_disposition</th>\n",
       "      <th>date_received</th>\n",
       "      <th>date_closed</th>\n",
       "      <th>days_taken</th>\n",
       "      <th>rank_incident</th>\n",
       "      <th>rank_now</th>\n",
       "    </tr>\n",
       "  </thead>\n",
       "  <tbody>\n",
       "    <tr>\n",
       "      <th>0</th>\n",
       "      <td>10004.0</td>\n",
       "      <td>Jonathan</td>\n",
       "      <td>Ruiz</td>\n",
       "      <td>078 PCT</td>\n",
       "      <td>8409.0</td>\n",
       "      <td>42835.0</td>\n",
       "      <td>7.0</td>\n",
       "      <td>2019.0</td>\n",
       "      <td>5.0</td>\n",
       "      <td>2020.0</td>\n",
       "      <td>078 PCT</td>\n",
       "      <td>POM</td>\n",
       "      <td>POM</td>\n",
       "      <td>Hispanic</td>\n",
       "      <td>M</td>\n",
       "      <td>32.0</td>\n",
       "      <td>Black</td>\n",
       "      <td>Female</td>\n",
       "      <td>38.0</td>\n",
       "      <td>Abuse of Authority</td>\n",
       "      <td>Failure to provide RTKA card</td>\n",
       "      <td>78.0</td>\n",
       "      <td>Report-domestic dispute</td>\n",
       "      <td>No arrest made or summons issued</td>\n",
       "      <td>Substantiated (Command Lvl Instructions)</td>\n",
       "      <td>2019-07-01</td>\n",
       "      <td>2020-05-01</td>\n",
       "      <td>305 days</td>\n",
       "      <td>Police Officer</td>\n",
       "      <td>Police Officer</td>\n",
       "    </tr>\n",
       "    <tr>\n",
       "      <th>1</th>\n",
       "      <td>10007.0</td>\n",
       "      <td>John</td>\n",
       "      <td>Sears</td>\n",
       "      <td>078 PCT</td>\n",
       "      <td>5952.0</td>\n",
       "      <td>24601.0</td>\n",
       "      <td>11.0</td>\n",
       "      <td>2011.0</td>\n",
       "      <td>8.0</td>\n",
       "      <td>2012.0</td>\n",
       "      <td>PBBS</td>\n",
       "      <td>POM</td>\n",
       "      <td>POM</td>\n",
       "      <td>White</td>\n",
       "      <td>M</td>\n",
       "      <td>24.0</td>\n",
       "      <td>Black</td>\n",
       "      <td>Male</td>\n",
       "      <td>26.0</td>\n",
       "      <td>Discourtesy</td>\n",
       "      <td>Action</td>\n",
       "      <td>67.0</td>\n",
       "      <td>Moving violation</td>\n",
       "      <td>Moving violation summons issued</td>\n",
       "      <td>Substantiated (Charges)</td>\n",
       "      <td>2011-11-01</td>\n",
       "      <td>2012-08-01</td>\n",
       "      <td>274 days</td>\n",
       "      <td>Police Officer</td>\n",
       "      <td>Police Officer</td>\n",
       "    </tr>\n",
       "    <tr>\n",
       "      <th>2</th>\n",
       "      <td>10007.0</td>\n",
       "      <td>John</td>\n",
       "      <td>Sears</td>\n",
       "      <td>078 PCT</td>\n",
       "      <td>5952.0</td>\n",
       "      <td>24601.0</td>\n",
       "      <td>11.0</td>\n",
       "      <td>2011.0</td>\n",
       "      <td>8.0</td>\n",
       "      <td>2012.0</td>\n",
       "      <td>PBBS</td>\n",
       "      <td>POM</td>\n",
       "      <td>POM</td>\n",
       "      <td>White</td>\n",
       "      <td>M</td>\n",
       "      <td>24.0</td>\n",
       "      <td>Black</td>\n",
       "      <td>Male</td>\n",
       "      <td>26.0</td>\n",
       "      <td>Offensive Language</td>\n",
       "      <td>Race</td>\n",
       "      <td>67.0</td>\n",
       "      <td>Moving violation</td>\n",
       "      <td>Moving violation summons issued</td>\n",
       "      <td>Substantiated (Charges)</td>\n",
       "      <td>2011-11-01</td>\n",
       "      <td>2012-08-01</td>\n",
       "      <td>274 days</td>\n",
       "      <td>Police Officer</td>\n",
       "      <td>Police Officer</td>\n",
       "    </tr>\n",
       "    <tr>\n",
       "      <th>3</th>\n",
       "      <td>10007.0</td>\n",
       "      <td>John</td>\n",
       "      <td>Sears</td>\n",
       "      <td>078 PCT</td>\n",
       "      <td>5952.0</td>\n",
       "      <td>26146.0</td>\n",
       "      <td>7.0</td>\n",
       "      <td>2012.0</td>\n",
       "      <td>9.0</td>\n",
       "      <td>2013.0</td>\n",
       "      <td>PBBS</td>\n",
       "      <td>POM</td>\n",
       "      <td>POM</td>\n",
       "      <td>White</td>\n",
       "      <td>M</td>\n",
       "      <td>25.0</td>\n",
       "      <td>Black</td>\n",
       "      <td>Male</td>\n",
       "      <td>45.0</td>\n",
       "      <td>Abuse of Authority</td>\n",
       "      <td>Question</td>\n",
       "      <td>67.0</td>\n",
       "      <td>PD suspected C/V of violation/crime - street</td>\n",
       "      <td>No arrest made or summons issued</td>\n",
       "      <td>Substantiated (Charges)</td>\n",
       "      <td>2012-07-01</td>\n",
       "      <td>2013-09-01</td>\n",
       "      <td>427 days</td>\n",
       "      <td>Police Officer</td>\n",
       "      <td>Police Officer</td>\n",
       "    </tr>\n",
       "    <tr>\n",
       "      <th>4</th>\n",
       "      <td>10009.0</td>\n",
       "      <td>Noemi</td>\n",
       "      <td>Sierra</td>\n",
       "      <td>078 PCT</td>\n",
       "      <td>24058.0</td>\n",
       "      <td>40253.0</td>\n",
       "      <td>8.0</td>\n",
       "      <td>2018.0</td>\n",
       "      <td>2.0</td>\n",
       "      <td>2019.0</td>\n",
       "      <td>078 PCT</td>\n",
       "      <td>POF</td>\n",
       "      <td>POF</td>\n",
       "      <td>Hispanic</td>\n",
       "      <td>F</td>\n",
       "      <td>39.0</td>\n",
       "      <td>NaN</td>\n",
       "      <td>NaN</td>\n",
       "      <td>16.0</td>\n",
       "      <td>Force</td>\n",
       "      <td>Physical force</td>\n",
       "      <td>67.0</td>\n",
       "      <td>Report-dispute</td>\n",
       "      <td>Arrest - other violation/crime</td>\n",
       "      <td>Substantiated (Command Discipline A)</td>\n",
       "      <td>2018-08-01</td>\n",
       "      <td>2019-02-01</td>\n",
       "      <td>184 days</td>\n",
       "      <td>Police Officer</td>\n",
       "      <td>Police Officer</td>\n",
       "    </tr>\n",
       "  </tbody>\n",
       "</table>\n",
       "</div>"
      ],
      "text/plain": [
       "   unique_mos_id first_name last_name command_now  shield_no  complaint_id  \\\n",
       "0        10004.0   Jonathan      Ruiz     078 PCT     8409.0       42835.0   \n",
       "1        10007.0       John     Sears     078 PCT     5952.0       24601.0   \n",
       "2        10007.0       John     Sears     078 PCT     5952.0       24601.0   \n",
       "3        10007.0       John     Sears     078 PCT     5952.0       26146.0   \n",
       "4        10009.0      Noemi    Sierra     078 PCT    24058.0       40253.0   \n",
       "\n",
       "   month_received  year_received  month_closed  year_closed  \\\n",
       "0             7.0         2019.0           5.0       2020.0   \n",
       "1            11.0         2011.0           8.0       2012.0   \n",
       "2            11.0         2011.0           8.0       2012.0   \n",
       "3             7.0         2012.0           9.0       2013.0   \n",
       "4             8.0         2018.0           2.0       2019.0   \n",
       "\n",
       "  command_at_incident rank_abbrev_incident rank_abbrev_now mos_ethnicity  \\\n",
       "0             078 PCT                  POM             POM      Hispanic   \n",
       "1                PBBS                  POM             POM         White   \n",
       "2                PBBS                  POM             POM         White   \n",
       "3                PBBS                  POM             POM         White   \n",
       "4             078 PCT                  POF             POF      Hispanic   \n",
       "\n",
       "  mos_gender  mos_age_incident complainant_ethnicity complainant_gender  \\\n",
       "0          M              32.0                 Black             Female   \n",
       "1          M              24.0                 Black               Male   \n",
       "2          M              24.0                 Black               Male   \n",
       "3          M              25.0                 Black               Male   \n",
       "4          F              39.0                   NaN                NaN   \n",
       "\n",
       "   complainant_age_incident           fado_type                    allegation  \\\n",
       "0                      38.0  Abuse of Authority  Failure to provide RTKA card   \n",
       "1                      26.0         Discourtesy                        Action   \n",
       "2                      26.0  Offensive Language                          Race   \n",
       "3                      45.0  Abuse of Authority                      Question   \n",
       "4                      16.0               Force                Physical force   \n",
       "\n",
       "   precinct                                contact_reason  \\\n",
       "0      78.0                       Report-domestic dispute   \n",
       "1      67.0                              Moving violation   \n",
       "2      67.0                              Moving violation   \n",
       "3      67.0  PD suspected C/V of violation/crime - street   \n",
       "4      67.0                                Report-dispute   \n",
       "\n",
       "                outcome_description                         board_disposition  \\\n",
       "0  No arrest made or summons issued  Substantiated (Command Lvl Instructions)   \n",
       "1   Moving violation summons issued                   Substantiated (Charges)   \n",
       "2   Moving violation summons issued                   Substantiated (Charges)   \n",
       "3  No arrest made or summons issued                   Substantiated (Charges)   \n",
       "4    Arrest - other violation/crime      Substantiated (Command Discipline A)   \n",
       "\n",
       "  date_received date_closed days_taken   rank_incident        rank_now  \n",
       "0    2019-07-01  2020-05-01   305 days  Police Officer  Police Officer  \n",
       "1    2011-11-01  2012-08-01   274 days  Police Officer  Police Officer  \n",
       "2    2011-11-01  2012-08-01   274 days  Police Officer  Police Officer  \n",
       "3    2012-07-01  2013-09-01   427 days  Police Officer  Police Officer  \n",
       "4    2018-08-01  2019-02-01   184 days  Police Officer  Police Officer  "
      ]
     },
     "execution_count": 123,
     "metadata": {},
     "output_type": "execute_result"
    }
   ],
   "source": [
    "complaints.head()"
   ]
  },
  {
   "cell_type": "markdown",
   "metadata": {},
   "source": [
    "### EDA:\n",
    "- [Age and case duration analysis](#does-the-length-that-the-complaint-is-open-depend-on-ethnicityagegender-lets-try-to-visualize-this-question)\n",
    "- [Ethnicity and disposition analysis](#does-ethnicity-affect-the-outcome-of-the-complaint)\n",
    "- [Gender analysis](#does-gender-play-a-role-in-winning-a-case)"
   ]
  },
  {
   "cell_type": "markdown",
   "metadata": {},
   "source": [
    "#### Does the length that the complaint is open depend on ethnicity/age/gender?"
   ]
  },
  {
   "cell_type": "markdown",
   "metadata": {},
   "source": [
    "Let's try to visualize this question."
   ]
  },
  {
   "cell_type": "code",
   "execution_count": 124,
   "metadata": {},
   "outputs": [
    {
     "data": {
      "text/plain": [
       "<AxesSubplot:xlabel='complainant_gender', ylabel='days_taken'>"
      ]
     },
     "execution_count": 124,
     "metadata": {},
     "output_type": "execute_result"
    },
    {
     "data": {
      "image/png": "[encoded data removed]",
      "text/plain": [
       "<Figure size 864x864 with 2 Axes>"
      ]
     },
     "metadata": {},
     "output_type": "display_data"
    }
   ],
   "source": [
    "fig, axes = plt.subplots(2, 1, figsize = (12, 12))\n",
    "\n",
    "complaint_duration_by_ethnicity = pd.concat([complaints['days_taken'].dt.days, complaints['complainant_ethnicity']], axis = 1).groupby(\"complainant_ethnicity\")['days_taken'].mean().sort_values().reset_index() # Calculate average duration for each ethnicity\n",
    "sns.barplot(data = complaint_duration_by_ethnicity, x = 'complainant_ethnicity', y = 'days_taken', ax=axes[0])\n",
    "\n",
    "complaint_duration_by_gender = pd.concat([complaints['days_taken'].dt.days, complaints['complainant_gender']], axis = 1).groupby(\"complainant_gender\")['days_taken'].mean().sort_values().reset_index() # Calculate average duration for each gender\n",
    "sns.barplot(data = complaint_duration_by_gender, x = 'complainant_gender', y = 'days_taken', ax=axes[1])"
   ]
  },
  {
   "cell_type": "markdown",
   "metadata": {},
   "source": [
    "From the bar graphs, Asian complaints resolve quickest and black complaints resolve slowest. Transwoman complaints resolve quickest while male complaints resolve slowest. Let's conduct a hypothesis test to see the variation between these categories and their average case durations are significant:\n",
    "- Null hypothesis: Race (and gender) are not related to case duration - the low average case duration for Asian ethnicity and transwoman identity is strictly due to random chance alone\n",
    "- Alternative hypothesis: Race (and gender) are not related to case duration - the low average case duration for Asian ethnicity and transwoman identity is not due to random chance\n",
    "- Test statistic: Average case duration in days\n",
    "- Significance level: 0.05"
   ]
  },
  {
   "cell_type": "code",
   "execution_count": 125,
   "metadata": {},
   "outputs": [
    {
     "data": {
      "text/html": [
       "<div>\n",
       "<style scoped>\n",
       "    .dataframe tbody tr th:only-of-type {\n",
       "        vertical-align: middle;\n",
       "    }\n",
       "\n",
       "    .dataframe tbody tr th {\n",
       "        vertical-align: top;\n",
       "    }\n",
       "\n",
       "    .dataframe thead th {\n",
       "        text-align: right;\n",
       "    }\n",
       "</style>\n",
       "<table border=\"1\" class=\"dataframe\">\n",
       "  <thead>\n",
       "    <tr style=\"text-align: right;\">\n",
       "      <th></th>\n",
       "      <th>mean</th>\n",
       "      <th>count</th>\n",
       "    </tr>\n",
       "    <tr>\n",
       "      <th>complainant_ethnicity</th>\n",
       "      <th></th>\n",
       "      <th></th>\n",
       "    </tr>\n",
       "  </thead>\n",
       "  <tbody>\n",
       "    <tr>\n",
       "      <th>American Indian</th>\n",
       "      <td>271 days 02:15:00</td>\n",
       "      <td>64</td>\n",
       "    </tr>\n",
       "    <tr>\n",
       "      <th>Asian</th>\n",
       "      <td>258 days 18:01:21.509433964</td>\n",
       "      <td>530</td>\n",
       "    </tr>\n",
       "    <tr>\n",
       "      <th>Black</th>\n",
       "      <td>320 days 01:24:23.643800396</td>\n",
       "      <td>17114</td>\n",
       "    </tr>\n",
       "    <tr>\n",
       "      <th>Hispanic</th>\n",
       "      <td>308 days 22:46:00.261600748</td>\n",
       "      <td>6422</td>\n",
       "    </tr>\n",
       "    <tr>\n",
       "      <th>White</th>\n",
       "      <td>284 days 19:58:16.477354420</td>\n",
       "      <td>2782</td>\n",
       "    </tr>\n",
       "  </tbody>\n",
       "</table>\n",
       "</div>"
      ],
      "text/plain": [
       "                                             mean  count\n",
       "complainant_ethnicity                                   \n",
       "American Indian                 271 days 02:15:00     64\n",
       "Asian                 258 days 18:01:21.509433964    530\n",
       "Black                 320 days 01:24:23.643800396  17114\n",
       "Hispanic              308 days 22:46:00.261600748   6422\n",
       "White                 284 days 19:58:16.477354420   2782"
      ]
     },
     "execution_count": 125,
     "metadata": {},
     "output_type": "execute_result"
    }
   ],
   "source": [
    "complaints.groupby(\"complainant_ethnicity\")['days_taken'].agg(['mean', 'count'])"
   ]
  },
  {
   "cell_type": "markdown",
   "metadata": {},
   "source": [
    "Our question states that 530 Asian complainants were drawn uniformly at random from the main population of 26912 known complainant ethnicities. That is, if we randomly draw 530 complainants from the main population and compute the average case duration, it would not be unreasonable to see an average case duration as low as our observed. To abstractify this procedure, we will create a function that can conduct this hypothesis test for any ethnicity and gender:\n",
    "- Compute the count of the given ethnicity or gender\n",
    "- Filter out all missing values of the given category, sample the case duration, and compute mean case duration (test statistic)\n",
    "- Get observed case duration\n",
    "- Plot results"
   ]
  },
  {
   "cell_type": "code",
   "execution_count": 126,
   "metadata": {},
   "outputs": [],
   "source": [
    "def conduct_case_duration_hypothesis_test(column_name, category, infunc):\n",
    "    # Compute the count of the given ethnicity or gender\n",
    "    num_to_sample = complaints.groupby(column_name)['days_taken'].agg(['mean', 'count']).loc[category, 'count']\n",
    "\n",
    "    # Filter out all missing values of the given category, sample the case duration, and compute mean case duration (test statistic)\n",
    "    ts = np.random.choice(complaints[~complaints[column_name].isna()]['days_taken'].dt.days, size = (10000, num_to_sample)).mean(axis = 1)\n",
    "\n",
    "    # Get observed case duration\n",
    "    obs = complaints.groupby(column_name)['days_taken'].agg(['mean', 'count']).loc[category, 'mean'].days\n",
    "\n",
    "    if infunc:\n",
    "        ax = sns.histplot(data = ts, kde = True)\n",
    "\n",
    "        # Plot observed, test statistics, and the 5th and 95 percentiles\n",
    "        plt.axvline(np.percentile(ts, 5), color = 'black')\n",
    "        plt.axvline(np.percentile(ts, 95), color = 'black')\n",
    "        plt.axvline(obs, color = 'red')\n",
    "        ax.set_title(f\"Average case duration simulated under {category} group\")\n",
    "    return ts, obs"
   ]
  },
  {
   "cell_type": "markdown",
   "metadata": {},
   "source": [
    "Now, let's see what our function has returned."
   ]
  },
  {
   "cell_type": "code",
   "execution_count": 127,
   "metadata": {},
   "outputs": [
    {
     "data": {
      "text/plain": [
       "(array([309.50566038, 317.38301887, 310.33773585, ..., 300.06792453,\n",
       "        309.24716981, 314.9245283 ]),\n",
       " 258)"
      ]
     },
     "execution_count": 127,
     "metadata": {},
     "output_type": "execute_result"
    },
    {
     "data": {
      "image/png": "[encoded data removed]",
      "text/plain": [
       "<Figure size 432x288 with 1 Axes>"
      ]
     },
     "metadata": {},
     "output_type": "display_data"
    }
   ],
   "source": [
    "conduct_case_duration_hypothesis_test('complainant_ethnicity', 'Asian', True)"
   ]
  },
  {
   "cell_type": "markdown",
   "metadata": {},
   "source": [
    "The red line represents the observed value. In this case, it is the average case duration for the Asian ethnicity in our `complaints` dataframe. The black lines represent the 5th and 95th percentiles, respectively. Since our red line is far left of the 5th percentile, we reject our null hypothesis. However, this does not establish causality between ethnicity and case duration. Out of curiosity, let's call the function on the remaining ethnicities and see if their average case durations are reasonable under the null hypothesis."
   ]
  },
  {
   "cell_type": "code",
   "execution_count": 128,
   "metadata": {},
   "outputs": [
    {
     "data": {
      "image/png": "[encoded data removed]",
      "text/plain": [
       "<Figure size 2160x360 with 4 Axes>"
      ]
     },
     "metadata": {},
     "output_type": "display_data"
    }
   ],
   "source": [
    "ethnicities = ['Black', \"White\", \"Hispanic\", \"American Indian\"] # Conducts hypothesis tests for these ethnicities and plots\n",
    "\n",
    "fig, axes = plt.subplots(1, 4, figsize = (30, 5))\n",
    "for i, ethnicity in enumerate(ethnicities):\n",
    "    ts, obs = conduct_case_duration_hypothesis_test('complainant_ethnicity', ethnicity, False)\n",
    "    ax = sns.histplot(data = ts, ax = axes[i])\n",
    "    ax.axvline(np.percentile(ts, 5), color = 'black')\n",
    "    ax.axvline(np.percentile(ts, 95), color = 'black')\n",
    "    ax.set_title(ethnicity)\n",
    "    ax.axvline(obs, color = 'red')"
   ]
  },
  {
   "cell_type": "markdown",
   "metadata": {},
   "source": [
    "It seems that, for all ethnicities, we reject their respective null hypotheses."
   ]
  },
  {
   "cell_type": "code",
   "execution_count": 129,
   "metadata": {},
   "outputs": [
    {
     "data": {
      "image/png": "[encoded data removed]",
      "text/plain": [
       "<Figure size 2520x360 with 5 Axes>"
      ]
     },
     "metadata": {},
     "output_type": "display_data"
    }
   ],
   "source": [
    "genders = list(filter(lambda gender: not pd.isnull(gender), complaints['complainant_gender'].unique())) # Conducts hypothesis tests for these genders and plots\n",
    "\n",
    "fig, axes = plt.subplots(1, 5, figsize = (35, 5))\n",
    "for i, gender in enumerate(genders):\n",
    "    ts, obs = conduct_case_duration_hypothesis_test('complainant_gender', gender, False)\n",
    "    ax = sns.histplot(data = ts, ax = axes[i])\n",
    "    ax.axvline(np.percentile(ts, 5), color = 'black')\n",
    "    ax.axvline(np.percentile(ts, 95), color = 'black')\n",
    "    ax.set_title(gender)\n",
    "    ax.axvline(obs, color = 'red')"
   ]
  },
  {
   "cell_type": "markdown",
   "metadata": {},
   "source": [
    "We reject the null hypothesis for females and males. However, for non-binary individuals, we can reasonably expect to see their average case duration in the broader population. What about age, a quantitative variable, and its effect on case duration?"
   ]
  },
  {
   "cell_type": "code",
   "execution_count": 130,
   "metadata": {},
   "outputs": [
    {
     "name": "stdout",
     "output_type": "stream",
     "text": [
      "Correlation coefficient: -0.08829312664488052\n"
     ]
    }
   ],
   "source": [
    "corr = pd.concat([complaints['days_taken'].dt.days, complaints['complainant_age_incident']], axis = 1).corr().loc['days_taken', 'complainant_age_incident']\n",
    "print(f\"Correlation coefficient: {corr}\")"
   ]
  },
  {
   "cell_type": "markdown",
   "metadata": {},
   "source": [
    "The correlation is very low between the two variables, and so it is difficult to determine their relationship. Let's take another approach by grouping ages by intervals of 5, and then plotting the average case duration for each age group."
   ]
  },
  {
   "cell_type": "code",
   "execution_count": 131,
   "metadata": {},
   "outputs": [
    {
     "data": {
      "text/html": [
       "<div>\n",
       "<style scoped>\n",
       "    .dataframe tbody tr th:only-of-type {\n",
       "        vertical-align: middle;\n",
       "    }\n",
       "\n",
       "    .dataframe tbody tr th {\n",
       "        vertical-align: top;\n",
       "    }\n",
       "\n",
       "    .dataframe thead th {\n",
       "        text-align: right;\n",
       "    }\n",
       "</style>\n",
       "<table border=\"1\" class=\"dataframe\">\n",
       "  <thead>\n",
       "    <tr style=\"text-align: right;\">\n",
       "      <th></th>\n",
       "      <th>complainant_age_group</th>\n",
       "      <th>days_taken</th>\n",
       "    </tr>\n",
       "  </thead>\n",
       "  <tbody>\n",
       "    <tr>\n",
       "      <th>0</th>\n",
       "      <td>35.0-39.0</td>\n",
       "      <td>305.0</td>\n",
       "    </tr>\n",
       "    <tr>\n",
       "      <th>1</th>\n",
       "      <td>25.0-29.0</td>\n",
       "      <td>274.0</td>\n",
       "    </tr>\n",
       "    <tr>\n",
       "      <th>2</th>\n",
       "      <td>25.0-29.0</td>\n",
       "      <td>274.0</td>\n",
       "    </tr>\n",
       "    <tr>\n",
       "      <th>3</th>\n",
       "      <td>45.0-49.0</td>\n",
       "      <td>427.0</td>\n",
       "    </tr>\n",
       "    <tr>\n",
       "      <th>4</th>\n",
       "      <td>15.0-19.0</td>\n",
       "      <td>184.0</td>\n",
       "    </tr>\n",
       "  </tbody>\n",
       "</table>\n",
       "</div>"
      ],
      "text/plain": [
       "  complainant_age_group  days_taken\n",
       "0             35.0-39.0       305.0\n",
       "1             25.0-29.0       274.0\n",
       "2             25.0-29.0       274.0\n",
       "3             45.0-49.0       427.0\n",
       "4             15.0-19.0       184.0"
      ]
     },
     "execution_count": 131,
     "metadata": {},
     "output_type": "execute_result"
    }
   ],
   "source": [
    "# Groups ages into 5 year intervals\n",
    "def assign_age_groups(complaints):\n",
    "    age_df = pd.DataFrame()\n",
    "    def round_to_five(age):\n",
    "        tenths, ones = age//10, age % 10\n",
    "        if ones >= 0 and ones < 5:\n",
    "            ones = 0\n",
    "        else:\n",
    "            ones = 5\n",
    "        return str((tenths * 10) + ones) + \"-\" + str((tenths * 10) + ones + 4)\n",
    "    age_df['complainant_age_group'] = complaints['complainant_age_incident'].apply(round_to_five)\n",
    "    concatenated = pd.concat([age_df, complaints['days_taken'].dt.days], axis = 1).replace({\"nan-nan\": np.nan})\n",
    "    return concatenated[~concatenated['complainant_age_group'].isna()] # Filter out all nan age groups\n",
    "age_groups = assign_age_groups(complaints)\n",
    "age_groups.head()"
   ]
  },
  {
   "cell_type": "code",
   "execution_count": 132,
   "metadata": {},
   "outputs": [
    {
     "data": {
      "text/html": [
       "<div>\n",
       "<style scoped>\n",
       "    .dataframe tbody tr th:only-of-type {\n",
       "        vertical-align: middle;\n",
       "    }\n",
       "\n",
       "    .dataframe tbody tr th {\n",
       "        vertical-align: top;\n",
       "    }\n",
       "\n",
       "    .dataframe thead th {\n",
       "        text-align: right;\n",
       "    }\n",
       "</style>\n",
       "<table border=\"1\" class=\"dataframe\">\n",
       "  <thead>\n",
       "    <tr style=\"text-align: right;\">\n",
       "      <th></th>\n",
       "      <th>complainant_age_group</th>\n",
       "      <th>mean</th>\n",
       "      <th>count</th>\n",
       "    </tr>\n",
       "  </thead>\n",
       "  <tbody>\n",
       "    <tr>\n",
       "      <th>0</th>\n",
       "      <td>75.0-79.0</td>\n",
       "      <td>217.661290</td>\n",
       "      <td>62</td>\n",
       "    </tr>\n",
       "    <tr>\n",
       "      <th>1</th>\n",
       "      <td>80.0-84.0</td>\n",
       "      <td>242.111111</td>\n",
       "      <td>18</td>\n",
       "    </tr>\n",
       "    <tr>\n",
       "      <th>2</th>\n",
       "      <td>70.0-74.0</td>\n",
       "      <td>257.350000</td>\n",
       "      <td>100</td>\n",
       "    </tr>\n",
       "    <tr>\n",
       "      <th>3</th>\n",
       "      <td>65.0-69.0</td>\n",
       "      <td>257.838384</td>\n",
       "      <td>198</td>\n",
       "    </tr>\n",
       "    <tr>\n",
       "      <th>4</th>\n",
       "      <td>60.0-64.0</td>\n",
       "      <td>281.353846</td>\n",
       "      <td>390</td>\n",
       "    </tr>\n",
       "  </tbody>\n",
       "</table>\n",
       "</div>"
      ],
      "text/plain": [
       "  complainant_age_group        mean  count\n",
       "0             75.0-79.0  217.661290     62\n",
       "1             80.0-84.0  242.111111     18\n",
       "2             70.0-74.0  257.350000    100\n",
       "3             65.0-69.0  257.838384    198\n",
       "4             60.0-64.0  281.353846    390"
      ]
     },
     "execution_count": 132,
     "metadata": {},
     "output_type": "execute_result"
    }
   ],
   "source": [
    "# Calculate group means\n",
    "complaint_duration_by_age_groups = age_groups.groupby(\"complainant_age_group\")['days_taken'].agg(['mean', 'count']).sort_values(by = 'mean').reset_index()\n",
    "complaint_duration_by_age_groups.head()"
   ]
  },
  {
   "cell_type": "code",
   "execution_count": 133,
   "metadata": {},
   "outputs": [
    {
     "data": {
      "text/plain": [
       "<AxesSubplot:xlabel='complainant_age_group', ylabel='mean'>"
      ]
     },
     "execution_count": 133,
     "metadata": {},
     "output_type": "execute_result"
    },
    {
     "data": {
      "image/png": "[encoded data removed]",
      "text/plain": [
       "<Figure size 1728x432 with 1 Axes>"
      ]
     },
     "metadata": {},
     "output_type": "display_data"
    }
   ],
   "source": [
    "plt.figure(figsize = (24, 6))\n",
    "sns.barplot(data = complaint_duration_by_age_groups, x = 'complainant_age_group', y = 'mean')"
   ]
  },
  {
   "cell_type": "markdown",
   "metadata": {},
   "source": [
    "There isn't a clear pattern in the bar plot indicating whether age affects case duration. However, we can conduct a hypothesis test similar to the ones above in which we sample randomly from `complaints`:\n",
    "\n",
    "- Null hypothesis: Age and case duration are not related - if we sample from the main population, it is reasonable to see our observed value\n",
    "- Alternative hypothesis: Age and case duration are related - if we sample from the main population, it isn't reasonable to see our observed value\n",
    "- Test statistic: Absolute difference between population mean and group mean\n",
    "- Significance level: 0.05"
   ]
  },
  {
   "cell_type": "code",
   "execution_count": 134,
   "metadata": {},
   "outputs": [],
   "source": [
    "def conduct_case_duration_age_hypothesis_test(age_group):\n",
    "    population_mean = age_groups['days_taken'].mean()\n",
    "    obs = abs(complaint_duration_by_age_groups.loc[complaint_duration_by_age_groups['complainant_age_group'] == age_group, 'mean'] - population_mean).iloc[0]\n",
    "    count = complaint_duration_by_age_groups.loc[complaint_duration_by_age_groups['complainant_age_group'] == age_group, 'count'].iloc[0]\n",
    "    ts = abs(np.random.choice(age_groups['days_taken'], size = (20000, count)).mean(axis = 1) - population_mean)\n",
    "    return np.mean(ts > obs)"
   ]
  },
  {
   "cell_type": "markdown",
   "metadata": {},
   "source": [
    "Let's run this function (conducts hypothesis test for a given age group) for each age group."
   ]
  },
  {
   "cell_type": "code",
   "execution_count": 135,
   "metadata": {},
   "outputs": [
    {
     "name": "stdout",
     "output_type": "stream",
     "text": [
      "P-value for 35.0-39.0: 0.01455\n",
      "Reject null hypothesis: True\n",
      "\n",
      "P-value for 25.0-29.0: 0.0\n",
      "Reject null hypothesis: True\n",
      "\n",
      "P-value for 45.0-49.0: 0.0016\n",
      "Reject null hypothesis: True\n",
      "\n",
      "P-value for 15.0-19.0: 0.0\n",
      "Reject null hypothesis: True\n",
      "\n",
      "P-value for 30.0-34.0: 0.00635\n",
      "Reject null hypothesis: True\n",
      "\n",
      "P-value for 60.0-64.0: 0.0\n",
      "Reject null hypothesis: True\n",
      "\n",
      "P-value for 40.0-44.0: 0.7909\n",
      "Reject null hypothesis: False\n",
      "\n",
      "P-value for 20.0-24.0: 0.0\n",
      "Reject null hypothesis: True\n",
      "\n",
      "P-value for 50.0-54.0: 0.0\n",
      "Reject null hypothesis: True\n",
      "\n",
      "P-value for 65.0-69.0: 0.0\n",
      "Reject null hypothesis: True\n",
      "\n",
      "P-value for 55.0-59.0: 0.0\n",
      "Reject null hypothesis: True\n",
      "\n",
      "P-value for 10.0-14.0: 0.1971\n",
      "Reject null hypothesis: False\n",
      "\n",
      "P-value for 75.0-79.0: 0.0\n",
      "Reject null hypothesis: True\n",
      "\n",
      "P-value for 70.0-74.0: 0.0006\n",
      "Reject null hypothesis: True\n",
      "\n",
      "P-value for 80.0-84.0: 0.03515\n",
      "Reject null hypothesis: True\n",
      "\n",
      "P-value for 90.0-94.0: 0.92525\n",
      "Reject null hypothesis: False\n",
      "\n",
      "P-value for 5.0-9.0: 0.11945\n",
      "Reject null hypothesis: False\n",
      "\n",
      "P-value for 85.0-89.0: 0.53695\n",
      "Reject null hypothesis: False\n",
      "\n",
      "P-value for 100.0-104.0: 0.3674\n",
      "Reject null hypothesis: False\n",
      "\n",
      "P-value for 0.0-4.0: 0.11955\n",
      "Reject null hypothesis: False\n",
      "\n",
      "Proportion of tests rejecting null: 0.65\n"
     ]
    }
   ],
   "source": [
    "reject_null_count = []\n",
    "\n",
    "for group in age_groups['complainant_age_group'].unique():\n",
    "    result = conduct_case_duration_age_hypothesis_test(group)\n",
    "    reject_null_count.append(result < 0.05)\n",
    "    print(f\"P-value for {group}: {result}\\nReject null hypothesis: {result < 0.05}\\n\")\n",
    "print(f\"Proportion of tests rejecting null: {np.mean(reject_null_count)}\")"
   ]
  },
  {
   "cell_type": "markdown",
   "metadata": {},
   "source": [
    "We conducted a hypothesis test for each age group. 65 percent of the tests fail to reject the null hypothesis, meaning that more than half of our age groups show significant enough difference from the population sample to suggest relation between age and case duration."
   ]
  },
  {
   "cell_type": "markdown",
   "metadata": {},
   "source": [
    "#### Does officer ethnicity affect the outcome of the complaint?"
   ]
  },
  {
   "cell_type": "markdown",
   "metadata": {},
   "source": [
    "An important aspect of this dataframe is the final result of the complaint. This is captured by the column `board_disposition`. The column has 3 main values corresponding to different decrees according to the `dispositions` dataframe."
   ]
  },
  {
   "cell_type": "code",
   "execution_count": 136,
   "metadata": {},
   "outputs": [
    {
     "name": "stdout",
     "output_type": "stream",
     "text": [
      "Substantiated: The alleged conduct occurred and it violated the rules. (A breakdown of the types of discipline the CCRB can recommend is here: https://www1.nyc.gov/site/ccrb/prosecution/police-discipline.page) The NYPD can choose to ignore those recommendations. It has discretion over what, if any, discipline is imposed.)\n",
      "\n",
      "Exonerated: The alleged conduct occurred but did not violate the NYPD’s rules, which often give officers significant discretion over use of force.\n",
      "\n",
      "Unsubstantiated: The CCRB has fully investigated but could not affirmatively conclude both that the conduct occurred and that it broke the rules.\n",
      "\n"
     ]
    },
    {
     "data": {
      "text/plain": [
       "['Substantiated (Command Lvl Instructions)',\n",
       " 'Substantiated (Charges)',\n",
       " 'Substantiated (Command Discipline A)',\n",
       " 'Substantiated (Formalized Training)',\n",
       " 'Unsubstantiated',\n",
       " 'Exonerated',\n",
       " 'Substantiated (Command Discipline B)',\n",
       " 'Substantiated (Instructions)',\n",
       " 'Substantiated (Command Discipline)',\n",
       " 'Substantiated (No Recommendations)',\n",
       " nan,\n",
       " 'Substantiated (MOS Unidentified)']"
      ]
     },
     "metadata": {},
     "output_type": "display_data"
    }
   ],
   "source": [
    "for index, row in dispositions.iterrows():\n",
    "    print(row['Disposition'] + \": \" + row['Description'], end = \"\\n\\n\")\n",
    "display(list(complaints['board_disposition'].unique()))"
   ]
  },
  {
   "cell_type": "markdown",
   "metadata": {},
   "source": [
    "Let's binarize the `board_disposition` column by assigning 0 for exonerated cases and 1 for substantiated cases."
   ]
  },
  {
   "cell_type": "code",
   "execution_count": 137,
   "metadata": {},
   "outputs": [
    {
     "data": {
      "text/html": [
       "<div>\n",
       "<style scoped>\n",
       "    .dataframe tbody tr th:only-of-type {\n",
       "        vertical-align: middle;\n",
       "    }\n",
       "\n",
       "    .dataframe tbody tr th {\n",
       "        vertical-align: top;\n",
       "    }\n",
       "\n",
       "    .dataframe thead th {\n",
       "        text-align: right;\n",
       "    }\n",
       "</style>\n",
       "<table border=\"1\" class=\"dataframe\">\n",
       "  <thead>\n",
       "    <tr style=\"text-align: right;\">\n",
       "      <th></th>\n",
       "      <th>board_disposition</th>\n",
       "      <th>complainant_won</th>\n",
       "    </tr>\n",
       "  </thead>\n",
       "  <tbody>\n",
       "    <tr>\n",
       "      <th>0</th>\n",
       "      <td>Substantiated (Command Lvl Instructions)</td>\n",
       "      <td>1.0</td>\n",
       "    </tr>\n",
       "    <tr>\n",
       "      <th>1</th>\n",
       "      <td>Substantiated (Charges)</td>\n",
       "      <td>1.0</td>\n",
       "    </tr>\n",
       "    <tr>\n",
       "      <th>2</th>\n",
       "      <td>Substantiated (Charges)</td>\n",
       "      <td>1.0</td>\n",
       "    </tr>\n",
       "    <tr>\n",
       "      <th>3</th>\n",
       "      <td>Substantiated (Charges)</td>\n",
       "      <td>1.0</td>\n",
       "    </tr>\n",
       "    <tr>\n",
       "      <th>4</th>\n",
       "      <td>Substantiated (Command Discipline A)</td>\n",
       "      <td>1.0</td>\n",
       "    </tr>\n",
       "    <tr>\n",
       "      <th>5</th>\n",
       "      <td>Substantiated (Command Lvl Instructions)</td>\n",
       "      <td>1.0</td>\n",
       "    </tr>\n",
       "    <tr>\n",
       "      <th>6</th>\n",
       "      <td>Substantiated (Formalized Training)</td>\n",
       "      <td>1.0</td>\n",
       "    </tr>\n",
       "    <tr>\n",
       "      <th>7</th>\n",
       "      <td>Unsubstantiated</td>\n",
       "      <td>0.0</td>\n",
       "    </tr>\n",
       "  </tbody>\n",
       "</table>\n",
       "</div>"
      ],
      "text/plain": [
       "                          board_disposition  complainant_won\n",
       "0  Substantiated (Command Lvl Instructions)              1.0\n",
       "1                   Substantiated (Charges)              1.0\n",
       "2                   Substantiated (Charges)              1.0\n",
       "3                   Substantiated (Charges)              1.0\n",
       "4      Substantiated (Command Discipline A)              1.0\n",
       "5  Substantiated (Command Lvl Instructions)              1.0\n",
       "6       Substantiated (Formalized Training)              1.0\n",
       "7                           Unsubstantiated              0.0"
      ]
     },
     "execution_count": 137,
     "metadata": {},
     "output_type": "execute_result"
    }
   ],
   "source": [
    "# Convert to 0s and 1s\n",
    "complaints['complainant_won'] = complaints['board_disposition'].apply(lambda disposition: np.nan if pd.isna(disposition) else 1 if \"Substantiated\" in disposition else 0)\n",
    "complaints[['board_disposition', 'complainant_won']].head(8)"
   ]
  },
  {
   "cell_type": "markdown",
   "metadata": {},
   "source": [
    "Let's visualize the win percentage for each complainant ethnic group."
   ]
  },
  {
   "cell_type": "code",
   "execution_count": 138,
   "metadata": {},
   "outputs": [
    {
     "data": {
      "text/plain": [
       "<AxesSubplot:xlabel='complainant_ethnicity', ylabel='complainant_won'>"
      ]
     },
     "execution_count": 138,
     "metadata": {},
     "output_type": "execute_result"
    },
    {
     "data": {
      "image/png": "[encoded data removed]",
      "text/plain": [
       "<Figure size 432x288 with 1 Axes>"
      ]
     },
     "metadata": {},
     "output_type": "display_data"
    }
   ],
   "source": [
    "sns.barplot(data = pd.DataFrame(complaints.groupby(\"complainant_ethnicity\")['complainant_won'].mean().sort_values()).reset_index(), x = 'complainant_ethnicity', y = 'complainant_won')"
   ]
  },
  {
   "cell_type": "markdown",
   "metadata": {},
   "source": [
    "Every complainant ethnicity has different win percentages. What about officer ethnicity win percentage?"
   ]
  },
  {
   "cell_type": "code",
   "execution_count": 139,
   "metadata": {},
   "outputs": [
    {
     "data": {
      "text/plain": [
       "<AxesSubplot:xlabel='mos_ethnicity', ylabel='complainant_won'>"
      ]
     },
     "execution_count": 139,
     "metadata": {},
     "output_type": "execute_result"
    },
    {
     "data": {
      "image/png": "[encoded data removed]",
      "text/plain": [
       "<Figure size 432x288 with 1 Axes>"
      ]
     },
     "metadata": {},
     "output_type": "display_data"
    }
   ],
   "source": [
    "sns.barplot(data = pd.DataFrame(complaints.groupby(\"mos_ethnicity\")['complainant_won'].mean().sort_values()).reset_index(), x = 'mos_ethnicity', y = 'complainant_won')"
   ]
  },
  {
   "cell_type": "markdown",
   "metadata": {},
   "source": [
    "What about the win percentages of specific officer-complainant ethnicity combinations?"
   ]
  },
  {
   "cell_type": "code",
   "execution_count": 207,
   "metadata": {},
   "outputs": [
    {
     "data": {
      "text/html": [
       "<div>\n",
       "<style scoped>\n",
       "    .dataframe tbody tr th:only-of-type {\n",
       "        vertical-align: middle;\n",
       "    }\n",
       "\n",
       "    .dataframe tbody tr th {\n",
       "        vertical-align: top;\n",
       "    }\n",
       "\n",
       "    .dataframe thead th {\n",
       "        text-align: right;\n",
       "    }\n",
       "</style>\n",
       "<table border=\"1\" class=\"dataframe\">\n",
       "  <thead>\n",
       "    <tr style=\"text-align: right;\">\n",
       "      <th>complainant_ethnicity</th>\n",
       "      <th>American Indian</th>\n",
       "      <th>Asian</th>\n",
       "      <th>Black</th>\n",
       "      <th>Hispanic</th>\n",
       "      <th>White</th>\n",
       "    </tr>\n",
       "    <tr>\n",
       "      <th>mos_ethnicity</th>\n",
       "      <th></th>\n",
       "      <th></th>\n",
       "      <th></th>\n",
       "      <th></th>\n",
       "      <th></th>\n",
       "    </tr>\n",
       "  </thead>\n",
       "  <tbody>\n",
       "    <tr>\n",
       "      <th>American Indian</th>\n",
       "      <td>0.000</td>\n",
       "      <td>0.000000</td>\n",
       "      <td>0.222222</td>\n",
       "      <td>0.000000</td>\n",
       "      <td>0.000000</td>\n",
       "    </tr>\n",
       "    <tr>\n",
       "      <th>Asian</th>\n",
       "      <td>0.500</td>\n",
       "      <td>0.459016</td>\n",
       "      <td>0.292115</td>\n",
       "      <td>0.254237</td>\n",
       "      <td>0.403101</td>\n",
       "    </tr>\n",
       "    <tr>\n",
       "      <th>Black</th>\n",
       "      <td>0.250</td>\n",
       "      <td>0.189655</td>\n",
       "      <td>0.234715</td>\n",
       "      <td>0.239774</td>\n",
       "      <td>0.323684</td>\n",
       "    </tr>\n",
       "    <tr>\n",
       "      <th>Hispanic</th>\n",
       "      <td>0.125</td>\n",
       "      <td>0.265957</td>\n",
       "      <td>0.240576</td>\n",
       "      <td>0.248758</td>\n",
       "      <td>0.267200</td>\n",
       "    </tr>\n",
       "    <tr>\n",
       "      <th>White</th>\n",
       "      <td>0.400</td>\n",
       "      <td>0.283912</td>\n",
       "      <td>0.234337</td>\n",
       "      <td>0.242638</td>\n",
       "      <td>0.263670</td>\n",
       "    </tr>\n",
       "  </tbody>\n",
       "</table>\n",
       "</div>"
      ],
      "text/plain": [
       "complainant_ethnicity  American Indian     Asian     Black  Hispanic     White\n",
       "mos_ethnicity                                                                 \n",
       "American Indian                  0.000  0.000000  0.222222  0.000000  0.000000\n",
       "Asian                            0.500  0.459016  0.292115  0.254237  0.403101\n",
       "Black                            0.250  0.189655  0.234715  0.239774  0.323684\n",
       "Hispanic                         0.125  0.265957  0.240576  0.248758  0.267200\n",
       "White                            0.400  0.283912  0.234337  0.242638  0.263670"
      ]
     },
     "execution_count": 207,
     "metadata": {},
     "output_type": "execute_result"
    }
   ],
   "source": [
    "complaints.pivot_table(index = 'mos_ethnicity', columns='complainant_ethnicity', aggfunc = 'mean', values= 'complainant_won', fill_value=0)"
   ]
  },
  {
   "cell_type": "markdown",
   "metadata": {},
   "source": [
    "Specifically, what are the win percentages of complainants by ethnicity against white officers?"
   ]
  },
  {
   "cell_type": "code",
   "execution_count": 141,
   "metadata": {},
   "outputs": [
    {
     "data": {
      "text/html": [
       "<div>\n",
       "<style scoped>\n",
       "    .dataframe tbody tr th:only-of-type {\n",
       "        vertical-align: middle;\n",
       "    }\n",
       "\n",
       "    .dataframe tbody tr th {\n",
       "        vertical-align: top;\n",
       "    }\n",
       "\n",
       "    .dataframe thead th {\n",
       "        text-align: right;\n",
       "    }\n",
       "</style>\n",
       "<table border=\"1\" class=\"dataframe\">\n",
       "  <thead>\n",
       "    <tr style=\"text-align: right;\">\n",
       "      <th></th>\n",
       "      <th>Win % against officers in general</th>\n",
       "      <th>Win % against white officer</th>\n",
       "    </tr>\n",
       "    <tr>\n",
       "      <th>Complainant ethnicity</th>\n",
       "      <th></th>\n",
       "      <th></th>\n",
       "    </tr>\n",
       "  </thead>\n",
       "  <tbody>\n",
       "    <tr>\n",
       "      <th>American Indian</th>\n",
       "      <td>0.359375</td>\n",
       "      <td>0.400000</td>\n",
       "    </tr>\n",
       "    <tr>\n",
       "      <th>Asian</th>\n",
       "      <td>0.290566</td>\n",
       "      <td>0.283912</td>\n",
       "    </tr>\n",
       "    <tr>\n",
       "      <th>Black</th>\n",
       "      <td>0.237992</td>\n",
       "      <td>0.234337</td>\n",
       "    </tr>\n",
       "    <tr>\n",
       "      <th>Hispanic</th>\n",
       "      <td>0.244784</td>\n",
       "      <td>0.242638</td>\n",
       "    </tr>\n",
       "    <tr>\n",
       "      <th>White</th>\n",
       "      <td>0.278936</td>\n",
       "      <td>0.263670</td>\n",
       "    </tr>\n",
       "  </tbody>\n",
       "</table>\n",
       "</div>"
      ],
      "text/plain": [
       "                       Win % against officers in general  \\\n",
       "Complainant ethnicity                                      \n",
       "American Indian                                 0.359375   \n",
       "Asian                                           0.290566   \n",
       "Black                                           0.237992   \n",
       "Hispanic                                        0.244784   \n",
       "White                                           0.278936   \n",
       "\n",
       "                       Win % against white officer  \n",
       "Complainant ethnicity                               \n",
       "American Indian                           0.400000  \n",
       "Asian                                     0.283912  \n",
       "Black                                     0.234337  \n",
       "Hispanic                                  0.242638  \n",
       "White                                     0.263670  "
      ]
     },
     "execution_count": 141,
     "metadata": {},
     "output_type": "execute_result"
    }
   ],
   "source": [
    "compare_win_percentages = pd.concat([complaints.groupby(\"complainant_ethnicity\")['complainant_won'].mean(), complaints.pivot_table(index = 'mos_ethnicity', columns='complainant_ethnicity', aggfunc = 'mean', values= 'complainant_won').loc['White']], axis = 1).rename(columns = {\"complainant_won\": \"Win % against officers in general\", \"White\": \"Win % against white officer\"})\n",
    "compare_win_percentages.index.name = 'Complainant ethnicity'\n",
    "compare_win_percentages"
   ]
  },
  {
   "cell_type": "markdown",
   "metadata": {},
   "source": [
    "This pivot table gives us a matrix of probabilities corresponding to the chance that a complainant with a certain ethnicity would win their case against a police officer of a certain ethnicity. Let's see if complaining against a white officer affects the final outcome of the complaint."
   ]
  },
  {
   "cell_type": "code",
   "execution_count": 142,
   "metadata": {},
   "outputs": [
    {
     "data": {
      "text/plain": [
       "Text(0.5, 1.0, 'Win percentages')"
      ]
     },
     "execution_count": 142,
     "metadata": {},
     "output_type": "execute_result"
    },
    {
     "data": {
      "image/png": "[encoded data removed]",
      "text/plain": [
       "<Figure size 576x360 with 1 Axes>"
      ]
     },
     "metadata": {},
     "output_type": "display_data"
    }
   ],
   "source": [
    "plt.figure(figsize = (8, 5))\n",
    "ax = sns.barplot(data = compare_win_percentages.melt(ignore_index = False).reset_index(), x = 'Complainant ethnicity', y = 'value', hue = 'variable', palette=\"deep\")\n",
    "ax.set_title(\"Win percentages\")"
   ]
  },
  {
   "cell_type": "markdown",
   "metadata": {},
   "source": [
    "In the above plot, we can see a slight difference between the win percentages of complaints against white officers and against a general population of officers. To know if the win percentages against white officers are significantly different than those against officers in general, we will conduct a hypothesis test (not a permutation test because our true probability model EXISTS as the win percentages against officers in general):\n",
    "- Null hypothesis: Complainant ethnicity groups win the same amount against officers in general as they do against white officers - win percentage disparity is strictly due to chance\n",
    "- Alternative hypothesis: Complainant ethnicity groups do not win the same amount against officers in general as they do against white officers - win percentage disparity is not due to chance\n",
    "- Test statistic: Total variation distance\n",
    "- Significance level: 0.05"
   ]
  },
  {
   "cell_type": "code",
   "execution_count": 201,
   "metadata": {},
   "outputs": [],
   "source": [
    "def conduct_ethnicity_disposition_permutation_test(N):\n",
    "    counts = complaints.pivot_table(index = 'mos_ethnicity', columns = 'complainant_ethnicity', aggfunc= 'count', values='complainant_won')\n",
    "    population_percentages = np.array(complaints.groupby(\"complainant_ethnicity\")['complainant_won'].mean()).reshape(5, 1) # To use to calculate TVD\n",
    "    white_percentages = np.array(compare_win_percentages['Win % against white officer']).reshape(5, 1) # To use to calculate observed TVD\n",
    "    obs_tvd = distance_measures.total_variation_distance(white_percentages, population_percentages)\n",
    "    races = counts.index\n",
    "    percentages = np.array([])\n",
    "    tvds = []\n",
    "    for _ in range(N):\n",
    "        # For each race, calculate win percentage\n",
    "        for race in races:\n",
    "            count = int(counts.loc['White', race])\n",
    "            simulated_percentage = np.random.choice(complaints[complaints['mos_ethnicity'] == 'White']['complainant_won'], size = (1, count)).mean(axis = 1)[0]\n",
    "            percentages = np.append(percentages, simulated_percentage)\n",
    "        percentages = percentages.reshape(5, 1)\n",
    "        tvds.append(distance_measures.total_variation_distance(population_percentages, percentages))\n",
    "        percentages = np.array([])\n",
    "    tvds = np.array(tvds)\n",
    "    return tvds, obs_tvd\n",
    "tvds, obs_tvd = conduct_ethnicity_disposition_permutation_test(1000)"
   ]
  },
  {
   "cell_type": "markdown",
   "metadata": {},
   "source": [
    "Now that we have our total variation distances and observed value, let's plot."
   ]
  },
  {
   "cell_type": "code",
   "execution_count": 205,
   "metadata": {},
   "outputs": [
    {
     "data": {
      "text/plain": [
       "<matplotlib.lines.Line2D at 0x155907ad730>"
      ]
     },
     "execution_count": 205,
     "metadata": {},
     "output_type": "execute_result"
    },
    {
     "data": {
      "image/png": "[encoded data removed]",
      "text/plain": [
       "<Figure size 432x288 with 1 Axes>"
      ]
     },
     "metadata": {},
     "output_type": "display_data"
    }
   ],
   "source": [
    "sns.histplot(data = tvds)\n",
    "plt.axvline(np.percentile(tvds, 5), color = 'black')\n",
    "plt.axvline(np.percentile(tvds, 95), color = 'black')\n",
    "plt.axvline(obs_tvd, color = 'red')"
   ]
  },
  {
   "cell_type": "markdown",
   "metadata": {},
   "source": [
    "Because our observed value is below our 0.05 significance threshold, we reject the null hypothesis in favor of the alternative. This means that there might be some form of relationship in win percentage against officers of different races. To quantify, we can calculate our p-value."
   ]
  },
  {
   "cell_type": "code",
   "execution_count": 206,
   "metadata": {},
   "outputs": [
    {
     "name": "stdout",
     "output_type": "stream",
     "text": [
      "P-value: 0.006\n"
     ]
    }
   ],
   "source": [
    "print(f\"P-value: {np.mean(tvds <= obs_tvd)}\")"
   ]
  },
  {
   "cell_type": "markdown",
   "metadata": {},
   "source": [
    "### Does gender play a role in winning a case?"
   ]
  },
  {
   "cell_type": "markdown",
   "metadata": {},
   "source": [
    "What are the gender proportions for officers? For complainants?"
   ]
  },
  {
   "cell_type": "code",
   "execution_count": 151,
   "metadata": {},
   "outputs": [
    {
     "data": {
      "text/plain": [
       "M    0.947201\n",
       "F    0.052799\n",
       "Name: mos_gender, dtype: float64"
      ]
     },
     "metadata": {},
     "output_type": "display_data"
    },
    {
     "data": {
      "text/plain": [
       "Male                     0.826535\n",
       "Female                   0.172537\n",
       "Transwoman (MTF)         0.000687\n",
       "Transman (FTM)           0.000172\n",
       "Gender non-conforming    0.000069\n",
       "Name: complainant_gender, dtype: float64"
      ]
     },
     "metadata": {},
     "output_type": "display_data"
    }
   ],
   "source": [
    "display(complaints['mos_gender'].value_counts(normalize = True))\n",
    "display(complaints['complainant_gender'].value_counts(normalize = True))"
   ]
  },
  {
   "cell_type": "markdown",
   "metadata": {},
   "source": [
    "What are the top reasons why an officer made contact for each complainant gender group? Why did the complainant have a complaint in the first place?"
   ]
  },
  {
   "cell_type": "code",
   "execution_count": 152,
   "metadata": {},
   "outputs": [
    {
     "data": {
      "text/html": [
       "<style type=\"text/css\">\n",
       "</style>\n",
       "<table id=\"T_a360a_\">\n",
       "  <caption>Most common reasons by gender</caption>\n",
       "  <thead>\n",
       "    <tr>\n",
       "      <th class=\"blank level0\" >&nbsp;</th>\n",
       "      <th class=\"col_heading level0 col0\" >fado_type</th>\n",
       "      <th class=\"col_heading level0 col1\" >allegation</th>\n",
       "      <th class=\"col_heading level0 col2\" >contact_reason</th>\n",
       "    </tr>\n",
       "    <tr>\n",
       "      <th class=\"index_name level0\" >complainant_gender</th>\n",
       "      <th class=\"blank col0\" >&nbsp;</th>\n",
       "      <th class=\"blank col1\" >&nbsp;</th>\n",
       "      <th class=\"blank col2\" >&nbsp;</th>\n",
       "    </tr>\n",
       "  </thead>\n",
       "  <tbody>\n",
       "    <tr>\n",
       "      <th id=\"T_a360a_level0_row0\" class=\"row_heading level0 row0\" >Female</th>\n",
       "      <td id=\"T_a360a_row0_col0\" class=\"data row0 col0\" >Abuse of Authority</td>\n",
       "      <td id=\"T_a360a_row0_col1\" class=\"data row0 col1\" >Word</td>\n",
       "      <td id=\"T_a360a_row0_col2\" class=\"data row0 col2\" >PD suspected C/V of violation/crime - street</td>\n",
       "    </tr>\n",
       "    <tr>\n",
       "      <th id=\"T_a360a_level0_row1\" class=\"row_heading level0 row1\" >Gender non-conforming</th>\n",
       "      <td id=\"T_a360a_row1_col0\" class=\"data row1 col0\" >Abuse of Authority</td>\n",
       "      <td id=\"T_a360a_row1_col1\" class=\"data row1 col1\" >Interference with recording</td>\n",
       "      <td id=\"T_a360a_row1_col2\" class=\"data row1 col2\" >C/V at PCT to file complaint of crime</td>\n",
       "    </tr>\n",
       "    <tr>\n",
       "      <th id=\"T_a360a_level0_row2\" class=\"row_heading level0 row2\" >Male</th>\n",
       "      <td id=\"T_a360a_row2_col0\" class=\"data row2 col0\" >Abuse of Authority</td>\n",
       "      <td id=\"T_a360a_row2_col1\" class=\"data row2 col1\" >Physical force</td>\n",
       "      <td id=\"T_a360a_row2_col2\" class=\"data row2 col2\" >PD suspected C/V of violation/crime - street</td>\n",
       "    </tr>\n",
       "    <tr>\n",
       "      <th id=\"T_a360a_level0_row3\" class=\"row_heading level0 row3\" >Transman (FTM)</th>\n",
       "      <td id=\"T_a360a_row3_col0\" class=\"data row3 col0\" >Discourtesy</td>\n",
       "      <td id=\"T_a360a_row3_col1\" class=\"data row3 col1\" >Word</td>\n",
       "      <td id=\"T_a360a_row3_col2\" class=\"data row3 col2\" >Report-dispute</td>\n",
       "    </tr>\n",
       "    <tr>\n",
       "      <th id=\"T_a360a_level0_row4\" class=\"row_heading level0 row4\" >Transwoman (MTF)</th>\n",
       "      <td id=\"T_a360a_row4_col0\" class=\"data row4 col0\" >Abuse of Authority</td>\n",
       "      <td id=\"T_a360a_row4_col1\" class=\"data row4 col1\" >Gender</td>\n",
       "      <td id=\"T_a360a_row4_col2\" class=\"data row4 col2\" >PD suspected C/V of violation/crime - street</td>\n",
       "    </tr>\n",
       "  </tbody>\n",
       "</table>\n"
      ],
      "text/plain": [
       "<pandas.io.formats.style.Styler at 0x1558c7b23d0>"
      ]
     },
     "execution_count": 152,
     "metadata": {},
     "output_type": "execute_result"
    }
   ],
   "source": [
    "most_common_reasons_by_gender = complaints.groupby(\"complainant_gender\").agg(lambda series: series.value_counts().index[0])[['fado_type', 'allegation', 'contact_reason']]\n",
    "most_common_reasons_by_gender.style.set_caption(\"Most common reasons by gender\")"
   ]
  },
  {
   "cell_type": "markdown",
   "metadata": {},
   "source": [
    "What are the general win percentages for each gender? What about the general duration it took for these cases?"
   ]
  },
  {
   "cell_type": "code",
   "execution_count": 217,
   "metadata": {},
   "outputs": [
    {
     "data": {
      "text/html": [
       "<div>\n",
       "<style scoped>\n",
       "    .dataframe tbody tr th:only-of-type {\n",
       "        vertical-align: middle;\n",
       "    }\n",
       "\n",
       "    .dataframe tbody tr th {\n",
       "        vertical-align: top;\n",
       "    }\n",
       "\n",
       "    .dataframe thead th {\n",
       "        text-align: right;\n",
       "    }\n",
       "</style>\n",
       "<table border=\"1\" class=\"dataframe\">\n",
       "  <thead>\n",
       "    <tr style=\"text-align: right;\">\n",
       "      <th></th>\n",
       "      <th>complainant_won</th>\n",
       "      <th>days_taken</th>\n",
       "    </tr>\n",
       "    <tr>\n",
       "      <th>complainant_gender</th>\n",
       "      <th></th>\n",
       "      <th></th>\n",
       "    </tr>\n",
       "  </thead>\n",
       "  <tbody>\n",
       "    <tr>\n",
       "      <th>Female</th>\n",
       "      <td>0.205537</td>\n",
       "      <td>298 days 20:01:57.586138220</td>\n",
       "    </tr>\n",
       "    <tr>\n",
       "      <th>Gender non-conforming</th>\n",
       "      <td>1.000000</td>\n",
       "      <td>304 days 00:00:00</td>\n",
       "    </tr>\n",
       "    <tr>\n",
       "      <th>Male</th>\n",
       "      <td>0.255644</td>\n",
       "      <td>314 days 05:07:14.490500144</td>\n",
       "    </tr>\n",
       "    <tr>\n",
       "      <th>Transman (FTM)</th>\n",
       "      <td>0.400000</td>\n",
       "      <td>274 days 00:00:00</td>\n",
       "    </tr>\n",
       "    <tr>\n",
       "      <th>Transwoman (MTF)</th>\n",
       "      <td>0.550000</td>\n",
       "      <td>264 days 19:12:00</td>\n",
       "    </tr>\n",
       "  </tbody>\n",
       "</table>\n",
       "</div>"
      ],
      "text/plain": [
       "                       complainant_won                  days_taken\n",
       "complainant_gender                                                \n",
       "Female                        0.205537 298 days 20:01:57.586138220\n",
       "Gender non-conforming         1.000000           304 days 00:00:00\n",
       "Male                          0.255644 314 days 05:07:14.490500144\n",
       "Transman (FTM)                0.400000           274 days 00:00:00\n",
       "Transwoman (MTF)              0.550000           264 days 19:12:00"
      ]
     },
     "execution_count": 217,
     "metadata": {},
     "output_type": "execute_result"
    }
   ],
   "source": [
    "pd.concat([complaints.groupby(\"complainant_gender\")[['complainant_won']].mean(), complaints.groupby(\"complainant_gender\")[['days_taken']].mean()], axis= 1)"
   ]
  },
  {
   "cell_type": "markdown",
   "metadata": {},
   "source": [
    "Do females have a higher complaint success rate than men for the same allegations? Let's use `fado_type`, which is a generalization of the allegation column and thus has less unique values."
   ]
  },
  {
   "cell_type": "code",
   "execution_count": 230,
   "metadata": {},
   "outputs": [
    {
     "data": {
      "text/plain": [
       "<AxesSubplot:xlabel='fado_type', ylabel='value'>"
      ]
     },
     "execution_count": 230,
     "metadata": {},
     "output_type": "execute_result"
    },
    {
     "data": {
      "image/png": "[encoded data removed]",
      "text/plain": [
       "<Figure size 432x288 with 1 Axes>"
      ]
     },
     "metadata": {},
     "output_type": "display_data"
    }
   ],
   "source": [
    "gender_and_allegation_pt = complaints.pivot_table(index = 'fado_type', columns = 'complainant_gender', values='complainant_won', aggfunc=\"mean\", fill_value=0)\n",
    "sns.barplot(data = gender_and_allegation_pt[['Female', 'Male']].melt(ignore_index= False).reset_index(), x = 'fado_type', y = 'value', hue = 'complainant_gender', palette='deep')"
   ]
  },
  {
   "cell_type": "markdown",
   "metadata": {},
   "source": [
    "Interesting! It seems that, across all types of complaints, women lose a disproportionate amount of their cases than men do. Because we are comparing the categorical distribution of win percentage for females against the categorical distribution of win percentage for males without knowledge of the *correct* probability model, let's formulate a permutation test:\n",
    "- Null hypothesis: The distribution of percent chance of winning a complaint for men is the same as that for females\n",
    "- Alternative hypothesis: The distribution of percent chance of winning a complaint as a female is less than that for men\n",
    "- Test statistic: Sum of proportion differences between female and men ($\\sum_{i=1}female _i  - male _i $)\n",
    "- Significance level: 0.05"
   ]
  },
  {
   "cell_type": "code",
   "execution_count": 286,
   "metadata": {},
   "outputs": [],
   "source": [
    "def conduct_gender_fado_permutation_test(N):\n",
    "    ts = np.array([])\n",
    "    obs = gender_and_allegation_pt[['Female', 'Male']].diff(periods = -1, axis = 1)['Female'].sum() # Calculate observed value\n",
    "    for _ in range(N):\n",
    "        filtered_genders = complaints[['complainant_won', 'complainant_gender', 'fado_type']][(complaints['complainant_gender'] == 'Female') | (complaints['complainant_gender'] == 'Male')] # Get only male and female genders\n",
    "        filtered_genders['shuffled_gender'] = np.random.permutation(filtered_genders['complainant_gender']) # Permute genders\n",
    "        ts = np.append(ts, filtered_genders.pivot_table(index = 'fado_type', columns = 'shuffled_gender', values='complainant_won', aggfunc=\"mean\", fill_value=0).diff(periods = -1, axis = 1)['Female'].sum()) # Calculate test statistic using permuted gender column\n",
    "    return ts, obs, np.mean(ts <= obs)\n",
    "ts, obs, p = conduct_gender_fado_permutation_test(1000)"
   ]
  },
  {
   "cell_type": "markdown",
   "metadata": {},
   "source": [
    "Let's plot our results."
   ]
  },
  {
   "cell_type": "code",
   "execution_count": 284,
   "metadata": {},
   "outputs": [
    {
     "data": {
      "text/plain": [
       "<matplotlib.lines.Line2D at 0x15593f69b50>"
      ]
     },
     "execution_count": 284,
     "metadata": {},
     "output_type": "execute_result"
    },
    {
     "data": {
      "image/png": "[encoded data removed]",
      "text/plain": [
       "<Figure size 432x288 with 1 Axes>"
      ]
     },
     "metadata": {},
     "output_type": "display_data"
    }
   ],
   "source": [
    "sns.histplot(data = ts)\n",
    "plt.axvline(np.percentile(ts, 5), color = 'black')\n",
    "plt.axvline(obs, color = 'red')"
   ]
  },
  {
   "cell_type": "markdown",
   "metadata": {},
   "source": [
    "It seems that our observed value is extreme and below our 0.05 significance threshold. Thus, we will reject the null hypothesis, suggesting - but not establishing causality - that females lose cases more frequently than men do."
   ]
  },
  {
   "cell_type": "code",
   "execution_count": 288,
   "metadata": {},
   "outputs": [
    {
     "name": "stdout",
     "output_type": "stream",
     "text": [
      "P-value: 0.0\n"
     ]
    }
   ],
   "source": [
    "print(f\"P-value: {p}\")"
   ]
  },
  {
   "cell_type": "markdown",
   "metadata": {},
   "source": [
    "### Assessment of data missingness:"
   ]
  },
  {
   "cell_type": "markdown",
   "metadata": {},
   "source": [
    "In this section, we will categorize our dataset's missingness into MD, NMAR, MAR, and MCAR categories."
   ]
  },
  {
   "cell_type": "code",
   "execution_count": 156,
   "metadata": {},
   "outputs": [
    {
     "data": {
      "text/plain": [
       "unique_mos_id               0.000719\n",
       "first_name                  0.000719\n",
       "last_name                   0.000719\n",
       "command_now                 0.000719\n",
       "shield_no                   0.000719\n",
       "complaint_id                0.000719\n",
       "month_received              0.000719\n",
       "year_received               0.000719\n",
       "month_closed                0.000719\n",
       "year_closed                 0.000719\n",
       "command_at_incident         0.046645\n",
       "rank_abbrev_incident        0.000719\n",
       "rank_abbrev_now             0.000719\n",
       "mos_ethnicity               0.000719\n",
       "mos_gender                  0.000719\n",
       "mos_age_incident            0.000719\n",
       "complainant_ethnicity       0.193237\n",
       "complainant_gender          0.127616\n",
       "complainant_age_incident    0.144643\n",
       "fado_type                   0.000719\n",
       "allegation                  0.000749\n",
       "precinct                    0.001439\n",
       "contact_reason              0.006595\n",
       "outcome_description         0.002398\n",
       "board_disposition           0.000719\n",
       "date_received               0.000719\n",
       "date_closed                 0.000719\n",
       "days_taken                  0.000719\n",
       "rank_incident               0.002218\n",
       "rank_now                    0.001289\n",
       "complainant_won             0.000719\n",
       "dtype: float64"
      ]
     },
     "execution_count": 156,
     "metadata": {},
     "output_type": "execute_result"
    }
   ],
   "source": [
    "complaints.isna().mean() # Calculate proportion of missing data for each feature"
   ]
  },
  {
   "cell_type": "markdown",
   "metadata": {},
   "source": [
    "Let's assess missingness for `complainant_gender`, `complainant_ethnicity`, and `complainant_age_incident` because these features have a large proportion of missing data.\n",
    "\n",
    "- Missing by design: For all columns, there is nothing in the dataset that allows us to determine whether the value is missing using other columns\n",
    "- Not missing at random: For `complainant_gender`, `complainant_ethnicity`, and `complainant_age_incident`, we might be able to reason why missingness depends on the missing value itself due to the fact that these fields seem to be self-reported\n",
    "- Missing at random: For `complainant_gender`, `complainant_ethnicity`, and `complainant_age_incident`, we can run a permutation test to determine if these columns are dependent on other columns in the dataset\n",
    "- Missing completely at random: If our permutation tests do not establish MAR, there is still not enough evidence in the data and its underlying generative process to suggest that missing values are completely missing at random"
   ]
  },
  {
   "cell_type": "markdown",
   "metadata": {},
   "source": [
    "### Lingering thoughts and questions:\n",
    "- Should inferential testing utilize missing values? For instance, when I was conducting my hypothesis test to determine a correlation between ethnicities and case duration, I sampled from a population that did not contain missing ethnicities. Would there be any difference in my testing if I did?\n",
    "- I have a hard time differentiating between conducting a hypothesis test and permutation test. In addition, sometimes I don't know what to sample from.\n",
    "- I'm having a hard time thinking of a good NMAR reason."
   ]
  }
 ],
 "metadata": {
  "kernelspec": {
   "display_name": "Python 3.8.13 ('dsc80')",
   "language": "python",
   "name": "python3"
  },
  "language_info": {
   "codemirror_mode": {
    "name": "ipython",
    "version": 3
   },
   "file_extension": ".py",
   "mimetype": "text/x-python",
   "name": "python",
   "nbconvert_exporter": "python",
   "pygments_lexer": "ipython3",
   "version": "3.8.13"
  },
  "orig_nbformat": 4,
  "vscode": {
   "interpreter": {
    "hash": "0e422166b5adcc923e002e608330e119deee9feb3a15aa7a24bd1b92d5f8f5bb"
   }
  }
 },
 "nbformat": 4,
 "nbformat_minor": 2
}
